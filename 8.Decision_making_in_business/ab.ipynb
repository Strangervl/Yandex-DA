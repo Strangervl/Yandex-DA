{
 "cells": [
  {
   "cell_type": "markdown",
   "metadata": {},
   "source": [
    "## Описание проекта\n",
    "\n",
    "**Контекст**\n",
    "\n",
    "Вы — аналитик крупного интернет-магазина. Вместе с отделом маркетинга вы подготовили список гипотез для увеличения выручки.\n",
    "Приоритизируйте гипотезы, запустите A/B-тест и проанализируйте результаты. \n",
    "\n",
    "**Часть 1. Приоритизация гипотез.**\n",
    "\n",
    "В файле /datasets/hypothesis.csv 9 гипотез по увеличению выручки интернет-магазина с указанными параметрами Reach, Impact, Confidence, Effort.\n",
    "\n",
    "**Задача**\n",
    "\n",
    "- Примените фреймворк ICE для приоритизации гипотез. Отсортируйте их по убыванию приоритета.\n",
    "- Примените фреймворк RICE для приоритизации гипотез. Отсортируйте их по убыванию приоритета.\n",
    "- Укажите, как изменилась приоритизация гипотез при применении RICE вместо ICE. Объясните, почему так произошло.\n",
    "\n",
    "**Часть 2. Анализ A/B-теста**\n",
    "\n",
    "Вы провели A/B-тест и получили результаты, которые описаны в файлах /datasets/orders.csv и /datasets/visitors.csv.\n",
    "\n",
    "**Задача**\n",
    "Проанализируйте A/B-тест:\n",
    "1. Постройте график кумулятивной выручки по группам. Сделайте выводы и предположения.\n",
    "2. Постройте график кумулятивного среднего чека по группам. Сделайте выводы и предположения.\n",
    "3. Постройте график относительного изменения кумулятивного среднего чека группы B к группе A. Сделайте выводы и предположения.\n",
    "4. Постройте график кумулятивного среднего количества заказов на посетителя по группам. Сделайте выводы и предположения.\n",
    "5. Постройте график относительного изменения кумулятивного среднего количества заказов на посетителя группы B к группе A. Сделайте выводы и предположения.\n",
    "6. Постройте точечный график количества заказов по пользователям. Сделайте выводы и предположения.\n",
    "7. Посчитайте 95-й и 99-й перцентили количества заказов на пользователя. Выберите границу для определения аномальных пользователей.\n",
    "8. Постройте точечный график стоимостей заказов. Сделайте выводы и предположения.\n",
    "9. Посчитайте 95-й и 99-й перцентили стоимости заказов. Выберите границу для определения аномальных заказов.\n",
    "10. Посчитайте статистическую значимость различий в среднем количестве заказов на посетителя между группами по «сырым» данным. Сделайте выводы и предположения.\n",
    "11. Посчитайте статистическую значимость различий в среднем чеке заказа между группами по «сырым» данным. Сделайте выводы и предположения.\n",
    "12. Посчитайте статистическую значимость различий в среднем количестве заказов на посетителя между группами по «очищенным» данным. Сделайте выводы и предположения.\n",
    "13. Посчитайте статистическую значимость различий в среднем чеке заказа между группами по «очищенным» данным. Сделайте выводы и предположения.\n",
    "14. Примите решение по результатам теста и объясните его. Варианты решений:\n",
    "    1. Остановить тест, зафиксировать победу одной из групп.\n",
    "    2. Остановить тест, зафиксировать отсутствие различий между группами.\n",
    "    3. Продолжить тест."
   ]
  },
  {
   "cell_type": "markdown",
   "metadata": {},
   "source": [
    "## Описание данных\n",
    "\n",
    "Файл /datasets/hypothesis.csv. Скачать датасет\n",
    "- `Hypothesis` — краткое описание гипотезы;\n",
    "- `Reach` — охват пользователей по 10-балльной шкале;\n",
    "- `Impact` — влияние на пользователей по 10-балльной шкале;\n",
    "- `Confidence` — уверенность в гипотезе по 10-балльной шкале;\n",
    "- `Efforts` — затраты ресурсов на проверку гипотезы по 10-балльной шкале. Чем больше значение Efforts, тем дороже проверка гипотезы.\n",
    "\n",
    "Данные для второй части\n",
    "Файл /datasets/orders.csv. Скачать датасет\n",
    "- `transactionId` — идентификатор заказа;\n",
    "- `visitorId` — идентификатор пользователя, совершившего заказ;\n",
    "- `date` — дата, когда был совершён заказ;\n",
    "- `revenue` — выручка заказа;\n",
    "- `group` — группа A/B-теста, в которую попал заказ.\n",
    "\n",
    "Файл /datasets/visitors.csv. Скачать датасет\n",
    "- `date` — дата;\n",
    "- `group` — группа A/B-теста;\n",
    "- `visitors` — количество пользователей в указанную дату в указанной группе A/B-теста"
   ]
  },
  {
   "cell_type": "markdown",
   "metadata": {},
   "source": [
    "## Загрузка данных и подготовка их к анализу"
   ]
  },
  {
   "cell_type": "code",
   "execution_count": 1,
   "metadata": {},
   "outputs": [],
   "source": [
    "# импорт библиотек\n",
    "import pandas as pd\n",
    "import numpy as np\n",
    "import matplotlib.pyplot as plt\n",
    "import seaborn as sns\n",
    "import math\n",
    "import datetime as dt\n",
    "import scipy.stats as stats\n",
    "plt.rcParams[\"figure.figsize\"] = (10,6)"
   ]
  },
  {
   "cell_type": "code",
   "execution_count": 2,
   "metadata": {},
   "outputs": [],
   "source": [
    "# чтение файлов с данными\n",
    "try:\n",
    "    hypothesis, orders, visitors = (\n",
    "        pd.read_csv('/datasets/hypothesis.csv'),\n",
    "        pd.read_csv('/datasets/orders.csv'),\n",
    "        pd.read_csv('/datasets/visitors.csv')\n",
    "    )\n",
    "\n",
    "\n",
    "except:\n",
    "    hypothesis, orders, visitors = (\n",
    "        pd.read_csv('https://code.s3.yandex.net/datasets/hypothesis.csv'),\n",
    "        pd.read_csv('https://code.s3.yandex.net/datasets/orders.csv'),\n",
    "        pd.read_csv('https://code.s3.yandex.net/datasets/visitors.csv')\n",
    "    )"
   ]
  },
  {
   "cell_type": "code",
   "execution_count": 3,
   "metadata": {},
   "outputs": [
    {
     "name": "stdout",
     "output_type": "stream",
     "text": [
      "<class 'pandas.core.frame.DataFrame'>\n",
      "RangeIndex: 9 entries, 0 to 8\n",
      "Data columns (total 5 columns):\n",
      " #   Column      Non-Null Count  Dtype \n",
      "---  ------      --------------  ----- \n",
      " 0   Hypothesis  9 non-null      object\n",
      " 1   Reach       9 non-null      int64 \n",
      " 2   Impact      9 non-null      int64 \n",
      " 3   Confidence  9 non-null      int64 \n",
      " 4   Efforts     9 non-null      int64 \n",
      "dtypes: int64(4), object(1)\n",
      "memory usage: 488.0+ bytes\n"
     ]
    },
    {
     "data": {
      "text/html": [
       "<div>\n",
       "<style scoped>\n",
       "    .dataframe tbody tr th:only-of-type {\n",
       "        vertical-align: middle;\n",
       "    }\n",
       "\n",
       "    .dataframe tbody tr th {\n",
       "        vertical-align: top;\n",
       "    }\n",
       "\n",
       "    .dataframe thead th {\n",
       "        text-align: right;\n",
       "    }\n",
       "</style>\n",
       "<table border=\"1\" class=\"dataframe\">\n",
       "  <thead>\n",
       "    <tr style=\"text-align: right;\">\n",
       "      <th></th>\n",
       "      <th>Hypothesis</th>\n",
       "      <th>Reach</th>\n",
       "      <th>Impact</th>\n",
       "      <th>Confidence</th>\n",
       "      <th>Efforts</th>\n",
       "    </tr>\n",
       "  </thead>\n",
       "  <tbody>\n",
       "    <tr>\n",
       "      <th>0</th>\n",
       "      <td>Добавить два новых канала привлечения трафика, что позволит привлекать на 30% больше пользователей</td>\n",
       "      <td>3</td>\n",
       "      <td>10</td>\n",
       "      <td>8</td>\n",
       "      <td>6</td>\n",
       "    </tr>\n",
       "    <tr>\n",
       "      <th>1</th>\n",
       "      <td>Запустить собственную службу доставки, что сократит срок доставки заказов</td>\n",
       "      <td>2</td>\n",
       "      <td>5</td>\n",
       "      <td>4</td>\n",
       "      <td>10</td>\n",
       "    </tr>\n",
       "    <tr>\n",
       "      <th>2</th>\n",
       "      <td>Добавить блоки рекомендаций товаров на сайт интернет магазина, чтобы повысить конверсию и средний чек заказа</td>\n",
       "      <td>8</td>\n",
       "      <td>3</td>\n",
       "      <td>7</td>\n",
       "      <td>3</td>\n",
       "    </tr>\n",
       "    <tr>\n",
       "      <th>3</th>\n",
       "      <td>Изменить структура категорий, что увеличит конверсию, т.к. пользователи быстрее найдут нужный товар</td>\n",
       "      <td>8</td>\n",
       "      <td>3</td>\n",
       "      <td>3</td>\n",
       "      <td>8</td>\n",
       "    </tr>\n",
       "    <tr>\n",
       "      <th>4</th>\n",
       "      <td>Изменить цвет фона главной страницы, чтобы увеличить вовлеченность пользователей</td>\n",
       "      <td>3</td>\n",
       "      <td>1</td>\n",
       "      <td>1</td>\n",
       "      <td>1</td>\n",
       "    </tr>\n",
       "    <tr>\n",
       "      <th>5</th>\n",
       "      <td>Добавить страницу отзывов клиентов о магазине, что позволит увеличить количество заказов</td>\n",
       "      <td>3</td>\n",
       "      <td>2</td>\n",
       "      <td>2</td>\n",
       "      <td>3</td>\n",
       "    </tr>\n",
       "    <tr>\n",
       "      <th>6</th>\n",
       "      <td>Показать на главной странице баннеры с актуальными акциями и распродажами, чтобы увеличить конверсию</td>\n",
       "      <td>5</td>\n",
       "      <td>3</td>\n",
       "      <td>8</td>\n",
       "      <td>3</td>\n",
       "    </tr>\n",
       "    <tr>\n",
       "      <th>7</th>\n",
       "      <td>Добавить форму подписки на все основные страницы, чтобы собрать базу клиентов для email-рассылок</td>\n",
       "      <td>10</td>\n",
       "      <td>7</td>\n",
       "      <td>8</td>\n",
       "      <td>5</td>\n",
       "    </tr>\n",
       "    <tr>\n",
       "      <th>8</th>\n",
       "      <td>Запустить акцию, дающую скидку на товар в день рождения</td>\n",
       "      <td>1</td>\n",
       "      <td>9</td>\n",
       "      <td>9</td>\n",
       "      <td>5</td>\n",
       "    </tr>\n",
       "  </tbody>\n",
       "</table>\n",
       "</div>"
      ],
      "text/plain": [
       "                                                                                                     Hypothesis  \\\n",
       "0            Добавить два новых канала привлечения трафика, что позволит привлекать на 30% больше пользователей   \n",
       "1                                     Запустить собственную службу доставки, что сократит срок доставки заказов   \n",
       "2  Добавить блоки рекомендаций товаров на сайт интернет магазина, чтобы повысить конверсию и средний чек заказа   \n",
       "3           Изменить структура категорий, что увеличит конверсию, т.к. пользователи быстрее найдут нужный товар   \n",
       "4                              Изменить цвет фона главной страницы, чтобы увеличить вовлеченность пользователей   \n",
       "5                      Добавить страницу отзывов клиентов о магазине, что позволит увеличить количество заказов   \n",
       "6          Показать на главной странице баннеры с актуальными акциями и распродажами, чтобы увеличить конверсию   \n",
       "7              Добавить форму подписки на все основные страницы, чтобы собрать базу клиентов для email-рассылок   \n",
       "8                                                       Запустить акцию, дающую скидку на товар в день рождения   \n",
       "\n",
       "   Reach  Impact  Confidence  Efforts  \n",
       "0      3      10           8        6  \n",
       "1      2       5           4       10  \n",
       "2      8       3           7        3  \n",
       "3      8       3           3        8  \n",
       "4      3       1           1        1  \n",
       "5      3       2           2        3  \n",
       "6      5       3           8        3  \n",
       "7     10       7           8        5  \n",
       "8      1       9           9        5  "
      ]
     },
     "execution_count": 3,
     "metadata": {},
     "output_type": "execute_result"
    }
   ],
   "source": [
    "pd.options.display.max_colwidth = 150\n",
    "hypothesis.info()\n",
    "hypothesis"
   ]
  },
  {
   "cell_type": "markdown",
   "metadata": {},
   "source": [
    "Приведем название колонок к нижнему регистру:"
   ]
  },
  {
   "cell_type": "code",
   "execution_count": 4,
   "metadata": {},
   "outputs": [],
   "source": [
    "hypothesis.columns = [x.lower() for x in hypothesis.columns]\n",
    "orders.columns = [x.lower() for x in orders.columns]"
   ]
  },
  {
   "cell_type": "code",
   "execution_count": 5,
   "metadata": {},
   "outputs": [
    {
     "name": "stdout",
     "output_type": "stream",
     "text": [
      "<class 'pandas.core.frame.DataFrame'>\n",
      "RangeIndex: 1197 entries, 0 to 1196\n",
      "Data columns (total 5 columns):\n",
      " #   Column         Non-Null Count  Dtype \n",
      "---  ------         --------------  ----- \n",
      " 0   transactionid  1197 non-null   int64 \n",
      " 1   visitorid      1197 non-null   int64 \n",
      " 2   date           1197 non-null   object\n",
      " 3   revenue        1197 non-null   int64 \n",
      " 4   group          1197 non-null   object\n",
      "dtypes: int64(3), object(2)\n",
      "memory usage: 46.9+ KB\n"
     ]
    },
    {
     "data": {
      "text/html": [
       "<div>\n",
       "<style scoped>\n",
       "    .dataframe tbody tr th:only-of-type {\n",
       "        vertical-align: middle;\n",
       "    }\n",
       "\n",
       "    .dataframe tbody tr th {\n",
       "        vertical-align: top;\n",
       "    }\n",
       "\n",
       "    .dataframe thead th {\n",
       "        text-align: right;\n",
       "    }\n",
       "</style>\n",
       "<table border=\"1\" class=\"dataframe\">\n",
       "  <thead>\n",
       "    <tr style=\"text-align: right;\">\n",
       "      <th></th>\n",
       "      <th>transactionid</th>\n",
       "      <th>visitorid</th>\n",
       "      <th>date</th>\n",
       "      <th>revenue</th>\n",
       "      <th>group</th>\n",
       "    </tr>\n",
       "  </thead>\n",
       "  <tbody>\n",
       "    <tr>\n",
       "      <th>0</th>\n",
       "      <td>3667963787</td>\n",
       "      <td>3312258926</td>\n",
       "      <td>2019-08-15</td>\n",
       "      <td>1650</td>\n",
       "      <td>B</td>\n",
       "    </tr>\n",
       "    <tr>\n",
       "      <th>1</th>\n",
       "      <td>2804400009</td>\n",
       "      <td>3642806036</td>\n",
       "      <td>2019-08-15</td>\n",
       "      <td>730</td>\n",
       "      <td>B</td>\n",
       "    </tr>\n",
       "    <tr>\n",
       "      <th>2</th>\n",
       "      <td>2961555356</td>\n",
       "      <td>4069496402</td>\n",
       "      <td>2019-08-15</td>\n",
       "      <td>400</td>\n",
       "      <td>A</td>\n",
       "    </tr>\n",
       "    <tr>\n",
       "      <th>3</th>\n",
       "      <td>3797467345</td>\n",
       "      <td>1196621759</td>\n",
       "      <td>2019-08-15</td>\n",
       "      <td>9759</td>\n",
       "      <td>B</td>\n",
       "    </tr>\n",
       "    <tr>\n",
       "      <th>4</th>\n",
       "      <td>2282983706</td>\n",
       "      <td>2322279887</td>\n",
       "      <td>2019-08-15</td>\n",
       "      <td>2308</td>\n",
       "      <td>B</td>\n",
       "    </tr>\n",
       "    <tr>\n",
       "      <th>...</th>\n",
       "      <td>...</td>\n",
       "      <td>...</td>\n",
       "      <td>...</td>\n",
       "      <td>...</td>\n",
       "      <td>...</td>\n",
       "    </tr>\n",
       "    <tr>\n",
       "      <th>1192</th>\n",
       "      <td>2662137336</td>\n",
       "      <td>3733762160</td>\n",
       "      <td>2019-08-14</td>\n",
       "      <td>6490</td>\n",
       "      <td>B</td>\n",
       "    </tr>\n",
       "    <tr>\n",
       "      <th>1193</th>\n",
       "      <td>2203539145</td>\n",
       "      <td>370388673</td>\n",
       "      <td>2019-08-14</td>\n",
       "      <td>3190</td>\n",
       "      <td>A</td>\n",
       "    </tr>\n",
       "    <tr>\n",
       "      <th>1194</th>\n",
       "      <td>1807773912</td>\n",
       "      <td>573423106</td>\n",
       "      <td>2019-08-14</td>\n",
       "      <td>10550</td>\n",
       "      <td>A</td>\n",
       "    </tr>\n",
       "    <tr>\n",
       "      <th>1195</th>\n",
       "      <td>1947021204</td>\n",
       "      <td>1614305549</td>\n",
       "      <td>2019-08-14</td>\n",
       "      <td>100</td>\n",
       "      <td>A</td>\n",
       "    </tr>\n",
       "    <tr>\n",
       "      <th>1196</th>\n",
       "      <td>3936777065</td>\n",
       "      <td>2108080724</td>\n",
       "      <td>2019-08-15</td>\n",
       "      <td>202740</td>\n",
       "      <td>B</td>\n",
       "    </tr>\n",
       "  </tbody>\n",
       "</table>\n",
       "<p>1197 rows × 5 columns</p>\n",
       "</div>"
      ],
      "text/plain": [
       "      transactionid   visitorid        date  revenue group\n",
       "0        3667963787  3312258926  2019-08-15     1650     B\n",
       "1        2804400009  3642806036  2019-08-15      730     B\n",
       "2        2961555356  4069496402  2019-08-15      400     A\n",
       "3        3797467345  1196621759  2019-08-15     9759     B\n",
       "4        2282983706  2322279887  2019-08-15     2308     B\n",
       "...             ...         ...         ...      ...   ...\n",
       "1192     2662137336  3733762160  2019-08-14     6490     B\n",
       "1193     2203539145   370388673  2019-08-14     3190     A\n",
       "1194     1807773912   573423106  2019-08-14    10550     A\n",
       "1195     1947021204  1614305549  2019-08-14      100     A\n",
       "1196     3936777065  2108080724  2019-08-15   202740     B\n",
       "\n",
       "[1197 rows x 5 columns]"
      ]
     },
     "execution_count": 5,
     "metadata": {},
     "output_type": "execute_result"
    }
   ],
   "source": [
    "orders.info()\n",
    "orders"
   ]
  },
  {
   "cell_type": "code",
   "execution_count": 6,
   "metadata": {},
   "outputs": [
    {
     "name": "stdout",
     "output_type": "stream",
     "text": [
      "<class 'pandas.core.frame.DataFrame'>\n",
      "RangeIndex: 62 entries, 0 to 61\n",
      "Data columns (total 3 columns):\n",
      " #   Column    Non-Null Count  Dtype \n",
      "---  ------    --------------  ----- \n",
      " 0   date      62 non-null     object\n",
      " 1   group     62 non-null     object\n",
      " 2   visitors  62 non-null     int64 \n",
      "dtypes: int64(1), object(2)\n",
      "memory usage: 1.6+ KB\n"
     ]
    },
    {
     "data": {
      "text/html": [
       "<div>\n",
       "<style scoped>\n",
       "    .dataframe tbody tr th:only-of-type {\n",
       "        vertical-align: middle;\n",
       "    }\n",
       "\n",
       "    .dataframe tbody tr th {\n",
       "        vertical-align: top;\n",
       "    }\n",
       "\n",
       "    .dataframe thead th {\n",
       "        text-align: right;\n",
       "    }\n",
       "</style>\n",
       "<table border=\"1\" class=\"dataframe\">\n",
       "  <thead>\n",
       "    <tr style=\"text-align: right;\">\n",
       "      <th></th>\n",
       "      <th>date</th>\n",
       "      <th>group</th>\n",
       "      <th>visitors</th>\n",
       "    </tr>\n",
       "  </thead>\n",
       "  <tbody>\n",
       "    <tr>\n",
       "      <th>0</th>\n",
       "      <td>2019-08-01</td>\n",
       "      <td>A</td>\n",
       "      <td>719</td>\n",
       "    </tr>\n",
       "    <tr>\n",
       "      <th>1</th>\n",
       "      <td>2019-08-02</td>\n",
       "      <td>A</td>\n",
       "      <td>619</td>\n",
       "    </tr>\n",
       "    <tr>\n",
       "      <th>2</th>\n",
       "      <td>2019-08-03</td>\n",
       "      <td>A</td>\n",
       "      <td>507</td>\n",
       "    </tr>\n",
       "    <tr>\n",
       "      <th>3</th>\n",
       "      <td>2019-08-04</td>\n",
       "      <td>A</td>\n",
       "      <td>717</td>\n",
       "    </tr>\n",
       "    <tr>\n",
       "      <th>4</th>\n",
       "      <td>2019-08-05</td>\n",
       "      <td>A</td>\n",
       "      <td>756</td>\n",
       "    </tr>\n",
       "    <tr>\n",
       "      <th>...</th>\n",
       "      <td>...</td>\n",
       "      <td>...</td>\n",
       "      <td>...</td>\n",
       "    </tr>\n",
       "    <tr>\n",
       "      <th>57</th>\n",
       "      <td>2019-08-27</td>\n",
       "      <td>B</td>\n",
       "      <td>720</td>\n",
       "    </tr>\n",
       "    <tr>\n",
       "      <th>58</th>\n",
       "      <td>2019-08-28</td>\n",
       "      <td>B</td>\n",
       "      <td>654</td>\n",
       "    </tr>\n",
       "    <tr>\n",
       "      <th>59</th>\n",
       "      <td>2019-08-29</td>\n",
       "      <td>B</td>\n",
       "      <td>531</td>\n",
       "    </tr>\n",
       "    <tr>\n",
       "      <th>60</th>\n",
       "      <td>2019-08-30</td>\n",
       "      <td>B</td>\n",
       "      <td>490</td>\n",
       "    </tr>\n",
       "    <tr>\n",
       "      <th>61</th>\n",
       "      <td>2019-08-31</td>\n",
       "      <td>B</td>\n",
       "      <td>718</td>\n",
       "    </tr>\n",
       "  </tbody>\n",
       "</table>\n",
       "<p>62 rows × 3 columns</p>\n",
       "</div>"
      ],
      "text/plain": [
       "          date group  visitors\n",
       "0   2019-08-01     A       719\n",
       "1   2019-08-02     A       619\n",
       "2   2019-08-03     A       507\n",
       "3   2019-08-04     A       717\n",
       "4   2019-08-05     A       756\n",
       "..         ...   ...       ...\n",
       "57  2019-08-27     B       720\n",
       "58  2019-08-28     B       654\n",
       "59  2019-08-29     B       531\n",
       "60  2019-08-30     B       490\n",
       "61  2019-08-31     B       718\n",
       "\n",
       "[62 rows x 3 columns]"
      ]
     },
     "execution_count": 6,
     "metadata": {},
     "output_type": "execute_result"
    }
   ],
   "source": [
    "visitors.info()\n",
    "visitors"
   ]
  },
  {
   "cell_type": "markdown",
   "metadata": {},
   "source": [
    "Столбцы с датами приаедем к типу datetime: "
   ]
  },
  {
   "cell_type": "code",
   "execution_count": 7,
   "metadata": {},
   "outputs": [],
   "source": [
    "orders['date'] = pd.to_datetime(orders['date'])\n",
    "visitors['date'] = pd.to_datetime(visitors['date'])"
   ]
  },
  {
   "cell_type": "markdown",
   "metadata": {},
   "source": [
    "Проверим на явные дубликаты:"
   ]
  },
  {
   "cell_type": "code",
   "execution_count": 8,
   "metadata": {},
   "outputs": [
    {
     "name": "stdout",
     "output_type": "stream",
     "text": [
      "0\n",
      "0\n",
      "0\n"
     ]
    }
   ],
   "source": [
    "print(hypothesis.duplicated().sum())\n",
    "print(orders.duplicated().sum())\n",
    "print(visitors.duplicated().sum())"
   ]
  },
  {
   "cell_type": "markdown",
   "metadata": {},
   "source": [
    "## Часть 1. Приоритизация гипотез."
   ]
  },
  {
   "cell_type": "markdown",
   "metadata": {},
   "source": [
    "Применим фреймворк ICE для приоритизации гипотез и отсортируем их по убыванию приоритета:"
   ]
  },
  {
   "cell_type": "code",
   "execution_count": 9,
   "metadata": {},
   "outputs": [
    {
     "data": {
      "text/html": [
       "<div>\n",
       "<style scoped>\n",
       "    .dataframe tbody tr th:only-of-type {\n",
       "        vertical-align: middle;\n",
       "    }\n",
       "\n",
       "    .dataframe tbody tr th {\n",
       "        vertical-align: top;\n",
       "    }\n",
       "\n",
       "    .dataframe thead th {\n",
       "        text-align: right;\n",
       "    }\n",
       "</style>\n",
       "<table border=\"1\" class=\"dataframe\">\n",
       "  <thead>\n",
       "    <tr style=\"text-align: right;\">\n",
       "      <th></th>\n",
       "      <th>hypothesis</th>\n",
       "      <th>ice</th>\n",
       "    </tr>\n",
       "  </thead>\n",
       "  <tbody>\n",
       "    <tr>\n",
       "      <th>8</th>\n",
       "      <td>Запустить акцию, дающую скидку на товар в день рождения</td>\n",
       "      <td>16.20</td>\n",
       "    </tr>\n",
       "    <tr>\n",
       "      <th>0</th>\n",
       "      <td>Добавить два новых канала привлечения трафика, что позволит привлекать на 30% больше пользователей</td>\n",
       "      <td>13.33</td>\n",
       "    </tr>\n",
       "    <tr>\n",
       "      <th>7</th>\n",
       "      <td>Добавить форму подписки на все основные страницы, чтобы собрать базу клиентов для email-рассылок</td>\n",
       "      <td>11.20</td>\n",
       "    </tr>\n",
       "    <tr>\n",
       "      <th>6</th>\n",
       "      <td>Показать на главной странице баннеры с актуальными акциями и распродажами, чтобы увеличить конверсию</td>\n",
       "      <td>8.00</td>\n",
       "    </tr>\n",
       "    <tr>\n",
       "      <th>2</th>\n",
       "      <td>Добавить блоки рекомендаций товаров на сайт интернет магазина, чтобы повысить конверсию и средний чек заказа</td>\n",
       "      <td>7.00</td>\n",
       "    </tr>\n",
       "    <tr>\n",
       "      <th>1</th>\n",
       "      <td>Запустить собственную службу доставки, что сократит срок доставки заказов</td>\n",
       "      <td>2.00</td>\n",
       "    </tr>\n",
       "    <tr>\n",
       "      <th>5</th>\n",
       "      <td>Добавить страницу отзывов клиентов о магазине, что позволит увеличить количество заказов</td>\n",
       "      <td>1.33</td>\n",
       "    </tr>\n",
       "    <tr>\n",
       "      <th>3</th>\n",
       "      <td>Изменить структура категорий, что увеличит конверсию, т.к. пользователи быстрее найдут нужный товар</td>\n",
       "      <td>1.12</td>\n",
       "    </tr>\n",
       "    <tr>\n",
       "      <th>4</th>\n",
       "      <td>Изменить цвет фона главной страницы, чтобы увеличить вовлеченность пользователей</td>\n",
       "      <td>1.00</td>\n",
       "    </tr>\n",
       "  </tbody>\n",
       "</table>\n",
       "</div>"
      ],
      "text/plain": [
       "                                                                                                     hypothesis  \\\n",
       "8                                                       Запустить акцию, дающую скидку на товар в день рождения   \n",
       "0            Добавить два новых канала привлечения трафика, что позволит привлекать на 30% больше пользователей   \n",
       "7              Добавить форму подписки на все основные страницы, чтобы собрать базу клиентов для email-рассылок   \n",
       "6          Показать на главной странице баннеры с актуальными акциями и распродажами, чтобы увеличить конверсию   \n",
       "2  Добавить блоки рекомендаций товаров на сайт интернет магазина, чтобы повысить конверсию и средний чек заказа   \n",
       "1                                     Запустить собственную службу доставки, что сократит срок доставки заказов   \n",
       "5                      Добавить страницу отзывов клиентов о магазине, что позволит увеличить количество заказов   \n",
       "3           Изменить структура категорий, что увеличит конверсию, т.к. пользователи быстрее найдут нужный товар   \n",
       "4                              Изменить цвет фона главной страницы, чтобы увеличить вовлеченность пользователей   \n",
       "\n",
       "     ice  \n",
       "8  16.20  \n",
       "0  13.33  \n",
       "7  11.20  \n",
       "6   8.00  \n",
       "2   7.00  \n",
       "1   2.00  \n",
       "5   1.33  \n",
       "3   1.12  \n",
       "4   1.00  "
      ]
     },
     "execution_count": 9,
     "metadata": {},
     "output_type": "execute_result"
    }
   ],
   "source": [
    "hypothesis['ice'] = round(hypothesis['impact'] * hypothesis['confidence'] / hypothesis['efforts'],2)\n",
    "hypothesis[['hypothesis','ice']].sort_values(by='ice', ascending=False)"
   ]
  },
  {
   "cell_type": "markdown",
   "metadata": {},
   "source": [
    "Применим фреймворк RICE для приоритизации гипотез и отсортируем их по убыванию приоритета:"
   ]
  },
  {
   "cell_type": "code",
   "execution_count": 10,
   "metadata": {},
   "outputs": [
    {
     "data": {
      "text/html": [
       "<div>\n",
       "<style scoped>\n",
       "    .dataframe tbody tr th:only-of-type {\n",
       "        vertical-align: middle;\n",
       "    }\n",
       "\n",
       "    .dataframe tbody tr th {\n",
       "        vertical-align: top;\n",
       "    }\n",
       "\n",
       "    .dataframe thead th {\n",
       "        text-align: right;\n",
       "    }\n",
       "</style>\n",
       "<table border=\"1\" class=\"dataframe\">\n",
       "  <thead>\n",
       "    <tr style=\"text-align: right;\">\n",
       "      <th></th>\n",
       "      <th>hypothesis</th>\n",
       "      <th>rice</th>\n",
       "    </tr>\n",
       "  </thead>\n",
       "  <tbody>\n",
       "    <tr>\n",
       "      <th>7</th>\n",
       "      <td>Добавить форму подписки на все основные страницы, чтобы собрать базу клиентов для email-рассылок</td>\n",
       "      <td>112.0</td>\n",
       "    </tr>\n",
       "    <tr>\n",
       "      <th>2</th>\n",
       "      <td>Добавить блоки рекомендаций товаров на сайт интернет магазина, чтобы повысить конверсию и средний чек заказа</td>\n",
       "      <td>56.0</td>\n",
       "    </tr>\n",
       "    <tr>\n",
       "      <th>0</th>\n",
       "      <td>Добавить два новых канала привлечения трафика, что позволит привлекать на 30% больше пользователей</td>\n",
       "      <td>40.0</td>\n",
       "    </tr>\n",
       "    <tr>\n",
       "      <th>6</th>\n",
       "      <td>Показать на главной странице баннеры с актуальными акциями и распродажами, чтобы увеличить конверсию</td>\n",
       "      <td>40.0</td>\n",
       "    </tr>\n",
       "    <tr>\n",
       "      <th>8</th>\n",
       "      <td>Запустить акцию, дающую скидку на товар в день рождения</td>\n",
       "      <td>16.2</td>\n",
       "    </tr>\n",
       "    <tr>\n",
       "      <th>3</th>\n",
       "      <td>Изменить структура категорий, что увеличит конверсию, т.к. пользователи быстрее найдут нужный товар</td>\n",
       "      <td>9.0</td>\n",
       "    </tr>\n",
       "    <tr>\n",
       "      <th>1</th>\n",
       "      <td>Запустить собственную службу доставки, что сократит срок доставки заказов</td>\n",
       "      <td>4.0</td>\n",
       "    </tr>\n",
       "    <tr>\n",
       "      <th>5</th>\n",
       "      <td>Добавить страницу отзывов клиентов о магазине, что позволит увеличить количество заказов</td>\n",
       "      <td>4.0</td>\n",
       "    </tr>\n",
       "    <tr>\n",
       "      <th>4</th>\n",
       "      <td>Изменить цвет фона главной страницы, чтобы увеличить вовлеченность пользователей</td>\n",
       "      <td>3.0</td>\n",
       "    </tr>\n",
       "  </tbody>\n",
       "</table>\n",
       "</div>"
      ],
      "text/plain": [
       "                                                                                                     hypothesis  \\\n",
       "7              Добавить форму подписки на все основные страницы, чтобы собрать базу клиентов для email-рассылок   \n",
       "2  Добавить блоки рекомендаций товаров на сайт интернет магазина, чтобы повысить конверсию и средний чек заказа   \n",
       "0            Добавить два новых канала привлечения трафика, что позволит привлекать на 30% больше пользователей   \n",
       "6          Показать на главной странице баннеры с актуальными акциями и распродажами, чтобы увеличить конверсию   \n",
       "8                                                       Запустить акцию, дающую скидку на товар в день рождения   \n",
       "3           Изменить структура категорий, что увеличит конверсию, т.к. пользователи быстрее найдут нужный товар   \n",
       "1                                     Запустить собственную службу доставки, что сократит срок доставки заказов   \n",
       "5                      Добавить страницу отзывов клиентов о магазине, что позволит увеличить количество заказов   \n",
       "4                              Изменить цвет фона главной страницы, чтобы увеличить вовлеченность пользователей   \n",
       "\n",
       "    rice  \n",
       "7  112.0  \n",
       "2   56.0  \n",
       "0   40.0  \n",
       "6   40.0  \n",
       "8   16.2  \n",
       "3    9.0  \n",
       "1    4.0  \n",
       "5    4.0  \n",
       "4    3.0  "
      ]
     },
     "execution_count": 10,
     "metadata": {},
     "output_type": "execute_result"
    }
   ],
   "source": [
    "hypothesis['rice'] = round(hypothesis['reach'] * hypothesis['impact'] * hypothesis['confidence'] / hypothesis['efforts'],2)\n",
    "hypothesis[['hypothesis', 'rice']].sort_values(by='rice', ascending=False)"
   ]
  },
  {
   "cell_type": "markdown",
   "metadata": {},
   "source": [
    "При применении RICE вместо ICE приоритизация гипотез изменилась так как фреймворк RICE учитиывет еще и скольких пользователей затронет изменение."
   ]
  },
  {
   "cell_type": "markdown",
   "metadata": {},
   "source": [
    "## Часть 2. Анализ A/B-теста"
   ]
  },
  {
   "cell_type": "markdown",
   "metadata": {},
   "source": [
    "### График кумулятивной выручки по группам."
   ]
  },
  {
   "cell_type": "code",
   "execution_count": 11,
   "metadata": {},
   "outputs": [
    {
     "data": {
      "text/html": [
       "<div>\n",
       "<style scoped>\n",
       "    .dataframe tbody tr th:only-of-type {\n",
       "        vertical-align: middle;\n",
       "    }\n",
       "\n",
       "    .dataframe tbody tr th {\n",
       "        vertical-align: top;\n",
       "    }\n",
       "\n",
       "    .dataframe thead th {\n",
       "        text-align: right;\n",
       "    }\n",
       "</style>\n",
       "<table border=\"1\" class=\"dataframe\">\n",
       "  <thead>\n",
       "    <tr style=\"text-align: right;\">\n",
       "      <th></th>\n",
       "      <th>date</th>\n",
       "      <th>group</th>\n",
       "      <th>transactionid</th>\n",
       "      <th>visitorid</th>\n",
       "      <th>revenue</th>\n",
       "    </tr>\n",
       "  </thead>\n",
       "  <tbody>\n",
       "    <tr>\n",
       "      <th>55</th>\n",
       "      <td>2019-08-01</td>\n",
       "      <td>A</td>\n",
       "      <td>24</td>\n",
       "      <td>20</td>\n",
       "      <td>148579</td>\n",
       "    </tr>\n",
       "    <tr>\n",
       "      <th>66</th>\n",
       "      <td>2019-08-01</td>\n",
       "      <td>B</td>\n",
       "      <td>21</td>\n",
       "      <td>20</td>\n",
       "      <td>101217</td>\n",
       "    </tr>\n",
       "    <tr>\n",
       "      <th>175</th>\n",
       "      <td>2019-08-02</td>\n",
       "      <td>A</td>\n",
       "      <td>44</td>\n",
       "      <td>38</td>\n",
       "      <td>242401</td>\n",
       "    </tr>\n",
       "    <tr>\n",
       "      <th>173</th>\n",
       "      <td>2019-08-02</td>\n",
       "      <td>B</td>\n",
       "      <td>45</td>\n",
       "      <td>43</td>\n",
       "      <td>266748</td>\n",
       "    </tr>\n",
       "    <tr>\n",
       "      <th>291</th>\n",
       "      <td>2019-08-03</td>\n",
       "      <td>A</td>\n",
       "      <td>68</td>\n",
       "      <td>62</td>\n",
       "      <td>354874</td>\n",
       "    </tr>\n",
       "  </tbody>\n",
       "</table>\n",
       "</div>"
      ],
      "text/plain": [
       "          date group  transactionid  visitorid  revenue\n",
       "55  2019-08-01     A             24         20   148579\n",
       "66  2019-08-01     B             21         20   101217\n",
       "175 2019-08-02     A             44         38   242401\n",
       "173 2019-08-02     B             45         43   266748\n",
       "291 2019-08-03     A             68         62   354874"
      ]
     },
     "execution_count": 11,
     "metadata": {},
     "output_type": "execute_result"
    }
   ],
   "source": [
    "# создаем массив уникальных пар значений дат и групп теста\n",
    "datesGroups = orders[['date','group']].drop_duplicates() \n",
    "\n",
    "#получим агрегированные кумулятивные данные о заказах по дням: \n",
    "orders_aggregated = datesGroups.apply(\n",
    "    lambda x: orders[np.logical_and(orders['date'] <= x['date'], orders['group'] == x['group'])]\n",
    "    .agg({'date' : 'max', 'group' : 'max', 'transactionid' : 'nunique', 'visitorid' : 'nunique', 'revenue' : 'sum'}),\n",
    "    axis=1).sort_values(by=['date','group'])\n",
    "orders_aggregated.head()"
   ]
  },
  {
   "cell_type": "code",
   "execution_count": 12,
   "metadata": {},
   "outputs": [
    {
     "data": {
      "text/html": [
       "<div>\n",
       "<style scoped>\n",
       "    .dataframe tbody tr th:only-of-type {\n",
       "        vertical-align: middle;\n",
       "    }\n",
       "\n",
       "    .dataframe tbody tr th {\n",
       "        vertical-align: top;\n",
       "    }\n",
       "\n",
       "    .dataframe thead th {\n",
       "        text-align: right;\n",
       "    }\n",
       "</style>\n",
       "<table border=\"1\" class=\"dataframe\">\n",
       "  <thead>\n",
       "    <tr style=\"text-align: right;\">\n",
       "      <th></th>\n",
       "      <th>date</th>\n",
       "      <th>group</th>\n",
       "      <th>visitors</th>\n",
       "    </tr>\n",
       "  </thead>\n",
       "  <tbody>\n",
       "    <tr>\n",
       "      <th>55</th>\n",
       "      <td>2019-08-01</td>\n",
       "      <td>A</td>\n",
       "      <td>719</td>\n",
       "    </tr>\n",
       "    <tr>\n",
       "      <th>66</th>\n",
       "      <td>2019-08-01</td>\n",
       "      <td>B</td>\n",
       "      <td>713</td>\n",
       "    </tr>\n",
       "    <tr>\n",
       "      <th>175</th>\n",
       "      <td>2019-08-02</td>\n",
       "      <td>A</td>\n",
       "      <td>1338</td>\n",
       "    </tr>\n",
       "    <tr>\n",
       "      <th>173</th>\n",
       "      <td>2019-08-02</td>\n",
       "      <td>B</td>\n",
       "      <td>1294</td>\n",
       "    </tr>\n",
       "    <tr>\n",
       "      <th>291</th>\n",
       "      <td>2019-08-03</td>\n",
       "      <td>A</td>\n",
       "      <td>1845</td>\n",
       "    </tr>\n",
       "  </tbody>\n",
       "</table>\n",
       "</div>"
      ],
      "text/plain": [
       "          date group  visitors\n",
       "55  2019-08-01     A       719\n",
       "66  2019-08-01     B       713\n",
       "175 2019-08-02     A      1338\n",
       "173 2019-08-02     B      1294\n",
       "291 2019-08-03     A      1845"
      ]
     },
     "execution_count": 12,
     "metadata": {},
     "output_type": "execute_result"
    }
   ],
   "source": [
    "#получим агрегированные кумулятивные данные по дням о посетителях:\n",
    "visitors_aggregated = datesGroups.apply(\n",
    "    lambda x: visitors[np.logical_and(visitors['date'] <= x['date'], visitors['group'] == x['group'])]\n",
    "    .agg({'date' : 'max', 'group' : 'max', 'visitors' : 'sum'}), axis=1).sort_values(by=['date','group'])\n",
    "visitors_aggregated.head()"
   ]
  },
  {
   "cell_type": "code",
   "execution_count": 13,
   "metadata": {
    "scrolled": true
   },
   "outputs": [
    {
     "data": {
      "text/html": [
       "<div>\n",
       "<style scoped>\n",
       "    .dataframe tbody tr th:only-of-type {\n",
       "        vertical-align: middle;\n",
       "    }\n",
       "\n",
       "    .dataframe tbody tr th {\n",
       "        vertical-align: top;\n",
       "    }\n",
       "\n",
       "    .dataframe thead th {\n",
       "        text-align: right;\n",
       "    }\n",
       "</style>\n",
       "<table border=\"1\" class=\"dataframe\">\n",
       "  <thead>\n",
       "    <tr style=\"text-align: right;\">\n",
       "      <th></th>\n",
       "      <th>date</th>\n",
       "      <th>group</th>\n",
       "      <th>orders</th>\n",
       "      <th>buyers</th>\n",
       "      <th>revenue</th>\n",
       "      <th>visitors</th>\n",
       "    </tr>\n",
       "  </thead>\n",
       "  <tbody>\n",
       "    <tr>\n",
       "      <th>0</th>\n",
       "      <td>2019-08-01</td>\n",
       "      <td>A</td>\n",
       "      <td>24</td>\n",
       "      <td>20</td>\n",
       "      <td>148579</td>\n",
       "      <td>719</td>\n",
       "    </tr>\n",
       "    <tr>\n",
       "      <th>1</th>\n",
       "      <td>2019-08-01</td>\n",
       "      <td>B</td>\n",
       "      <td>21</td>\n",
       "      <td>20</td>\n",
       "      <td>101217</td>\n",
       "      <td>713</td>\n",
       "    </tr>\n",
       "    <tr>\n",
       "      <th>2</th>\n",
       "      <td>2019-08-02</td>\n",
       "      <td>A</td>\n",
       "      <td>44</td>\n",
       "      <td>38</td>\n",
       "      <td>242401</td>\n",
       "      <td>1338</td>\n",
       "    </tr>\n",
       "    <tr>\n",
       "      <th>3</th>\n",
       "      <td>2019-08-02</td>\n",
       "      <td>B</td>\n",
       "      <td>45</td>\n",
       "      <td>43</td>\n",
       "      <td>266748</td>\n",
       "      <td>1294</td>\n",
       "    </tr>\n",
       "    <tr>\n",
       "      <th>4</th>\n",
       "      <td>2019-08-03</td>\n",
       "      <td>A</td>\n",
       "      <td>68</td>\n",
       "      <td>62</td>\n",
       "      <td>354874</td>\n",
       "      <td>1845</td>\n",
       "    </tr>\n",
       "  </tbody>\n",
       "</table>\n",
       "</div>"
      ],
      "text/plain": [
       "        date group  orders  buyers  revenue  visitors\n",
       "0 2019-08-01     A      24      20   148579       719\n",
       "1 2019-08-01     B      21      20   101217       713\n",
       "2 2019-08-02     A      44      38   242401      1338\n",
       "3 2019-08-02     B      45      43   266748      1294\n",
       "4 2019-08-03     A      68      62   354874      1845"
      ]
     },
     "execution_count": 13,
     "metadata": {},
     "output_type": "execute_result"
    }
   ],
   "source": [
    "# объединяем кумулятивные данные в одной таблице и присваиваем ее столбцам понятные названия\n",
    "cumulative_data = orders_aggregated.merge(visitors_aggregated, left_on=['date', 'group'], right_on=['date', 'group'])\n",
    "cumulative_data.columns = ['date', 'group', 'orders', 'buyers', 'revenue', 'visitors']\n",
    "\n",
    "cumulative_data.head()"
   ]
  },
  {
   "cell_type": "code",
   "execution_count": 14,
   "metadata": {},
   "outputs": [],
   "source": [
    "# Разделим датафреймы по группам\n",
    "cumulative_revenue_a = cumulative_data[cumulative_data['group']=='A'][['date','revenue', 'orders','visitors']]\n",
    "cumulative_revenue_b = cumulative_data[cumulative_data['group']=='B'][['date','revenue', 'orders','visitors']]"
   ]
  },
  {
   "cell_type": "code",
   "execution_count": 15,
   "metadata": {},
   "outputs": [
    {
     "data": {
      "image/png": "[encoded data removed]",
      "text/plain": [
       "<Figure size 720x432 with 1 Axes>"
      ]
     },
     "metadata": {
      "needs_background": "light"
     },
     "output_type": "display_data"
    }
   ],
   "source": [
    "# Строим график\n",
    "plt.figure(figsize=(10,6))\n",
    "plt.plot(cumulative_revenue_a['date'], cumulative_revenue_a['revenue'], label='A')\n",
    "plt.plot(cumulative_revenue_b['date'], cumulative_revenue_b['revenue'], label='B')\n",
    "plt.legend()\n",
    "plt.xticks(rotation=45)\n",
    "plt.title('График кумулятивной выручки по группам')\n",
    "plt.ylabel(\"Выручка\")\n",
    "plt.xlabel(\"Дата\")\n",
    "plt.show()"
   ]
  },
  {
   "cell_type": "markdown",
   "metadata": {},
   "source": [
    "По графику видно, что выручка в группе 'A' меньше чем в группе 'B' и она растет линейно. В группе 'B' есть вслеск в райноне 17 августа. Это может быть связанно с оформлением очень дорогого заказа или с резким увелисением количества заказов."
   ]
  },
  {
   "cell_type": "markdown",
   "metadata": {},
   "source": [
    "### График кумулятивного среднего чека по группам."
   ]
  },
  {
   "cell_type": "code",
   "execution_count": 16,
   "metadata": {},
   "outputs": [
    {
     "data": {
      "image/png": "[encoded data removed]",
      "text/plain": [
       "<Figure size 720x432 with 1 Axes>"
      ]
     },
     "metadata": {
      "needs_background": "light"
     },
     "output_type": "display_data"
    }
   ],
   "source": [
    "plt.plot(cumulative_revenue_a['date'], cumulative_revenue_a['revenue']/cumulative_revenue_a['orders'], label='A')\n",
    "plt.plot(cumulative_revenue_b['date'], cumulative_revenue_b['revenue']/cumulative_revenue_b['orders'], label='B')\n",
    "plt.legend()\n",
    "plt.xticks(rotation=45)\n",
    "plt.title('График кумулятивного среднего чека по группам')\n",
    "plt.ylabel(\"Кумулятивная выручка\")\n",
    "plt.xlabel(\"Дата\")\n",
    "plt.show()"
   ]
  },
  {
   "cell_type": "markdown",
   "metadata": {},
   "source": [
    "В группе 'A' средний чек то падает то растет, к середине месяца исследования он стабилизируется. В группе 'B' наблюдаем почти стабильный рост среднего чека, и резкий рост 17 августа, что явно свидетельствует об очень дорогой покупке."
   ]
  },
  {
   "cell_type": "markdown",
   "metadata": {},
   "source": [
    "### График относительного изменения кумулятивного среднего чека группы B к группе A"
   ]
  },
  {
   "cell_type": "code",
   "execution_count": 17,
   "metadata": {},
   "outputs": [
    {
     "data": {
      "image/png": "[encoded data removed]",
      "text/plain": [
       "<Figure size 720x432 with 1 Axes>"
      ]
     },
     "metadata": {
      "needs_background": "light"
     },
     "output_type": "display_data"
    }
   ],
   "source": [
    "merged_сumulative_average_bill = cumulative_revenue_a.merge(cumulative_revenue_b, left_on='date', right_on='date', how='left', suffixes=['a', 'b'])\n",
    "merged_сumulative_average_bill['average_bill_a']=merged_сumulative_average_bill['revenuea']/merged_сumulative_average_bill['ordersa']\n",
    "merged_сumulative_average_bill['average_bill_b']=merged_сumulative_average_bill['revenueb']/merged_сumulative_average_bill['ordersb']\n",
    "plt.plot(merged_сumulative_average_bill['date'], merged_сumulative_average_bill['average_bill_b']/merged_сumulative_average_bill['average_bill_a']-1, \n",
    "         label=\"Относительное изменения кумулятивного среднего чека группы B к группе A\")\n",
    "plt.legend()\n",
    "\n",
    "plt.axhline(y=0, color='black', linestyle='--')\n",
    "plt.xticks(rotation=45)\n",
    "plt.title('График относительного изменения кумулятивного среднего чека группы B к группе A')\n",
    "plt.ylabel(\"Кумулятивный среднений чек \")\n",
    "plt.xlabel(\"Дата\")\n",
    "plt.show()\n"
   ]
  },
  {
   "cell_type": "markdown",
   "metadata": {},
   "source": [
    "В некоторых местах чек резко возрастает и резко падает, что свидетельствует о реальзиции дорогих заказов."
   ]
  },
  {
   "cell_type": "markdown",
   "metadata": {},
   "source": [
    "### График кумулятивного среднего количества заказов на посетителя по группам."
   ]
  },
  {
   "cell_type": "code",
   "execution_count": 18,
   "metadata": {},
   "outputs": [
    {
     "data": {
      "image/png": "[encoded data removed]",
      "text/plain": [
       "<Figure size 720x432 with 1 Axes>"
      ]
     },
     "metadata": {
      "needs_background": "light"
     },
     "output_type": "display_data"
    }
   ],
   "source": [
    "cumulative_revenue_a['avg_orders']=cumulative_revenue_a['orders']/cumulative_revenue_a['visitors']\n",
    "cumulative_revenue_b['avg_orders']=cumulative_revenue_b['orders']/cumulative_revenue_b['visitors']\n",
    "\n",
    "plt.plot(cumulative_revenue_a['date'], cumulative_revenue_a['avg_orders'], label='A')\n",
    "plt.plot(cumulative_revenue_b['date'], cumulative_revenue_b['avg_orders'], label='B')\n",
    "plt.legend()\n",
    "plt.title('График кумулятивного среднего количества заказов на посетителя по группам')\n",
    "plt.ylabel(\"Кумулятивнное среднее количество заказов на посетителя\")\n",
    "plt.xlabel(\"Дата\")\n",
    "plt.xticks(rotation=45)\n",
    "plt.show()\n"
   ]
  },
  {
   "cell_type": "markdown",
   "metadata": {},
   "source": [
    "В группе 'B' число заказов на посетителя явно больше. Скачки есть в обеих группах."
   ]
  },
  {
   "cell_type": "markdown",
   "metadata": {},
   "source": [
    "### График относительного изменения кумулятивного среднего количества заказов на посетителя группы B к группе A"
   ]
  },
  {
   "cell_type": "code",
   "execution_count": 19,
   "metadata": {},
   "outputs": [
    {
     "data": {
      "image/png": "[encoded data removed]",
      "text/plain": [
       "<Figure size 720x432 with 1 Axes>"
      ]
     },
     "metadata": {
      "needs_background": "light"
     },
     "output_type": "display_data"
    }
   ],
   "source": [
    "merged_сumulative_avg_orders = cumulative_revenue_a.merge(cumulative_revenue_b, left_on='date', right_on='date', how='left', suffixes=['a', 'b'])\n",
    "plt.plot(merged_сumulative_avg_orders['date'], merged_сumulative_avg_orders['avg_ordersb']/merged_сumulative_avg_orders['avg_ordersa']-1, \n",
    "         label=\"Относительное изменение\")\n",
    "plt.legend()\n",
    "\n",
    "plt.axhline(y=0, color='black', linestyle='--')\n",
    "plt.xticks(rotation=45)\n",
    "plt.title('График кумулятивного среднего количества заказов на посетителя по группам')\n",
    "plt.ylabel(\"Относительное изменения\")\n",
    "plt.xlabel(\"Дата\")\n",
    "plt.show()\n"
   ]
  },
  {
   "cell_type": "markdown",
   "metadata": {},
   "source": [
    "В начале группа 'A' проигрывает группе 'B', но после вырывается вперед и лидирует до конца.  "
   ]
  },
  {
   "cell_type": "markdown",
   "metadata": {},
   "source": [
    "### Точечный график количества заказов по пользователям."
   ]
  },
  {
   "cell_type": "code",
   "execution_count": 20,
   "metadata": {},
   "outputs": [
    {
     "data": {
      "image/png": "[encoded data removed]",
      "text/plain": [
       "<Figure size 720x432 with 1 Axes>"
      ]
     },
     "metadata": {
      "needs_background": "light"
     },
     "output_type": "display_data"
    }
   ],
   "source": [
    "orders_by_users = (\n",
    "    orders.groupby('visitorid', as_index=False)\n",
    "    .agg({'transactionid': 'nunique'})\n",
    ")\n",
    "orders_by_users.columns = ['userid', 'orders']\n",
    "\n",
    "x_values = pd.Series(range(0,len(orders_by_users)))\n",
    "plt.scatter(x_values, orders_by_users['orders'])\n",
    "plt.title('Точечный график количества заказов по пользователям')\n",
    "plt.xlabel('Количество пользователей')\n",
    "plt.ylabel('Количество заказов')\n",
    "plt.show()"
   ]
  },
  {
   "cell_type": "markdown",
   "metadata": {},
   "source": [
    "Большинство пользователей делают 1-2 заказа, но встречаются и те кто сделал более 10 заказов."
   ]
  },
  {
   "cell_type": "markdown",
   "metadata": {},
   "source": [
    "### 95-й и 99-й перцентили количества заказов на пользователя."
   ]
  },
  {
   "cell_type": "code",
   "execution_count": 21,
   "metadata": {},
   "outputs": [
    {
     "data": {
      "text/plain": [
       "array([2., 4.])"
      ]
     },
     "execution_count": 21,
     "metadata": {},
     "output_type": "execute_result"
    }
   ],
   "source": [
    "np.percentile(orders_by_users['orders'], [95, 99])"
   ]
  },
  {
   "cell_type": "markdown",
   "metadata": {},
   "source": [
    "Не более 5% пользователей совершали 2 заказа и не более 1% - 4. Все что выше 4-х заказов определим как аномалии. "
   ]
  },
  {
   "cell_type": "markdown",
   "metadata": {},
   "source": [
    "### Точечный график стоимостей заказов."
   ]
  },
  {
   "cell_type": "code",
   "execution_count": 22,
   "metadata": {},
   "outputs": [
    {
     "data": {
      "image/png": "[encoded data removed]",
      "text/plain": [
       "<Figure size 720x432 with 1 Axes>"
      ]
     },
     "metadata": {
      "needs_background": "light"
     },
     "output_type": "display_data"
    }
   ],
   "source": [
    "x_values = pd.Series(range(0,len(orders['revenue'])))\n",
    "plt.scatter(x_values, orders['revenue'])\n",
    "plt.title('Точечный график стоимостей заказов')\n",
    "plt.xlabel('Количество пользователей')\n",
    "plt.ylabel('Стоимость заказов')\n",
    "plt.show()"
   ]
  },
  {
   "cell_type": "markdown",
   "metadata": {},
   "source": [
    "Большинство заказов сделаны по минимальной стоимости, но также отчетливо видны выбросы."
   ]
  },
  {
   "cell_type": "code",
   "execution_count": 23,
   "metadata": {},
   "outputs": [
    {
     "data": {
      "image/png": "[encoded data removed]",
      "text/plain": [
       "<Figure size 720x432 with 1 Axes>"
      ]
     },
     "metadata": {
      "needs_background": "light"
     },
     "output_type": "display_data"
    }
   ],
   "source": [
    "plt.ylim(0, 150000)\n",
    "plt.scatter(x_values, orders['revenue'])\n",
    "plt.title('Точечный график стоимостей заказов')\n",
    "plt.xlabel('Количество пользователей')\n",
    "plt.ylabel('Стоимость заказов')\n",
    "plt.show()"
   ]
  },
  {
   "cell_type": "markdown",
   "metadata": {},
   "source": [
    "###  95-й и 99-й перцентили стоимости заказов"
   ]
  },
  {
   "cell_type": "code",
   "execution_count": 24,
   "metadata": {},
   "outputs": [
    {
     "data": {
      "text/plain": [
       "array([28000. , 58233.2])"
      ]
     },
     "execution_count": 24,
     "metadata": {},
     "output_type": "execute_result"
    }
   ],
   "source": [
    "np.percentile(orders['revenue'], [95, 99])"
   ]
  },
  {
   "cell_type": "markdown",
   "metadata": {},
   "source": [
    "Не более 5% пользователей совершали заказы за 28000 и не более 1% за 58233.2. Все что выше 58233.2 определим как аномалии."
   ]
  },
  {
   "cell_type": "markdown",
   "metadata": {},
   "source": [
    "### Cтатистическая значимость различий в среднем количестве заказов на посетителя между группами по «сырым» данным"
   ]
  },
  {
   "cell_type": "markdown",
   "metadata": {},
   "source": [
    "Сформулируем гипотезы: \n",
    "- Нулевая: различий в среднем количестве заказов между группами нет. \n",
    "- Альтернативная: различия в среднем между группами есть.\n",
    "- alpha = 0.05\n",
    "- Для проверки гипотез будем использовать тест Уилкоксона-Манна-Уитни."
   ]
  },
  {
   "cell_type": "code",
   "execution_count": 25,
   "metadata": {},
   "outputs": [],
   "source": [
    "visitors_a_daily = visitors[visitors['group'] == 'A'][['date', 'visitors']]\n",
    "visitors_a_daily.columns = ['date', 'visitorsPerDateA']\n",
    "\n",
    "visitors_a_cummulative = visitors_a_daily.apply(\n",
    "    lambda x: visitors_a_daily[visitors_a_daily['date'] <= x['date']].agg(\n",
    "        {'date': 'max', 'visitorsPerDateA': 'sum'}\n",
    "    ),\n",
    "    axis=1,\n",
    ")\n",
    "visitors_a_cummulative.columns = ['date', 'visitorsCummulativeA']\n",
    "\n",
    "visitors_b_daily = visitors[visitors['group'] == 'B'][['date', 'visitors']]\n",
    "visitors_b_daily.columns = ['date', 'visitorsPerDateB']\n",
    "\n",
    "visitors_b_cummulative = visitors_b_daily.apply(\n",
    "    lambda x: visitors_b_daily[visitors_b_daily['date'] <= x['date']].agg(\n",
    "        {'date': 'max', 'visitorsPerDateB': 'sum'}\n",
    "    ),\n",
    "    axis=1,\n",
    ")\n",
    "visitors_b_cummulative.columns = ['date', 'visitorsCummulativeB']\n",
    "\n",
    "orders_a_daily = (\n",
    "    orders[orders['group'] == 'A'][['date', 'transactionid', 'visitorid', 'revenue']]\n",
    "    .groupby('date', as_index=False)\n",
    "    .agg({'transactionid': pd.Series.nunique, 'revenue': 'sum'})\n",
    ")\n",
    "orders_a_daily.columns = ['date', 'ordersPerDateA', 'revenuePerDateA']\n",
    "\n",
    "orders_a_cummulative = orders_a_daily.apply(\n",
    "    lambda x: orders_a_daily[orders_a_daily['date'] <= x['date']].agg(\n",
    "        {'date': 'max', 'ordersPerDateA': 'sum', 'revenuePerDateA': 'sum'}\n",
    "    ),\n",
    "    axis=1,\n",
    ").sort_values(by=['date'])\n",
    "orders_a_cummulative.columns = [\n",
    "    'date',\n",
    "    'ordersCummulativeA',\n",
    "    'revenueCummulativeA',\n",
    "]\n",
    "\n",
    "orders_b_daily = (\n",
    "    orders[orders['group'] == 'B'][['date', 'transactionid', 'visitorid', 'revenue']]\n",
    "    .groupby('date', as_index=False)\n",
    "    .agg({'transactionid': pd.Series.nunique, 'revenue': 'sum'})\n",
    ")\n",
    "orders_b_daily.columns = ['date', 'ordersPerDateB', 'revenuePerDateB']\n",
    "\n",
    "orders_b_cummulative = orders_b_daily.apply(\n",
    "    lambda x: orders_b_daily[orders_b_daily['date'] <= x['date']].agg(\n",
    "        {'date': 'max', 'ordersPerDateB': 'sum', 'revenuePerDateB': 'sum'}\n",
    "    ),\n",
    "    axis=1,\n",
    ").sort_values(by=['date'])\n",
    "orders_b_cummulative.columns = [\n",
    "    'date',\n",
    "    'ordersCummulativeB',\n",
    "    'revenueCummulativeB',\n",
    "]\n",
    "\n",
    "data = (\n",
    "    orders_a_daily.merge(\n",
    "        orders_b_daily, left_on='date', right_on='date', how='left'\n",
    "    )\n",
    "    .merge(orders_a_cummulative, left_on='date', right_on='date', how='left')\n",
    "    .merge(orders_b_cummulative, left_on='date', right_on='date', how='left')\n",
    "    .merge(visitors_a_daily, left_on='date', right_on='date', how='left')\n",
    "    .merge(visitors_b_daily, left_on='date', right_on='date', how='left')\n",
    "    .merge(visitors_a_cummulative, left_on='date', right_on='date', how='left')\n",
    "    .merge(visitors_b_cummulative, left_on='date', right_on='date', how='left')\n",
    ")"
   ]
  },
  {
   "cell_type": "code",
   "execution_count": 26,
   "metadata": {},
   "outputs": [
    {
     "name": "stdout",
     "output_type": "stream",
     "text": [
      "p-value:0.01679\n",
      "Различия в среднем между количеством заказов в группах есть\n",
      "Прирост В к А:0.138\n"
     ]
    }
   ],
   "source": [
    "orders_by_users_a = (\n",
    "    orders[orders['group'] == 'A']\n",
    "    .groupby('visitorid', as_index=False)\n",
    "    .agg({'transactionid': pd.Series.nunique})\n",
    ")\n",
    "orders_by_users_a.columns = ['visitorid', 'orders']\n",
    "\n",
    "orders_by_users_b = (\n",
    "    orders[orders['group'] == 'B']\n",
    "    .groupby('visitorid', as_index=False)\n",
    "    .agg({'transactionid': pd.Series.nunique})\n",
    ")\n",
    "orders_by_users_b.columns = ['visitorid', 'orders']\n",
    "\n",
    "pd.Series(0, index=np.arange(data['visitorsPerDateA'].sum() - len(orders_by_users_a['orders'])), name='orders')\n",
    "[orders_by_users_a['orders'],pd.Series(0, index=np.arange(data['visitorsPerDateA'].sum() - len(orders_by_users_a['orders'])), name='orders')] \n",
    "\n",
    "sampleA = pd.concat([orders_by_users_a['orders'],pd.Series(0, index=np.arange(data['visitorsPerDateA'].sum() - len(orders_by_users_a['orders'])), name='orders')],axis=0)\n",
    "\n",
    "sampleB = pd.concat([orders_by_users_b['orders'],pd.Series(0, index=np.arange(data['visitorsPerDateB'].sum() - len(orders_by_users_b['orders'])), name='orders')],axis=0)\n",
    "\n",
    "orders_by_users_a = (\n",
    "    orders[orders['group'] == 'A']\n",
    "    .groupby('visitorid', as_index=False)\n",
    "    .agg({'transactionid': pd.Series.nunique})\n",
    ")\n",
    "orders_by_users_a.columns = ['visitorid', 'orders']\n",
    "\n",
    "orders_by_users_b = (\n",
    "    orders[orders['group'] == 'B']\n",
    "    .groupby('visitorid', as_index=False)\n",
    "    .agg({'transactionid': pd.Series.nunique})\n",
    ")\n",
    "orders_by_users_b.columns = ['visitorid', 'orders']\n",
    "\n",
    "sampleA = pd.concat(\n",
    "    [\n",
    "        orders_by_users_a['orders'],\n",
    "        pd.Series(\n",
    "            0,\n",
    "            index=np.arange(\n",
    "                data['visitorsPerDateA'].sum() - len(orders_by_users_a['orders'])\n",
    "            ),\n",
    "            name='orders',\n",
    "        ),\n",
    "    ],\n",
    "    axis=0,\n",
    ")\n",
    "\n",
    "sampleB = pd.concat(\n",
    "    [\n",
    "        orders_by_users_b['orders'],\n",
    "        pd.Series(\n",
    "            0,\n",
    "            index=np.arange(\n",
    "                data['visitorsPerDateB'].sum() - len(orders_by_users_b['orders'])\n",
    "            ),\n",
    "            name='orders',\n",
    "        ),\n",
    "    ],\n",
    "    axis=0,\n",
    ")\n",
    "\n",
    "alpha = .05\n",
    "pvalue = stats.mannwhitneyu(sampleB, sampleA)[1]\n",
    "print('p-value:{0:.5f}'.format(pvalue))\n",
    "if (pvalue < alpha):\n",
    "    print(\"Различия в среднем между количеством заказов в группах есть\")\n",
    "else:\n",
    "    print(\"Различий в среднем количестве заказов между группами нет\")\n",
    "print('Прирост В к А:{0:.3f}'.format(sampleB.mean()/sampleA.mean()-1))"
   ]
  },
  {
   "cell_type": "markdown",
   "metadata": {},
   "source": [
    "По «сырым» данным различия в среднем между количеством заказов в группах есть"
   ]
  },
  {
   "cell_type": "markdown",
   "metadata": {},
   "source": [
    "### Cтатистическая значимость различий в среднем чеке заказа между группами по «сырым» данным."
   ]
  },
  {
   "cell_type": "code",
   "execution_count": 27,
   "metadata": {},
   "outputs": [
    {
     "name": "stdout",
     "output_type": "stream",
     "text": [
      "p-value:0.72929\n",
      "Различий в среднем чеке заказа между группами нет\n",
      "Прирост В к А:0.259\n"
     ]
    }
   ],
   "source": [
    "pvalue = stats.mannwhitneyu(orders[orders['group']=='A']['revenue'], orders[orders['group']=='B']['revenue'])[1]\n",
    "print('p-value:{0:.5f}'.format(pvalue))\n",
    "if (pvalue < alpha):\n",
    "    print(\"Различия в среднем чеке заказа между группами есть\")\n",
    "else:\n",
    "    print(\"Различий в среднем чеке заказа между группами нет\")\n",
    "print('Прирост В к А:{0:.3f}'.format(orders[orders['group']=='B']['revenue'].mean()/orders[orders['group']=='A']['revenue'].mean()-1))"
   ]
  },
  {
   "cell_type": "markdown",
   "metadata": {},
   "source": [
    "По «сырым» данным различий в среднем чеке заказа между группами нет"
   ]
  },
  {
   "cell_type": "markdown",
   "metadata": {},
   "source": [
    "###  Cтатистическая значимость различий в среднем количестве заказов на посетителя между группами по «очищенным» данным."
   ]
  },
  {
   "cell_type": "markdown",
   "metadata": {},
   "source": [
    "Отбросим пользователей которые сделали более 4-х заказов и заказы дороже 58233.2."
   ]
  },
  {
   "cell_type": "code",
   "execution_count": 28,
   "metadata": {},
   "outputs": [],
   "source": [
    "orders_max = np.percentile(orders_by_users['orders'], 99)\n",
    "revenue_max = np.percentile(orders['revenue'], 99)\n",
    "\n",
    "usersWithManyOrders = pd.concat(\n",
    "    [\n",
    "        orders_by_users_a[orders_by_users_a['orders'] > orders_max]['visitorid'],\n",
    "        orders_by_users_b[orders_by_users_b['orders'] > orders_max]['visitorid'],\n",
    "    ],\n",
    "    axis=0,\n",
    ")\n",
    "usersWithExpensiveOrders = orders[orders['revenue'] > revenue_max]['visitorid']\n",
    "abnormalUsers = (\n",
    "    pd.concat([usersWithManyOrders, usersWithExpensiveOrders], axis=0)\n",
    "    .drop_duplicates()\n",
    "    .sort_values())\n"
   ]
  },
  {
   "cell_type": "code",
   "execution_count": 29,
   "metadata": {},
   "outputs": [
    {
     "name": "stdout",
     "output_type": "stream",
     "text": [
      "Число пользователей с большим количеством заказов: 5\n",
      "Относительные потери: 0.48 %\n",
      "Число пользователей с дорогими заказами: 12\n",
      "Относительные потери: 1.16 %\n"
     ]
    }
   ],
   "source": [
    "print(\"Число пользователей с большим количеством заказов:\", usersWithManyOrders.count())\n",
    "print(\"Относительные потери:\", round(usersWithManyOrders.count()/len(orders['visitorid'].unique())*100,2),'%')\n",
    "print(\"Число пользователей с дорогими заказами:\", usersWithExpensiveOrders.count())\n",
    "print(\"Относительные потери:\", round(usersWithExpensiveOrders.count()/len(orders['visitorid'].unique())*100,2),'%')"
   ]
  },
  {
   "cell_type": "code",
   "execution_count": 30,
   "metadata": {},
   "outputs": [],
   "source": [
    "sampleAFiltered = pd.concat(\n",
    "    [\n",
    "        orders_by_users_a[\n",
    "            np.logical_not(orders_by_users_a['visitorid'].isin(abnormalUsers))\n",
    "        ]['orders'],\n",
    "        pd.Series(\n",
    "            0,\n",
    "            index=np.arange(\n",
    "                data['visitorsPerDateA'].sum() - len(orders_by_users_a['orders'])\n",
    "            ),\n",
    "            name='orders',\n",
    "        ),\n",
    "    ],\n",
    "    axis=0,\n",
    ")\n",
    "\n",
    "sampleBFiltered = pd.concat(\n",
    "    [\n",
    "        orders_by_users_b[\n",
    "            np.logical_not(orders_by_users_b['visitorid'].isin(abnormalUsers))\n",
    "        ]['orders'],\n",
    "        pd.Series(\n",
    "            0,\n",
    "            index=np.arange(\n",
    "                data['visitorsPerDateB'].sum() - len(orders_by_users_b['orders'])\n",
    "            ),\n",
    "            name='orders',\n",
    "        ),\n",
    "    ],\n",
    "    axis=0,\n",
    ")    "
   ]
  },
  {
   "cell_type": "code",
   "execution_count": 31,
   "metadata": {},
   "outputs": [
    {
     "name": "stdout",
     "output_type": "stream",
     "text": [
      "p-value:0.01438\n",
      "Различия в среднем между количеством заказов в группах есть\n",
      "Прирост В к А:0.153\n"
     ]
    }
   ],
   "source": [
    "pvalue = stats.mannwhitneyu(sampleBFiltered, sampleAFiltered)[1]\n",
    "#print({pvalue})\n",
    "print('p-value:{0:.5f}'.format(pvalue))\n",
    "if (pvalue < alpha):\n",
    "    print(\"Различия в среднем между количеством заказов в группах есть\")\n",
    "else:\n",
    "    print(\"Различий в среднем количестве заказов между группами нет\")\n",
    "print('Прирост В к А:{0:.3f}'.format(sampleBFiltered.mean()/sampleAFiltered.mean()-1))"
   ]
  },
  {
   "cell_type": "markdown",
   "metadata": {},
   "source": [
    "По «очищенным» данным различия в среднем между количеством заказов в группах тоже есть."
   ]
  },
  {
   "cell_type": "markdown",
   "metadata": {},
   "source": [
    "### Cтатистическая значимость различий в среднем чеке заказа между группами по «очищенным» данным. "
   ]
  },
  {
   "cell_type": "code",
   "execution_count": 32,
   "metadata": {},
   "outputs": [
    {
     "name": "stdout",
     "output_type": "stream",
     "text": [
      "p-value:0.85091\n",
      "Различий в среднем чеке заказа между группами нет\n",
      "Прирост В к А -0.00575\n"
     ]
    }
   ],
   "source": [
    "pvalue = stats.mannwhitneyu( orders[\n",
    "                np.logical_and(\n",
    "                    orders['group'] == 'A',\n",
    "                    np.logical_not(orders['visitorid'].isin(abnormalUsers)),\n",
    "                )\n",
    "            ]['revenue'],\n",
    "            orders[\n",
    "                np.logical_and(\n",
    "                    orders['group'] == 'B',\n",
    "                    np.logical_not(orders['visitorid'].isin(abnormalUsers)),\n",
    "                )\n",
    "            ]['revenue'],\n",
    "        )[1]\n",
    "        \n",
    "print('p-value:{0:.5f}'.format(pvalue))\n",
    "if (pvalue < alpha):\n",
    "    print(\"Различия в среднем чеке заказа между группами есть\")\n",
    "else:\n",
    "    print(\"Различий в среднем чеке заказа между группами нет\")\n",
    "\n",
    "print(\n",
    "    \"Прирост В к А {0:.5f}\".format(\n",
    "        orders[\n",
    "            np.logical_and(\n",
    "                orders['group'] == 'B',\n",
    "                np.logical_not(orders['visitorid'].isin(abnormalUsers)),\n",
    "            )\n",
    "        ]['revenue'].mean()\n",
    "        / orders[\n",
    "            np.logical_and(\n",
    "                orders['group'] == 'A',\n",
    "                np.logical_not(orders['visitorid'].isin(abnormalUsers)),\n",
    "            )\n",
    "        ]['revenue'].mean()\n",
    "        - 1\n",
    "    )\n",
    ")"
   ]
  },
  {
   "cell_type": "markdown",
   "metadata": {},
   "source": [
    "По «очищенным» данным различий в среднем чеке заказа между группами нет."
   ]
  },
  {
   "cell_type": "markdown",
   "metadata": {},
   "source": [
    "## Выводы: "
   ]
  },
  {
   "cell_type": "markdown",
   "metadata": {},
   "source": [
    "1. Отделу мартетига следует поробовать запустить гипотезы:\n",
    "- Запустить акцию, дающую скидку на товар в день рождения\n",
    "- Добавить два новых канала привлечения трафика, что позволит привлекать на 30% больше пользователей\n",
    "- Добавить форму подписки на все основные страницы, чтобы собрать базу клиентов для email-рассылок\n",
    "\n",
    "Если требуется учитывать охват пользователей то обратить внимание на гипотезы:\n",
    "\n",
    "- Добавить форму подписки на все основные страницы, чтобы собрать базу клиентов для email-рассылок\n",
    "- Добавить блоки рекомендаций товаров на сайт интернет магазина, чтобы повысить конверсию и средний чек заказа\n",
    "- Добавить два новых канала привлечения трафика, что позволит привлекать на 30% больше пользователей\n",
    "\n",
    "2. Есть статистически значимое различие в среднем количестве заказов на посетителя между группами как по сырым данным, так и после фильтрации аномалий.\n",
    "3. Нет статистически значимого различия по среднему чеку между группами как по сырым данным, так и после фильтрации аномалий.\n",
    "4. График относительного изменения кумулятивного среднего количества заказов на посетителя группы 'B' к группе 'A' показывает что результаты группы 'B' лучше.\n",
    "5. По  результатам рекомендую становить тест, зафиксировать победу группы 'B'."
   ]
  }
 ],
 "metadata": {
  "ExecuteTimeLog": [
   {
    "duration": 65,
    "start_time": "2023-03-01T11:06:52.842Z"
   },
   {
    "duration": 1345,
    "start_time": "2023-03-01T11:07:01.743Z"
   },
   {
    "duration": 177,
    "start_time": "2023-03-01T11:07:05.718Z"
   },
   {
    "duration": 12,
    "start_time": "2023-03-01T11:07:45.252Z"
   },
   {
    "duration": 10,
    "start_time": "2023-03-01T11:07:57.390Z"
   },
   {
    "duration": 12,
    "start_time": "2023-03-01T11:08:17.784Z"
   },
   {
    "duration": 19,
    "start_time": "2023-03-01T11:10:21.459Z"
   },
   {
    "duration": 1184,
    "start_time": "2023-03-01T11:10:45.740Z"
   },
   {
    "duration": 62,
    "start_time": "2023-03-01T11:10:46.927Z"
   },
   {
    "duration": 19,
    "start_time": "2023-03-01T11:10:46.990Z"
   },
   {
    "duration": 17,
    "start_time": "2023-03-01T11:10:47.011Z"
   },
   {
    "duration": 16,
    "start_time": "2023-03-01T11:10:47.029Z"
   },
   {
    "duration": 3,
    "start_time": "2023-03-01T11:13:47.575Z"
   },
   {
    "duration": 8,
    "start_time": "2023-03-01T11:14:05.714Z"
   },
   {
    "duration": 8,
    "start_time": "2023-03-01T11:14:41.959Z"
   },
   {
    "duration": 9,
    "start_time": "2023-03-01T11:18:44.507Z"
   },
   {
    "duration": 73,
    "start_time": "2023-03-01T11:20:36.679Z"
   },
   {
    "duration": 106,
    "start_time": "2023-03-01T11:23:39.164Z"
   },
   {
    "duration": 14,
    "start_time": "2023-03-01T11:23:48.706Z"
   },
   {
    "duration": 10,
    "start_time": "2023-03-01T11:23:57.618Z"
   },
   {
    "duration": 14,
    "start_time": "2023-03-01T11:26:51.457Z"
   },
   {
    "duration": 3,
    "start_time": "2023-03-01T11:40:40.857Z"
   },
   {
    "duration": 22,
    "start_time": "2023-03-01T11:49:53.601Z"
   },
   {
    "duration": 25,
    "start_time": "2023-03-01T11:51:08.172Z"
   },
   {
    "duration": 307,
    "start_time": "2023-03-01T11:52:32.700Z"
   },
   {
    "duration": 3,
    "start_time": "2023-03-01T11:52:43.397Z"
   },
   {
    "duration": 1174,
    "start_time": "2023-03-01T11:52:51.579Z"
   },
   {
    "duration": 65,
    "start_time": "2023-03-01T11:52:52.755Z"
   },
   {
    "duration": 19,
    "start_time": "2023-03-01T11:52:52.822Z"
   },
   {
    "duration": 3,
    "start_time": "2023-03-01T11:52:52.843Z"
   },
   {
    "duration": 21,
    "start_time": "2023-03-01T11:52:52.847Z"
   },
   {
    "duration": 22,
    "start_time": "2023-03-01T11:52:52.870Z"
   },
   {
    "duration": 17,
    "start_time": "2023-03-01T11:52:52.894Z"
   },
   {
    "duration": 8,
    "start_time": "2023-03-01T11:52:52.912Z"
   },
   {
    "duration": 10,
    "start_time": "2023-03-01T11:52:52.921Z"
   },
   {
    "duration": 10,
    "start_time": "2023-03-01T11:52:52.933Z"
   },
   {
    "duration": 162,
    "start_time": "2023-03-01T11:52:52.945Z"
   },
   {
    "duration": 14,
    "start_time": "2023-03-01T11:53:12.711Z"
   },
   {
    "duration": 3,
    "start_time": "2023-03-01T11:53:19.373Z"
   },
   {
    "duration": 2959,
    "start_time": "2023-03-01T11:53:31.209Z"
   },
   {
    "duration": 2872,
    "start_time": "2023-03-01T11:54:08.126Z"
   },
   {
    "duration": 3007,
    "start_time": "2023-03-01T11:54:16.901Z"
   },
   {
    "duration": 1099,
    "start_time": "2023-03-01T12:03:09.613Z"
   },
   {
    "duration": 65,
    "start_time": "2023-03-01T12:03:10.714Z"
   },
   {
    "duration": 23,
    "start_time": "2023-03-01T12:03:10.780Z"
   },
   {
    "duration": 7,
    "start_time": "2023-03-01T12:03:10.805Z"
   },
   {
    "duration": 43,
    "start_time": "2023-03-01T12:03:10.814Z"
   },
   {
    "duration": 31,
    "start_time": "2023-03-01T12:03:10.860Z"
   },
   {
    "duration": 6,
    "start_time": "2023-03-01T12:03:10.893Z"
   },
   {
    "duration": 15,
    "start_time": "2023-03-01T12:03:10.901Z"
   },
   {
    "duration": 13,
    "start_time": "2023-03-01T12:03:10.918Z"
   },
   {
    "duration": 11,
    "start_time": "2023-03-01T12:03:10.934Z"
   },
   {
    "duration": 2916,
    "start_time": "2023-03-01T12:03:10.947Z"
   },
   {
    "duration": 1962,
    "start_time": "2023-03-01T12:03:13.866Z"
   },
   {
    "duration": 16,
    "start_time": "2023-03-01T12:05:51.523Z"
   },
   {
    "duration": 1366,
    "start_time": "2023-03-01T12:06:49.620Z"
   },
   {
    "duration": 67,
    "start_time": "2023-03-01T12:06:50.988Z"
   },
   {
    "duration": 26,
    "start_time": "2023-03-01T12:06:51.057Z"
   },
   {
    "duration": 4,
    "start_time": "2023-03-01T12:06:51.085Z"
   },
   {
    "duration": 30,
    "start_time": "2023-03-01T12:06:51.091Z"
   },
   {
    "duration": 39,
    "start_time": "2023-03-01T12:06:51.124Z"
   },
   {
    "duration": 6,
    "start_time": "2023-03-01T12:06:51.165Z"
   },
   {
    "duration": 20,
    "start_time": "2023-03-01T12:06:51.173Z"
   },
   {
    "duration": 13,
    "start_time": "2023-03-01T12:06:51.195Z"
   },
   {
    "duration": 14,
    "start_time": "2023-03-01T12:06:51.211Z"
   },
   {
    "duration": 273,
    "start_time": "2023-03-01T12:06:51.228Z"
   },
   {
    "duration": 154,
    "start_time": "2023-03-01T12:06:51.503Z"
   },
   {
    "duration": 37,
    "start_time": "2023-03-01T12:06:51.659Z"
   },
   {
    "duration": 1144,
    "start_time": "2023-03-01T12:13:59.487Z"
   },
   {
    "duration": 64,
    "start_time": "2023-03-01T12:14:00.633Z"
   },
   {
    "duration": 20,
    "start_time": "2023-03-01T12:14:00.699Z"
   },
   {
    "duration": 14,
    "start_time": "2023-03-01T12:14:00.722Z"
   },
   {
    "duration": 46,
    "start_time": "2023-03-01T12:14:00.738Z"
   },
   {
    "duration": 33,
    "start_time": "2023-03-01T12:14:00.786Z"
   },
   {
    "duration": 27,
    "start_time": "2023-03-01T12:14:00.821Z"
   },
   {
    "duration": 50,
    "start_time": "2023-03-01T12:14:00.850Z"
   },
   {
    "duration": 40,
    "start_time": "2023-03-01T12:14:00.902Z"
   },
   {
    "duration": 71,
    "start_time": "2023-03-01T12:14:00.945Z"
   },
   {
    "duration": 188,
    "start_time": "2023-03-01T12:14:01.018Z"
   },
   {
    "duration": 134,
    "start_time": "2023-03-01T12:14:01.207Z"
   },
   {
    "duration": 153,
    "start_time": "2023-03-01T12:14:01.343Z"
   },
   {
    "duration": 0,
    "start_time": "2023-03-01T12:14:01.498Z"
   },
   {
    "duration": 0,
    "start_time": "2023-03-01T12:14:01.499Z"
   },
   {
    "duration": 1174,
    "start_time": "2023-03-01T12:14:26.282Z"
   },
   {
    "duration": 63,
    "start_time": "2023-03-01T12:14:27.458Z"
   },
   {
    "duration": 22,
    "start_time": "2023-03-01T12:14:27.523Z"
   },
   {
    "duration": 4,
    "start_time": "2023-03-01T12:14:27.547Z"
   },
   {
    "duration": 24,
    "start_time": "2023-03-01T12:14:27.554Z"
   },
   {
    "duration": 22,
    "start_time": "2023-03-01T12:14:27.579Z"
   },
   {
    "duration": 7,
    "start_time": "2023-03-01T12:14:27.602Z"
   },
   {
    "duration": 11,
    "start_time": "2023-03-01T12:14:27.611Z"
   },
   {
    "duration": 13,
    "start_time": "2023-03-01T12:14:27.623Z"
   },
   {
    "duration": 49,
    "start_time": "2023-03-01T12:14:27.638Z"
   },
   {
    "duration": 185,
    "start_time": "2023-03-01T12:14:27.688Z"
   },
   {
    "duration": 139,
    "start_time": "2023-03-01T12:14:27.875Z"
   },
   {
    "duration": 12,
    "start_time": "2023-03-01T12:14:28.016Z"
   },
   {
    "duration": 14,
    "start_time": "2023-03-01T12:14:28.031Z"
   },
   {
    "duration": 294,
    "start_time": "2023-03-01T12:14:28.046Z"
   },
   {
    "duration": 172,
    "start_time": "2023-03-01T12:14:52.799Z"
   },
   {
    "duration": 177,
    "start_time": "2023-03-01T12:18:34.923Z"
   },
   {
    "duration": 172,
    "start_time": "2023-03-01T12:19:46.940Z"
   },
   {
    "duration": 206,
    "start_time": "2023-03-01T12:21:37.288Z"
   },
   {
    "duration": 203,
    "start_time": "2023-03-01T12:21:43.926Z"
   },
   {
    "duration": 196,
    "start_time": "2023-03-01T12:21:49.590Z"
   },
   {
    "duration": 237,
    "start_time": "2023-03-01T12:22:38.778Z"
   },
   {
    "duration": 74,
    "start_time": "2023-03-01T12:28:23.221Z"
   },
   {
    "duration": 167,
    "start_time": "2023-03-01T12:34:35.097Z"
   },
   {
    "duration": 217,
    "start_time": "2023-03-01T12:35:13.869Z"
   },
   {
    "duration": 111,
    "start_time": "2023-03-01T12:56:53.045Z"
   },
   {
    "duration": 1178,
    "start_time": "2023-03-01T12:57:42.684Z"
   },
   {
    "duration": 1103,
    "start_time": "2023-03-01T12:59:01.021Z"
   },
   {
    "duration": 14,
    "start_time": "2023-03-01T13:01:22.208Z"
   },
   {
    "duration": 93,
    "start_time": "2023-03-01T13:07:30.940Z"
   },
   {
    "duration": 20,
    "start_time": "2023-03-01T13:07:39.022Z"
   },
   {
    "duration": 92,
    "start_time": "2023-03-01T13:09:48.573Z"
   },
   {
    "duration": 316,
    "start_time": "2023-03-01T13:10:00.544Z"
   },
   {
    "duration": 274,
    "start_time": "2023-03-01T13:10:29.721Z"
   },
   {
    "duration": 324,
    "start_time": "2023-03-01T13:10:37.282Z"
   },
   {
    "duration": 3,
    "start_time": "2023-03-01T13:20:23.790Z"
   },
   {
    "duration": 13,
    "start_time": "2023-03-01T13:23:06.618Z"
   },
   {
    "duration": 12,
    "start_time": "2023-03-01T13:24:13.675Z"
   },
   {
    "duration": 18,
    "start_time": "2023-03-01T13:25:37.384Z"
   },
   {
    "duration": 8,
    "start_time": "2023-03-01T13:26:35.952Z"
   },
   {
    "duration": 12,
    "start_time": "2023-03-01T13:26:54.494Z"
   },
   {
    "duration": 7,
    "start_time": "2023-03-01T13:28:03.124Z"
   },
   {
    "duration": 16,
    "start_time": "2023-03-01T13:28:08.924Z"
   },
   {
    "duration": 18,
    "start_time": "2023-03-01T13:29:02.454Z"
   },
   {
    "duration": 13,
    "start_time": "2023-03-01T13:29:26.022Z"
   },
   {
    "duration": 206,
    "start_time": "2023-03-01T13:31:50.098Z"
   },
   {
    "duration": 76,
    "start_time": "2023-03-01T13:44:10.209Z"
   },
   {
    "duration": 139,
    "start_time": "2023-03-01T13:47:48.495Z"
   },
   {
    "duration": 8,
    "start_time": "2023-03-01T13:49:20.375Z"
   },
   {
    "duration": 20,
    "start_time": "2023-03-01T13:49:25.741Z"
   },
   {
    "duration": 335,
    "start_time": "2023-03-01T13:50:42.351Z"
   },
   {
    "duration": 14,
    "start_time": "2023-03-01T14:17:31.764Z"
   },
   {
    "duration": 7,
    "start_time": "2023-03-01T14:18:23.466Z"
   },
   {
    "duration": 5,
    "start_time": "2023-03-01T14:18:29.072Z"
   },
   {
    "duration": 6,
    "start_time": "2023-03-01T14:18:41.149Z"
   },
   {
    "duration": 9,
    "start_time": "2023-03-01T14:18:43.057Z"
   },
   {
    "duration": 134,
    "start_time": "2023-03-01T14:20:45.979Z"
   },
   {
    "duration": 154,
    "start_time": "2023-03-01T14:20:57.472Z"
   },
   {
    "duration": 69,
    "start_time": "2023-03-01T14:24:42.712Z"
   },
   {
    "duration": 6,
    "start_time": "2023-03-01T14:26:46.098Z"
   },
   {
    "duration": 84,
    "start_time": "2023-03-01T14:30:59.036Z"
   },
   {
    "duration": 3,
    "start_time": "2023-03-01T14:31:34.400Z"
   },
   {
    "duration": 1361,
    "start_time": "2023-03-01T14:32:48.949Z"
   },
   {
    "duration": 232,
    "start_time": "2023-03-01T14:33:02.835Z"
   },
   {
    "duration": 2479,
    "start_time": "2023-03-01T14:35:15.528Z"
   },
   {
    "duration": 5,
    "start_time": "2023-03-01T14:35:35.171Z"
   },
   {
    "duration": 7,
    "start_time": "2023-03-01T14:35:48.040Z"
   },
   {
    "duration": 9,
    "start_time": "2023-03-01T14:35:54.110Z"
   },
   {
    "duration": 5,
    "start_time": "2023-03-01T14:38:37.476Z"
   },
   {
    "duration": 112,
    "start_time": "2023-03-01T15:14:16.445Z"
   },
   {
    "duration": 113,
    "start_time": "2023-03-01T15:15:11.390Z"
   },
   {
    "duration": 256,
    "start_time": "2023-03-01T15:19:06.920Z"
   },
   {
    "duration": 240,
    "start_time": "2023-03-01T15:23:03.157Z"
   },
   {
    "duration": 13,
    "start_time": "2023-03-01T15:25:31.556Z"
   },
   {
    "duration": 23,
    "start_time": "2023-03-01T15:40:47.892Z"
   },
   {
    "duration": 528,
    "start_time": "2023-03-01T15:40:54.508Z"
   },
   {
    "duration": 540,
    "start_time": "2023-03-01T15:42:34.403Z"
   },
   {
    "duration": 671,
    "start_time": "2023-03-01T15:46:12.085Z"
   },
   {
    "duration": 512,
    "start_time": "2023-03-01T15:51:41.361Z"
   },
   {
    "duration": 628,
    "start_time": "2023-03-01T15:56:18.117Z"
   },
   {
    "duration": 538,
    "start_time": "2023-03-01T16:00:46.085Z"
   },
   {
    "duration": 662,
    "start_time": "2023-03-01T16:02:34.583Z"
   },
   {
    "duration": 619,
    "start_time": "2023-03-01T16:02:47.224Z"
   },
   {
    "duration": 660,
    "start_time": "2023-03-01T16:03:52.714Z"
   },
   {
    "duration": 388,
    "start_time": "2023-03-01T16:05:02.149Z"
   },
   {
    "duration": 138,
    "start_time": "2023-03-01T16:05:47.643Z"
   },
   {
    "duration": 121,
    "start_time": "2023-03-01T16:06:15.520Z"
   },
   {
    "duration": 654,
    "start_time": "2023-03-01T16:06:26.885Z"
   },
   {
    "duration": 513,
    "start_time": "2023-03-01T16:07:14.724Z"
   },
   {
    "duration": 669,
    "start_time": "2023-03-01T16:07:35.884Z"
   },
   {
    "duration": 601,
    "start_time": "2023-03-01T16:07:43.226Z"
   },
   {
    "duration": 591,
    "start_time": "2023-03-01T16:08:15.032Z"
   },
   {
    "duration": 546,
    "start_time": "2023-03-01T16:10:01.671Z"
   },
   {
    "duration": 557,
    "start_time": "2023-03-01T16:12:45.481Z"
   },
   {
    "duration": 15,
    "start_time": "2023-03-01T16:15:29.011Z"
   },
   {
    "duration": 24,
    "start_time": "2023-03-01T16:17:10.575Z"
   },
   {
    "duration": 14,
    "start_time": "2023-03-01T16:19:46.837Z"
   },
   {
    "duration": 2,
    "start_time": "2023-03-01T16:22:46.421Z"
   },
   {
    "duration": 3,
    "start_time": "2023-03-01T16:22:48.564Z"
   },
   {
    "duration": 121,
    "start_time": "2023-03-01T16:33:24.638Z"
   },
   {
    "duration": 1786,
    "start_time": "2023-03-01T16:33:39.711Z"
   },
   {
    "duration": 1928,
    "start_time": "2023-03-01T16:34:36.037Z"
   },
   {
    "duration": 4395,
    "start_time": "2023-03-01T16:35:10.039Z"
   },
   {
    "duration": 15,
    "start_time": "2023-03-01T16:35:33.544Z"
   },
   {
    "duration": 69,
    "start_time": "2023-03-01T16:37:16.978Z"
   },
   {
    "duration": 30,
    "start_time": "2023-03-01T16:43:56.694Z"
   },
   {
    "duration": 9,
    "start_time": "2023-03-01T16:46:06.412Z"
   },
   {
    "duration": 1659,
    "start_time": "2023-03-01T16:46:54.425Z"
   },
   {
    "duration": 18,
    "start_time": "2023-03-01T16:47:07.543Z"
   },
   {
    "duration": 21,
    "start_time": "2023-03-01T16:47:29.932Z"
   },
   {
    "duration": 29,
    "start_time": "2023-03-01T16:47:46.618Z"
   },
   {
    "duration": 27,
    "start_time": "2023-03-01T16:47:54.147Z"
   },
   {
    "duration": 788,
    "start_time": "2023-03-01T16:53:39.180Z"
   },
   {
    "duration": 1163,
    "start_time": "2023-03-02T14:34:24.407Z"
   },
   {
    "duration": 78,
    "start_time": "2023-03-02T14:34:25.572Z"
   },
   {
    "duration": 20,
    "start_time": "2023-03-02T14:34:25.652Z"
   },
   {
    "duration": 3,
    "start_time": "2023-03-02T14:34:25.675Z"
   },
   {
    "duration": 21,
    "start_time": "2023-03-02T14:34:25.680Z"
   },
   {
    "duration": 17,
    "start_time": "2023-03-02T14:34:25.703Z"
   },
   {
    "duration": 7,
    "start_time": "2023-03-02T14:34:25.745Z"
   },
   {
    "duration": 11,
    "start_time": "2023-03-02T14:34:25.753Z"
   },
   {
    "duration": 13,
    "start_time": "2023-03-02T14:34:25.766Z"
   },
   {
    "duration": 11,
    "start_time": "2023-03-02T14:34:25.781Z"
   },
   {
    "duration": 197,
    "start_time": "2023-03-02T14:34:25.793Z"
   },
   {
    "duration": 136,
    "start_time": "2023-03-02T14:34:25.992Z"
   },
   {
    "duration": 25,
    "start_time": "2023-03-02T14:34:26.130Z"
   },
   {
    "duration": 6,
    "start_time": "2023-03-02T14:34:26.157Z"
   },
   {
    "duration": 280,
    "start_time": "2023-03-02T14:34:26.165Z"
   },
   {
    "duration": 205,
    "start_time": "2023-03-02T14:34:26.446Z"
   },
   {
    "duration": 334,
    "start_time": "2023-03-02T14:34:26.652Z"
   },
   {
    "duration": 226,
    "start_time": "2023-03-02T14:34:26.988Z"
   },
   {
    "duration": 384,
    "start_time": "2023-03-02T14:34:27.216Z"
   },
   {
    "duration": 132,
    "start_time": "2023-03-02T14:34:27.602Z"
   },
   {
    "duration": 12,
    "start_time": "2023-03-02T14:34:27.736Z"
   },
   {
    "duration": 149,
    "start_time": "2023-03-02T14:34:27.750Z"
   },
   {
    "duration": 6,
    "start_time": "2023-03-02T14:34:27.901Z"
   },
   {
    "duration": 318,
    "start_time": "2023-03-02T14:34:27.909Z"
   },
   {
    "duration": 297,
    "start_time": "2023-03-02T14:34:28.228Z"
   },
   {
    "duration": 18,
    "start_time": "2023-03-02T14:34:28.527Z"
   },
   {
    "duration": 118,
    "start_time": "2023-03-02T14:34:28.546Z"
   },
   {
    "duration": 0,
    "start_time": "2023-03-02T14:34:28.666Z"
   },
   {
    "duration": 0,
    "start_time": "2023-03-02T14:34:28.667Z"
   },
   {
    "duration": 0,
    "start_time": "2023-03-02T14:34:28.669Z"
   },
   {
    "duration": 0,
    "start_time": "2023-03-02T14:34:28.670Z"
   },
   {
    "duration": 1405,
    "start_time": "2023-03-02T16:08:19.228Z"
   },
   {
    "duration": 236,
    "start_time": "2023-03-02T16:08:20.635Z"
   },
   {
    "duration": 28,
    "start_time": "2023-03-02T16:08:20.873Z"
   },
   {
    "duration": 4,
    "start_time": "2023-03-02T16:08:20.903Z"
   },
   {
    "duration": 27,
    "start_time": "2023-03-02T16:08:20.910Z"
   },
   {
    "duration": 20,
    "start_time": "2023-03-02T16:08:20.940Z"
   },
   {
    "duration": 6,
    "start_time": "2023-03-02T16:08:20.961Z"
   },
   {
    "duration": 12,
    "start_time": "2023-03-02T16:08:20.969Z"
   },
   {
    "duration": 35,
    "start_time": "2023-03-02T16:08:20.983Z"
   },
   {
    "duration": 13,
    "start_time": "2023-03-02T16:08:21.020Z"
   },
   {
    "duration": 199,
    "start_time": "2023-03-02T16:08:21.034Z"
   },
   {
    "duration": 139,
    "start_time": "2023-03-02T16:08:21.235Z"
   },
   {
    "duration": 14,
    "start_time": "2023-03-02T16:08:21.376Z"
   },
   {
    "duration": 25,
    "start_time": "2023-03-02T16:08:21.393Z"
   },
   {
    "duration": 318,
    "start_time": "2023-03-02T16:08:21.420Z"
   },
   {
    "duration": 200,
    "start_time": "2023-03-02T16:08:21.741Z"
   },
   {
    "duration": 349,
    "start_time": "2023-03-02T16:08:21.943Z"
   },
   {
    "duration": 246,
    "start_time": "2023-03-02T16:08:22.294Z"
   },
   {
    "duration": 310,
    "start_time": "2023-03-02T16:08:22.542Z"
   },
   {
    "duration": 128,
    "start_time": "2023-03-02T16:08:22.854Z"
   },
   {
    "duration": 6,
    "start_time": "2023-03-02T16:08:22.984Z"
   },
   {
    "duration": 149,
    "start_time": "2023-03-02T16:08:22.992Z"
   },
   {
    "duration": 4,
    "start_time": "2023-03-02T16:08:23.143Z"
   },
   {
    "duration": 320,
    "start_time": "2023-03-02T16:08:23.149Z"
   },
   {
    "duration": 314,
    "start_time": "2023-03-02T16:08:23.471Z"
   },
   {
    "duration": 11,
    "start_time": "2023-03-02T16:08:23.787Z"
   },
   {
    "duration": 113,
    "start_time": "2023-03-02T16:08:23.811Z"
   },
   {
    "duration": 0,
    "start_time": "2023-03-02T16:08:23.925Z"
   },
   {
    "duration": 0,
    "start_time": "2023-03-02T16:08:23.927Z"
   },
   {
    "duration": 0,
    "start_time": "2023-03-02T16:08:23.928Z"
   },
   {
    "duration": 285,
    "start_time": "2023-03-02T16:10:49.670Z"
   },
   {
    "duration": 81,
    "start_time": "2023-03-02T16:11:18.576Z"
   },
   {
    "duration": 78,
    "start_time": "2023-03-02T16:11:53.677Z"
   },
   {
    "duration": 9,
    "start_time": "2023-03-02T16:12:17.986Z"
   },
   {
    "duration": 1242,
    "start_time": "2023-03-02T16:25:59.495Z"
   },
   {
    "duration": 86,
    "start_time": "2023-03-02T16:26:00.739Z"
   },
   {
    "duration": 23,
    "start_time": "2023-03-02T16:26:00.827Z"
   },
   {
    "duration": 4,
    "start_time": "2023-03-02T16:26:00.853Z"
   },
   {
    "duration": 28,
    "start_time": "2023-03-02T16:26:00.859Z"
   },
   {
    "duration": 41,
    "start_time": "2023-03-02T16:26:00.889Z"
   },
   {
    "duration": 28,
    "start_time": "2023-03-02T16:26:00.932Z"
   },
   {
    "duration": 42,
    "start_time": "2023-03-02T16:26:00.962Z"
   },
   {
    "duration": 31,
    "start_time": "2023-03-02T16:26:01.006Z"
   },
   {
    "duration": 39,
    "start_time": "2023-03-02T16:26:01.039Z"
   },
   {
    "duration": 198,
    "start_time": "2023-03-02T16:26:01.080Z"
   },
   {
    "duration": 150,
    "start_time": "2023-03-02T16:26:01.280Z"
   },
   {
    "duration": 14,
    "start_time": "2023-03-02T16:26:01.431Z"
   },
   {
    "duration": 40,
    "start_time": "2023-03-02T16:26:01.448Z"
   },
   {
    "duration": 319,
    "start_time": "2023-03-02T16:26:01.489Z"
   },
   {
    "duration": 216,
    "start_time": "2023-03-02T16:26:01.815Z"
   },
   {
    "duration": 327,
    "start_time": "2023-03-02T16:26:02.032Z"
   },
   {
    "duration": 241,
    "start_time": "2023-03-02T16:26:02.360Z"
   },
   {
    "duration": 355,
    "start_time": "2023-03-02T16:26:02.603Z"
   },
   {
    "duration": 125,
    "start_time": "2023-03-02T16:26:02.960Z"
   },
   {
    "duration": 6,
    "start_time": "2023-03-02T16:26:03.086Z"
   },
   {
    "duration": 146,
    "start_time": "2023-03-02T16:26:03.093Z"
   },
   {
    "duration": 5,
    "start_time": "2023-03-02T16:26:03.241Z"
   },
   {
    "duration": 315,
    "start_time": "2023-03-02T16:26:03.248Z"
   },
   {
    "duration": 295,
    "start_time": "2023-03-02T16:26:03.564Z"
   },
   {
    "duration": 13,
    "start_time": "2023-03-02T16:26:03.861Z"
   },
   {
    "duration": 9,
    "start_time": "2023-03-02T16:26:03.876Z"
   },
   {
    "duration": 124,
    "start_time": "2023-03-02T16:26:03.917Z"
   },
   {
    "duration": 0,
    "start_time": "2023-03-02T16:26:04.042Z"
   },
   {
    "duration": 0,
    "start_time": "2023-03-02T16:26:04.043Z"
   },
   {
    "duration": 108,
    "start_time": "2023-03-03T11:15:06.192Z"
   },
   {
    "duration": 57,
    "start_time": "2023-03-03T11:17:20.336Z"
   },
   {
    "duration": 1640,
    "start_time": "2023-03-03T11:17:33.852Z"
   },
   {
    "duration": 217,
    "start_time": "2023-03-03T11:17:35.495Z"
   },
   {
    "duration": 41,
    "start_time": "2023-03-03T11:17:35.714Z"
   },
   {
    "duration": 10,
    "start_time": "2023-03-03T11:17:35.758Z"
   },
   {
    "duration": 24,
    "start_time": "2023-03-03T11:17:35.770Z"
   },
   {
    "duration": 30,
    "start_time": "2023-03-03T11:17:35.797Z"
   },
   {
    "duration": 30,
    "start_time": "2023-03-03T11:17:35.830Z"
   },
   {
    "duration": 11,
    "start_time": "2023-03-03T11:17:35.862Z"
   },
   {
    "duration": 21,
    "start_time": "2023-03-03T11:17:35.875Z"
   },
   {
    "duration": 13,
    "start_time": "2023-03-03T11:17:35.899Z"
   },
   {
    "duration": 236,
    "start_time": "2023-03-03T11:17:35.914Z"
   },
   {
    "duration": 142,
    "start_time": "2023-03-03T11:17:36.154Z"
   },
   {
    "duration": 16,
    "start_time": "2023-03-03T11:17:36.298Z"
   },
   {
    "duration": 54,
    "start_time": "2023-03-03T11:17:36.316Z"
   },
   {
    "duration": 334,
    "start_time": "2023-03-03T11:17:36.372Z"
   },
   {
    "duration": 240,
    "start_time": "2023-03-03T11:17:36.708Z"
   },
   {
    "duration": 417,
    "start_time": "2023-03-03T11:17:36.954Z"
   },
   {
    "duration": 257,
    "start_time": "2023-03-03T11:17:37.374Z"
   },
   {
    "duration": 338,
    "start_time": "2023-03-03T11:17:37.632Z"
   },
   {
    "duration": 142,
    "start_time": "2023-03-03T11:17:37.972Z"
   },
   {
    "duration": 12,
    "start_time": "2023-03-03T11:17:38.121Z"
   },
   {
    "duration": 163,
    "start_time": "2023-03-03T11:17:38.136Z"
   },
   {
    "duration": 9,
    "start_time": "2023-03-03T11:17:38.301Z"
   },
   {
    "duration": 382,
    "start_time": "2023-03-03T11:17:38.312Z"
   },
   {
    "duration": 360,
    "start_time": "2023-03-03T11:17:38.697Z"
   },
   {
    "duration": 13,
    "start_time": "2023-03-03T11:17:39.059Z"
   },
   {
    "duration": 8,
    "start_time": "2023-03-03T11:17:39.074Z"
   },
   {
    "duration": 153,
    "start_time": "2023-03-03T11:17:39.086Z"
   },
   {
    "duration": 0,
    "start_time": "2023-03-03T11:17:39.240Z"
   },
   {
    "duration": 0,
    "start_time": "2023-03-03T11:17:39.241Z"
   },
   {
    "duration": 11,
    "start_time": "2023-03-03T11:18:16.295Z"
   },
   {
    "duration": 45,
    "start_time": "2023-03-03T11:18:49.155Z"
   },
   {
    "duration": 85,
    "start_time": "2023-03-03T11:21:01.500Z"
   },
   {
    "duration": 334,
    "start_time": "2023-03-03T11:25:18.194Z"
   },
   {
    "duration": 235,
    "start_time": "2023-03-03T11:27:12.364Z"
   },
   {
    "duration": 97,
    "start_time": "2023-03-03T11:29:58.995Z"
   },
   {
    "duration": 148,
    "start_time": "2023-03-03T11:33:14.130Z"
   },
   {
    "duration": 67,
    "start_time": "2023-03-03T11:33:58.625Z"
   },
   {
    "duration": 16,
    "start_time": "2023-03-03T11:37:04.614Z"
   },
   {
    "duration": 6,
    "start_time": "2023-03-03T11:39:05.476Z"
   },
   {
    "duration": 7,
    "start_time": "2023-03-03T11:39:33.068Z"
   },
   {
    "duration": 14,
    "start_time": "2023-03-03T11:41:37.952Z"
   },
   {
    "duration": 24,
    "start_time": "2023-03-03T11:41:59.636Z"
   },
   {
    "duration": 11,
    "start_time": "2023-03-03T11:42:17.959Z"
   },
   {
    "duration": 17,
    "start_time": "2023-03-03T11:57:19.784Z"
   },
   {
    "duration": 9,
    "start_time": "2023-03-03T11:57:56.166Z"
   },
   {
    "duration": 11,
    "start_time": "2023-03-03T11:58:34.891Z"
   },
   {
    "duration": 21,
    "start_time": "2023-03-03T12:03:48.152Z"
   },
   {
    "duration": 73,
    "start_time": "2023-03-03T12:04:42.112Z"
   },
   {
    "duration": 55,
    "start_time": "2023-03-03T12:05:10.700Z"
   },
   {
    "duration": 7,
    "start_time": "2023-03-03T12:05:28.598Z"
   },
   {
    "duration": 15,
    "start_time": "2023-03-03T12:05:35.370Z"
   },
   {
    "duration": 12,
    "start_time": "2023-03-03T12:06:15.662Z"
   },
   {
    "duration": 11,
    "start_time": "2023-03-03T12:06:24.277Z"
   },
   {
    "duration": 9,
    "start_time": "2023-03-03T12:13:16.274Z"
   },
   {
    "duration": 5,
    "start_time": "2023-03-03T12:13:22.790Z"
   },
   {
    "duration": 59,
    "start_time": "2023-03-03T12:22:13.309Z"
   },
   {
    "duration": 7,
    "start_time": "2023-03-03T12:24:01.841Z"
   },
   {
    "duration": 17,
    "start_time": "2023-03-03T12:24:29.488Z"
   },
   {
    "duration": 10,
    "start_time": "2023-03-03T12:25:52.849Z"
   },
   {
    "duration": 10,
    "start_time": "2023-03-03T12:25:59.054Z"
   },
   {
    "duration": 17,
    "start_time": "2023-03-03T12:26:04.365Z"
   },
   {
    "duration": 20,
    "start_time": "2023-03-03T12:26:23.417Z"
   },
   {
    "duration": 12,
    "start_time": "2023-03-03T12:26:32.796Z"
   },
   {
    "duration": 11,
    "start_time": "2023-03-03T12:27:22.851Z"
   },
   {
    "duration": 67,
    "start_time": "2023-03-03T12:28:13.387Z"
   },
   {
    "duration": 16,
    "start_time": "2023-03-03T12:35:30.503Z"
   },
   {
    "duration": 5,
    "start_time": "2023-03-03T12:35:57.006Z"
   },
   {
    "duration": 17,
    "start_time": "2023-03-03T12:36:38.216Z"
   },
   {
    "duration": 5,
    "start_time": "2023-03-03T12:37:48.659Z"
   },
   {
    "duration": 5,
    "start_time": "2023-03-03T12:38:06.423Z"
   },
   {
    "duration": 5,
    "start_time": "2023-03-03T12:38:35.479Z"
   },
   {
    "duration": 126,
    "start_time": "2023-03-03T12:39:45.944Z"
   },
   {
    "duration": 6,
    "start_time": "2023-03-03T12:40:36.291Z"
   },
   {
    "duration": 6,
    "start_time": "2023-03-03T12:41:32.660Z"
   },
   {
    "duration": 27,
    "start_time": "2023-03-03T12:47:02.276Z"
   },
   {
    "duration": 22,
    "start_time": "2023-03-03T12:47:22.147Z"
   },
   {
    "duration": 15,
    "start_time": "2023-03-03T12:47:28.248Z"
   },
   {
    "duration": 6,
    "start_time": "2023-03-03T12:49:09.577Z"
   },
   {
    "duration": 8,
    "start_time": "2023-03-03T12:49:20.256Z"
   },
   {
    "duration": 9,
    "start_time": "2023-03-03T12:49:55.762Z"
   },
   {
    "duration": 7,
    "start_time": "2023-03-03T12:50:26.011Z"
   },
   {
    "duration": 14,
    "start_time": "2023-03-03T12:50:45.169Z"
   },
   {
    "duration": 6,
    "start_time": "2023-03-03T12:51:00.095Z"
   },
   {
    "duration": 71,
    "start_time": "2023-03-03T12:51:06.270Z"
   },
   {
    "duration": 47,
    "start_time": "2023-03-03T12:51:16.157Z"
   },
   {
    "duration": 8,
    "start_time": "2023-03-03T12:51:21.658Z"
   },
   {
    "duration": 7,
    "start_time": "2023-03-03T12:51:48.793Z"
   },
   {
    "duration": 9,
    "start_time": "2023-03-03T12:52:02.064Z"
   },
   {
    "duration": 59,
    "start_time": "2023-03-03T12:52:26.545Z"
   },
   {
    "duration": 115,
    "start_time": "2023-03-03T12:59:42.857Z"
   },
   {
    "duration": 1548,
    "start_time": "2023-03-04T11:49:53.953Z"
   },
   {
    "duration": 258,
    "start_time": "2023-03-04T11:49:55.503Z"
   },
   {
    "duration": 22,
    "start_time": "2023-03-04T11:49:55.763Z"
   },
   {
    "duration": 3,
    "start_time": "2023-03-04T11:49:55.788Z"
   },
   {
    "duration": 23,
    "start_time": "2023-03-04T11:49:55.793Z"
   },
   {
    "duration": 37,
    "start_time": "2023-03-04T11:49:55.817Z"
   },
   {
    "duration": 7,
    "start_time": "2023-03-04T11:49:55.855Z"
   },
   {
    "duration": 12,
    "start_time": "2023-03-04T11:49:55.864Z"
   },
   {
    "duration": 21,
    "start_time": "2023-03-04T11:49:55.878Z"
   },
   {
    "duration": 12,
    "start_time": "2023-03-04T11:49:55.900Z"
   },
   {
    "duration": 254,
    "start_time": "2023-03-04T11:49:55.914Z"
   },
   {
    "duration": 177,
    "start_time": "2023-03-04T11:49:56.170Z"
   },
   {
    "duration": 20,
    "start_time": "2023-03-04T11:49:56.350Z"
   },
   {
    "duration": 7,
    "start_time": "2023-03-04T11:49:56.372Z"
   },
   {
    "duration": 358,
    "start_time": "2023-03-04T11:49:56.381Z"
   },
   {
    "duration": 234,
    "start_time": "2023-03-04T11:49:56.744Z"
   },
   {
    "duration": 389,
    "start_time": "2023-03-04T11:49:56.981Z"
   },
   {
    "duration": 280,
    "start_time": "2023-03-04T11:49:57.371Z"
   },
   {
    "duration": 341,
    "start_time": "2023-03-04T11:49:57.654Z"
   },
   {
    "duration": 161,
    "start_time": "2023-03-04T11:49:57.996Z"
   },
   {
    "duration": 5,
    "start_time": "2023-03-04T11:49:58.159Z"
   },
   {
    "duration": 194,
    "start_time": "2023-03-04T11:49:58.166Z"
   },
   {
    "duration": 269,
    "start_time": "2023-03-04T11:49:58.362Z"
   },
   {
    "duration": 9,
    "start_time": "2023-03-04T11:49:58.636Z"
   },
   {
    "duration": 266,
    "start_time": "2023-03-04T11:49:58.646Z"
   },
   {
    "duration": 358,
    "start_time": "2023-03-04T11:49:58.914Z"
   },
   {
    "duration": 14,
    "start_time": "2023-03-04T11:49:59.273Z"
   },
   {
    "duration": 10,
    "start_time": "2023-03-04T11:49:59.289Z"
   },
   {
    "duration": 33,
    "start_time": "2023-03-04T11:49:59.301Z"
   },
   {
    "duration": 16,
    "start_time": "2023-03-04T11:49:59.342Z"
   },
   {
    "duration": 26,
    "start_time": "2023-03-04T11:49:59.360Z"
   },
   {
    "duration": 17,
    "start_time": "2023-03-04T11:49:59.388Z"
   },
   {
    "duration": 414,
    "start_time": "2023-03-04T11:52:27.996Z"
   },
   {
    "duration": 393,
    "start_time": "2023-03-04T11:54:12.711Z"
   },
   {
    "duration": 60,
    "start_time": "2023-03-04T11:55:26.510Z"
   },
   {
    "duration": 78,
    "start_time": "2023-03-04T12:01:25.314Z"
   },
   {
    "duration": 48,
    "start_time": "2023-03-04T12:05:28.897Z"
   },
   {
    "duration": 1260,
    "start_time": "2023-03-05T09:53:40.537Z"
   },
   {
    "duration": 77,
    "start_time": "2023-03-05T09:53:41.799Z"
   },
   {
    "duration": 21,
    "start_time": "2023-03-05T09:53:41.878Z"
   },
   {
    "duration": 4,
    "start_time": "2023-03-05T09:53:41.901Z"
   },
   {
    "duration": 22,
    "start_time": "2023-03-05T09:53:41.906Z"
   },
   {
    "duration": 20,
    "start_time": "2023-03-05T09:53:41.930Z"
   },
   {
    "duration": 9,
    "start_time": "2023-03-05T09:53:41.953Z"
   },
   {
    "duration": 12,
    "start_time": "2023-03-05T09:53:41.964Z"
   },
   {
    "duration": 28,
    "start_time": "2023-03-05T09:53:41.978Z"
   },
   {
    "duration": 11,
    "start_time": "2023-03-05T09:53:42.009Z"
   },
   {
    "duration": 209,
    "start_time": "2023-03-05T09:53:42.022Z"
   },
   {
    "duration": 152,
    "start_time": "2023-03-05T09:53:42.233Z"
   },
   {
    "duration": 12,
    "start_time": "2023-03-05T09:53:42.387Z"
   },
   {
    "duration": 9,
    "start_time": "2023-03-05T09:53:42.401Z"
   },
   {
    "duration": 328,
    "start_time": "2023-03-05T09:53:42.411Z"
   },
   {
    "duration": 255,
    "start_time": "2023-03-05T09:53:42.741Z"
   },
   {
    "duration": 386,
    "start_time": "2023-03-05T09:53:42.998Z"
   },
   {
    "duration": 284,
    "start_time": "2023-03-05T09:53:43.386Z"
   },
   {
    "duration": 362,
    "start_time": "2023-03-05T09:53:43.672Z"
   },
   {
    "duration": 174,
    "start_time": "2023-03-05T09:53:44.036Z"
   },
   {
    "duration": 6,
    "start_time": "2023-03-05T09:53:44.212Z"
   },
   {
    "duration": 189,
    "start_time": "2023-03-05T09:53:44.220Z"
   },
   {
    "duration": 279,
    "start_time": "2023-03-05T09:53:44.411Z"
   },
   {
    "duration": 5,
    "start_time": "2023-03-05T09:53:44.692Z"
   },
   {
    "duration": 402,
    "start_time": "2023-03-05T09:53:44.699Z"
   },
   {
    "duration": 345,
    "start_time": "2023-03-05T09:53:45.103Z"
   },
   {
    "duration": 19,
    "start_time": "2023-03-05T09:53:45.450Z"
   },
   {
    "duration": 9,
    "start_time": "2023-03-05T09:53:45.472Z"
   },
   {
    "duration": 12,
    "start_time": "2023-03-05T09:53:45.483Z"
   },
   {
    "duration": 9,
    "start_time": "2023-03-05T09:53:45.497Z"
   },
   {
    "duration": 56,
    "start_time": "2023-03-05T09:53:45.508Z"
   },
   {
    "duration": 14,
    "start_time": "2023-03-05T09:53:45.566Z"
   }
  ],
  "kernelspec": {
   "display_name": "Python 3 (ipykernel)",
   "language": "python",
   "name": "python3"
  },
  "language_info": {
   "codemirror_mode": {
    "name": "ipython",
    "version": 3
   },
   "file_extension": ".py",
   "mimetype": "text/x-python",
   "name": "python",
   "nbconvert_exporter": "python",
   "pygments_lexer": "ipython3",
   "version": "3.9.13"
  },
  "toc": {
   "base_numbering": 1,
   "nav_menu": {},
   "number_sections": true,
   "sideBar": true,
   "skip_h1_title": true,
   "title_cell": "Table of Contents",
   "title_sidebar": "Contents",
   "toc_cell": false,
   "toc_position": {
    "height": "631.333px",
    "left": "249px",
    "top": "180px",
    "width": "323.865px"
   },
   "toc_section_display": true,
   "toc_window_display": true
  }
 },
 "nbformat": 4,
 "nbformat_minor": 2
}
