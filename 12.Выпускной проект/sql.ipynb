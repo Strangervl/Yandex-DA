{
 "cells": [
  {
   "cell_type": "markdown",
   "metadata": {},
   "source": [
    "# Проект по SQL"
   ]
  },
  {
   "cell_type": "markdown",
   "metadata": {},
   "source": [
    "## Описание данных\n",
    "\n",
    "**Таблица `books`**\n",
    "\n",
    "Содержит данные о книгах:\n",
    "\n",
    "- `book_id` — идентификатор книги;\n",
    "- `author_id` — идентификатор автора;\n",
    "- `title` — название книги;\n",
    "- `num_pages` — количество страниц;\n",
    "- `publication_date` — дата публикации книги;\n",
    "- `publisher_id` — идентификатор издателя.\n",
    "\n",
    "**Таблица `authors`**\n",
    "\n",
    "Содержит данные об авторах:\n",
    "\n",
    "- `author_id` — идентификатор автора;\n",
    "- `author` — имя автора.\n",
    "\n",
    "**Таблица `publishers`**\n",
    "\n",
    "Содержит данные об издательствах:\n",
    "\n",
    "- `publisher_id` — идентификатор издательства;\n",
    "- `publisher` — название издательства;\n",
    "\n",
    "**Таблица `ratings`**\n",
    "\n",
    "Содержит данные о пользовательских оценках книг:\n",
    "\n",
    "- `rating_id` — идентификатор оценки;\n",
    "- `book_id` — идентификатор книги;\n",
    "- `username` — имя пользователя, оставившего оценку;\n",
    "- `rating` — оценка книги.\n",
    "\n",
    "**Таблица `reviews`**\n",
    "\n",
    "Содержит данные о пользовательских обзорах на книги:\n",
    "\n",
    "- `review_id` — идентификатор обзора;\n",
    "- `book_id` — идентификатор книги;\n",
    "- `username` — имя пользователя, написавшего обзор;\n",
    "- `text` — текст обзора."
   ]
  },
  {
   "cell_type": "markdown",
   "metadata": {},
   "source": [
    "**Задания**\n",
    "- Посчитайте, сколько книг вышло после 1 января 2000 года;\n",
    "- Для каждой книги посчитайте количество обзоров и среднюю оценку;\n",
    "- Определите издательство, которое выпустило наибольшее число книг толще 50 страниц — так вы исключите из анализа брошюры;\n",
    "- Определите автора с самой высокой средней оценкой книг — учитывайте только книги с 50 и более оценками;\n",
    "- Посчитайте среднее количество обзоров от пользователей, которые поставили больше 48 оценок."
   ]
  },
  {
   "cell_type": "markdown",
   "metadata": {},
   "source": [
    "## Исследование таблиц"
   ]
  },
  {
   "cell_type": "code",
   "execution_count": 1,
   "metadata": {},
   "outputs": [],
   "source": [
    "import pandas as pd\n",
    "from sqlalchemy import create_engine"
   ]
  },
  {
   "cell_type": "code",
   "execution_count": 2,
   "metadata": {},
   "outputs": [],
   "source": [
    "# импортируем библиотеки\n",
    "import pandas as pd\n",
    "from sqlalchemy import text, create_engine\n",
    "# устанавливаем параметры\n",
    "db_config = {'user': 'praktikum_student', # имя пользователя\n",
    "'pwd': 'Sdf4$2;d-d30pp', # пароль\n",
    "'host': 'rc1b-wcoijxj3yxfsf3fs.mdb.yandexcloud.net',\n",
    "'port': 6432, # порт подключения\n",
    "'db': 'data-analyst-final-project-db'} # название базы данных\n",
    "connection_string = 'postgresql://{user}:{pwd}@{host}:{port}/{db}'.format(**db_config)\n",
    "# сохраняем коннектор\n",
    "engine = create_engine(connection_string, connect_args={'sslmode':'require'})\n",
    "con=engine.connect()\n"
   ]
  },
  {
   "cell_type": "code",
   "execution_count": 3,
   "metadata": {},
   "outputs": [],
   "source": [
    "def look_table(table):    \n",
    "    display(pd.io.sql.read_sql('''SELECT * FROM {} LIMIT 5'''.format(table), con = engine))\n",
    "    display(pd.io.sql.read_sql('''SELECT * FROM {}'''.format(table), con = engine).info())"
   ]
  },
  {
   "cell_type": "code",
   "execution_count": 4,
   "metadata": {},
   "outputs": [
    {
     "data": {
      "text/html": [
       "<div>\n",
       "<style scoped>\n",
       "    .dataframe tbody tr th:only-of-type {\n",
       "        vertical-align: middle;\n",
       "    }\n",
       "\n",
       "    .dataframe tbody tr th {\n",
       "        vertical-align: top;\n",
       "    }\n",
       "\n",
       "    .dataframe thead th {\n",
       "        text-align: right;\n",
       "    }\n",
       "</style>\n",
       "<table border=\"1\" class=\"dataframe\">\n",
       "  <thead>\n",
       "    <tr style=\"text-align: right;\">\n",
       "      <th></th>\n",
       "      <th>book_id</th>\n",
       "      <th>author_id</th>\n",
       "      <th>title</th>\n",
       "      <th>num_pages</th>\n",
       "      <th>publication_date</th>\n",
       "      <th>publisher_id</th>\n",
       "    </tr>\n",
       "  </thead>\n",
       "  <tbody>\n",
       "    <tr>\n",
       "      <th>0</th>\n",
       "      <td>1</td>\n",
       "      <td>546</td>\n",
       "      <td>'Salem's Lot</td>\n",
       "      <td>594</td>\n",
       "      <td>2005-11-01</td>\n",
       "      <td>93</td>\n",
       "    </tr>\n",
       "    <tr>\n",
       "      <th>1</th>\n",
       "      <td>2</td>\n",
       "      <td>465</td>\n",
       "      <td>1 000 Places to See Before You Die</td>\n",
       "      <td>992</td>\n",
       "      <td>2003-05-22</td>\n",
       "      <td>336</td>\n",
       "    </tr>\n",
       "    <tr>\n",
       "      <th>2</th>\n",
       "      <td>3</td>\n",
       "      <td>407</td>\n",
       "      <td>13 Little Blue Envelopes (Little Blue Envelope...</td>\n",
       "      <td>322</td>\n",
       "      <td>2010-12-21</td>\n",
       "      <td>135</td>\n",
       "    </tr>\n",
       "    <tr>\n",
       "      <th>3</th>\n",
       "      <td>4</td>\n",
       "      <td>82</td>\n",
       "      <td>1491: New Revelations of the Americas Before C...</td>\n",
       "      <td>541</td>\n",
       "      <td>2006-10-10</td>\n",
       "      <td>309</td>\n",
       "    </tr>\n",
       "    <tr>\n",
       "      <th>4</th>\n",
       "      <td>5</td>\n",
       "      <td>125</td>\n",
       "      <td>1776</td>\n",
       "      <td>386</td>\n",
       "      <td>2006-07-04</td>\n",
       "      <td>268</td>\n",
       "    </tr>\n",
       "  </tbody>\n",
       "</table>\n",
       "</div>"
      ],
      "text/plain": [
       "   book_id  author_id                                              title  \\\n",
       "0        1        546                                       'Salem's Lot   \n",
       "1        2        465                 1 000 Places to See Before You Die   \n",
       "2        3        407  13 Little Blue Envelopes (Little Blue Envelope...   \n",
       "3        4         82  1491: New Revelations of the Americas Before C...   \n",
       "4        5        125                                               1776   \n",
       "\n",
       "   num_pages publication_date  publisher_id  \n",
       "0        594       2005-11-01            93  \n",
       "1        992       2003-05-22           336  \n",
       "2        322       2010-12-21           135  \n",
       "3        541       2006-10-10           309  \n",
       "4        386       2006-07-04           268  "
      ]
     },
     "metadata": {},
     "output_type": "display_data"
    },
    {
     "name": "stdout",
     "output_type": "stream",
     "text": [
      "<class 'pandas.core.frame.DataFrame'>\n",
      "RangeIndex: 1000 entries, 0 to 999\n",
      "Data columns (total 6 columns):\n",
      " #   Column            Non-Null Count  Dtype \n",
      "---  ------            --------------  ----- \n",
      " 0   book_id           1000 non-null   int64 \n",
      " 1   author_id         1000 non-null   int64 \n",
      " 2   title             1000 non-null   object\n",
      " 3   num_pages         1000 non-null   int64 \n",
      " 4   publication_date  1000 non-null   object\n",
      " 5   publisher_id      1000 non-null   int64 \n",
      "dtypes: int64(4), object(2)\n",
      "memory usage: 47.0+ KB\n"
     ]
    },
    {
     "data": {
      "text/plain": [
       "None"
      ]
     },
     "metadata": {},
     "output_type": "display_data"
    }
   ],
   "source": [
    "look_table('books')"
   ]
  },
  {
   "cell_type": "code",
   "execution_count": 5,
   "metadata": {},
   "outputs": [
    {
     "data": {
      "text/html": [
       "<div>\n",
       "<style scoped>\n",
       "    .dataframe tbody tr th:only-of-type {\n",
       "        vertical-align: middle;\n",
       "    }\n",
       "\n",
       "    .dataframe tbody tr th {\n",
       "        vertical-align: top;\n",
       "    }\n",
       "\n",
       "    .dataframe thead th {\n",
       "        text-align: right;\n",
       "    }\n",
       "</style>\n",
       "<table border=\"1\" class=\"dataframe\">\n",
       "  <thead>\n",
       "    <tr style=\"text-align: right;\">\n",
       "      <th></th>\n",
       "      <th>author_id</th>\n",
       "      <th>author</th>\n",
       "    </tr>\n",
       "  </thead>\n",
       "  <tbody>\n",
       "    <tr>\n",
       "      <th>0</th>\n",
       "      <td>1</td>\n",
       "      <td>A.S. Byatt</td>\n",
       "    </tr>\n",
       "    <tr>\n",
       "      <th>1</th>\n",
       "      <td>2</td>\n",
       "      <td>Aesop/Laura Harris/Laura Gibbs</td>\n",
       "    </tr>\n",
       "    <tr>\n",
       "      <th>2</th>\n",
       "      <td>3</td>\n",
       "      <td>Agatha Christie</td>\n",
       "    </tr>\n",
       "    <tr>\n",
       "      <th>3</th>\n",
       "      <td>4</td>\n",
       "      <td>Alan Brennert</td>\n",
       "    </tr>\n",
       "    <tr>\n",
       "      <th>4</th>\n",
       "      <td>5</td>\n",
       "      <td>Alan Moore/David   Lloyd</td>\n",
       "    </tr>\n",
       "  </tbody>\n",
       "</table>\n",
       "</div>"
      ],
      "text/plain": [
       "   author_id                          author\n",
       "0          1                      A.S. Byatt\n",
       "1          2  Aesop/Laura Harris/Laura Gibbs\n",
       "2          3                 Agatha Christie\n",
       "3          4                   Alan Brennert\n",
       "4          5        Alan Moore/David   Lloyd"
      ]
     },
     "metadata": {},
     "output_type": "display_data"
    },
    {
     "name": "stdout",
     "output_type": "stream",
     "text": [
      "<class 'pandas.core.frame.DataFrame'>\n",
      "RangeIndex: 636 entries, 0 to 635\n",
      "Data columns (total 2 columns):\n",
      " #   Column     Non-Null Count  Dtype \n",
      "---  ------     --------------  ----- \n",
      " 0   author_id  636 non-null    int64 \n",
      " 1   author     636 non-null    object\n",
      "dtypes: int64(1), object(1)\n",
      "memory usage: 10.1+ KB\n"
     ]
    },
    {
     "data": {
      "text/plain": [
       "None"
      ]
     },
     "metadata": {},
     "output_type": "display_data"
    }
   ],
   "source": [
    "look_table('authors')"
   ]
  },
  {
   "cell_type": "code",
   "execution_count": 6,
   "metadata": {},
   "outputs": [
    {
     "data": {
      "text/html": [
       "<div>\n",
       "<style scoped>\n",
       "    .dataframe tbody tr th:only-of-type {\n",
       "        vertical-align: middle;\n",
       "    }\n",
       "\n",
       "    .dataframe tbody tr th {\n",
       "        vertical-align: top;\n",
       "    }\n",
       "\n",
       "    .dataframe thead th {\n",
       "        text-align: right;\n",
       "    }\n",
       "</style>\n",
       "<table border=\"1\" class=\"dataframe\">\n",
       "  <thead>\n",
       "    <tr style=\"text-align: right;\">\n",
       "      <th></th>\n",
       "      <th>publisher_id</th>\n",
       "      <th>publisher</th>\n",
       "    </tr>\n",
       "  </thead>\n",
       "  <tbody>\n",
       "    <tr>\n",
       "      <th>0</th>\n",
       "      <td>1</td>\n",
       "      <td>Ace</td>\n",
       "    </tr>\n",
       "    <tr>\n",
       "      <th>1</th>\n",
       "      <td>2</td>\n",
       "      <td>Ace Book</td>\n",
       "    </tr>\n",
       "    <tr>\n",
       "      <th>2</th>\n",
       "      <td>3</td>\n",
       "      <td>Ace Books</td>\n",
       "    </tr>\n",
       "    <tr>\n",
       "      <th>3</th>\n",
       "      <td>4</td>\n",
       "      <td>Ace Hardcover</td>\n",
       "    </tr>\n",
       "    <tr>\n",
       "      <th>4</th>\n",
       "      <td>5</td>\n",
       "      <td>Addison Wesley Publishing Company</td>\n",
       "    </tr>\n",
       "  </tbody>\n",
       "</table>\n",
       "</div>"
      ],
      "text/plain": [
       "   publisher_id                          publisher\n",
       "0             1                                Ace\n",
       "1             2                           Ace Book\n",
       "2             3                          Ace Books\n",
       "3             4                      Ace Hardcover\n",
       "4             5  Addison Wesley Publishing Company"
      ]
     },
     "metadata": {},
     "output_type": "display_data"
    },
    {
     "name": "stdout",
     "output_type": "stream",
     "text": [
      "<class 'pandas.core.frame.DataFrame'>\n",
      "RangeIndex: 340 entries, 0 to 339\n",
      "Data columns (total 2 columns):\n",
      " #   Column        Non-Null Count  Dtype \n",
      "---  ------        --------------  ----- \n",
      " 0   publisher_id  340 non-null    int64 \n",
      " 1   publisher     340 non-null    object\n",
      "dtypes: int64(1), object(1)\n",
      "memory usage: 5.4+ KB\n"
     ]
    },
    {
     "data": {
      "text/plain": [
       "None"
      ]
     },
     "metadata": {},
     "output_type": "display_data"
    }
   ],
   "source": [
    "look_table('publishers')"
   ]
  },
  {
   "cell_type": "code",
   "execution_count": 7,
   "metadata": {},
   "outputs": [
    {
     "data": {
      "text/html": [
       "<div>\n",
       "<style scoped>\n",
       "    .dataframe tbody tr th:only-of-type {\n",
       "        vertical-align: middle;\n",
       "    }\n",
       "\n",
       "    .dataframe tbody tr th {\n",
       "        vertical-align: top;\n",
       "    }\n",
       "\n",
       "    .dataframe thead th {\n",
       "        text-align: right;\n",
       "    }\n",
       "</style>\n",
       "<table border=\"1\" class=\"dataframe\">\n",
       "  <thead>\n",
       "    <tr style=\"text-align: right;\">\n",
       "      <th></th>\n",
       "      <th>rating_id</th>\n",
       "      <th>book_id</th>\n",
       "      <th>username</th>\n",
       "      <th>rating</th>\n",
       "    </tr>\n",
       "  </thead>\n",
       "  <tbody>\n",
       "    <tr>\n",
       "      <th>0</th>\n",
       "      <td>1</td>\n",
       "      <td>1</td>\n",
       "      <td>ryanfranco</td>\n",
       "      <td>4</td>\n",
       "    </tr>\n",
       "    <tr>\n",
       "      <th>1</th>\n",
       "      <td>2</td>\n",
       "      <td>1</td>\n",
       "      <td>grantpatricia</td>\n",
       "      <td>2</td>\n",
       "    </tr>\n",
       "    <tr>\n",
       "      <th>2</th>\n",
       "      <td>3</td>\n",
       "      <td>1</td>\n",
       "      <td>brandtandrea</td>\n",
       "      <td>5</td>\n",
       "    </tr>\n",
       "    <tr>\n",
       "      <th>3</th>\n",
       "      <td>4</td>\n",
       "      <td>2</td>\n",
       "      <td>lorichen</td>\n",
       "      <td>3</td>\n",
       "    </tr>\n",
       "    <tr>\n",
       "      <th>4</th>\n",
       "      <td>5</td>\n",
       "      <td>2</td>\n",
       "      <td>mariokeller</td>\n",
       "      <td>2</td>\n",
       "    </tr>\n",
       "  </tbody>\n",
       "</table>\n",
       "</div>"
      ],
      "text/plain": [
       "   rating_id  book_id       username  rating\n",
       "0          1        1     ryanfranco       4\n",
       "1          2        1  grantpatricia       2\n",
       "2          3        1   brandtandrea       5\n",
       "3          4        2       lorichen       3\n",
       "4          5        2    mariokeller       2"
      ]
     },
     "metadata": {},
     "output_type": "display_data"
    },
    {
     "name": "stdout",
     "output_type": "stream",
     "text": [
      "<class 'pandas.core.frame.DataFrame'>\n",
      "RangeIndex: 6456 entries, 0 to 6455\n",
      "Data columns (total 4 columns):\n",
      " #   Column     Non-Null Count  Dtype \n",
      "---  ------     --------------  ----- \n",
      " 0   rating_id  6456 non-null   int64 \n",
      " 1   book_id    6456 non-null   int64 \n",
      " 2   username   6456 non-null   object\n",
      " 3   rating     6456 non-null   int64 \n",
      "dtypes: int64(3), object(1)\n",
      "memory usage: 201.9+ KB\n"
     ]
    },
    {
     "data": {
      "text/plain": [
       "None"
      ]
     },
     "metadata": {},
     "output_type": "display_data"
    }
   ],
   "source": [
    "look_table('ratings')"
   ]
  },
  {
   "cell_type": "code",
   "execution_count": 8,
   "metadata": {},
   "outputs": [
    {
     "data": {
      "text/html": [
       "<div>\n",
       "<style scoped>\n",
       "    .dataframe tbody tr th:only-of-type {\n",
       "        vertical-align: middle;\n",
       "    }\n",
       "\n",
       "    .dataframe tbody tr th {\n",
       "        vertical-align: top;\n",
       "    }\n",
       "\n",
       "    .dataframe thead th {\n",
       "        text-align: right;\n",
       "    }\n",
       "</style>\n",
       "<table border=\"1\" class=\"dataframe\">\n",
       "  <thead>\n",
       "    <tr style=\"text-align: right;\">\n",
       "      <th></th>\n",
       "      <th>review_id</th>\n",
       "      <th>book_id</th>\n",
       "      <th>username</th>\n",
       "      <th>text</th>\n",
       "    </tr>\n",
       "  </thead>\n",
       "  <tbody>\n",
       "    <tr>\n",
       "      <th>0</th>\n",
       "      <td>1</td>\n",
       "      <td>1</td>\n",
       "      <td>brandtandrea</td>\n",
       "      <td>Mention society tell send professor analysis. ...</td>\n",
       "    </tr>\n",
       "    <tr>\n",
       "      <th>1</th>\n",
       "      <td>2</td>\n",
       "      <td>1</td>\n",
       "      <td>ryanfranco</td>\n",
       "      <td>Foot glass pretty audience hit themselves. Amo...</td>\n",
       "    </tr>\n",
       "    <tr>\n",
       "      <th>2</th>\n",
       "      <td>3</td>\n",
       "      <td>2</td>\n",
       "      <td>lorichen</td>\n",
       "      <td>Listen treat keep worry. Miss husband tax but ...</td>\n",
       "    </tr>\n",
       "    <tr>\n",
       "      <th>3</th>\n",
       "      <td>4</td>\n",
       "      <td>3</td>\n",
       "      <td>johnsonamanda</td>\n",
       "      <td>Finally month interesting blue could nature cu...</td>\n",
       "    </tr>\n",
       "    <tr>\n",
       "      <th>4</th>\n",
       "      <td>5</td>\n",
       "      <td>3</td>\n",
       "      <td>scotttamara</td>\n",
       "      <td>Nation purpose heavy give wait song will. List...</td>\n",
       "    </tr>\n",
       "  </tbody>\n",
       "</table>\n",
       "</div>"
      ],
      "text/plain": [
       "   review_id  book_id       username  \\\n",
       "0          1        1   brandtandrea   \n",
       "1          2        1     ryanfranco   \n",
       "2          3        2       lorichen   \n",
       "3          4        3  johnsonamanda   \n",
       "4          5        3    scotttamara   \n",
       "\n",
       "                                                text  \n",
       "0  Mention society tell send professor analysis. ...  \n",
       "1  Foot glass pretty audience hit themselves. Amo...  \n",
       "2  Listen treat keep worry. Miss husband tax but ...  \n",
       "3  Finally month interesting blue could nature cu...  \n",
       "4  Nation purpose heavy give wait song will. List...  "
      ]
     },
     "metadata": {},
     "output_type": "display_data"
    },
    {
     "name": "stdout",
     "output_type": "stream",
     "text": [
      "<class 'pandas.core.frame.DataFrame'>\n",
      "RangeIndex: 2793 entries, 0 to 2792\n",
      "Data columns (total 4 columns):\n",
      " #   Column     Non-Null Count  Dtype \n",
      "---  ------     --------------  ----- \n",
      " 0   review_id  2793 non-null   int64 \n",
      " 1   book_id    2793 non-null   int64 \n",
      " 2   username   2793 non-null   object\n",
      " 3   text       2793 non-null   object\n",
      "dtypes: int64(2), object(2)\n",
      "memory usage: 87.4+ KB\n"
     ]
    },
    {
     "data": {
      "text/plain": [
       "None"
      ]
     },
     "metadata": {},
     "output_type": "display_data"
    }
   ],
   "source": [
    "look_table('reviews')"
   ]
  },
  {
   "cell_type": "markdown",
   "metadata": {},
   "source": [
    "Подключились к базе данных, вывели первые 5 строк таблиц и общую информацию о них."
   ]
  },
  {
   "cell_type": "markdown",
   "metadata": {},
   "source": [
    "## Задания"
   ]
  },
  {
   "cell_type": "markdown",
   "metadata": {},
   "source": [
    "### Посчитайть, сколько книг вышло после 1 января 2000 года."
   ]
  },
  {
   "cell_type": "code",
   "execution_count": 9,
   "metadata": {},
   "outputs": [
    {
     "data": {
      "text/html": [
       "<div>\n",
       "<style scoped>\n",
       "    .dataframe tbody tr th:only-of-type {\n",
       "        vertical-align: middle;\n",
       "    }\n",
       "\n",
       "    .dataframe tbody tr th {\n",
       "        vertical-align: top;\n",
       "    }\n",
       "\n",
       "    .dataframe thead th {\n",
       "        text-align: right;\n",
       "    }\n",
       "</style>\n",
       "<table border=\"1\" class=\"dataframe\">\n",
       "  <thead>\n",
       "    <tr style=\"text-align: right;\">\n",
       "      <th></th>\n",
       "      <th>count</th>\n",
       "    </tr>\n",
       "  </thead>\n",
       "  <tbody>\n",
       "    <tr>\n",
       "      <th>0</th>\n",
       "      <td>821</td>\n",
       "    </tr>\n",
       "  </tbody>\n",
       "</table>\n",
       "</div>"
      ],
      "text/plain": [
       "   count\n",
       "0    821"
      ]
     },
     "execution_count": 9,
     "metadata": {},
     "output_type": "execute_result"
    }
   ],
   "source": [
    "query = ''' \n",
    "        SELECT Count(book_id)\n",
    "        FROM books\n",
    "        WHERE publication_date >= Date('2000-01-01')\n",
    "        '''\n",
    "pd.io.sql.read_sql(sql=text(query), con = con)"
   ]
  },
  {
   "cell_type": "markdown",
   "metadata": {},
   "source": [
    "После 1 января 2000 года вышло 819 книг."
   ]
  },
  {
   "cell_type": "markdown",
   "metadata": {},
   "source": [
    "### Для каждой книги посчитаем количество обзоров и среднюю оценку."
   ]
  },
  {
   "cell_type": "code",
   "execution_count": 10,
   "metadata": {},
   "outputs": [
    {
     "data": {
      "text/html": [
       "<div>\n",
       "<style scoped>\n",
       "    .dataframe tbody tr th:only-of-type {\n",
       "        vertical-align: middle;\n",
       "    }\n",
       "\n",
       "    .dataframe tbody tr th {\n",
       "        vertical-align: top;\n",
       "    }\n",
       "\n",
       "    .dataframe thead th {\n",
       "        text-align: right;\n",
       "    }\n",
       "</style>\n",
       "<table border=\"1\" class=\"dataframe\">\n",
       "  <thead>\n",
       "    <tr style=\"text-align: right;\">\n",
       "      <th></th>\n",
       "      <th>book_id</th>\n",
       "      <th>title</th>\n",
       "      <th>cnt_reviews</th>\n",
       "      <th>avg_rating</th>\n",
       "    </tr>\n",
       "  </thead>\n",
       "  <tbody>\n",
       "    <tr>\n",
       "      <th>0</th>\n",
       "      <td>1</td>\n",
       "      <td>'Salem's Lot</td>\n",
       "      <td>2</td>\n",
       "      <td>3.67</td>\n",
       "    </tr>\n",
       "    <tr>\n",
       "      <th>1</th>\n",
       "      <td>2</td>\n",
       "      <td>1 000 Places to See Before You Die</td>\n",
       "      <td>1</td>\n",
       "      <td>2.50</td>\n",
       "    </tr>\n",
       "    <tr>\n",
       "      <th>2</th>\n",
       "      <td>3</td>\n",
       "      <td>13 Little Blue Envelopes (Little Blue Envelope...</td>\n",
       "      <td>3</td>\n",
       "      <td>4.67</td>\n",
       "    </tr>\n",
       "    <tr>\n",
       "      <th>3</th>\n",
       "      <td>4</td>\n",
       "      <td>1491: New Revelations of the Americas Before C...</td>\n",
       "      <td>2</td>\n",
       "      <td>4.50</td>\n",
       "    </tr>\n",
       "    <tr>\n",
       "      <th>4</th>\n",
       "      <td>5</td>\n",
       "      <td>1776</td>\n",
       "      <td>4</td>\n",
       "      <td>4.00</td>\n",
       "    </tr>\n",
       "    <tr>\n",
       "      <th>...</th>\n",
       "      <td>...</td>\n",
       "      <td>...</td>\n",
       "      <td>...</td>\n",
       "      <td>...</td>\n",
       "    </tr>\n",
       "    <tr>\n",
       "      <th>995</th>\n",
       "      <td>996</td>\n",
       "      <td>Wyrd Sisters (Discworld  #6; Witches #2)</td>\n",
       "      <td>3</td>\n",
       "      <td>3.67</td>\n",
       "    </tr>\n",
       "    <tr>\n",
       "      <th>996</th>\n",
       "      <td>997</td>\n",
       "      <td>Xenocide (Ender's Saga  #3)</td>\n",
       "      <td>3</td>\n",
       "      <td>3.40</td>\n",
       "    </tr>\n",
       "    <tr>\n",
       "      <th>997</th>\n",
       "      <td>998</td>\n",
       "      <td>Year of Wonders</td>\n",
       "      <td>4</td>\n",
       "      <td>3.20</td>\n",
       "    </tr>\n",
       "    <tr>\n",
       "      <th>998</th>\n",
       "      <td>999</td>\n",
       "      <td>You Suck (A Love Story  #2)</td>\n",
       "      <td>2</td>\n",
       "      <td>4.50</td>\n",
       "    </tr>\n",
       "    <tr>\n",
       "      <th>999</th>\n",
       "      <td>1000</td>\n",
       "      <td>Zen and the Art of Motorcycle Maintenance: An ...</td>\n",
       "      <td>4</td>\n",
       "      <td>3.83</td>\n",
       "    </tr>\n",
       "  </tbody>\n",
       "</table>\n",
       "<p>1000 rows × 4 columns</p>\n",
       "</div>"
      ],
      "text/plain": [
       "     book_id                                              title  cnt_reviews  \\\n",
       "0          1                                       'Salem's Lot            2   \n",
       "1          2                 1 000 Places to See Before You Die            1   \n",
       "2          3  13 Little Blue Envelopes (Little Blue Envelope...            3   \n",
       "3          4  1491: New Revelations of the Americas Before C...            2   \n",
       "4          5                                               1776            4   \n",
       "..       ...                                                ...          ...   \n",
       "995      996           Wyrd Sisters (Discworld  #6; Witches #2)            3   \n",
       "996      997                        Xenocide (Ender's Saga  #3)            3   \n",
       "997      998                                    Year of Wonders            4   \n",
       "998      999                        You Suck (A Love Story  #2)            2   \n",
       "999     1000  Zen and the Art of Motorcycle Maintenance: An ...            4   \n",
       "\n",
       "     avg_rating  \n",
       "0          3.67  \n",
       "1          2.50  \n",
       "2          4.67  \n",
       "3          4.50  \n",
       "4          4.00  \n",
       "..          ...  \n",
       "995        3.67  \n",
       "996        3.40  \n",
       "997        3.20  \n",
       "998        4.50  \n",
       "999        3.83  \n",
       "\n",
       "[1000 rows x 4 columns]"
      ]
     },
     "execution_count": 10,
     "metadata": {},
     "output_type": "execute_result"
    }
   ],
   "source": [
    "query = ''' \n",
    "        SELECT b.book_id,\n",
    "               b.title,\n",
    "               count(DISTINCT rv.review_id) AS cnt_reviews,\n",
    "               round(AVG(r.rating), 2) AS avg_rating\n",
    "        FROM books AS b\n",
    "        LEFT JOIN reviews AS rv ON b.book_id = rv.book_id\n",
    "        LEFT JOIN ratings AS r ON b.book_id = r.book_id \n",
    "        GROUP  BY b.book_id, b.title\n",
    "        '''\n",
    "pd.io.sql.read_sql(sql=text(query), con = con)"
   ]
  },
  {
   "cell_type": "code",
   "execution_count": 11,
   "metadata": {},
   "outputs": [
    {
     "data": {
      "text/html": [
       "<div>\n",
       "<style scoped>\n",
       "    .dataframe tbody tr th:only-of-type {\n",
       "        vertical-align: middle;\n",
       "    }\n",
       "\n",
       "    .dataframe tbody tr th {\n",
       "        vertical-align: top;\n",
       "    }\n",
       "\n",
       "    .dataframe thead th {\n",
       "        text-align: right;\n",
       "    }\n",
       "</style>\n",
       "<table border=\"1\" class=\"dataframe\">\n",
       "  <thead>\n",
       "    <tr style=\"text-align: right;\">\n",
       "      <th></th>\n",
       "      <th>sum</th>\n",
       "    </tr>\n",
       "  </thead>\n",
       "  <tbody>\n",
       "    <tr>\n",
       "      <th>0</th>\n",
       "      <td>2793.0</td>\n",
       "    </tr>\n",
       "  </tbody>\n",
       "</table>\n",
       "</div>"
      ],
      "text/plain": [
       "      sum\n",
       "0  2793.0"
      ]
     },
     "execution_count": 11,
     "metadata": {},
     "output_type": "execute_result"
    }
   ],
   "source": [
    "query = ''' \n",
    "        SELECT SUM(cnt_reviews)\n",
    "        FROM\n",
    "        (SELECT b.book_id,\n",
    "               b.title,\n",
    "               count(DISTINCT rv.review_id) AS cnt_reviews,\n",
    "               round(AVG(r.rating), 2) AS avg_rating\n",
    "        FROM books AS b\n",
    "        LEFT JOIN reviews AS rv ON b.book_id = rv.book_id\n",
    "        LEFT JOIN ratings AS r ON b.book_id = r.book_id \n",
    "        GROUP  BY b.book_id, b.title) AS a\n",
    "        '''\n",
    "pd.io.sql.read_sql(sql=text(query), con = con)"
   ]
  },
  {
   "cell_type": "code",
   "execution_count": 12,
   "metadata": {},
   "outputs": [
    {
     "data": {
      "text/html": [
       "<div>\n",
       "<style scoped>\n",
       "    .dataframe tbody tr th:only-of-type {\n",
       "        vertical-align: middle;\n",
       "    }\n",
       "\n",
       "    .dataframe tbody tr th {\n",
       "        vertical-align: top;\n",
       "    }\n",
       "\n",
       "    .dataframe thead th {\n",
       "        text-align: right;\n",
       "    }\n",
       "</style>\n",
       "<table border=\"1\" class=\"dataframe\">\n",
       "  <thead>\n",
       "    <tr style=\"text-align: right;\">\n",
       "      <th></th>\n",
       "      <th>count</th>\n",
       "    </tr>\n",
       "  </thead>\n",
       "  <tbody>\n",
       "    <tr>\n",
       "      <th>0</th>\n",
       "      <td>2793</td>\n",
       "    </tr>\n",
       "  </tbody>\n",
       "</table>\n",
       "</div>"
      ],
      "text/plain": [
       "   count\n",
       "0   2793"
      ]
     },
     "execution_count": 12,
     "metadata": {},
     "output_type": "execute_result"
    }
   ],
   "source": [
    "query = ''' \n",
    "        SELECT count(review_id)\n",
    "        FROM reviews\n",
    "      \n",
    "        '''\n",
    "pd.io.sql.read_sql(sql=text(query), con = con)"
   ]
  },
  {
   "cell_type": "markdown",
   "metadata": {},
   "source": [
    "Вывели список книг с количеством обзоров и средней оценкой."
   ]
  },
  {
   "cell_type": "markdown",
   "metadata": {},
   "source": [
    "### Определить издательство, которое выпустило наибольшее число книг толще 50 страниц."
   ]
  },
  {
   "cell_type": "code",
   "execution_count": 13,
   "metadata": {},
   "outputs": [
    {
     "data": {
      "text/html": [
       "<div>\n",
       "<style scoped>\n",
       "    .dataframe tbody tr th:only-of-type {\n",
       "        vertical-align: middle;\n",
       "    }\n",
       "\n",
       "    .dataframe tbody tr th {\n",
       "        vertical-align: top;\n",
       "    }\n",
       "\n",
       "    .dataframe thead th {\n",
       "        text-align: right;\n",
       "    }\n",
       "</style>\n",
       "<table border=\"1\" class=\"dataframe\">\n",
       "  <thead>\n",
       "    <tr style=\"text-align: right;\">\n",
       "      <th></th>\n",
       "      <th>publisher</th>\n",
       "      <th>count</th>\n",
       "    </tr>\n",
       "  </thead>\n",
       "  <tbody>\n",
       "    <tr>\n",
       "      <th>0</th>\n",
       "      <td>Penguin Books</td>\n",
       "      <td>42</td>\n",
       "    </tr>\n",
       "  </tbody>\n",
       "</table>\n",
       "</div>"
      ],
      "text/plain": [
       "       publisher  count\n",
       "0  Penguin Books     42"
      ]
     },
     "execution_count": 13,
     "metadata": {},
     "output_type": "execute_result"
    }
   ],
   "source": [
    "query = ''' \n",
    "        SELECT publisher,\n",
    "               Count(book_id)\n",
    "        FROM books AS b\n",
    "        LEFT JOIN publishers AS p ON p.publisher_id = b.publisher_id\n",
    "        WHERE num_pages > 50 GROUP  BY publisher\n",
    "          ORDER  BY COUNT DESC\n",
    "        LIMIT 1\n",
    "        '''\n",
    "pd.io.sql.read_sql(sql=text(query), con = con)"
   ]
  },
  {
   "cell_type": "markdown",
   "metadata": {},
   "source": [
    "Издательство Penguin Books выпустило наибольшее число книг толще 50 страниц - 42 штуки."
   ]
  },
  {
   "cell_type": "markdown",
   "metadata": {},
   "source": [
    "### Определить автора с самой высокой средней оценкой книг — учитывайть только книги с 50 и более оценками"
   ]
  },
  {
   "cell_type": "code",
   "execution_count": 14,
   "metadata": {},
   "outputs": [
    {
     "data": {
      "text/html": [
       "<div>\n",
       "<style scoped>\n",
       "    .dataframe tbody tr th:only-of-type {\n",
       "        vertical-align: middle;\n",
       "    }\n",
       "\n",
       "    .dataframe tbody tr th {\n",
       "        vertical-align: top;\n",
       "    }\n",
       "\n",
       "    .dataframe thead th {\n",
       "        text-align: right;\n",
       "    }\n",
       "</style>\n",
       "<table border=\"1\" class=\"dataframe\">\n",
       "  <thead>\n",
       "    <tr style=\"text-align: right;\">\n",
       "      <th></th>\n",
       "      <th>author</th>\n",
       "      <th>avg_raiting</th>\n",
       "      <th>rate_cnt</th>\n",
       "    </tr>\n",
       "  </thead>\n",
       "  <tbody>\n",
       "    <tr>\n",
       "      <th>0</th>\n",
       "      <td>J.K. Rowling/Mary GrandPré</td>\n",
       "      <td>4.28</td>\n",
       "      <td>310.0</td>\n",
       "    </tr>\n",
       "  </tbody>\n",
       "</table>\n",
       "</div>"
      ],
      "text/plain": [
       "                       author  avg_raiting  rate_cnt\n",
       "0  J.K. Rowling/Mary GrandPré         4.28     310.0"
      ]
     },
     "execution_count": 14,
     "metadata": {},
     "output_type": "execute_result"
    }
   ],
   "source": [
    "query = '''             \n",
    "        SELECT author,\n",
    "               ROUND(AVG(avg_raiting), 2) AS avg_raiting,\n",
    "               SUM(rating_count) AS rate_cnt\n",
    "        FROM\n",
    "          (SELECT author_id,\n",
    "                  title,\n",
    "                  AVG(rating) AS avg_raiting,\n",
    "                  COUNT(rating) AS rating_count\n",
    "           FROM books\n",
    "           LEFT JOIN ratings ON books.book_id = ratings.book_id\n",
    "           GROUP BY title,\n",
    "                    author_id\n",
    "           HAVING COUNT(rating_id) >= 50) AS r\n",
    "        LEFT JOIN authors ON r.author_id = authors.author_id\n",
    "        GROUP BY author\n",
    "        ORDER BY avg_raiting DESC\n",
    "        LIMIT 1             \n",
    "        '''\n",
    "pd.io.sql.read_sql(sql=text(query), con = con)"
   ]
  },
  {
   "cell_type": "markdown",
   "metadata": {},
   "source": [
    "Автор с самой высокой средней оценкой книг - J.K. Rowling/Mary GrandPré."
   ]
  },
  {
   "cell_type": "markdown",
   "metadata": {},
   "source": [
    "### Посчитать среднее количество обзоров от пользователей, которые поставили больше 48 оценок."
   ]
  },
  {
   "cell_type": "code",
   "execution_count": 15,
   "metadata": {},
   "outputs": [
    {
     "data": {
      "text/html": [
       "<div>\n",
       "<style scoped>\n",
       "    .dataframe tbody tr th:only-of-type {\n",
       "        vertical-align: middle;\n",
       "    }\n",
       "\n",
       "    .dataframe tbody tr th {\n",
       "        vertical-align: top;\n",
       "    }\n",
       "\n",
       "    .dataframe thead th {\n",
       "        text-align: right;\n",
       "    }\n",
       "</style>\n",
       "<table border=\"1\" class=\"dataframe\">\n",
       "  <thead>\n",
       "    <tr style=\"text-align: right;\">\n",
       "      <th></th>\n",
       "      <th>avg</th>\n",
       "    </tr>\n",
       "  </thead>\n",
       "  <tbody>\n",
       "    <tr>\n",
       "      <th>0</th>\n",
       "      <td>24.0</td>\n",
       "    </tr>\n",
       "  </tbody>\n",
       "</table>\n",
       "</div>"
      ],
      "text/plain": [
       "    avg\n",
       "0  24.0"
      ]
     },
     "execution_count": 15,
     "metadata": {},
     "output_type": "execute_result"
    }
   ],
   "source": [
    "query = '''\n",
    "        SELECT AVG(reviews_cnt)\n",
    "        FROM\n",
    "          (SELECT username,\n",
    "                  COUNT(review_id) AS reviews_cnt\n",
    "           FROM reviews\n",
    "           WHERE username IN\n",
    "               (SELECT username\n",
    "                FROM ratings\n",
    "                GROUP BY username\n",
    "                HAVING COUNT(rating_id) > 48)\n",
    "           GROUP BY username) AS a\n",
    "         ''' \n",
    "pd.io.sql.read_sql(sql=text(query), con = con)"
   ]
  },
  {
   "cell_type": "markdown",
   "metadata": {},
   "source": [
    "Среднее количество обзоров от пользователей, которые поставили больше 48 оценок - 24"
   ]
  },
  {
   "cell_type": "markdown",
   "metadata": {},
   "source": [
    "## Выводы:"
   ]
  },
  {
   "cell_type": "markdown",
   "metadata": {},
   "source": [
    "1. После 1 января 2000 года вышло 819 книг.\n",
    "2. Выведен список книг с количеством обзоров и средней оценкой.\n",
    "3. Издательство Penguin Books выпустило наибольшее число книг толще 50 страниц - 42 штуки.\n",
    "4. Автор с самой высокой средней оценкой книг - J.K. Rowling/Mary GrandPré.\n",
    "5. Среднее количество обзоров от пользователей, которые поставили больше 48 оценок - 24"
   ]
  }
 ],
 "metadata": {
  "ExecuteTimeLog": [
   {
    "duration": 4,
    "start_time": "2023-05-18T14:26:18.567Z"
   },
   {
    "duration": 78,
    "start_time": "2023-05-18T14:27:24.896Z"
   },
   {
    "duration": 3,
    "start_time": "2023-05-18T14:27:24.976Z"
   },
   {
    "duration": 4,
    "start_time": "2023-05-18T14:32:50.371Z"
   },
   {
    "duration": 107,
    "start_time": "2023-05-18T14:32:52.366Z"
   },
   {
    "duration": 65,
    "start_time": "2023-05-18T14:33:13.025Z"
   },
   {
    "duration": 4,
    "start_time": "2023-05-18T14:33:31.939Z"
   },
   {
    "duration": 29,
    "start_time": "2023-05-18T14:33:33.778Z"
   },
   {
    "duration": 8,
    "start_time": "2023-05-18T14:34:00.125Z"
   },
   {
    "duration": 27,
    "start_time": "2023-05-18T14:34:05.004Z"
   },
   {
    "duration": 28,
    "start_time": "2023-05-18T14:34:47.766Z"
   },
   {
    "duration": 38,
    "start_time": "2023-05-18T14:34:50.086Z"
   },
   {
    "duration": 34,
    "start_time": "2023-05-18T14:34:52.678Z"
   },
   {
    "duration": 74,
    "start_time": "2023-05-18T14:39:19.702Z"
   },
   {
    "duration": 554,
    "start_time": "2023-05-18T14:43:38.256Z"
   },
   {
    "duration": 8552,
    "start_time": "2023-05-18T14:43:38.813Z"
   },
   {
    "duration": 5,
    "start_time": "2023-05-18T14:43:47.367Z"
   },
   {
    "duration": 103,
    "start_time": "2023-05-18T14:43:47.375Z"
   },
   {
    "duration": 39,
    "start_time": "2023-05-18T14:43:47.481Z"
   },
   {
    "duration": 38,
    "start_time": "2023-05-18T14:43:47.523Z"
   },
   {
    "duration": 37,
    "start_time": "2023-05-18T14:43:47.563Z"
   },
   {
    "duration": 30,
    "start_time": "2023-05-18T14:43:47.601Z"
   },
   {
    "duration": 3,
    "start_time": "2023-05-18T14:43:47.657Z"
   },
   {
    "duration": 33,
    "start_time": "2023-05-18T14:44:23.799Z"
   },
   {
    "duration": 554,
    "start_time": "2023-05-18T14:44:33.050Z"
   },
   {
    "duration": 8803,
    "start_time": "2023-05-18T14:44:33.606Z"
   },
   {
    "duration": 3,
    "start_time": "2023-05-18T14:44:42.411Z"
   },
   {
    "duration": 62,
    "start_time": "2023-05-18T14:44:42.416Z"
   },
   {
    "duration": 25,
    "start_time": "2023-05-18T14:44:42.480Z"
   },
   {
    "duration": 25,
    "start_time": "2023-05-18T14:44:42.507Z"
   },
   {
    "duration": 53,
    "start_time": "2023-05-18T14:44:42.533Z"
   },
   {
    "duration": 32,
    "start_time": "2023-05-18T14:44:42.588Z"
   },
   {
    "duration": 3,
    "start_time": "2023-05-18T14:44:42.621Z"
   },
   {
    "duration": 12,
    "start_time": "2023-05-18T14:45:26.617Z"
   },
   {
    "duration": 10,
    "start_time": "2023-05-18T14:45:57.578Z"
   },
   {
    "duration": 77,
    "start_time": "2023-05-18T14:46:30.581Z"
   },
   {
    "duration": 2,
    "start_time": "2023-05-18T14:47:14.785Z"
   },
   {
    "duration": 30,
    "start_time": "2023-05-18T15:00:28.072Z"
   },
   {
    "duration": 47,
    "start_time": "2023-05-18T15:01:04.484Z"
   },
   {
    "duration": 28,
    "start_time": "2023-05-18T15:01:31.989Z"
   },
   {
    "duration": 33,
    "start_time": "2023-05-18T15:01:47.185Z"
   },
   {
    "duration": 26,
    "start_time": "2023-05-18T15:02:34.745Z"
   },
   {
    "duration": 35,
    "start_time": "2023-05-18T15:03:45.804Z"
   },
   {
    "duration": 30,
    "start_time": "2023-05-18T15:05:21.097Z"
   },
   {
    "duration": 26,
    "start_time": "2023-05-18T15:06:43.444Z"
   },
   {
    "duration": 27,
    "start_time": "2023-05-18T15:07:52.881Z"
   },
   {
    "duration": 24,
    "start_time": "2023-05-18T15:08:43.575Z"
   },
   {
    "duration": 25,
    "start_time": "2023-05-18T15:08:54.981Z"
   },
   {
    "duration": 31,
    "start_time": "2023-05-18T15:13:01.614Z"
   },
   {
    "duration": 91,
    "start_time": "2023-05-18T15:13:33.013Z"
   },
   {
    "duration": 28,
    "start_time": "2023-05-18T15:13:54.324Z"
   },
   {
    "duration": 32,
    "start_time": "2023-05-18T15:14:15.980Z"
   },
   {
    "duration": 29,
    "start_time": "2023-05-18T15:15:05.583Z"
   },
   {
    "duration": 26,
    "start_time": "2023-05-18T15:15:31.404Z"
   },
   {
    "duration": 29,
    "start_time": "2023-05-18T15:16:09.797Z"
   },
   {
    "duration": 27,
    "start_time": "2023-05-18T15:16:30.080Z"
   },
   {
    "duration": 25,
    "start_time": "2023-05-18T15:17:27.895Z"
   },
   {
    "duration": 68,
    "start_time": "2023-05-18T15:18:27.493Z"
   },
   {
    "duration": 4,
    "start_time": "2023-05-18T15:19:09.026Z"
   },
   {
    "duration": 13,
    "start_time": "2023-05-18T15:22:44.427Z"
   },
   {
    "duration": 92,
    "start_time": "2023-05-18T15:23:39.793Z"
   },
   {
    "duration": 11,
    "start_time": "2023-05-18T15:24:29.584Z"
   },
   {
    "duration": 24,
    "start_time": "2023-05-18T15:36:04.261Z"
   },
   {
    "duration": 23,
    "start_time": "2023-05-18T15:37:52.494Z"
   },
   {
    "duration": 18,
    "start_time": "2023-05-18T15:40:42.421Z"
   },
   {
    "duration": 17,
    "start_time": "2023-05-18T15:41:08.017Z"
   },
   {
    "duration": 16,
    "start_time": "2023-05-18T15:41:42.083Z"
   },
   {
    "duration": 29,
    "start_time": "2023-05-18T15:46:20.169Z"
   },
   {
    "duration": 22,
    "start_time": "2023-05-18T15:47:10.092Z"
   },
   {
    "duration": 17,
    "start_time": "2023-05-18T15:47:14.407Z"
   },
   {
    "duration": 8,
    "start_time": "2023-05-18T15:54:05.454Z"
   },
   {
    "duration": 108,
    "start_time": "2023-05-18T15:54:16.915Z"
   },
   {
    "duration": 4,
    "start_time": "2023-05-18T15:54:25.513Z"
   },
   {
    "duration": 13,
    "start_time": "2023-05-18T15:54:33.402Z"
   },
   {
    "duration": 21,
    "start_time": "2023-05-18T15:54:55.601Z"
   },
   {
    "duration": 14,
    "start_time": "2023-05-18T15:57:00.304Z"
   },
   {
    "duration": 25,
    "start_time": "2023-05-18T16:04:02.491Z"
   },
   {
    "duration": 22,
    "start_time": "2023-05-18T16:04:12.208Z"
   },
   {
    "duration": 22,
    "start_time": "2023-05-18T16:04:20.789Z"
   },
   {
    "duration": 26,
    "start_time": "2023-05-18T16:05:01.348Z"
   },
   {
    "duration": 21,
    "start_time": "2023-05-18T16:06:44.107Z"
   },
   {
    "duration": 16,
    "start_time": "2023-05-18T16:07:24.913Z"
   },
   {
    "duration": 31,
    "start_time": "2023-05-18T16:08:16.746Z"
   },
   {
    "duration": 20,
    "start_time": "2023-05-18T16:09:15.374Z"
   },
   {
    "duration": 15,
    "start_time": "2023-05-18T16:09:45.231Z"
   },
   {
    "duration": 21,
    "start_time": "2023-05-18T16:10:23.614Z"
   },
   {
    "duration": 3,
    "start_time": "2023-05-18T16:11:09.677Z"
   },
   {
    "duration": 21,
    "start_time": "2023-05-18T16:11:20.003Z"
   },
   {
    "duration": 26,
    "start_time": "2023-05-18T16:12:07.863Z"
   },
   {
    "duration": 31,
    "start_time": "2023-05-18T16:13:17.942Z"
   },
   {
    "duration": 14,
    "start_time": "2023-05-18T16:13:41.714Z"
   },
   {
    "duration": 20,
    "start_time": "2023-05-18T16:20:29.804Z"
   },
   {
    "duration": 25,
    "start_time": "2023-05-18T16:20:42.048Z"
   },
   {
    "duration": 22,
    "start_time": "2023-05-18T16:20:49.640Z"
   },
   {
    "duration": 24,
    "start_time": "2023-05-18T16:21:37.109Z"
   },
   {
    "duration": 14,
    "start_time": "2023-05-18T16:21:48.140Z"
   },
   {
    "duration": 26,
    "start_time": "2023-05-18T16:24:57.188Z"
   },
   {
    "duration": 13,
    "start_time": "2023-05-18T16:25:28.603Z"
   },
   {
    "duration": 12,
    "start_time": "2023-05-18T16:26:21.087Z"
   },
   {
    "duration": 102,
    "start_time": "2023-05-18T16:32:25.158Z"
   },
   {
    "duration": 513,
    "start_time": "2023-05-18T16:37:01.983Z"
   },
   {
    "duration": 8925,
    "start_time": "2023-05-18T16:37:02.498Z"
   },
   {
    "duration": 4,
    "start_time": "2023-05-18T16:37:11.425Z"
   },
   {
    "duration": 83,
    "start_time": "2023-05-18T16:37:11.431Z"
   },
   {
    "duration": 23,
    "start_time": "2023-05-18T16:37:11.516Z"
   },
   {
    "duration": 38,
    "start_time": "2023-05-18T16:37:11.541Z"
   },
   {
    "duration": 36,
    "start_time": "2023-05-18T16:37:11.581Z"
   },
   {
    "duration": 30,
    "start_time": "2023-05-18T16:37:11.619Z"
   },
   {
    "duration": 17,
    "start_time": "2023-05-18T16:37:11.651Z"
   },
   {
    "duration": 36,
    "start_time": "2023-05-18T16:37:11.671Z"
   },
   {
    "duration": 11,
    "start_time": "2023-05-18T16:37:11.709Z"
   },
   {
    "duration": 22,
    "start_time": "2023-05-18T16:37:11.721Z"
   },
   {
    "duration": 131,
    "start_time": "2023-05-18T16:37:11.779Z"
   },
   {
    "duration": 13,
    "start_time": "2023-05-18T16:37:19.970Z"
   },
   {
    "duration": 86,
    "start_time": "2023-05-19T10:25:01.495Z"
   },
   {
    "duration": 613,
    "start_time": "2023-05-19T10:25:21.783Z"
   },
   {
    "duration": 9191,
    "start_time": "2023-05-19T10:25:22.399Z"
   },
   {
    "duration": 5,
    "start_time": "2023-05-19T10:25:31.592Z"
   },
   {
    "duration": 102,
    "start_time": "2023-05-19T10:25:31.600Z"
   },
   {
    "duration": 40,
    "start_time": "2023-05-19T10:25:31.704Z"
   },
   {
    "duration": 61,
    "start_time": "2023-05-19T10:25:31.747Z"
   },
   {
    "duration": 59,
    "start_time": "2023-05-19T10:25:31.811Z"
   },
   {
    "duration": 57,
    "start_time": "2023-05-19T10:25:31.872Z"
   },
   {
    "duration": 18,
    "start_time": "2023-05-19T10:25:31.931Z"
   },
   {
    "duration": 55,
    "start_time": "2023-05-19T10:25:31.951Z"
   },
   {
    "duration": 104,
    "start_time": "2023-05-19T10:25:32.008Z"
   },
   {
    "duration": 0,
    "start_time": "2023-05-19T10:25:32.114Z"
   },
   {
    "duration": 0,
    "start_time": "2023-05-19T10:25:32.116Z"
   },
   {
    "duration": 1,
    "start_time": "2023-05-19T10:25:32.117Z"
   },
   {
    "duration": 33,
    "start_time": "2023-05-19T10:26:09.754Z"
   },
   {
    "duration": 12,
    "start_time": "2023-05-19T10:28:01.983Z"
   },
   {
    "duration": 12,
    "start_time": "2023-05-19T10:28:47.044Z"
   },
   {
    "duration": 18,
    "start_time": "2023-05-19T10:29:03.597Z"
   },
   {
    "duration": 22,
    "start_time": "2023-05-19T10:29:21.186Z"
   },
   {
    "duration": 30,
    "start_time": "2023-05-19T10:29:30.889Z"
   },
   {
    "duration": 81,
    "start_time": "2023-05-19T10:30:46.220Z"
   },
   {
    "duration": 604,
    "start_time": "2023-05-19T10:31:12.144Z"
   },
   {
    "duration": 9284,
    "start_time": "2023-05-19T10:31:12.751Z"
   },
   {
    "duration": 4,
    "start_time": "2023-05-19T10:31:22.037Z"
   },
   {
    "duration": 93,
    "start_time": "2023-05-19T10:31:22.045Z"
   },
   {
    "duration": 48,
    "start_time": "2023-05-19T10:31:22.140Z"
   },
   {
    "duration": 26,
    "start_time": "2023-05-19T10:31:22.190Z"
   },
   {
    "duration": 57,
    "start_time": "2023-05-19T10:31:22.218Z"
   },
   {
    "duration": 63,
    "start_time": "2023-05-19T10:31:22.276Z"
   },
   {
    "duration": 13,
    "start_time": "2023-05-19T10:31:22.341Z"
   },
   {
    "duration": 41,
    "start_time": "2023-05-19T10:31:22.357Z"
   },
   {
    "duration": 18,
    "start_time": "2023-05-19T10:31:22.400Z"
   },
   {
    "duration": 9,
    "start_time": "2023-05-19T10:31:22.421Z"
   },
   {
    "duration": 13,
    "start_time": "2023-05-19T10:31:22.432Z"
   },
   {
    "duration": 38,
    "start_time": "2023-05-19T10:31:22.447Z"
   },
   {
    "duration": 17,
    "start_time": "2023-05-19T10:31:22.487Z"
   }
  ],
  "kernelspec": {
   "display_name": "Python 3 (ipykernel)",
   "language": "python",
   "name": "python3"
  },
  "language_info": {
   "codemirror_mode": {
    "name": "ipython",
    "version": 3
   },
   "file_extension": ".py",
   "mimetype": "text/x-python",
   "name": "python",
   "nbconvert_exporter": "python",
   "pygments_lexer": "ipython3",
   "version": "3.9.13"
  },
  "toc": {
   "base_numbering": 1,
   "nav_menu": {},
   "number_sections": true,
   "sideBar": true,
   "skip_h1_title": true,
   "title_cell": "Table of Contents",
   "title_sidebar": "Contents",
   "toc_cell": false,
   "toc_position": {},
   "toc_section_display": true,
   "toc_window_display": true
  }
 },
 "nbformat": 4,
 "nbformat_minor": 2
}
