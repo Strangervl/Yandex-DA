{
 "cells": [
  {
   "cell_type": "markdown",
   "metadata": {},
   "source": [
    "# Описание проекта"
   ]
  },
  {
   "cell_type": "markdown",
   "metadata": {},
   "source": [
    "Вы работаете в интернет-магазине «Стримчик», который продаёт по всему миру компьютерные игры. Из открытых источников доступны исторические данные о продажах игр, оценки пользователей и экспертов, жанры и платформы (например, Xbox или PlayStation). Вам нужно выявить определяющие успешность игры закономерности. Это позволит сделать ставку на потенциально популярный продукт и спланировать рекламные кампании.\n",
    "\n",
    "Перед вами данные до 2016 года. Представим, что сейчас декабрь 2016 г., и вы планируете кампанию на 2017-й. Нужно отработать принцип работы с данными. Неважно, прогнозируете ли вы продажи на 2017 год по данным 2016-го или же 2027-й — по данным 2026 года.\n",
    "\n",
    "В наборе данных попадается аббревиатура ESRB (Entertainment Software Rating Board) — это ассоциация, определяющая возрастной рейтинг компьютерных игр. ESRB оценивает игровой контент и присваивает ему подходящую возрастную категорию, например, «Для взрослых», «Для детей младшего возраста» или «Для подростков»."
   ]
  },
  {
   "cell_type": "markdown",
   "metadata": {},
   "source": [
    "# Описание данных\n",
    "* Name — название игры\n",
    "* Platform — платформа\n",
    "* Year_of_Release — год выпуска\n",
    "* Genre — жанр игры\n",
    "* NA_sales — продажи в Северной Америке (миллионы проданных копий)\n",
    "* EU_sales — продажи в Европе (миллионы проданных копий)\n",
    "* JP_sales — продажи в Японии (миллионы проданных копий)\n",
    "* Other_sales — продажи в других странах (миллионы проданных копий)\n",
    "* Critic_Score — оценка критиков (максимум 100)\n",
    "* User_Score — оценка пользователей (максимум 10)\n",
    "* Rating — рейтинг от организации ESRB (англ. Entertainment Software Rating Board). Эта ассоциация определяет рейтинг компьютерных игр и присваивает им подходящую возрастную категорию.\n",
    "\n",
    "Данные за 2016 год могут быть неполными."
   ]
  },
  {
   "cell_type": "markdown",
   "metadata": {},
   "source": [
    "## Открываем файл с данными и изучаем общую информацию"
   ]
  },
  {
   "cell_type": "code",
   "execution_count": 1,
   "metadata": {},
   "outputs": [],
   "source": [
    "import pandas as pd\n",
    "import matplotlib.pyplot as plt\n",
    "import numpy as np\n",
    "import seaborn as sns\n",
    "from scipy import stats as st"
   ]
  },
  {
   "cell_type": "code",
   "execution_count": 2,
   "metadata": {},
   "outputs": [],
   "source": [
    "try:\n",
    "    data = pd.read_csv('/datasets/games.csv')\n",
    "except:\n",
    "    data = pd.read_csv('https://code.s3.yandex.net/datasets/games.csv')"
   ]
  },
  {
   "cell_type": "markdown",
   "metadata": {},
   "source": [
    "**Выведем первые 20 строчек датафрейма `data` на экран.**"
   ]
  },
  {
   "cell_type": "code",
   "execution_count": 3,
   "metadata": {
    "scrolled": true
   },
   "outputs": [
    {
     "data": {
      "text/html": [
       "<div>\n",
       "<style scoped>\n",
       "    .dataframe tbody tr th:only-of-type {\n",
       "        vertical-align: middle;\n",
       "    }\n",
       "\n",
       "    .dataframe tbody tr th {\n",
       "        vertical-align: top;\n",
       "    }\n",
       "\n",
       "    .dataframe thead th {\n",
       "        text-align: right;\n",
       "    }\n",
       "</style>\n",
       "<table border=\"1\" class=\"dataframe\">\n",
       "  <thead>\n",
       "    <tr style=\"text-align: right;\">\n",
       "      <th></th>\n",
       "      <th>Name</th>\n",
       "      <th>Platform</th>\n",
       "      <th>Year_of_Release</th>\n",
       "      <th>Genre</th>\n",
       "      <th>NA_sales</th>\n",
       "      <th>EU_sales</th>\n",
       "      <th>JP_sales</th>\n",
       "      <th>Other_sales</th>\n",
       "      <th>Critic_Score</th>\n",
       "      <th>User_Score</th>\n",
       "      <th>Rating</th>\n",
       "    </tr>\n",
       "  </thead>\n",
       "  <tbody>\n",
       "    <tr>\n",
       "      <th>0</th>\n",
       "      <td>Wii Sports</td>\n",
       "      <td>Wii</td>\n",
       "      <td>2006.0</td>\n",
       "      <td>Sports</td>\n",
       "      <td>41.36</td>\n",
       "      <td>28.96</td>\n",
       "      <td>3.77</td>\n",
       "      <td>8.45</td>\n",
       "      <td>76.0</td>\n",
       "      <td>8</td>\n",
       "      <td>E</td>\n",
       "    </tr>\n",
       "    <tr>\n",
       "      <th>1</th>\n",
       "      <td>Super Mario Bros.</td>\n",
       "      <td>NES</td>\n",
       "      <td>1985.0</td>\n",
       "      <td>Platform</td>\n",
       "      <td>29.08</td>\n",
       "      <td>3.58</td>\n",
       "      <td>6.81</td>\n",
       "      <td>0.77</td>\n",
       "      <td>NaN</td>\n",
       "      <td>NaN</td>\n",
       "      <td>NaN</td>\n",
       "    </tr>\n",
       "    <tr>\n",
       "      <th>2</th>\n",
       "      <td>Mario Kart Wii</td>\n",
       "      <td>Wii</td>\n",
       "      <td>2008.0</td>\n",
       "      <td>Racing</td>\n",
       "      <td>15.68</td>\n",
       "      <td>12.76</td>\n",
       "      <td>3.79</td>\n",
       "      <td>3.29</td>\n",
       "      <td>82.0</td>\n",
       "      <td>8.3</td>\n",
       "      <td>E</td>\n",
       "    </tr>\n",
       "    <tr>\n",
       "      <th>3</th>\n",
       "      <td>Wii Sports Resort</td>\n",
       "      <td>Wii</td>\n",
       "      <td>2009.0</td>\n",
       "      <td>Sports</td>\n",
       "      <td>15.61</td>\n",
       "      <td>10.93</td>\n",
       "      <td>3.28</td>\n",
       "      <td>2.95</td>\n",
       "      <td>80.0</td>\n",
       "      <td>8</td>\n",
       "      <td>E</td>\n",
       "    </tr>\n",
       "    <tr>\n",
       "      <th>4</th>\n",
       "      <td>Pokemon Red/Pokemon Blue</td>\n",
       "      <td>GB</td>\n",
       "      <td>1996.0</td>\n",
       "      <td>Role-Playing</td>\n",
       "      <td>11.27</td>\n",
       "      <td>8.89</td>\n",
       "      <td>10.22</td>\n",
       "      <td>1.00</td>\n",
       "      <td>NaN</td>\n",
       "      <td>NaN</td>\n",
       "      <td>NaN</td>\n",
       "    </tr>\n",
       "    <tr>\n",
       "      <th>5</th>\n",
       "      <td>Tetris</td>\n",
       "      <td>GB</td>\n",
       "      <td>1989.0</td>\n",
       "      <td>Puzzle</td>\n",
       "      <td>23.20</td>\n",
       "      <td>2.26</td>\n",
       "      <td>4.22</td>\n",
       "      <td>0.58</td>\n",
       "      <td>NaN</td>\n",
       "      <td>NaN</td>\n",
       "      <td>NaN</td>\n",
       "    </tr>\n",
       "    <tr>\n",
       "      <th>6</th>\n",
       "      <td>New Super Mario Bros.</td>\n",
       "      <td>DS</td>\n",
       "      <td>2006.0</td>\n",
       "      <td>Platform</td>\n",
       "      <td>11.28</td>\n",
       "      <td>9.14</td>\n",
       "      <td>6.50</td>\n",
       "      <td>2.88</td>\n",
       "      <td>89.0</td>\n",
       "      <td>8.5</td>\n",
       "      <td>E</td>\n",
       "    </tr>\n",
       "    <tr>\n",
       "      <th>7</th>\n",
       "      <td>Wii Play</td>\n",
       "      <td>Wii</td>\n",
       "      <td>2006.0</td>\n",
       "      <td>Misc</td>\n",
       "      <td>13.96</td>\n",
       "      <td>9.18</td>\n",
       "      <td>2.93</td>\n",
       "      <td>2.84</td>\n",
       "      <td>58.0</td>\n",
       "      <td>6.6</td>\n",
       "      <td>E</td>\n",
       "    </tr>\n",
       "    <tr>\n",
       "      <th>8</th>\n",
       "      <td>New Super Mario Bros. Wii</td>\n",
       "      <td>Wii</td>\n",
       "      <td>2009.0</td>\n",
       "      <td>Platform</td>\n",
       "      <td>14.44</td>\n",
       "      <td>6.94</td>\n",
       "      <td>4.70</td>\n",
       "      <td>2.24</td>\n",
       "      <td>87.0</td>\n",
       "      <td>8.4</td>\n",
       "      <td>E</td>\n",
       "    </tr>\n",
       "    <tr>\n",
       "      <th>9</th>\n",
       "      <td>Duck Hunt</td>\n",
       "      <td>NES</td>\n",
       "      <td>1984.0</td>\n",
       "      <td>Shooter</td>\n",
       "      <td>26.93</td>\n",
       "      <td>0.63</td>\n",
       "      <td>0.28</td>\n",
       "      <td>0.47</td>\n",
       "      <td>NaN</td>\n",
       "      <td>NaN</td>\n",
       "      <td>NaN</td>\n",
       "    </tr>\n",
       "    <tr>\n",
       "      <th>10</th>\n",
       "      <td>Nintendogs</td>\n",
       "      <td>DS</td>\n",
       "      <td>2005.0</td>\n",
       "      <td>Simulation</td>\n",
       "      <td>9.05</td>\n",
       "      <td>10.95</td>\n",
       "      <td>1.93</td>\n",
       "      <td>2.74</td>\n",
       "      <td>NaN</td>\n",
       "      <td>NaN</td>\n",
       "      <td>NaN</td>\n",
       "    </tr>\n",
       "    <tr>\n",
       "      <th>11</th>\n",
       "      <td>Mario Kart DS</td>\n",
       "      <td>DS</td>\n",
       "      <td>2005.0</td>\n",
       "      <td>Racing</td>\n",
       "      <td>9.71</td>\n",
       "      <td>7.47</td>\n",
       "      <td>4.13</td>\n",
       "      <td>1.90</td>\n",
       "      <td>91.0</td>\n",
       "      <td>8.6</td>\n",
       "      <td>E</td>\n",
       "    </tr>\n",
       "    <tr>\n",
       "      <th>12</th>\n",
       "      <td>Pokemon Gold/Pokemon Silver</td>\n",
       "      <td>GB</td>\n",
       "      <td>1999.0</td>\n",
       "      <td>Role-Playing</td>\n",
       "      <td>9.00</td>\n",
       "      <td>6.18</td>\n",
       "      <td>7.20</td>\n",
       "      <td>0.71</td>\n",
       "      <td>NaN</td>\n",
       "      <td>NaN</td>\n",
       "      <td>NaN</td>\n",
       "    </tr>\n",
       "    <tr>\n",
       "      <th>13</th>\n",
       "      <td>Wii Fit</td>\n",
       "      <td>Wii</td>\n",
       "      <td>2007.0</td>\n",
       "      <td>Sports</td>\n",
       "      <td>8.92</td>\n",
       "      <td>8.03</td>\n",
       "      <td>3.60</td>\n",
       "      <td>2.15</td>\n",
       "      <td>80.0</td>\n",
       "      <td>7.7</td>\n",
       "      <td>E</td>\n",
       "    </tr>\n",
       "    <tr>\n",
       "      <th>14</th>\n",
       "      <td>Kinect Adventures!</td>\n",
       "      <td>X360</td>\n",
       "      <td>2010.0</td>\n",
       "      <td>Misc</td>\n",
       "      <td>15.00</td>\n",
       "      <td>4.89</td>\n",
       "      <td>0.24</td>\n",
       "      <td>1.69</td>\n",
       "      <td>61.0</td>\n",
       "      <td>6.3</td>\n",
       "      <td>E</td>\n",
       "    </tr>\n",
       "    <tr>\n",
       "      <th>15</th>\n",
       "      <td>Wii Fit Plus</td>\n",
       "      <td>Wii</td>\n",
       "      <td>2009.0</td>\n",
       "      <td>Sports</td>\n",
       "      <td>9.01</td>\n",
       "      <td>8.49</td>\n",
       "      <td>2.53</td>\n",
       "      <td>1.77</td>\n",
       "      <td>80.0</td>\n",
       "      <td>7.4</td>\n",
       "      <td>E</td>\n",
       "    </tr>\n",
       "    <tr>\n",
       "      <th>16</th>\n",
       "      <td>Grand Theft Auto V</td>\n",
       "      <td>PS3</td>\n",
       "      <td>2013.0</td>\n",
       "      <td>Action</td>\n",
       "      <td>7.02</td>\n",
       "      <td>9.09</td>\n",
       "      <td>0.98</td>\n",
       "      <td>3.96</td>\n",
       "      <td>97.0</td>\n",
       "      <td>8.2</td>\n",
       "      <td>M</td>\n",
       "    </tr>\n",
       "    <tr>\n",
       "      <th>17</th>\n",
       "      <td>Grand Theft Auto: San Andreas</td>\n",
       "      <td>PS2</td>\n",
       "      <td>2004.0</td>\n",
       "      <td>Action</td>\n",
       "      <td>9.43</td>\n",
       "      <td>0.40</td>\n",
       "      <td>0.41</td>\n",
       "      <td>10.57</td>\n",
       "      <td>95.0</td>\n",
       "      <td>9</td>\n",
       "      <td>M</td>\n",
       "    </tr>\n",
       "    <tr>\n",
       "      <th>18</th>\n",
       "      <td>Super Mario World</td>\n",
       "      <td>SNES</td>\n",
       "      <td>1990.0</td>\n",
       "      <td>Platform</td>\n",
       "      <td>12.78</td>\n",
       "      <td>3.75</td>\n",
       "      <td>3.54</td>\n",
       "      <td>0.55</td>\n",
       "      <td>NaN</td>\n",
       "      <td>NaN</td>\n",
       "      <td>NaN</td>\n",
       "    </tr>\n",
       "    <tr>\n",
       "      <th>19</th>\n",
       "      <td>Brain Age: Train Your Brain in Minutes a Day</td>\n",
       "      <td>DS</td>\n",
       "      <td>2005.0</td>\n",
       "      <td>Misc</td>\n",
       "      <td>4.74</td>\n",
       "      <td>9.20</td>\n",
       "      <td>4.16</td>\n",
       "      <td>2.04</td>\n",
       "      <td>77.0</td>\n",
       "      <td>7.9</td>\n",
       "      <td>E</td>\n",
       "    </tr>\n",
       "  </tbody>\n",
       "</table>\n",
       "</div>"
      ],
      "text/plain": [
       "                                            Name Platform  Year_of_Release  \\\n",
       "0                                     Wii Sports      Wii           2006.0   \n",
       "1                              Super Mario Bros.      NES           1985.0   \n",
       "2                                 Mario Kart Wii      Wii           2008.0   \n",
       "3                              Wii Sports Resort      Wii           2009.0   \n",
       "4                       Pokemon Red/Pokemon Blue       GB           1996.0   \n",
       "5                                         Tetris       GB           1989.0   \n",
       "6                          New Super Mario Bros.       DS           2006.0   \n",
       "7                                       Wii Play      Wii           2006.0   \n",
       "8                      New Super Mario Bros. Wii      Wii           2009.0   \n",
       "9                                      Duck Hunt      NES           1984.0   \n",
       "10                                    Nintendogs       DS           2005.0   \n",
       "11                                 Mario Kart DS       DS           2005.0   \n",
       "12                   Pokemon Gold/Pokemon Silver       GB           1999.0   \n",
       "13                                       Wii Fit      Wii           2007.0   \n",
       "14                            Kinect Adventures!     X360           2010.0   \n",
       "15                                  Wii Fit Plus      Wii           2009.0   \n",
       "16                            Grand Theft Auto V      PS3           2013.0   \n",
       "17                 Grand Theft Auto: San Andreas      PS2           2004.0   \n",
       "18                             Super Mario World     SNES           1990.0   \n",
       "19  Brain Age: Train Your Brain in Minutes a Day       DS           2005.0   \n",
       "\n",
       "           Genre  NA_sales  EU_sales  JP_sales  Other_sales  Critic_Score  \\\n",
       "0         Sports     41.36     28.96      3.77         8.45          76.0   \n",
       "1       Platform     29.08      3.58      6.81         0.77           NaN   \n",
       "2         Racing     15.68     12.76      3.79         3.29          82.0   \n",
       "3         Sports     15.61     10.93      3.28         2.95          80.0   \n",
       "4   Role-Playing     11.27      8.89     10.22         1.00           NaN   \n",
       "5         Puzzle     23.20      2.26      4.22         0.58           NaN   \n",
       "6       Platform     11.28      9.14      6.50         2.88          89.0   \n",
       "7           Misc     13.96      9.18      2.93         2.84          58.0   \n",
       "8       Platform     14.44      6.94      4.70         2.24          87.0   \n",
       "9        Shooter     26.93      0.63      0.28         0.47           NaN   \n",
       "10    Simulation      9.05     10.95      1.93         2.74           NaN   \n",
       "11        Racing      9.71      7.47      4.13         1.90          91.0   \n",
       "12  Role-Playing      9.00      6.18      7.20         0.71           NaN   \n",
       "13        Sports      8.92      8.03      3.60         2.15          80.0   \n",
       "14          Misc     15.00      4.89      0.24         1.69          61.0   \n",
       "15        Sports      9.01      8.49      2.53         1.77          80.0   \n",
       "16        Action      7.02      9.09      0.98         3.96          97.0   \n",
       "17        Action      9.43      0.40      0.41        10.57          95.0   \n",
       "18      Platform     12.78      3.75      3.54         0.55           NaN   \n",
       "19          Misc      4.74      9.20      4.16         2.04          77.0   \n",
       "\n",
       "   User_Score Rating  \n",
       "0           8      E  \n",
       "1         NaN    NaN  \n",
       "2         8.3      E  \n",
       "3           8      E  \n",
       "4         NaN    NaN  \n",
       "5         NaN    NaN  \n",
       "6         8.5      E  \n",
       "7         6.6      E  \n",
       "8         8.4      E  \n",
       "9         NaN    NaN  \n",
       "10        NaN    NaN  \n",
       "11        8.6      E  \n",
       "12        NaN    NaN  \n",
       "13        7.7      E  \n",
       "14        6.3      E  \n",
       "15        7.4      E  \n",
       "16        8.2      M  \n",
       "17          9      M  \n",
       "18        NaN    NaN  \n",
       "19        7.9      E  "
      ]
     },
     "execution_count": 3,
     "metadata": {},
     "output_type": "execute_result"
    }
   ],
   "source": [
    "data.head(20)"
   ]
  },
  {
   "cell_type": "markdown",
   "metadata": {},
   "source": [
    "**Выведем основную информацию для датафрейма `data` с помощью метода `info()`**"
   ]
  },
  {
   "cell_type": "code",
   "execution_count": 4,
   "metadata": {},
   "outputs": [
    {
     "name": "stdout",
     "output_type": "stream",
     "text": [
      "<class 'pandas.core.frame.DataFrame'>\n",
      "RangeIndex: 16715 entries, 0 to 16714\n",
      "Data columns (total 11 columns):\n",
      " #   Column           Non-Null Count  Dtype  \n",
      "---  ------           --------------  -----  \n",
      " 0   Name             16713 non-null  object \n",
      " 1   Platform         16715 non-null  object \n",
      " 2   Year_of_Release  16446 non-null  float64\n",
      " 3   Genre            16713 non-null  object \n",
      " 4   NA_sales         16715 non-null  float64\n",
      " 5   EU_sales         16715 non-null  float64\n",
      " 6   JP_sales         16715 non-null  float64\n",
      " 7   Other_sales      16715 non-null  float64\n",
      " 8   Critic_Score     8137 non-null   float64\n",
      " 9   User_Score       10014 non-null  object \n",
      " 10  Rating           9949 non-null   object \n",
      "dtypes: float64(6), object(5)\n",
      "memory usage: 1.4+ MB\n"
     ]
    }
   ],
   "source": [
    "data.info()"
   ]
  },
  {
   "cell_type": "markdown",
   "metadata": {},
   "source": [
    "**Проверим колличество пропусков и в %:**"
   ]
  },
  {
   "cell_type": "code",
   "execution_count": 5,
   "metadata": {},
   "outputs": [
    {
     "data": {
      "text/plain": [
       "Name                  2\n",
       "Platform              0\n",
       "Year_of_Release     269\n",
       "Genre                 2\n",
       "NA_sales              0\n",
       "EU_sales              0\n",
       "JP_sales              0\n",
       "Other_sales           0\n",
       "Critic_Score       8578\n",
       "User_Score         6701\n",
       "Rating             6766\n",
       "dtype: int64"
      ]
     },
     "execution_count": 5,
     "metadata": {},
     "output_type": "execute_result"
    }
   ],
   "source": [
    "data.isna().sum()"
   ]
  },
  {
   "cell_type": "code",
   "execution_count": 6,
   "metadata": {},
   "outputs": [
    {
     "data": {
      "text/html": [
       "<style  type=\"text/css\" >\n",
       "#T_ab3d5_row0_col0,#T_ab3d5_row1_col0,#T_ab3d5_row3_col0,#T_ab3d5_row4_col0,#T_ab3d5_row5_col0,#T_ab3d5_row6_col0,#T_ab3d5_row7_col0{\n",
       "            background-color:  #3b4cc0;\n",
       "            color:  #f1f1f1;\n",
       "        }#T_ab3d5_row2_col0{\n",
       "            background-color:  #465ecf;\n",
       "            color:  #f1f1f1;\n",
       "        }#T_ab3d5_row8_col0{\n",
       "            background-color:  #b40426;\n",
       "            color:  #f1f1f1;\n",
       "        }#T_ab3d5_row9_col0,#T_ab3d5_row10_col0{\n",
       "            background-color:  #f08b6e;\n",
       "            color:  #000000;\n",
       "        }</style><table id=\"T_ab3d5_\" ><thead>    <tr>        <th class=\"blank level0\" ></th>        <th class=\"col_heading level0 col0\" >0</th>    </tr></thead><tbody>\n",
       "                <tr>\n",
       "                        <th id=\"T_ab3d5_level0_row0\" class=\"row_heading level0 row0\" >Name</th>\n",
       "                        <td id=\"T_ab3d5_row0_col0\" class=\"data row0 col0\" >0.000000</td>\n",
       "            </tr>\n",
       "            <tr>\n",
       "                        <th id=\"T_ab3d5_level0_row1\" class=\"row_heading level0 row1\" >Platform</th>\n",
       "                        <td id=\"T_ab3d5_row1_col0\" class=\"data row1 col0\" >0.000000</td>\n",
       "            </tr>\n",
       "            <tr>\n",
       "                        <th id=\"T_ab3d5_level0_row2\" class=\"row_heading level0 row2\" >Year_of_Release</th>\n",
       "                        <td id=\"T_ab3d5_row2_col0\" class=\"data row2 col0\" >2.000000</td>\n",
       "            </tr>\n",
       "            <tr>\n",
       "                        <th id=\"T_ab3d5_level0_row3\" class=\"row_heading level0 row3\" >Genre</th>\n",
       "                        <td id=\"T_ab3d5_row3_col0\" class=\"data row3 col0\" >0.000000</td>\n",
       "            </tr>\n",
       "            <tr>\n",
       "                        <th id=\"T_ab3d5_level0_row4\" class=\"row_heading level0 row4\" >NA_sales</th>\n",
       "                        <td id=\"T_ab3d5_row4_col0\" class=\"data row4 col0\" >0.000000</td>\n",
       "            </tr>\n",
       "            <tr>\n",
       "                        <th id=\"T_ab3d5_level0_row5\" class=\"row_heading level0 row5\" >EU_sales</th>\n",
       "                        <td id=\"T_ab3d5_row5_col0\" class=\"data row5 col0\" >0.000000</td>\n",
       "            </tr>\n",
       "            <tr>\n",
       "                        <th id=\"T_ab3d5_level0_row6\" class=\"row_heading level0 row6\" >JP_sales</th>\n",
       "                        <td id=\"T_ab3d5_row6_col0\" class=\"data row6 col0\" >0.000000</td>\n",
       "            </tr>\n",
       "            <tr>\n",
       "                        <th id=\"T_ab3d5_level0_row7\" class=\"row_heading level0 row7\" >Other_sales</th>\n",
       "                        <td id=\"T_ab3d5_row7_col0\" class=\"data row7 col0\" >0.000000</td>\n",
       "            </tr>\n",
       "            <tr>\n",
       "                        <th id=\"T_ab3d5_level0_row8\" class=\"row_heading level0 row8\" >Critic_Score</th>\n",
       "                        <td id=\"T_ab3d5_row8_col0\" class=\"data row8 col0\" >51.000000</td>\n",
       "            </tr>\n",
       "            <tr>\n",
       "                        <th id=\"T_ab3d5_level0_row9\" class=\"row_heading level0 row9\" >User_Score</th>\n",
       "                        <td id=\"T_ab3d5_row9_col0\" class=\"data row9 col0\" >40.000000</td>\n",
       "            </tr>\n",
       "            <tr>\n",
       "                        <th id=\"T_ab3d5_level0_row10\" class=\"row_heading level0 row10\" >Rating</th>\n",
       "                        <td id=\"T_ab3d5_row10_col0\" class=\"data row10 col0\" >40.000000</td>\n",
       "            </tr>\n",
       "    </tbody></table>"
      ],
      "text/plain": [
       "<pandas.io.formats.style.Styler at 0x7f9a8f05c910>"
      ]
     },
     "execution_count": 6,
     "metadata": {},
     "output_type": "execute_result"
    }
   ],
   "source": [
    "pd.DataFrame(round(data.isna().mean()*100,)).style.background_gradient('coolwarm')"
   ]
  },
  {
   "cell_type": "markdown",
   "metadata": {},
   "source": [
    "## Подготовка данных"
   ]
  },
  {
   "cell_type": "markdown",
   "metadata": {},
   "source": [
    "**Заменяем названия столбцов (приводим к нижнему регистру):**"
   ]
  },
  {
   "cell_type": "code",
   "execution_count": 7,
   "metadata": {},
   "outputs": [],
   "source": [
    "data.columns = data.columns.str.lower()"
   ]
  },
  {
   "cell_type": "markdown",
   "metadata": {},
   "source": [
    "**Пропусков в колонках `name` и `genre` всего по 2, этими данными можно пренебречь**"
   ]
  },
  {
   "cell_type": "code",
   "execution_count": 8,
   "metadata": {},
   "outputs": [],
   "source": [
    "data = data.dropna(subset=['name', 'genre'])"
   ]
  },
  {
   "cell_type": "markdown",
   "metadata": {},
   "source": [
    "**Преобразуем данные в нужные типы:**\n",
    "\n",
    "`year_of_release` - изменим на int и удалим пропуски"
   ]
  },
  {
   "cell_type": "code",
   "execution_count": 9,
   "metadata": {},
   "outputs": [],
   "source": [
    "data = data.dropna(subset=['year_of_release'])\n",
    "data['year_of_release'] = data['year_of_release'].astype('Int64')"
   ]
  },
  {
   "cell_type": "markdown",
   "metadata": {},
   "source": [
    "**Посмотрим уникальный значения столбца `user_score` так как тип данныз object довольно необычный для колонки с оценками:**"
   ]
  },
  {
   "cell_type": "code",
   "execution_count": 10,
   "metadata": {},
   "outputs": [
    {
     "data": {
      "text/plain": [
       "array(['8', nan, '8.3', '8.5', '6.6', '8.4', '8.6', '7.7', '6.3', '7.4',\n",
       "       '8.2', '9', '7.9', '8.1', '8.7', '7.1', '3.4', '5.3', '4.8', '3.2',\n",
       "       '8.9', '6.4', '7.8', '7.5', '2.6', '7.2', '9.2', '7', '7.3', '4.3',\n",
       "       '7.6', '5.7', '5', '9.1', '6.5', 'tbd', '8.8', '6.9', '9.4', '6.8',\n",
       "       '6.1', '6.7', '5.4', '4', '4.9', '4.5', '9.3', '6.2', '4.2', '6',\n",
       "       '3.7', '4.1', '5.8', '5.6', '5.5', '4.4', '4.6', '5.9', '3.9',\n",
       "       '3.1', '2.9', '5.2', '3.3', '4.7', '5.1', '3.5', '2.5', '1.9', '3',\n",
       "       '2.7', '2.2', '2', '9.5', '2.1', '3.6', '2.8', '1.8', '3.8', '0',\n",
       "       '1.6', '9.6', '2.4', '1.7', '1.1', '0.3', '1.5', '0.7', '1.2',\n",
       "       '2.3', '0.5', '1.3', '0.2', '0.6', '1.4', '0.9', '1', '9.7'],\n",
       "      dtype=object)"
      ]
     },
     "execution_count": 10,
     "metadata": {},
     "output_type": "execute_result"
    }
   ],
   "source": [
    "data['user_score'].unique()"
   ]
  },
  {
   "cell_type": "markdown",
   "metadata": {},
   "source": [
    "**Помимо оценок и пропусков присуствует значение 'tbd'. По гуглу TBD = To Be Determined, это означает что параметр будет определен позже. Значит на текущий момент для преведения к типу float64 запомним пропуски и 'tbd' 0:**"
   ]
  },
  {
   "cell_type": "code",
   "execution_count": 11,
   "metadata": {},
   "outputs": [],
   "source": [
    "data['user_score'] = data['user_score'].replace('tbd', 0)\n",
    "data['user_score'] = data['user_score'].fillna(0)\n",
    "data['user_score'] = data['user_score'].astype('float64')"
   ]
  },
  {
   "cell_type": "markdown",
   "metadata": {},
   "source": [
    "**Также заполним пропуски в 'critic_score' значением 0**"
   ]
  },
  {
   "cell_type": "code",
   "execution_count": 12,
   "metadata": {},
   "outputs": [],
   "source": [
    "data['critic_score'] = data['critic_score'].fillna(0)"
   ]
  },
  {
   "cell_type": "markdown",
   "metadata": {},
   "source": [
    "**Пропуски в колонке `rating` заменим 'not_rate':**\n",
    "\n"
   ]
  },
  {
   "cell_type": "code",
   "execution_count": 13,
   "metadata": {},
   "outputs": [],
   "source": [
    "data['rating'] = data['rating'].fillna('not_rate')"
   ]
  },
  {
   "cell_type": "markdown",
   "metadata": {},
   "source": [
    "**Выведем окончательну информацию и количество прорусков:**"
   ]
  },
  {
   "cell_type": "code",
   "execution_count": 14,
   "metadata": {},
   "outputs": [
    {
     "name": "stdout",
     "output_type": "stream",
     "text": [
      "<class 'pandas.core.frame.DataFrame'>\n",
      "Int64Index: 16444 entries, 0 to 16714\n",
      "Data columns (total 11 columns):\n",
      " #   Column           Non-Null Count  Dtype  \n",
      "---  ------           --------------  -----  \n",
      " 0   name             16444 non-null  object \n",
      " 1   platform         16444 non-null  object \n",
      " 2   year_of_release  16444 non-null  Int64  \n",
      " 3   genre            16444 non-null  object \n",
      " 4   na_sales         16444 non-null  float64\n",
      " 5   eu_sales         16444 non-null  float64\n",
      " 6   jp_sales         16444 non-null  float64\n",
      " 7   other_sales      16444 non-null  float64\n",
      " 8   critic_score     16444 non-null  float64\n",
      " 9   user_score       16444 non-null  float64\n",
      " 10  rating           16444 non-null  object \n",
      "dtypes: Int64(1), float64(6), object(4)\n",
      "memory usage: 1.5+ MB\n"
     ]
    },
    {
     "data": {
      "text/plain": [
       "name               0\n",
       "platform           0\n",
       "year_of_release    0\n",
       "genre              0\n",
       "na_sales           0\n",
       "eu_sales           0\n",
       "jp_sales           0\n",
       "other_sales        0\n",
       "critic_score       0\n",
       "user_score         0\n",
       "rating             0\n",
       "dtype: int64"
      ]
     },
     "execution_count": 14,
     "metadata": {},
     "output_type": "execute_result"
    }
   ],
   "source": [
    "data.info()\n",
    "data.isna().sum()"
   ]
  },
  {
   "cell_type": "code",
   "execution_count": 15,
   "metadata": {},
   "outputs": [
    {
     "data": {
      "text/html": [
       "<div>\n",
       "<style scoped>\n",
       "    .dataframe tbody tr th:only-of-type {\n",
       "        vertical-align: middle;\n",
       "    }\n",
       "\n",
       "    .dataframe tbody tr th {\n",
       "        vertical-align: top;\n",
       "    }\n",
       "\n",
       "    .dataframe thead th {\n",
       "        text-align: right;\n",
       "    }\n",
       "</style>\n",
       "<table border=\"1\" class=\"dataframe\">\n",
       "  <thead>\n",
       "    <tr style=\"text-align: right;\">\n",
       "      <th></th>\n",
       "      <th>name</th>\n",
       "      <th>platform</th>\n",
       "      <th>year_of_release</th>\n",
       "      <th>genre</th>\n",
       "      <th>na_sales</th>\n",
       "      <th>eu_sales</th>\n",
       "      <th>jp_sales</th>\n",
       "      <th>other_sales</th>\n",
       "      <th>critic_score</th>\n",
       "      <th>user_score</th>\n",
       "      <th>rating</th>\n",
       "    </tr>\n",
       "  </thead>\n",
       "  <tbody>\n",
       "    <tr>\n",
       "      <th>0</th>\n",
       "      <td>Wii Sports</td>\n",
       "      <td>Wii</td>\n",
       "      <td>2006</td>\n",
       "      <td>Sports</td>\n",
       "      <td>41.36</td>\n",
       "      <td>28.96</td>\n",
       "      <td>3.77</td>\n",
       "      <td>8.45</td>\n",
       "      <td>76.0</td>\n",
       "      <td>8.0</td>\n",
       "      <td>E</td>\n",
       "    </tr>\n",
       "    <tr>\n",
       "      <th>1</th>\n",
       "      <td>Super Mario Bros.</td>\n",
       "      <td>NES</td>\n",
       "      <td>1985</td>\n",
       "      <td>Platform</td>\n",
       "      <td>29.08</td>\n",
       "      <td>3.58</td>\n",
       "      <td>6.81</td>\n",
       "      <td>0.77</td>\n",
       "      <td>0.0</td>\n",
       "      <td>0.0</td>\n",
       "      <td>not_rate</td>\n",
       "    </tr>\n",
       "    <tr>\n",
       "      <th>2</th>\n",
       "      <td>Mario Kart Wii</td>\n",
       "      <td>Wii</td>\n",
       "      <td>2008</td>\n",
       "      <td>Racing</td>\n",
       "      <td>15.68</td>\n",
       "      <td>12.76</td>\n",
       "      <td>3.79</td>\n",
       "      <td>3.29</td>\n",
       "      <td>82.0</td>\n",
       "      <td>8.3</td>\n",
       "      <td>E</td>\n",
       "    </tr>\n",
       "    <tr>\n",
       "      <th>3</th>\n",
       "      <td>Wii Sports Resort</td>\n",
       "      <td>Wii</td>\n",
       "      <td>2009</td>\n",
       "      <td>Sports</td>\n",
       "      <td>15.61</td>\n",
       "      <td>10.93</td>\n",
       "      <td>3.28</td>\n",
       "      <td>2.95</td>\n",
       "      <td>80.0</td>\n",
       "      <td>8.0</td>\n",
       "      <td>E</td>\n",
       "    </tr>\n",
       "    <tr>\n",
       "      <th>4</th>\n",
       "      <td>Pokemon Red/Pokemon Blue</td>\n",
       "      <td>GB</td>\n",
       "      <td>1996</td>\n",
       "      <td>Role-Playing</td>\n",
       "      <td>11.27</td>\n",
       "      <td>8.89</td>\n",
       "      <td>10.22</td>\n",
       "      <td>1.00</td>\n",
       "      <td>0.0</td>\n",
       "      <td>0.0</td>\n",
       "      <td>not_rate</td>\n",
       "    </tr>\n",
       "  </tbody>\n",
       "</table>\n",
       "</div>"
      ],
      "text/plain": [
       "                       name platform  year_of_release         genre  na_sales  \\\n",
       "0                Wii Sports      Wii             2006        Sports     41.36   \n",
       "1         Super Mario Bros.      NES             1985      Platform     29.08   \n",
       "2            Mario Kart Wii      Wii             2008        Racing     15.68   \n",
       "3         Wii Sports Resort      Wii             2009        Sports     15.61   \n",
       "4  Pokemon Red/Pokemon Blue       GB             1996  Role-Playing     11.27   \n",
       "\n",
       "   eu_sales  jp_sales  other_sales  critic_score  user_score    rating  \n",
       "0     28.96      3.77         8.45          76.0         8.0         E  \n",
       "1      3.58      6.81         0.77           0.0         0.0  not_rate  \n",
       "2     12.76      3.79         3.29          82.0         8.3         E  \n",
       "3     10.93      3.28         2.95          80.0         8.0         E  \n",
       "4      8.89     10.22         1.00           0.0         0.0  not_rate  "
      ]
     },
     "execution_count": 15,
     "metadata": {},
     "output_type": "execute_result"
    }
   ],
   "source": [
    "data.head()"
   ]
  },
  {
   "cell_type": "markdown",
   "metadata": {},
   "source": [
    "**Также проверим на явные дубликаты:**"
   ]
  },
  {
   "cell_type": "code",
   "execution_count": 16,
   "metadata": {},
   "outputs": [
    {
     "data": {
      "text/plain": [
       "0"
      ]
     },
     "execution_count": 16,
     "metadata": {},
     "output_type": "execute_result"
    }
   ],
   "source": [
    "data.duplicated().sum()"
   ]
  },
  {
   "cell_type": "markdown",
   "metadata": {},
   "source": [
    "**Пропуски в колонках `name` и `genre` скорее всего связанны с ошибками при выгрузке данны. В колонке `rating` с тем, что игры выходили в регионе где нет организации которая дает эту оценку. Пропуски в `critic_score` могут означать что критики не дали оценку данной игре, а в `user_score` что оценок пользователей недостаточно на данном ресурсе для заполнения данного параметра.**"
   ]
  },
  {
   "cell_type": "markdown",
   "metadata": {},
   "source": [
    "**Посчитаем суммарные продажи во всех регионах и запишем их в отдельный столбец `total_sales`:**"
   ]
  },
  {
   "cell_type": "code",
   "execution_count": 17,
   "metadata": {},
   "outputs": [],
   "source": [
    "data['total_sales'] = data['na_sales'] + data['eu_sales'] + data['jp_sales'] + data['other_sales']"
   ]
  },
  {
   "cell_type": "markdown",
   "metadata": {},
   "source": [
    "## Иследовательский анализ данных"
   ]
  },
  {
   "cell_type": "markdown",
   "metadata": {},
   "source": [
    "**Посмотрим, сколько игр выпускалось в разные годы:**"
   ]
  },
  {
   "cell_type": "code",
   "execution_count": 18,
   "metadata": {},
   "outputs": [
    {
     "data": {
      "image/png": "[encoded data removed]",
      "text/plain": [
       "<Figure size 1008x576 with 1 Axes>"
      ]
     },
     "metadata": {
      "needs_background": "light"
     },
     "output_type": "display_data"
    }
   ],
   "source": [
    "data.groupby('year_of_release').agg({'name':'count'}).plot(kind='bar', xlim=(1980, 2022), ylabel='amount', xlabel='year',figsize=(14,8));"
   ]
  },
  {
   "cell_type": "markdown",
   "metadata": {},
   "source": [
    "Видим, что до начала девяностых игр выходило довольно мало, т. к. распостранение игровых устройств и домашних ПК было невелеко. Бурный рост наблюдается c 2002 по 2009 год, далее идет на спад."
   ]
  },
  {
   "cell_type": "markdown",
   "metadata": {},
   "source": [
    "**Посмотрим, как менялись продажи по платформам. Сначала выведем платформы с наибольшими суммарными продажами:**"
   ]
  },
  {
   "cell_type": "code",
   "execution_count": 19,
   "metadata": {},
   "outputs": [
    {
     "data": {
      "image/png": "[encoded data removed]",
      "text/plain": [
       "<Figure size 1008x576 with 1 Axes>"
      ]
     },
     "metadata": {
      "needs_background": "light"
     },
     "output_type": "display_data"
    }
   ],
   "source": [
    "data.groupby('platform').agg({'total_sales':'sum'}).sort_values(by='total_sales').plot(kind='barh', ylabel='amount', xlabel='platform',figsize=(14,8));"
   ]
  },
  {
   "cell_type": "markdown",
   "metadata": {},
   "source": [
    "**Выберем топ 12 платформ и построим распределение по годам (не могу я PC выбросить никак):**"
   ]
  },
  {
   "cell_type": "code",
   "execution_count": 20,
   "metadata": {},
   "outputs": [
    {
     "data": {
      "image/png": "[encoded data removed]",
      "text/plain": [
       "<Figure size 1440x720 with 1 Axes>"
      ]
     },
     "metadata": {
      "needs_background": "light"
     },
     "output_type": "display_data"
    }
   ],
   "source": [
    "top12 = data.groupby('platform').agg({'total_sales':'sum'}).sort_values(by='total_sales',ascending=False).head(12)\n",
    "top12_platforms = top12.index\n",
    "ax = plt.gca()\n",
    "legend = []\n",
    "for platform in top12_platforms:\n",
    "    platform_plot = data.query('platform == @platform')\n",
    "    platform_plot.groupby(['year_of_release']).agg({'total_sales':'sum'}).plot(kind='line', style='.-', figsize=(20, 10),ax=ax, ylabel='amount', xlabel='year of release')\n",
    "    legend.append(platform)\n",
    "ax.legend(legend)    \n",
    "plt.show;    "
   ]
  },
  {
   "cell_type": "markdown",
   "metadata": {},
   "source": [
    "Средний срок жизни платформы около 10 лет, хотя PC - исключенеи, живет с самого начала и до сих пор. "
   ]
  },
  {
   "cell_type": "markdown",
   "metadata": {},
   "source": [
    "**Так как средний срок жизни платформы около 10 лет, актуальный период выберем с 2006 по 2016 год. Посмотрим какик платформы лидируют по продажам, растут или падают. Выберем несколько потенциально прибыльных платформ.**"
   ]
  },
  {
   "cell_type": "code",
   "execution_count": 38,
   "metadata": {},
   "outputs": [
    {
     "data": {
      "image/png": "[encoded data removed]",
      "text/plain": [
       "<Figure size 1440x720 with 1 Axes>"
      ]
     },
     "metadata": {
      "needs_background": "light"
     },
     "output_type": "display_data"
    }
   ],
   "source": [
    "actual_data = data.query('year_of_release >= 2012')\n",
    "actual_data_platforms = actual_data['platform'].unique()\n",
    "ax = plt.gca()\n",
    "legend = []\n",
    "for platform in actual_data_platforms:\n",
    "    platform_plot = actual_data.query('platform == @platform')\n",
    "    platform_plot.groupby(['year_of_release']).agg({'total_sales':'sum'}).plot(kind='line', style='.-', figsize=(20, 10),ax=ax, ylabel='amount', xlabel='year of release')\n",
    "    legend.append(platform)\n",
    "ax.legend(legend)    \n",
    "plt.show;   "
   ]
  },
  {
   "cell_type": "markdown",
   "metadata": {},
   "source": [
    "На 2016 год в топе продаж платформы <b>PS3, X360 и PS4</b>. При этом количество выпускаемых игр падает."
   ]
  },
  {
   "cell_type": "markdown",
   "metadata": {},
   "source": [
    "**Построим график «ящик с усами» по глобальным продажам игр в разбивке по платформам:**"
   ]
  },
  {
   "cell_type": "code",
   "execution_count": 42,
   "metadata": {
    "scrolled": false
   },
   "outputs": [
    {
     "data": {
      "image/png": "[encoded data removed]",
      "text/plain": [
       "<Figure size 1440x720 with 1 Axes>"
      ]
     },
     "metadata": {
      "needs_background": "light"
     },
     "output_type": "display_data"
    }
   ],
   "source": [
    "data.groupby('platform').agg({'total_sales':'sum'}).boxplot(figsize=(20,10));"
   ]
  },
  {
   "cell_type": "markdown",
   "metadata": {},
   "source": [
    "Медианное значение продажи игр по платформам - 200 млн копий, среднее 284 млн. Особо удачливые платформы продают более 1 млрд копий."
   ]
  },
  {
   "cell_type": "code",
   "execution_count": 111,
   "metadata": {},
   "outputs": [
    {
     "data": {
      "image/png": "[encoded data removed]",
      "text/plain": [
       "<Figure size 1800x1440 with 1 Axes>"
      ]
     },
     "metadata": {
      "needs_background": "light"
     },
     "output_type": "display_data"
    }
   ],
   "source": [
    "actual_data.boxplot(column='total_sales', by='platform', figsize=(25,20))\n",
    "plt.show()"
   ]
  },
  {
   "cell_type": "code",
   "execution_count": 112,
   "metadata": {},
   "outputs": [
    {
     "data": {
      "text/html": [
       "<div>\n",
       "<style scoped>\n",
       "    .dataframe tbody tr th:only-of-type {\n",
       "        vertical-align: middle;\n",
       "    }\n",
       "\n",
       "    .dataframe tbody tr th {\n",
       "        vertical-align: top;\n",
       "    }\n",
       "\n",
       "    .dataframe thead th {\n",
       "        text-align: right;\n",
       "    }\n",
       "</style>\n",
       "<table border=\"1\" class=\"dataframe\">\n",
       "  <thead>\n",
       "    <tr style=\"text-align: right;\">\n",
       "      <th></th>\n",
       "      <th>count</th>\n",
       "      <th>mean</th>\n",
       "      <th>std</th>\n",
       "      <th>min</th>\n",
       "      <th>25%</th>\n",
       "      <th>50%</th>\n",
       "      <th>75%</th>\n",
       "      <th>max</th>\n",
       "    </tr>\n",
       "    <tr>\n",
       "      <th>platform</th>\n",
       "      <th></th>\n",
       "      <th></th>\n",
       "      <th></th>\n",
       "      <th></th>\n",
       "      <th></th>\n",
       "      <th></th>\n",
       "      <th></th>\n",
       "      <th></th>\n",
       "    </tr>\n",
       "  </thead>\n",
       "  <tbody>\n",
       "    <tr>\n",
       "      <th>3DS</th>\n",
       "      <td>396.0</td>\n",
       "      <td>0.491439</td>\n",
       "      <td>1.387161</td>\n",
       "      <td>0.01</td>\n",
       "      <td>0.0400</td>\n",
       "      <td>0.11</td>\n",
       "      <td>0.3125</td>\n",
       "      <td>14.60</td>\n",
       "    </tr>\n",
       "    <tr>\n",
       "      <th>DS</th>\n",
       "      <td>31.0</td>\n",
       "      <td>0.404839</td>\n",
       "      <td>1.439245</td>\n",
       "      <td>0.01</td>\n",
       "      <td>0.0200</td>\n",
       "      <td>0.05</td>\n",
       "      <td>0.1850</td>\n",
       "      <td>8.06</td>\n",
       "    </tr>\n",
       "    <tr>\n",
       "      <th>PC</th>\n",
       "      <td>250.0</td>\n",
       "      <td>0.250600</td>\n",
       "      <td>0.494640</td>\n",
       "      <td>0.01</td>\n",
       "      <td>0.0300</td>\n",
       "      <td>0.08</td>\n",
       "      <td>0.2400</td>\n",
       "      <td>5.14</td>\n",
       "    </tr>\n",
       "    <tr>\n",
       "      <th>PS3</th>\n",
       "      <td>493.0</td>\n",
       "      <td>0.585781</td>\n",
       "      <td>1.462855</td>\n",
       "      <td>0.01</td>\n",
       "      <td>0.0500</td>\n",
       "      <td>0.20</td>\n",
       "      <td>0.6100</td>\n",
       "      <td>21.05</td>\n",
       "    </tr>\n",
       "    <tr>\n",
       "      <th>PS4</th>\n",
       "      <td>392.0</td>\n",
       "      <td>0.801378</td>\n",
       "      <td>1.609456</td>\n",
       "      <td>0.01</td>\n",
       "      <td>0.0600</td>\n",
       "      <td>0.20</td>\n",
       "      <td>0.7300</td>\n",
       "      <td>14.63</td>\n",
       "    </tr>\n",
       "    <tr>\n",
       "      <th>PSP</th>\n",
       "      <td>173.0</td>\n",
       "      <td>0.064682</td>\n",
       "      <td>0.071296</td>\n",
       "      <td>0.01</td>\n",
       "      <td>0.0200</td>\n",
       "      <td>0.03</td>\n",
       "      <td>0.0900</td>\n",
       "      <td>0.36</td>\n",
       "    </tr>\n",
       "    <tr>\n",
       "      <th>PSV</th>\n",
       "      <td>411.0</td>\n",
       "      <td>0.119659</td>\n",
       "      <td>0.203011</td>\n",
       "      <td>0.01</td>\n",
       "      <td>0.0200</td>\n",
       "      <td>0.05</td>\n",
       "      <td>0.1200</td>\n",
       "      <td>1.96</td>\n",
       "    </tr>\n",
       "    <tr>\n",
       "      <th>Wii</th>\n",
       "      <td>54.0</td>\n",
       "      <td>0.655000</td>\n",
       "      <td>1.165447</td>\n",
       "      <td>0.01</td>\n",
       "      <td>0.0625</td>\n",
       "      <td>0.18</td>\n",
       "      <td>0.6875</td>\n",
       "      <td>6.76</td>\n",
       "    </tr>\n",
       "    <tr>\n",
       "      <th>WiiU</th>\n",
       "      <td>147.0</td>\n",
       "      <td>0.559116</td>\n",
       "      <td>1.058836</td>\n",
       "      <td>0.01</td>\n",
       "      <td>0.0800</td>\n",
       "      <td>0.22</td>\n",
       "      <td>0.5250</td>\n",
       "      <td>7.09</td>\n",
       "    </tr>\n",
       "    <tr>\n",
       "      <th>X360</th>\n",
       "      <td>292.0</td>\n",
       "      <td>0.810068</td>\n",
       "      <td>1.712069</td>\n",
       "      <td>0.01</td>\n",
       "      <td>0.1000</td>\n",
       "      <td>0.31</td>\n",
       "      <td>0.8700</td>\n",
       "      <td>16.27</td>\n",
       "    </tr>\n",
       "    <tr>\n",
       "      <th>XOne</th>\n",
       "      <td>247.0</td>\n",
       "      <td>0.645020</td>\n",
       "      <td>1.036139</td>\n",
       "      <td>0.01</td>\n",
       "      <td>0.0600</td>\n",
       "      <td>0.22</td>\n",
       "      <td>0.6850</td>\n",
       "      <td>7.39</td>\n",
       "    </tr>\n",
       "  </tbody>\n",
       "</table>\n",
       "</div>"
      ],
      "text/plain": [
       "          count      mean       std   min     25%   50%     75%    max\n",
       "platform                                                              \n",
       "3DS       396.0  0.491439  1.387161  0.01  0.0400  0.11  0.3125  14.60\n",
       "DS         31.0  0.404839  1.439245  0.01  0.0200  0.05  0.1850   8.06\n",
       "PC        250.0  0.250600  0.494640  0.01  0.0300  0.08  0.2400   5.14\n",
       "PS3       493.0  0.585781  1.462855  0.01  0.0500  0.20  0.6100  21.05\n",
       "PS4       392.0  0.801378  1.609456  0.01  0.0600  0.20  0.7300  14.63\n",
       "PSP       173.0  0.064682  0.071296  0.01  0.0200  0.03  0.0900   0.36\n",
       "PSV       411.0  0.119659  0.203011  0.01  0.0200  0.05  0.1200   1.96\n",
       "Wii        54.0  0.655000  1.165447  0.01  0.0625  0.18  0.6875   6.76\n",
       "WiiU      147.0  0.559116  1.058836  0.01  0.0800  0.22  0.5250   7.09\n",
       "X360      292.0  0.810068  1.712069  0.01  0.1000  0.31  0.8700  16.27\n",
       "XOne      247.0  0.645020  1.036139  0.01  0.0600  0.22  0.6850   7.39"
      ]
     },
     "execution_count": 112,
     "metadata": {},
     "output_type": "execute_result"
    }
   ],
   "source": [
    "actual_data.groupby('platform')['total_sales'].describe()"
   ]
  },
  {
   "cell_type": "markdown",
   "metadata": {},
   "source": [
    " - Исходя из графиков видно, что продажи на всех платфомах ведут себя по разному.\n",
    " - Можно выделить несколько платформ: PS3 и PS4 и Xbox One и X360. Их медианные значения продаж варьируюьтся от 0.58 до 0.81 млн копий.\n"
   ]
  },
  {
   "cell_type": "markdown",
   "metadata": {},
   "source": [
    "**Посмотрим, как влияют на продажи внутри самой популярной платформы PS2 отзывы пользователей и критиков:**"
   ]
  },
  {
   "cell_type": "markdown",
   "metadata": {},
   "source": [
    "Выбререм игры с пользвательским и рейтингом критиков выше 0:"
   ]
  },
  {
   "cell_type": "code",
   "execution_count": 23,
   "metadata": {},
   "outputs": [],
   "source": [
    "data_ps2 = data[(data['platform'] == 'PS2') & (data['critic_score'] > 0) & (data['user_score'] > 0)]"
   ]
  },
  {
   "cell_type": "markdown",
   "metadata": {},
   "source": [
    "Построим диаграмму рассеяния зависимости общего количества продаж игры от отзывов критиков и посчитаем корреляцию между отзывами и продажами:"
   ]
  },
  {
   "cell_type": "code",
   "execution_count": 24,
   "metadata": {},
   "outputs": [
    {
     "name": "stdout",
     "output_type": "stream",
     "text": [
      "0.38641510284059993\n"
     ]
    },
    {
     "data": {
      "image/png": "[encoded data removed]",
      "text/plain": [
       "<Figure size 1080x720 with 1 Axes>"
      ]
     },
     "metadata": {
      "needs_background": "light"
     },
     "output_type": "display_data"
    }
   ],
   "source": [
    "data_ps2.plot(kind='scatter', x='critic_score', y='total_sales', figsize=(15,10));\n",
    "print(data_ps2['critic_score'].corr(data_ps2['total_sales']))"
   ]
  },
  {
   "cell_type": "markdown",
   "metadata": {},
   "source": [
    "Мы видим слабую положительную корреряцию. Прямая зависимость между отзывами критиков и продажами есть но довольно слабая."
   ]
  },
  {
   "cell_type": "markdown",
   "metadata": {},
   "source": [
    "Построим диаграмму рассеяния зависимости общего количества продаж игр от отзывов пользователей и посчитаем корреляцию между отзывами и продажами:"
   ]
  },
  {
   "cell_type": "code",
   "execution_count": 25,
   "metadata": {
    "scrolled": false
   },
   "outputs": [
    {
     "name": "stdout",
     "output_type": "stream",
     "text": [
      "0.17168986651472423\n"
     ]
    },
    {
     "data": {
      "image/png": "[encoded data removed]",
      "text/plain": [
       "<Figure size 1080x720 with 1 Axes>"
      ]
     },
     "metadata": {
      "needs_background": "light"
     },
     "output_type": "display_data"
    }
   ],
   "source": [
    "data_ps2.plot(kind='scatter', x='user_score', y='total_sales', figsize=(15,10));\n",
    "print(data_ps2['user_score'].corr(data_ps2['total_sales']))"
   ]
  },
  {
   "cell_type": "markdown",
   "metadata": {},
   "source": [
    "Корреряция положительная, но еще слабее чем с отзывами критиков."
   ]
  },
  {
   "cell_type": "markdown",
   "metadata": {},
   "source": [
    "**Соотнесем выводы с продажами игр на других платформах:**"
   ]
  },
  {
   "cell_type": "markdown",
   "metadata": {},
   "source": []
  },
  {
   "cell_type": "markdown",
   "metadata": {},
   "source": [
    "Посчитаем корреляции между отзывами критиков и продажами топ 12 платформ:"
   ]
  },
  {
   "cell_type": "code",
   "execution_count": 26,
   "metadata": {},
   "outputs": [
    {
     "name": "stdout",
     "output_type": "stream",
     "text": [
      "0.39253647544509007\n",
      "0.39286589254006954\n",
      "0.4327589578997135\n",
      "0.17790728577594908\n",
      "0.23754579854113453\n",
      "0.4466897788670505\n",
      "0.40656790206178095\n",
      "0.24210693503333325\n",
      "0.31752451005134863\n",
      "0.3487397305984834\n",
      "0.257394718400985\n",
      "nan\n"
     ]
    }
   ],
   "source": [
    "for platform in top12_platforms:\n",
    "    data_for_corr = data[(data['platform'] == platform) & (data['critic_score'] > 0) & (data['critic_score'] > 0)]\n",
    "    print(data_for_corr['critic_score'].corr(data_for_corr['total_sales']))"
   ]
  },
  {
   "cell_type": "markdown",
   "metadata": {},
   "source": [
    "Посчитаем корреляции между отзывами пользователей и продажами топ 12 платформ:"
   ]
  },
  {
   "cell_type": "code",
   "execution_count": 27,
   "metadata": {},
   "outputs": [
    {
     "name": "stdout",
     "output_type": "stream",
     "text": [
      "0.17168986651472423\n",
      "0.11027967172869044\n",
      "0.14397783125701577\n",
      "0.11063675382808996\n",
      "0.13997552383458345\n",
      "0.3006075888418596\n",
      "-0.03362497596528878\n",
      "0.11008968104344417\n",
      "0.23271058709277362\n",
      "0.23208872237663558\n",
      "0.0035962323378451056\n",
      "nan\n"
     ]
    }
   ],
   "source": [
    "for platform in top12_platforms:\n",
    "    data_for_corr = data[(data['platform'] == platform) & (data['critic_score'] > 0) & (data['user_score'] > 0)]\n",
    "    print(data_for_corr['user_score'].corr(data_for_corr['total_sales']))"
   ]
  },
  {
   "cell_type": "markdown",
   "metadata": {},
   "source": [
    "В целом корреляции продаж с отзывами критиков и пользователей совпадают на многих платформах, за редким исключением где она отрицательная. Также есть платформа где вообще отсуствуют отзывы."
   ]
  },
  {
   "cell_type": "markdown",
   "metadata": {},
   "source": [
    "**Посмотрим на общее распределение игр по жанрам:**"
   ]
  },
  {
   "cell_type": "code",
   "execution_count": 113,
   "metadata": {},
   "outputs": [
    {
     "data": {
      "image/png": "[encoded data removed]",
      "text/plain": [
       "<Figure size 1008x576 with 1 Axes>"
      ]
     },
     "metadata": {
      "needs_background": "light"
     },
     "output_type": "display_data"
    }
   ],
   "source": [
    "actual_data.groupby('genre').agg({'total_sales':'sum'}).sort_values(by='total_sales').plot(kind='barh', ylabel='amount', xlabel='genre',figsize=(14,8));"
   ]
  },
  {
   "cell_type": "markdown",
   "metadata": {},
   "source": [
    "Продажи преобладают в жанрах <b>Action, Sports и Shooter</b>. Жанры <b>Strategy, Adventure и Puzzle</b> наименее востребованы пользователями."
   ]
  },
  {
   "cell_type": "markdown",
   "metadata": {},
   "source": [
    "Рассмотрим медианные и средние продажи:"
   ]
  },
  {
   "cell_type": "code",
   "execution_count": 121,
   "metadata": {},
   "outputs": [
    {
     "data": {
      "image/png": "[encoded data removed]",
      "text/plain": [
       "<Figure size 1008x576 with 1 Axes>"
      ]
     },
     "metadata": {
      "needs_background": "light"
     },
     "output_type": "display_data"
    },
    {
     "data": {
      "image/png": "[encoded data removed]",
      "text/plain": [
       "<Figure size 1008x576 with 1 Axes>"
      ]
     },
     "metadata": {
      "needs_background": "light"
     },
     "output_type": "display_data"
    }
   ],
   "source": [
    "actual_data.groupby('genre').agg({'total_sales':'median'}).sort_values(by='total_sales').plot(kind='barh', ylabel='amount', xlabel='genre',figsize=(14,8),title='median');\n",
    "actual_data.groupby('genre').agg({'total_sales':'mean'}).sort_values(by='total_sales').plot(kind='barh', ylabel='amount', xlabel='genre',figsize=(14,8),title='mean');"
   ]
  },
  {
   "cell_type": "markdown",
   "metadata": {},
   "source": [
    "Если смотреть по медианныи с средним продажам, то преобладают жанры Shooter, Sports и Platform. Жанр Action ухождит их топов. Жанры Strategy, Adventure и Puzzle все еще наименее востребованы пользователями.   "
   ]
  },
  {
   "cell_type": "markdown",
   "metadata": {},
   "source": [
    "## Составим портрет пользователя каждого региона"
   ]
  },
  {
   "cell_type": "markdown",
   "metadata": {},
   "source": [
    "**Самые популярные платформы (топ-5)**"
   ]
  },
  {
   "cell_type": "code",
   "execution_count": 122,
   "metadata": {},
   "outputs": [
    {
     "data": {
      "image/png": "[encoded data removed]",
      "text/plain": [
       "<Figure size 864x288 with 3 Axes>"
      ]
     },
     "metadata": {
      "needs_background": "light"
     },
     "output_type": "display_data"
    }
   ],
   "source": [
    "fig, axes = plt.subplots(1, 3, figsize=(12,4))\n",
    "actual_data.groupby('platform').agg({'na_sales':'sum'}).sort_values(by='na_sales', ascending=False).head(5).plot(kind='bar',ax=axes[0])\n",
    "actual_data.groupby('platform').agg({'eu_sales':'sum'}).sort_values(by='eu_sales', ascending=False).head(5).plot(kind='bar',ax=axes[1],color='green')\n",
    "actual_data.groupby('platform').agg({'jp_sales':'sum'}).sort_values(by='jp_sales', ascending=False).head(5).plot(kind='bar',ax=axes[2],color='orange');"
   ]
  },
  {
   "cell_type": "markdown",
   "metadata": {},
   "source": [
    "В <b>Северной Америке</b> самыми популярными за исследуемый период были <b>X360</b> и <b>PS4</b>, также <b>PS3, XOne</b> и <b>3DS</b> соответственно.\n",
    "\n",
    "В <b>Европе</b> популярны <b>PS4</b> и <b>PS3</b>, также <b>X360, XOne</b> и <b>3DS</b>\n",
    "\n",
    "В <b>Японии</b> же <b>3DS</b> и <b>PS3</b>, также <b>PSV, PS4</b> и <b>WiiU</b>"
   ]
  },
  {
   "cell_type": "markdown",
   "metadata": {},
   "source": [
    "**Самые популярные жанры (топ-5)**"
   ]
  },
  {
   "cell_type": "markdown",
   "metadata": {},
   "source": [
    "\n"
   ]
  },
  {
   "cell_type": "code",
   "execution_count": 123,
   "metadata": {},
   "outputs": [
    {
     "data": {
      "image/png": "[encoded data removed]",
      "text/plain": [
       "<Figure size 864x288 with 3 Axes>"
      ]
     },
     "metadata": {
      "needs_background": "light"
     },
     "output_type": "display_data"
    }
   ],
   "source": [
    "fig, axes = plt.subplots(1, 3, figsize=(12,4))\n",
    "actual_data.groupby('genre').agg({'na_sales':'sum'}).sort_values(by='na_sales', ascending=False).head(5).plot(kind='bar',ax=axes[0])\n",
    "actual_data.groupby('genre').agg({'eu_sales':'sum'}).sort_values(by='eu_sales', ascending=False).head(5).plot(kind='bar',ax=axes[1],color='green')\n",
    "actual_data.groupby('genre').agg({'jp_sales':'sum'}).sort_values(by='jp_sales', ascending=False).head(5).plot(kind='bar',ax=axes[2],color='orange');"
   ]
  },
  {
   "cell_type": "markdown",
   "metadata": {},
   "source": [
    "В <b>Северной Америке и Европе</b> самые популярные жанры схожи - <b>Action, Sport и Shooter</b>. В Японии же самый популярный жанр, лидирующий с большим отрывом, <b>Role-Playing</b> и потом только  <b>Action и Sport</b>"
   ]
  },
  {
   "cell_type": "markdown",
   "metadata": {},
   "source": [
    "**Влияние рейтинга ESRB на продажи в отдельном регионе.**"
   ]
  },
  {
   "cell_type": "code",
   "execution_count": 124,
   "metadata": {},
   "outputs": [
    {
     "data": {
      "image/png": "[encoded data removed]",
      "text/plain": [
       "<Figure size 864x288 with 3 Axes>"
      ]
     },
     "metadata": {
      "needs_background": "light"
     },
     "output_type": "display_data"
    }
   ],
   "source": [
    "fig, axes = plt.subplots(1, 3, figsize=(12,4))\n",
    "actual_data.groupby('rating').agg({'na_sales':'sum'}).sort_values(by='na_sales', ascending=False).plot(kind='bar',ax=axes[0])\n",
    "actual_data.groupby('rating').agg({'eu_sales':'sum'}).sort_values(by='eu_sales', ascending=False).plot(kind='bar',ax=axes[1],color='green')\n",
    "actual_data.groupby('rating').agg({'jp_sales':'sum'}).sort_values(by='jp_sales', ascending=False).plot(kind='bar',ax=axes[2],color='orange');"
   ]
  },
  {
   "cell_type": "markdown",
   "metadata": {},
   "source": [
    "В <b>Северной Америке</b> и в <b>Европе</b> все очень похоже. Больше всего продаются игры с рейтингом \"M\", далее \"E\" и \"без рейтинга\". \n",
    "\n",
    "В <b>Японии</b> больше всего продаются игры \"без рейтинга\", на втором месте с рейтингом \"E\", а далее \"T\" и \"M\"."
   ]
  },
  {
   "cell_type": "markdown",
   "metadata": {},
   "source": [
    "## Проверка гипотез."
   ]
  },
  {
   "cell_type": "markdown",
   "metadata": {},
   "source": [
    "Для проверки использовуем t-критерий Стьюдента для независимы между собой выборок.\n",
    "Пороговое значение alpha возмем общепринятое - 5%."
   ]
  },
  {
   "cell_type": "markdown",
   "metadata": {},
   "source": [
    "<b>Проверка гипотезы: средние пользовательские рейтинги платформ Xbox One и PC одинаковые;</b>\n",
    "\n",
    "H₀: Средние пользовательские рейтинги платформ Xbox One и PC одинаковые.\n",
    "\n",
    "H₁: Средние пользовательские рейтинги платформ Xbox One и PC отличаются."
   ]
  },
  {
   "cell_type": "code",
   "execution_count": 125,
   "metadata": {},
   "outputs": [
    {
     "name": "stdout",
     "output_type": "stream",
     "text": [
      "p-value = 0.5489537965134912\n",
      "Не получилось отвергнуть нулевую гипотезу\n"
     ]
    }
   ],
   "source": [
    "Xbox = actual_data[(actual_data['platform'] == 'XOne') & (actual_data['user_score'] > 0)]['user_score']\n",
    "PC = actual_data[(actual_data['platform'] == 'PC') & (actual_data['user_score'] > 0)]['user_score']\n",
    "results = st.ttest_ind(Xbox, PC, equal_var = False)\n",
    "                       \n",
    "alpha = 0.05\n",
    "print('p-value =',results.pvalue)\n",
    "if results.pvalue < alpha:\n",
    "    print(\"Отвергаем нулевую гипотезу\")\n",
    "else:\n",
    "    print(\"Не получилось отвергнуть нулевую гипотезу\") "
   ]
  },
  {
   "cell_type": "markdown",
   "metadata": {},
   "source": [
    "Средние пользовательские рейтинги платформ Xbox One и PC одинаковые."
   ]
  },
  {
   "cell_type": "markdown",
   "metadata": {},
   "source": [
    "<b>Проверка гипотезы: Средние пользовательские рейтинги жанров Action и Sports разные;</b>\n",
    "\n",
    "H₀: Средние пользовательские рейтинги жанров Action и Sports не отличаются.\n",
    "\n",
    "H₁: Средние пользовательские рейтинги жанров Action и Sports отличаются."
   ]
  },
  {
   "cell_type": "code",
   "execution_count": 127,
   "metadata": {},
   "outputs": [
    {
     "name": "stdout",
     "output_type": "stream",
     "text": [
      "p-value = 4.24307776572644e-20\n",
      "Отвергаем нулевую гипотезу\n"
     ]
    }
   ],
   "source": [
    "Action = actual_data[(actual_data['genre'] == 'Action') & (actual_data['user_score'] > 0)]['user_score']\n",
    "Sports = actual_data[(actual_data['genre'] == 'Sports') & (actual_data['user_score'] > 0)]['user_score']\n",
    "results = st.ttest_ind(Action, Sports, equal_var = False)\n",
    "                       \n",
    "alpha = 0.05\n",
    "print('p-value =',results.pvalue)\n",
    "if results.pvalue < alpha:\n",
    "    print(\"Отвергаем нулевую гипотезу\")\n",
    "else:\n",
    "    print(\"Не получилось отвергнуть нулевую гипотезу\") "
   ]
  },
  {
   "cell_type": "markdown",
   "metadata": {},
   "source": [
    "Средние пользовательские рейтинги жанров Action и Sports отличаются."
   ]
  },
  {
   "cell_type": "markdown",
   "metadata": {},
   "source": [
    "## Общий вывод"
   ]
  },
  {
   "cell_type": "markdown",
   "metadata": {},
   "source": [
    "1. Игры активно начинают продаваться с начала 2000-х тысячных годов, это связанно с массовым распостранением игровых платформ и PC. \n",
    "2. Средняя жизни игровой платформы около 10 лет, правда к PC это не относится.\n",
    "3. Больше всего на количество проданных копий влияли отзывы критиков и в меньшей мере отзывы пользователей. Хотя сейчас, как мне известно ситуация обратная.\n",
    "4. Наиболее распространенные жанры <b>Action, Sports, Shooter, Role-Playing</b>. Жанры <b>Strategy, Adventure и Puzzle</b> наименее востребованы пользователями.\n",
    "5. Есть некоторые региональные различия между жанровыми предпочтениями пользоватеолей, а также предпочтением игровых платформ.\n",
    "6. Влияние рейтинга ESRB на продажи в отдельном регионе не велико, т. к. он не везде есть.\n",
    "\n"
   ]
  }
 ],
 "metadata": {
  "ExecuteTimeLog": [
   {
    "duration": 1279,
    "start_time": "2022-12-20T09:29:30.911Z"
   },
   {
    "duration": 108,
    "start_time": "2022-12-20T09:31:21.393Z"
   },
   {
    "duration": 66,
    "start_time": "2022-12-20T09:32:17.521Z"
   },
   {
    "duration": 32,
    "start_time": "2022-12-20T09:33:19.795Z"
   },
   {
    "duration": 19,
    "start_time": "2022-12-20T09:35:40.853Z"
   },
   {
    "duration": 66,
    "start_time": "2022-12-20T09:43:59.456Z"
   },
   {
    "duration": 3,
    "start_time": "2022-12-20T09:53:05.364Z"
   },
   {
    "duration": 4,
    "start_time": "2022-12-20T09:53:21.143Z"
   },
   {
    "duration": 14,
    "start_time": "2022-12-20T09:53:29.130Z"
   },
   {
    "duration": 27,
    "start_time": "2022-12-20T09:59:19.350Z"
   },
   {
    "duration": 25,
    "start_time": "2022-12-20T10:00:04.557Z"
   },
   {
    "duration": 5,
    "start_time": "2022-12-20T10:07:35.779Z"
   },
   {
    "duration": 51,
    "start_time": "2022-12-20T10:12:26.902Z"
   },
   {
    "duration": 5,
    "start_time": "2022-12-20T10:58:23.693Z"
   },
   {
    "duration": 5,
    "start_time": "2022-12-20T11:10:56.066Z"
   },
   {
    "duration": 9,
    "start_time": "2022-12-20T11:13:33.426Z"
   },
   {
    "duration": 131,
    "start_time": "2022-12-20T11:14:01.647Z"
   },
   {
    "duration": 22,
    "start_time": "2022-12-20T11:14:19.611Z"
   },
   {
    "duration": 7,
    "start_time": "2022-12-20T11:14:43.268Z"
   },
   {
    "duration": 1247,
    "start_time": "2022-12-20T11:16:28.494Z"
   },
   {
    "duration": 54,
    "start_time": "2022-12-20T11:16:29.743Z"
   },
   {
    "duration": 35,
    "start_time": "2022-12-20T11:16:29.799Z"
   },
   {
    "duration": 17,
    "start_time": "2022-12-20T11:16:29.836Z"
   },
   {
    "duration": 100,
    "start_time": "2022-12-20T11:16:29.855Z"
   },
   {
    "duration": 4,
    "start_time": "2022-12-20T11:16:29.961Z"
   },
   {
    "duration": 67,
    "start_time": "2022-12-20T11:16:29.967Z"
   },
   {
    "duration": 47,
    "start_time": "2022-12-20T11:16:30.036Z"
   },
   {
    "duration": 63,
    "start_time": "2022-12-20T11:16:30.085Z"
   },
   {
    "duration": 4,
    "start_time": "2022-12-20T11:20:57.896Z"
   },
   {
    "duration": 20,
    "start_time": "2022-12-20T11:37:52.734Z"
   },
   {
    "duration": 10,
    "start_time": "2022-12-20T11:38:41.186Z"
   },
   {
    "duration": 14,
    "start_time": "2022-12-20T11:38:47.132Z"
   },
   {
    "duration": 1190,
    "start_time": "2022-12-20T11:39:09.896Z"
   },
   {
    "duration": 54,
    "start_time": "2022-12-20T11:39:11.088Z"
   },
   {
    "duration": 24,
    "start_time": "2022-12-20T11:39:11.144Z"
   },
   {
    "duration": 29,
    "start_time": "2022-12-20T11:39:11.170Z"
   },
   {
    "duration": 17,
    "start_time": "2022-12-20T11:39:11.202Z"
   },
   {
    "duration": 80,
    "start_time": "2022-12-20T11:39:11.221Z"
   },
   {
    "duration": 3,
    "start_time": "2022-12-20T11:39:11.303Z"
   },
   {
    "duration": 29,
    "start_time": "2022-12-20T11:39:11.308Z"
   },
   {
    "duration": 25,
    "start_time": "2022-12-20T11:39:11.339Z"
   },
   {
    "duration": 37,
    "start_time": "2022-12-20T11:39:11.367Z"
   },
   {
    "duration": 21,
    "start_time": "2022-12-20T11:39:11.405Z"
   },
   {
    "duration": 4,
    "start_time": "2022-12-20T11:41:28.630Z"
   },
   {
    "duration": 5,
    "start_time": "2022-12-20T11:41:56.571Z"
   },
   {
    "duration": 157,
    "start_time": "2022-12-20T11:46:54.784Z"
   },
   {
    "duration": 9,
    "start_time": "2022-12-20T11:47:04.053Z"
   },
   {
    "duration": 1100,
    "start_time": "2022-12-20T11:47:30.688Z"
   },
   {
    "duration": 53,
    "start_time": "2022-12-20T11:47:31.796Z"
   },
   {
    "duration": 22,
    "start_time": "2022-12-20T11:47:31.851Z"
   },
   {
    "duration": 19,
    "start_time": "2022-12-20T11:47:31.875Z"
   },
   {
    "duration": 11,
    "start_time": "2022-12-20T11:47:31.896Z"
   },
   {
    "duration": 72,
    "start_time": "2022-12-20T11:47:31.909Z"
   },
   {
    "duration": 16,
    "start_time": "2022-12-20T11:47:31.982Z"
   },
   {
    "duration": 16,
    "start_time": "2022-12-20T11:47:32.000Z"
   },
   {
    "duration": 12,
    "start_time": "2022-12-20T11:47:32.018Z"
   },
   {
    "duration": 6,
    "start_time": "2022-12-20T11:47:32.032Z"
   },
   {
    "duration": 6,
    "start_time": "2022-12-20T11:47:32.040Z"
   },
   {
    "duration": 16,
    "start_time": "2022-12-20T11:47:32.048Z"
   },
   {
    "duration": 7,
    "start_time": "2022-12-20T11:47:32.066Z"
   },
   {
    "duration": 9,
    "start_time": "2022-12-20T11:47:57.722Z"
   },
   {
    "duration": 10,
    "start_time": "2022-12-20T11:47:59.581Z"
   },
   {
    "duration": 7,
    "start_time": "2022-12-20T11:49:57.723Z"
   },
   {
    "duration": 13,
    "start_time": "2022-12-20T11:49:59.891Z"
   },
   {
    "duration": 7,
    "start_time": "2022-12-20T11:50:36.700Z"
   },
   {
    "duration": 10,
    "start_time": "2022-12-20T11:50:38.428Z"
   },
   {
    "duration": 8,
    "start_time": "2022-12-20T11:53:29.222Z"
   },
   {
    "duration": 13,
    "start_time": "2022-12-20T11:53:31.111Z"
   },
   {
    "duration": 23,
    "start_time": "2022-12-20T11:56:31.671Z"
   },
   {
    "duration": 10,
    "start_time": "2022-12-20T11:56:37.371Z"
   },
   {
    "duration": 799,
    "start_time": "2022-12-20T12:01:02.709Z"
   },
   {
    "duration": 8,
    "start_time": "2022-12-20T12:03:48.314Z"
   },
   {
    "duration": 13,
    "start_time": "2022-12-20T12:03:52.193Z"
   },
   {
    "duration": 24,
    "start_time": "2022-12-20T12:05:09.359Z"
   },
   {
    "duration": 12,
    "start_time": "2022-12-20T12:05:11.959Z"
   },
   {
    "duration": 19,
    "start_time": "2022-12-20T12:06:25.147Z"
   },
   {
    "duration": 15,
    "start_time": "2022-12-20T12:07:12.979Z"
   },
   {
    "duration": 1060,
    "start_time": "2022-12-20T12:07:41.830Z"
   },
   {
    "duration": 53,
    "start_time": "2022-12-20T12:07:42.892Z"
   },
   {
    "duration": 27,
    "start_time": "2022-12-20T12:07:42.946Z"
   },
   {
    "duration": 25,
    "start_time": "2022-12-20T12:07:42.975Z"
   },
   {
    "duration": 17,
    "start_time": "2022-12-20T12:07:43.001Z"
   },
   {
    "duration": 80,
    "start_time": "2022-12-20T12:07:43.020Z"
   },
   {
    "duration": 4,
    "start_time": "2022-12-20T12:07:43.102Z"
   },
   {
    "duration": 125,
    "start_time": "2022-12-20T12:07:43.108Z"
   },
   {
    "duration": 0,
    "start_time": "2022-12-20T12:07:43.235Z"
   },
   {
    "duration": 0,
    "start_time": "2022-12-20T12:07:43.236Z"
   },
   {
    "duration": 0,
    "start_time": "2022-12-20T12:07:43.237Z"
   },
   {
    "duration": 0,
    "start_time": "2022-12-20T12:07:43.238Z"
   },
   {
    "duration": 0,
    "start_time": "2022-12-20T12:07:43.239Z"
   },
   {
    "duration": 16,
    "start_time": "2022-12-20T12:08:02.444Z"
   },
   {
    "duration": 24,
    "start_time": "2022-12-20T12:09:36.285Z"
   },
   {
    "duration": 25,
    "start_time": "2022-12-20T12:10:00.150Z"
   },
   {
    "duration": 9,
    "start_time": "2022-12-20T12:10:07.889Z"
   },
   {
    "duration": 13,
    "start_time": "2022-12-20T12:10:14.785Z"
   },
   {
    "duration": 1259,
    "start_time": "2022-12-20T12:12:19.533Z"
   },
   {
    "duration": 68,
    "start_time": "2022-12-20T12:12:20.794Z"
   },
   {
    "duration": 25,
    "start_time": "2022-12-20T12:12:20.864Z"
   },
   {
    "duration": 16,
    "start_time": "2022-12-20T12:12:20.891Z"
   },
   {
    "duration": 10,
    "start_time": "2022-12-20T12:12:20.909Z"
   },
   {
    "duration": 90,
    "start_time": "2022-12-20T12:12:20.921Z"
   },
   {
    "duration": 4,
    "start_time": "2022-12-20T12:12:21.014Z"
   },
   {
    "duration": 13,
    "start_time": "2022-12-20T12:12:21.019Z"
   },
   {
    "duration": 7,
    "start_time": "2022-12-20T12:12:21.034Z"
   },
   {
    "duration": 14,
    "start_time": "2022-12-20T12:12:21.043Z"
   },
   {
    "duration": 12,
    "start_time": "2022-12-20T12:12:21.059Z"
   },
   {
    "duration": 32,
    "start_time": "2022-12-20T12:12:21.073Z"
   },
   {
    "duration": 17,
    "start_time": "2022-12-20T12:12:21.106Z"
   },
   {
    "duration": 28,
    "start_time": "2022-12-20T12:16:10.755Z"
   },
   {
    "duration": 20,
    "start_time": "2022-12-20T12:19:02.921Z"
   },
   {
    "duration": 4,
    "start_time": "2022-12-20T12:39:28.315Z"
   },
   {
    "duration": 19,
    "start_time": "2022-12-20T12:39:38.086Z"
   },
   {
    "duration": 4,
    "start_time": "2022-12-20T12:40:06.943Z"
   },
   {
    "duration": 16,
    "start_time": "2022-12-20T12:40:09.398Z"
   },
   {
    "duration": 105,
    "start_time": "2022-12-20T12:48:02.374Z"
   },
   {
    "duration": 14,
    "start_time": "2022-12-20T12:48:09.605Z"
   },
   {
    "duration": 11,
    "start_time": "2022-12-20T12:48:17.154Z"
   },
   {
    "duration": 178,
    "start_time": "2022-12-20T12:49:01.651Z"
   },
   {
    "duration": 371,
    "start_time": "2022-12-20T12:49:48.775Z"
   },
   {
    "duration": 326,
    "start_time": "2022-12-20T12:50:36.250Z"
   },
   {
    "duration": 337,
    "start_time": "2022-12-20T13:04:45.894Z"
   },
   {
    "duration": 430,
    "start_time": "2022-12-20T13:04:53.581Z"
   },
   {
    "duration": 324,
    "start_time": "2022-12-20T13:06:01.059Z"
   },
   {
    "duration": 315,
    "start_time": "2022-12-20T13:06:53.286Z"
   },
   {
    "duration": 131,
    "start_time": "2022-12-20T13:07:07.312Z"
   },
   {
    "duration": 313,
    "start_time": "2022-12-20T13:07:11.887Z"
   },
   {
    "duration": 342,
    "start_time": "2022-12-20T13:07:20.314Z"
   },
   {
    "duration": 427,
    "start_time": "2022-12-20T13:07:24.847Z"
   },
   {
    "duration": 330,
    "start_time": "2022-12-20T13:09:46.179Z"
   },
   {
    "duration": 51,
    "start_time": "2022-12-20T14:33:30.744Z"
   },
   {
    "duration": 1273,
    "start_time": "2022-12-20T14:33:39.581Z"
   },
   {
    "duration": 97,
    "start_time": "2022-12-20T14:33:40.855Z"
   },
   {
    "duration": 22,
    "start_time": "2022-12-20T14:33:40.953Z"
   },
   {
    "duration": 14,
    "start_time": "2022-12-20T14:33:40.977Z"
   },
   {
    "duration": 8,
    "start_time": "2022-12-20T14:33:40.992Z"
   },
   {
    "duration": 59,
    "start_time": "2022-12-20T14:33:41.002Z"
   },
   {
    "duration": 3,
    "start_time": "2022-12-20T14:33:41.063Z"
   },
   {
    "duration": 12,
    "start_time": "2022-12-20T14:33:41.067Z"
   },
   {
    "duration": 7,
    "start_time": "2022-12-20T14:33:41.080Z"
   },
   {
    "duration": 8,
    "start_time": "2022-12-20T14:33:41.089Z"
   },
   {
    "duration": 20,
    "start_time": "2022-12-20T14:33:41.099Z"
   },
   {
    "duration": 7,
    "start_time": "2022-12-20T14:33:41.120Z"
   },
   {
    "duration": 20,
    "start_time": "2022-12-20T14:33:41.128Z"
   },
   {
    "duration": 12,
    "start_time": "2022-12-20T14:33:41.149Z"
   },
   {
    "duration": 4,
    "start_time": "2022-12-20T14:33:41.162Z"
   },
   {
    "duration": 350,
    "start_time": "2022-12-20T14:33:41.168Z"
   },
   {
    "duration": 329,
    "start_time": "2022-12-20T14:33:53.992Z"
   },
   {
    "duration": 303,
    "start_time": "2022-12-20T14:34:03.710Z"
   },
   {
    "duration": 376,
    "start_time": "2022-12-20T14:34:14.614Z"
   },
   {
    "duration": 307,
    "start_time": "2022-12-20T14:34:30.211Z"
   },
   {
    "duration": 312,
    "start_time": "2022-12-20T14:35:03.112Z"
   },
   {
    "duration": 300,
    "start_time": "2022-12-20T14:39:03.654Z"
   },
   {
    "duration": 48,
    "start_time": "2022-12-23T11:18:02.553Z"
   },
   {
    "duration": 1294,
    "start_time": "2022-12-23T11:18:21.734Z"
   },
   {
    "duration": 95,
    "start_time": "2022-12-23T11:18:23.030Z"
   },
   {
    "duration": 24,
    "start_time": "2022-12-23T11:18:23.127Z"
   },
   {
    "duration": 16,
    "start_time": "2022-12-23T11:18:23.153Z"
   },
   {
    "duration": 11,
    "start_time": "2022-12-23T11:18:23.170Z"
   },
   {
    "duration": 68,
    "start_time": "2022-12-23T11:18:23.183Z"
   },
   {
    "duration": 3,
    "start_time": "2022-12-23T11:18:23.253Z"
   },
   {
    "duration": 15,
    "start_time": "2022-12-23T11:18:23.258Z"
   },
   {
    "duration": 6,
    "start_time": "2022-12-23T11:18:23.275Z"
   },
   {
    "duration": 10,
    "start_time": "2022-12-23T11:18:23.285Z"
   },
   {
    "duration": 32,
    "start_time": "2022-12-23T11:18:23.296Z"
   },
   {
    "duration": 4,
    "start_time": "2022-12-23T11:18:23.330Z"
   },
   {
    "duration": 30,
    "start_time": "2022-12-23T11:18:23.336Z"
   },
   {
    "duration": 22,
    "start_time": "2022-12-23T11:18:23.368Z"
   },
   {
    "duration": 28,
    "start_time": "2022-12-23T11:18:23.391Z"
   },
   {
    "duration": 378,
    "start_time": "2022-12-23T11:18:23.422Z"
   },
   {
    "duration": 5,
    "start_time": "2022-12-23T11:19:35.003Z"
   },
   {
    "duration": 1093,
    "start_time": "2022-12-23T11:19:50.238Z"
   },
   {
    "duration": 58,
    "start_time": "2022-12-23T11:19:51.333Z"
   },
   {
    "duration": 24,
    "start_time": "2022-12-23T11:19:51.392Z"
   },
   {
    "duration": 13,
    "start_time": "2022-12-23T11:19:51.419Z"
   },
   {
    "duration": 13,
    "start_time": "2022-12-23T11:19:51.434Z"
   },
   {
    "duration": 57,
    "start_time": "2022-12-23T11:19:51.448Z"
   },
   {
    "duration": 3,
    "start_time": "2022-12-23T11:19:51.516Z"
   },
   {
    "duration": 12,
    "start_time": "2022-12-23T11:19:51.521Z"
   },
   {
    "duration": 13,
    "start_time": "2022-12-23T11:19:51.535Z"
   },
   {
    "duration": 9,
    "start_time": "2022-12-23T11:19:51.551Z"
   },
   {
    "duration": 18,
    "start_time": "2022-12-23T11:19:51.561Z"
   },
   {
    "duration": 13,
    "start_time": "2022-12-23T11:19:51.580Z"
   },
   {
    "duration": 18,
    "start_time": "2022-12-23T11:19:51.594Z"
   },
   {
    "duration": 29,
    "start_time": "2022-12-23T11:19:51.613Z"
   },
   {
    "duration": 19,
    "start_time": "2022-12-23T11:19:51.644Z"
   },
   {
    "duration": 4,
    "start_time": "2022-12-23T11:19:51.664Z"
   },
   {
    "duration": 360,
    "start_time": "2022-12-23T11:19:51.670Z"
   },
   {
    "duration": 14,
    "start_time": "2022-12-23T11:20:10.192Z"
   },
   {
    "duration": 39,
    "start_time": "2022-12-23T11:22:11.482Z"
   },
   {
    "duration": 1163,
    "start_time": "2022-12-23T11:23:18.262Z"
   },
   {
    "duration": 53,
    "start_time": "2022-12-23T11:23:19.428Z"
   },
   {
    "duration": 25,
    "start_time": "2022-12-23T11:23:19.482Z"
   },
   {
    "duration": 15,
    "start_time": "2022-12-23T11:23:19.508Z"
   },
   {
    "duration": 25,
    "start_time": "2022-12-23T11:23:19.525Z"
   },
   {
    "duration": 58,
    "start_time": "2022-12-23T11:23:19.551Z"
   },
   {
    "duration": 3,
    "start_time": "2022-12-23T11:23:19.611Z"
   },
   {
    "duration": 10,
    "start_time": "2022-12-23T11:23:19.615Z"
   },
   {
    "duration": 6,
    "start_time": "2022-12-23T11:23:19.627Z"
   },
   {
    "duration": 9,
    "start_time": "2022-12-23T11:23:19.634Z"
   },
   {
    "duration": 17,
    "start_time": "2022-12-23T11:23:19.644Z"
   },
   {
    "duration": 6,
    "start_time": "2022-12-23T11:23:19.663Z"
   },
   {
    "duration": 14,
    "start_time": "2022-12-23T11:23:19.670Z"
   },
   {
    "duration": 22,
    "start_time": "2022-12-23T11:23:19.687Z"
   },
   {
    "duration": 14,
    "start_time": "2022-12-23T11:23:19.710Z"
   },
   {
    "duration": 18,
    "start_time": "2022-12-23T11:23:19.726Z"
   },
   {
    "duration": 5,
    "start_time": "2022-12-23T11:23:19.746Z"
   },
   {
    "duration": 470,
    "start_time": "2022-12-23T11:23:19.753Z"
   },
   {
    "duration": 62,
    "start_time": "2022-12-23T11:31:39.124Z"
   },
   {
    "duration": 300,
    "start_time": "2022-12-23T11:41:59.451Z"
   },
   {
    "duration": 293,
    "start_time": "2022-12-23T11:43:48.621Z"
   },
   {
    "duration": 314,
    "start_time": "2022-12-23T11:43:54.658Z"
   },
   {
    "duration": 414,
    "start_time": "2022-12-23T11:45:09.923Z"
   },
   {
    "duration": 342,
    "start_time": "2022-12-23T11:45:15.524Z"
   },
   {
    "duration": 329,
    "start_time": "2022-12-23T11:45:27.057Z"
   },
   {
    "duration": 314,
    "start_time": "2022-12-23T11:45:34.713Z"
   },
   {
    "duration": 331,
    "start_time": "2022-12-23T11:45:52.725Z"
   },
   {
    "duration": 425,
    "start_time": "2022-12-23T11:46:07.367Z"
   },
   {
    "duration": 346,
    "start_time": "2022-12-23T11:46:16.703Z"
   },
   {
    "duration": 344,
    "start_time": "2022-12-23T11:46:24.668Z"
   },
   {
    "duration": 351,
    "start_time": "2022-12-23T11:46:38.433Z"
   },
   {
    "duration": 342,
    "start_time": "2022-12-23T11:46:44.944Z"
   },
   {
    "duration": 288,
    "start_time": "2022-12-23T11:50:23.532Z"
   },
   {
    "duration": 415,
    "start_time": "2022-12-23T11:50:40.224Z"
   },
   {
    "duration": 345,
    "start_time": "2022-12-23T11:50:46.164Z"
   },
   {
    "duration": 239,
    "start_time": "2022-12-23T11:51:29.641Z"
   },
   {
    "duration": 322,
    "start_time": "2022-12-23T11:51:40.369Z"
   },
   {
    "duration": 331,
    "start_time": "2022-12-23T11:51:47.505Z"
   },
   {
    "duration": 18,
    "start_time": "2022-12-23T11:56:44.424Z"
   },
   {
    "duration": 20,
    "start_time": "2022-12-23T11:57:10.633Z"
   },
   {
    "duration": 24,
    "start_time": "2022-12-23T11:59:27.005Z"
   },
   {
    "duration": 728,
    "start_time": "2022-12-23T12:06:05.136Z"
   },
   {
    "duration": 22,
    "start_time": "2022-12-23T12:06:27.495Z"
   },
   {
    "duration": 14,
    "start_time": "2022-12-23T12:07:35.668Z"
   },
   {
    "duration": 16,
    "start_time": "2022-12-23T12:09:38.005Z"
   },
   {
    "duration": 17,
    "start_time": "2022-12-23T12:10:07.520Z"
   },
   {
    "duration": 225,
    "start_time": "2022-12-23T12:10:30.831Z"
   },
   {
    "duration": 181,
    "start_time": "2022-12-23T12:10:52.543Z"
   },
   {
    "duration": 17,
    "start_time": "2022-12-23T12:11:13.825Z"
   },
   {
    "duration": 52,
    "start_time": "2022-12-23T12:19:22.766Z"
   },
   {
    "duration": 267,
    "start_time": "2022-12-23T12:19:29.637Z"
   },
   {
    "duration": 52,
    "start_time": "2022-12-23T14:45:26.858Z"
   },
   {
    "duration": 53,
    "start_time": "2022-12-23T14:45:36.331Z"
   },
   {
    "duration": 43,
    "start_time": "2022-12-23T14:45:55.144Z"
   },
   {
    "duration": 59,
    "start_time": "2022-12-23T14:46:02.966Z"
   },
   {
    "duration": 39,
    "start_time": "2022-12-23T14:46:20.819Z"
   },
   {
    "duration": 42,
    "start_time": "2022-12-23T14:46:27.632Z"
   },
   {
    "duration": 1319,
    "start_time": "2022-12-23T14:46:36.359Z"
   },
   {
    "duration": 98,
    "start_time": "2022-12-23T14:46:37.680Z"
   },
   {
    "duration": 25,
    "start_time": "2022-12-23T14:46:37.780Z"
   },
   {
    "duration": 14,
    "start_time": "2022-12-23T14:46:37.807Z"
   },
   {
    "duration": 10,
    "start_time": "2022-12-23T14:46:37.823Z"
   },
   {
    "duration": 81,
    "start_time": "2022-12-23T14:46:37.835Z"
   },
   {
    "duration": 3,
    "start_time": "2022-12-23T14:46:37.918Z"
   },
   {
    "duration": 12,
    "start_time": "2022-12-23T14:46:37.923Z"
   },
   {
    "duration": 7,
    "start_time": "2022-12-23T14:46:37.936Z"
   },
   {
    "duration": 7,
    "start_time": "2022-12-23T14:46:37.944Z"
   },
   {
    "duration": 29,
    "start_time": "2022-12-23T14:46:37.953Z"
   },
   {
    "duration": 4,
    "start_time": "2022-12-23T14:46:37.984Z"
   },
   {
    "duration": 15,
    "start_time": "2022-12-23T14:46:37.990Z"
   },
   {
    "duration": 24,
    "start_time": "2022-12-23T14:46:38.008Z"
   },
   {
    "duration": 14,
    "start_time": "2022-12-23T14:46:38.033Z"
   },
   {
    "duration": 34,
    "start_time": "2022-12-23T14:46:38.048Z"
   },
   {
    "duration": 4,
    "start_time": "2022-12-23T14:46:38.084Z"
   },
   {
    "duration": 381,
    "start_time": "2022-12-23T14:46:38.089Z"
   },
   {
    "duration": 311,
    "start_time": "2022-12-23T14:46:38.472Z"
   },
   {
    "duration": 6543,
    "start_time": "2022-12-23T14:46:38.785Z"
   },
   {
    "duration": 212,
    "start_time": "2022-12-23T14:49:23.726Z"
   },
   {
    "duration": 196,
    "start_time": "2022-12-23T14:50:42.542Z"
   },
   {
    "duration": 14,
    "start_time": "2022-12-23T15:01:53.552Z"
   },
   {
    "duration": 106,
    "start_time": "2022-12-23T15:02:08.133Z"
   },
   {
    "duration": 796,
    "start_time": "2022-12-23T15:02:42.698Z"
   },
   {
    "duration": 46,
    "start_time": "2022-12-23T15:04:48.620Z"
   },
   {
    "duration": 23,
    "start_time": "2022-12-23T15:04:54.974Z"
   },
   {
    "duration": 940,
    "start_time": "2022-12-23T15:05:07.061Z"
   },
   {
    "duration": 25,
    "start_time": "2022-12-23T15:05:13.769Z"
   },
   {
    "duration": 209,
    "start_time": "2022-12-23T15:06:21.278Z"
   },
   {
    "duration": 789,
    "start_time": "2022-12-23T15:08:14.414Z"
   },
   {
    "duration": 205,
    "start_time": "2022-12-23T15:08:58.427Z"
   },
   {
    "duration": 13,
    "start_time": "2022-12-23T15:09:18.403Z"
   },
   {
    "duration": 1052,
    "start_time": "2022-12-23T15:11:08.901Z"
   },
   {
    "duration": 55,
    "start_time": "2022-12-23T15:11:09.954Z"
   },
   {
    "duration": 23,
    "start_time": "2022-12-23T15:11:10.010Z"
   },
   {
    "duration": 59,
    "start_time": "2022-12-23T15:11:10.034Z"
   },
   {
    "duration": 49,
    "start_time": "2022-12-23T15:11:10.095Z"
   },
   {
    "duration": 118,
    "start_time": "2022-12-23T15:11:10.146Z"
   },
   {
    "duration": 3,
    "start_time": "2022-12-23T15:11:10.265Z"
   },
   {
    "duration": 12,
    "start_time": "2022-12-23T15:11:10.269Z"
   },
   {
    "duration": 8,
    "start_time": "2022-12-23T15:11:10.282Z"
   },
   {
    "duration": 5,
    "start_time": "2022-12-23T15:11:10.291Z"
   },
   {
    "duration": 9,
    "start_time": "2022-12-23T15:11:10.297Z"
   },
   {
    "duration": 4,
    "start_time": "2022-12-23T15:11:10.308Z"
   },
   {
    "duration": 6,
    "start_time": "2022-12-23T15:11:10.313Z"
   },
   {
    "duration": 21,
    "start_time": "2022-12-23T15:11:10.321Z"
   },
   {
    "duration": 34,
    "start_time": "2022-12-23T15:11:10.343Z"
   },
   {
    "duration": 14,
    "start_time": "2022-12-23T15:11:10.378Z"
   },
   {
    "duration": 7,
    "start_time": "2022-12-23T15:11:10.394Z"
   },
   {
    "duration": 353,
    "start_time": "2022-12-23T15:11:10.403Z"
   },
   {
    "duration": 271,
    "start_time": "2022-12-23T15:11:10.758Z"
   },
   {
    "duration": 123,
    "start_time": "2022-12-23T15:11:11.031Z"
   },
   {
    "duration": 6199,
    "start_time": "2022-12-23T15:12:25.696Z"
   },
   {
    "duration": 6068,
    "start_time": "2022-12-23T15:12:40.501Z"
   },
   {
    "duration": 15,
    "start_time": "2022-12-23T15:13:56.381Z"
   },
   {
    "duration": 1125,
    "start_time": "2022-12-23T15:14:33.972Z"
   },
   {
    "duration": 943,
    "start_time": "2022-12-23T15:16:03.317Z"
   },
   {
    "duration": 50,
    "start_time": "2022-12-23T15:22:40.208Z"
   },
   {
    "duration": 7,
    "start_time": "2022-12-23T15:22:51.114Z"
   },
   {
    "duration": 12,
    "start_time": "2022-12-23T15:22:58.716Z"
   },
   {
    "duration": 13,
    "start_time": "2022-12-23T15:23:20.202Z"
   },
   {
    "duration": 15,
    "start_time": "2022-12-23T15:23:59.804Z"
   },
   {
    "duration": 10,
    "start_time": "2022-12-23T15:24:09.678Z"
   },
   {
    "duration": 753,
    "start_time": "2022-12-23T15:24:54.503Z"
   },
   {
    "duration": 888,
    "start_time": "2022-12-23T15:25:19.742Z"
   },
   {
    "duration": 272,
    "start_time": "2022-12-23T15:27:25.120Z"
   },
   {
    "duration": 15,
    "start_time": "2022-12-23T15:28:49.638Z"
   },
   {
    "duration": 15,
    "start_time": "2022-12-23T15:29:01.313Z"
   },
   {
    "duration": 20,
    "start_time": "2022-12-23T15:29:06.543Z"
   },
   {
    "duration": 1021,
    "start_time": "2022-12-23T15:30:15.631Z"
   },
   {
    "duration": 10,
    "start_time": "2022-12-23T15:30:37.833Z"
   },
   {
    "duration": 10,
    "start_time": "2022-12-23T15:31:23.661Z"
   },
   {
    "duration": 56,
    "start_time": "2022-12-23T15:31:32.616Z"
   },
   {
    "duration": 871,
    "start_time": "2022-12-23T15:31:40.023Z"
   },
   {
    "duration": 794,
    "start_time": "2022-12-23T15:35:29.903Z"
   },
   {
    "duration": 716,
    "start_time": "2022-12-23T15:37:40.018Z"
   },
   {
    "duration": 8,
    "start_time": "2022-12-23T15:38:03.529Z"
   },
   {
    "duration": 12,
    "start_time": "2022-12-23T15:38:19.752Z"
   },
   {
    "duration": 14,
    "start_time": "2022-12-23T15:40:11.398Z"
   },
   {
    "duration": 13,
    "start_time": "2022-12-23T15:42:15.910Z"
   },
   {
    "duration": 11,
    "start_time": "2022-12-23T15:46:37.614Z"
   },
   {
    "duration": 8,
    "start_time": "2022-12-23T15:47:17.327Z"
   },
   {
    "duration": 9,
    "start_time": "2022-12-23T15:47:25.118Z"
   },
   {
    "duration": 9,
    "start_time": "2022-12-23T15:48:02.781Z"
   },
   {
    "duration": 196,
    "start_time": "2022-12-23T15:48:55.181Z"
   },
   {
    "duration": 186,
    "start_time": "2022-12-23T15:49:28.333Z"
   },
   {
    "duration": 231,
    "start_time": "2022-12-23T15:49:59.421Z"
   },
   {
    "duration": 34,
    "start_time": "2022-12-23T15:51:00.641Z"
   },
   {
    "duration": 26,
    "start_time": "2022-12-23T15:51:15.930Z"
   },
   {
    "duration": 30,
    "start_time": "2022-12-23T15:51:21.124Z"
   },
   {
    "duration": 30,
    "start_time": "2022-12-23T15:51:30.873Z"
   },
   {
    "duration": 113,
    "start_time": "2022-12-23T15:51:47.788Z"
   },
   {
    "duration": 31,
    "start_time": "2022-12-23T15:51:52.022Z"
   },
   {
    "duration": 1129,
    "start_time": "2022-12-23T15:52:07.511Z"
   },
   {
    "duration": 56,
    "start_time": "2022-12-23T15:52:08.641Z"
   },
   {
    "duration": 23,
    "start_time": "2022-12-23T15:52:08.698Z"
   },
   {
    "duration": 18,
    "start_time": "2022-12-23T15:52:08.724Z"
   },
   {
    "duration": 14,
    "start_time": "2022-12-23T15:52:08.744Z"
   },
   {
    "duration": 69,
    "start_time": "2022-12-23T15:52:08.776Z"
   },
   {
    "duration": 2,
    "start_time": "2022-12-23T15:52:08.847Z"
   },
   {
    "duration": 44,
    "start_time": "2022-12-23T15:52:08.851Z"
   },
   {
    "duration": 27,
    "start_time": "2022-12-23T15:52:08.896Z"
   },
   {
    "duration": 17,
    "start_time": "2022-12-23T15:52:08.925Z"
   },
   {
    "duration": 14,
    "start_time": "2022-12-23T15:52:08.944Z"
   },
   {
    "duration": 19,
    "start_time": "2022-12-23T15:52:08.960Z"
   },
   {
    "duration": 20,
    "start_time": "2022-12-23T15:52:08.981Z"
   },
   {
    "duration": 39,
    "start_time": "2022-12-23T15:52:09.002Z"
   },
   {
    "duration": 17,
    "start_time": "2022-12-23T15:52:09.043Z"
   },
   {
    "duration": 20,
    "start_time": "2022-12-23T15:52:09.062Z"
   },
   {
    "duration": 9,
    "start_time": "2022-12-23T15:52:09.084Z"
   },
   {
    "duration": 335,
    "start_time": "2022-12-23T15:52:09.094Z"
   },
   {
    "duration": 278,
    "start_time": "2022-12-23T15:52:09.431Z"
   },
   {
    "duration": 103,
    "start_time": "2022-12-23T15:52:09.711Z"
   },
   {
    "duration": 22,
    "start_time": "2022-12-23T15:53:01.770Z"
   },
   {
    "duration": 189,
    "start_time": "2022-12-23T15:53:39.908Z"
   },
   {
    "duration": 400,
    "start_time": "2022-12-23T15:54:03.005Z"
   },
   {
    "duration": 433,
    "start_time": "2022-12-23T15:54:36.708Z"
   },
   {
    "duration": 434,
    "start_time": "2022-12-23T15:57:24.509Z"
   },
   {
    "duration": 414,
    "start_time": "2022-12-23T15:57:34.170Z"
   },
   {
    "duration": 387,
    "start_time": "2022-12-23T16:01:26.335Z"
   },
   {
    "duration": 438,
    "start_time": "2022-12-23T16:01:37.591Z"
   },
   {
    "duration": 6,
    "start_time": "2022-12-23T16:14:48.636Z"
   },
   {
    "duration": 6,
    "start_time": "2022-12-23T16:14:51.916Z"
   },
   {
    "duration": 563,
    "start_time": "2022-12-23T16:17:15.282Z"
   },
   {
    "duration": 60,
    "start_time": "2022-12-23T16:20:54.504Z"
   },
   {
    "duration": 100,
    "start_time": "2022-12-23T16:28:45.778Z"
   },
   {
    "duration": 105,
    "start_time": "2022-12-23T16:29:32.235Z"
   },
   {
    "duration": 11,
    "start_time": "2022-12-23T16:30:04.146Z"
   },
   {
    "duration": 98,
    "start_time": "2022-12-23T16:31:42.884Z"
   },
   {
    "duration": 156,
    "start_time": "2022-12-23T16:32:20.753Z"
   },
   {
    "duration": 137,
    "start_time": "2022-12-23T16:33:28.033Z"
   },
   {
    "duration": 12,
    "start_time": "2022-12-23T16:34:54.430Z"
   },
   {
    "duration": 8,
    "start_time": "2022-12-23T16:37:11.909Z"
   },
   {
    "duration": 10,
    "start_time": "2022-12-23T16:38:55.567Z"
   },
   {
    "duration": 175,
    "start_time": "2022-12-23T16:39:04.903Z"
   },
   {
    "duration": 12,
    "start_time": "2022-12-23T16:43:52.519Z"
   },
   {
    "duration": 142,
    "start_time": "2022-12-23T16:44:08.308Z"
   },
   {
    "duration": 151,
    "start_time": "2022-12-23T16:44:35.105Z"
   },
   {
    "duration": 12,
    "start_time": "2022-12-23T16:45:31.665Z"
   },
   {
    "duration": 12,
    "start_time": "2022-12-23T16:46:43.714Z"
   },
   {
    "duration": 14,
    "start_time": "2022-12-23T16:47:51.767Z"
   },
   {
    "duration": 9,
    "start_time": "2022-12-23T16:49:05.025Z"
   },
   {
    "duration": 13,
    "start_time": "2022-12-23T16:49:23.850Z"
   },
   {
    "duration": 200,
    "start_time": "2022-12-23T16:56:59.736Z"
   },
   {
    "duration": 151,
    "start_time": "2022-12-23T16:57:17.374Z"
   },
   {
    "duration": 503,
    "start_time": "2022-12-23T16:58:43.057Z"
   },
   {
    "duration": 410,
    "start_time": "2022-12-23T16:58:59.819Z"
   },
   {
    "duration": 10,
    "start_time": "2022-12-23T17:00:17.544Z"
   },
   {
    "duration": 11,
    "start_time": "2022-12-23T17:00:25.047Z"
   },
   {
    "duration": 27,
    "start_time": "2022-12-23T17:00:57.247Z"
   },
   {
    "duration": 6,
    "start_time": "2022-12-23T17:02:03.254Z"
   },
   {
    "duration": 24,
    "start_time": "2022-12-23T17:02:10.552Z"
   },
   {
    "duration": 6,
    "start_time": "2022-12-23T17:02:18.314Z"
   },
   {
    "duration": 7,
    "start_time": "2022-12-23T17:02:20.954Z"
   },
   {
    "duration": 5,
    "start_time": "2022-12-23T17:05:40.519Z"
   },
   {
    "duration": 24,
    "start_time": "2022-12-23T17:05:46.752Z"
   },
   {
    "duration": 22,
    "start_time": "2022-12-23T17:06:17.820Z"
   },
   {
    "duration": 29,
    "start_time": "2022-12-23T17:06:29.613Z"
   },
   {
    "duration": 21,
    "start_time": "2022-12-23T17:06:44.229Z"
   },
   {
    "duration": 23,
    "start_time": "2022-12-23T17:06:50.599Z"
   },
   {
    "duration": 6,
    "start_time": "2022-12-23T17:10:44.701Z"
   },
   {
    "duration": 151,
    "start_time": "2022-12-23T17:13:18.021Z"
   },
   {
    "duration": 146,
    "start_time": "2022-12-23T17:13:22.085Z"
   },
   {
    "duration": 170,
    "start_time": "2022-12-23T17:16:36.908Z"
   },
   {
    "duration": 157,
    "start_time": "2022-12-23T17:18:55.954Z"
   },
   {
    "duration": 54,
    "start_time": "2022-12-23T17:26:09.644Z"
   },
   {
    "duration": 1957,
    "start_time": "2022-12-23T17:34:34.874Z"
   },
   {
    "duration": 28,
    "start_time": "2022-12-23T17:41:12.647Z"
   },
   {
    "duration": 29,
    "start_time": "2022-12-23T17:42:07.744Z"
   },
   {
    "duration": 6,
    "start_time": "2022-12-23T17:42:52.612Z"
   },
   {
    "duration": 10,
    "start_time": "2022-12-23T17:43:01.256Z"
   },
   {
    "duration": 6,
    "start_time": "2022-12-23T17:45:07.482Z"
   },
   {
    "duration": 23,
    "start_time": "2022-12-23T17:45:12.913Z"
   },
   {
    "duration": 36,
    "start_time": "2022-12-23T17:45:45.862Z"
   },
   {
    "duration": 41,
    "start_time": "2022-12-23T17:46:06.954Z"
   },
   {
    "duration": 42,
    "start_time": "2022-12-23T17:46:10.842Z"
   },
   {
    "duration": 45,
    "start_time": "2022-12-23T17:46:45.632Z"
   },
   {
    "duration": 40,
    "start_time": "2022-12-23T17:46:51.647Z"
   },
   {
    "duration": 4,
    "start_time": "2022-12-23T17:48:00.579Z"
   },
   {
    "duration": 153,
    "start_time": "2022-12-23T17:48:57.106Z"
   },
   {
    "duration": 1098,
    "start_time": "2022-12-23T17:49:24.951Z"
   },
   {
    "duration": 52,
    "start_time": "2022-12-23T17:49:26.051Z"
   },
   {
    "duration": 21,
    "start_time": "2022-12-23T17:49:26.104Z"
   },
   {
    "duration": 14,
    "start_time": "2022-12-23T17:49:26.127Z"
   },
   {
    "duration": 8,
    "start_time": "2022-12-23T17:49:26.142Z"
   },
   {
    "duration": 66,
    "start_time": "2022-12-23T17:49:26.151Z"
   },
   {
    "duration": 2,
    "start_time": "2022-12-23T17:49:26.219Z"
   },
   {
    "duration": 10,
    "start_time": "2022-12-23T17:49:26.223Z"
   },
   {
    "duration": 7,
    "start_time": "2022-12-23T17:49:26.234Z"
   },
   {
    "duration": 4,
    "start_time": "2022-12-23T17:49:26.243Z"
   },
   {
    "duration": 27,
    "start_time": "2022-12-23T17:49:26.249Z"
   },
   {
    "duration": 2,
    "start_time": "2022-12-23T17:49:26.278Z"
   },
   {
    "duration": 6,
    "start_time": "2022-12-23T17:49:26.281Z"
   },
   {
    "duration": 18,
    "start_time": "2022-12-23T17:49:26.289Z"
   },
   {
    "duration": 12,
    "start_time": "2022-12-23T17:49:26.308Z"
   },
   {
    "duration": 13,
    "start_time": "2022-12-23T17:49:26.321Z"
   },
   {
    "duration": 3,
    "start_time": "2022-12-23T17:49:26.336Z"
   },
   {
    "duration": 337,
    "start_time": "2022-12-23T17:49:26.340Z"
   },
   {
    "duration": 269,
    "start_time": "2022-12-23T17:49:26.679Z"
   },
   {
    "duration": 432,
    "start_time": "2022-12-23T17:49:26.949Z"
   },
   {
    "duration": 548,
    "start_time": "2022-12-23T17:49:27.383Z"
   },
   {
    "duration": 144,
    "start_time": "2022-12-23T17:49:27.933Z"
   },
   {
    "duration": 6,
    "start_time": "2022-12-23T17:49:28.079Z"
   },
   {
    "duration": 153,
    "start_time": "2022-12-23T17:49:28.087Z"
   },
   {
    "duration": 180,
    "start_time": "2022-12-23T17:49:28.242Z"
   },
   {
    "duration": 35,
    "start_time": "2022-12-23T17:49:28.424Z"
   },
   {
    "duration": 15,
    "start_time": "2022-12-23T17:49:28.461Z"
   },
   {
    "duration": 966,
    "start_time": "2022-12-23T17:50:13.329Z"
   },
   {
    "duration": 162,
    "start_time": "2022-12-23T17:51:13.771Z"
   },
   {
    "duration": 4,
    "start_time": "2022-12-23T17:59:03.510Z"
   },
   {
    "duration": 5,
    "start_time": "2022-12-23T17:59:42.004Z"
   },
   {
    "duration": 6,
    "start_time": "2022-12-23T17:59:44.511Z"
   },
   {
    "duration": 12,
    "start_time": "2022-12-23T17:59:52.236Z"
   },
   {
    "duration": 25,
    "start_time": "2022-12-23T18:00:30.306Z"
   },
   {
    "duration": 45,
    "start_time": "2022-12-23T18:02:35.309Z"
   },
   {
    "duration": 36,
    "start_time": "2022-12-23T18:02:46.651Z"
   },
   {
    "duration": 50,
    "start_time": "2022-12-23T18:11:40.104Z"
   },
   {
    "duration": 200,
    "start_time": "2022-12-23T18:13:15.118Z"
   },
   {
    "duration": 173,
    "start_time": "2022-12-23T18:14:02.603Z"
   },
   {
    "duration": 256,
    "start_time": "2022-12-23T18:14:18.240Z"
   },
   {
    "duration": 15,
    "start_time": "2022-12-23T18:28:45.350Z"
   },
   {
    "duration": 13,
    "start_time": "2022-12-23T18:28:56.864Z"
   },
   {
    "duration": 156,
    "start_time": "2022-12-23T18:30:01.051Z"
   },
   {
    "duration": 10,
    "start_time": "2022-12-23T18:30:29.662Z"
   },
   {
    "duration": 126,
    "start_time": "2022-12-23T18:32:11.336Z"
   },
   {
    "duration": 113,
    "start_time": "2022-12-23T18:32:15.693Z"
   },
   {
    "duration": 111,
    "start_time": "2022-12-23T18:32:22.739Z"
   },
   {
    "duration": 120,
    "start_time": "2022-12-23T18:33:19.517Z"
   },
   {
    "duration": 117,
    "start_time": "2022-12-23T18:33:59.435Z"
   },
   {
    "duration": 46,
    "start_time": "2022-12-23T18:36:33.124Z"
   },
   {
    "duration": 109,
    "start_time": "2022-12-23T18:46:20.262Z"
   },
   {
    "duration": 112,
    "start_time": "2022-12-23T18:47:04.135Z"
   },
   {
    "duration": 134,
    "start_time": "2022-12-23T18:47:47.222Z"
   },
   {
    "duration": 20,
    "start_time": "2022-12-23T18:56:33.860Z"
   },
   {
    "duration": 167,
    "start_time": "2022-12-23T18:57:49.653Z"
   },
   {
    "duration": 17,
    "start_time": "2022-12-23T19:00:09.909Z"
   },
   {
    "duration": 267,
    "start_time": "2022-12-23T19:00:14.728Z"
   },
   {
    "duration": 332,
    "start_time": "2022-12-23T19:01:35.029Z"
   },
   {
    "duration": 123,
    "start_time": "2022-12-23T19:01:51.163Z"
   },
   {
    "duration": 235,
    "start_time": "2022-12-23T19:03:44.980Z"
   },
   {
    "duration": 222,
    "start_time": "2022-12-23T19:04:20.552Z"
   },
   {
    "duration": 223,
    "start_time": "2022-12-23T19:04:51.427Z"
   },
   {
    "duration": 227,
    "start_time": "2022-12-23T19:05:04.251Z"
   },
   {
    "duration": 363,
    "start_time": "2022-12-23T19:05:13.139Z"
   },
   {
    "duration": 255,
    "start_time": "2022-12-23T19:05:26.257Z"
   },
   {
    "duration": 277,
    "start_time": "2022-12-23T19:07:15.448Z"
   },
   {
    "duration": 45,
    "start_time": "2022-12-23T19:07:52.832Z"
   },
   {
    "duration": 315,
    "start_time": "2022-12-23T19:08:19.152Z"
   },
   {
    "duration": 338,
    "start_time": "2022-12-23T19:08:52.667Z"
   },
   {
    "duration": 403,
    "start_time": "2022-12-23T19:09:03.357Z"
   },
   {
    "duration": 59,
    "start_time": "2022-12-23T19:10:54.314Z"
   },
   {
    "duration": 47,
    "start_time": "2022-12-23T19:11:25.157Z"
   },
   {
    "duration": 42,
    "start_time": "2022-12-23T19:11:51.726Z"
   },
   {
    "duration": 252,
    "start_time": "2022-12-23T19:12:05.997Z"
   },
   {
    "duration": 439,
    "start_time": "2022-12-23T19:13:07.262Z"
   },
   {
    "duration": 301,
    "start_time": "2022-12-23T19:13:38.058Z"
   },
   {
    "duration": 1057,
    "start_time": "2022-12-23T19:14:00.101Z"
   },
   {
    "duration": 52,
    "start_time": "2022-12-23T19:14:01.160Z"
   },
   {
    "duration": 21,
    "start_time": "2022-12-23T19:14:01.214Z"
   },
   {
    "duration": 12,
    "start_time": "2022-12-23T19:14:01.236Z"
   },
   {
    "duration": 14,
    "start_time": "2022-12-23T19:14:01.250Z"
   },
   {
    "duration": 55,
    "start_time": "2022-12-23T19:14:01.265Z"
   },
   {
    "duration": 3,
    "start_time": "2022-12-23T19:14:01.322Z"
   },
   {
    "duration": 13,
    "start_time": "2022-12-23T19:14:01.327Z"
   },
   {
    "duration": 16,
    "start_time": "2022-12-23T19:14:01.341Z"
   },
   {
    "duration": 9,
    "start_time": "2022-12-23T19:14:01.358Z"
   },
   {
    "duration": 14,
    "start_time": "2022-12-23T19:14:01.368Z"
   },
   {
    "duration": 18,
    "start_time": "2022-12-23T19:14:01.383Z"
   },
   {
    "duration": 20,
    "start_time": "2022-12-23T19:14:01.402Z"
   },
   {
    "duration": 43,
    "start_time": "2022-12-23T19:14:01.425Z"
   },
   {
    "duration": 29,
    "start_time": "2022-12-23T19:14:01.470Z"
   },
   {
    "duration": 42,
    "start_time": "2022-12-23T19:14:01.501Z"
   },
   {
    "duration": 40,
    "start_time": "2022-12-23T19:14:01.545Z"
   },
   {
    "duration": 374,
    "start_time": "2022-12-23T19:14:01.587Z"
   },
   {
    "duration": 262,
    "start_time": "2022-12-23T19:14:01.963Z"
   },
   {
    "duration": 430,
    "start_time": "2022-12-23T19:14:02.227Z"
   },
   {
    "duration": 542,
    "start_time": "2022-12-23T19:14:02.659Z"
   },
   {
    "duration": 149,
    "start_time": "2022-12-23T19:14:03.203Z"
   },
   {
    "duration": 7,
    "start_time": "2022-12-23T19:14:03.354Z"
   },
   {
    "duration": 174,
    "start_time": "2022-12-23T19:14:03.362Z"
   },
   {
    "duration": 169,
    "start_time": "2022-12-23T19:14:03.537Z"
   },
   {
    "duration": 41,
    "start_time": "2022-12-23T19:14:03.707Z"
   },
   {
    "duration": 51,
    "start_time": "2022-12-23T19:14:03.750Z"
   },
   {
    "duration": 190,
    "start_time": "2022-12-23T19:14:03.803Z"
   },
   {
    "duration": 311,
    "start_time": "2022-12-23T19:14:03.995Z"
   },
   {
    "duration": 383,
    "start_time": "2022-12-23T19:14:04.308Z"
   },
   {
    "duration": 144,
    "start_time": "2022-12-23T19:14:04.692Z"
   },
   {
    "duration": 132,
    "start_time": "2022-12-23T19:14:04.838Z"
   },
   {
    "duration": 58,
    "start_time": "2022-12-23T19:16:03.503Z"
   },
   {
    "duration": 337,
    "start_time": "2022-12-23T19:16:09.066Z"
   },
   {
    "duration": 46,
    "start_time": "2022-12-23T19:16:43.859Z"
   },
   {
    "duration": 44,
    "start_time": "2022-12-23T19:16:51.190Z"
   },
   {
    "duration": 334,
    "start_time": "2022-12-23T19:16:58.705Z"
   },
   {
    "duration": 345,
    "start_time": "2022-12-23T19:17:23.513Z"
   },
   {
    "duration": 292,
    "start_time": "2022-12-23T19:18:19.945Z"
   },
   {
    "duration": 1040,
    "start_time": "2022-12-23T19:19:47.605Z"
   },
   {
    "duration": 53,
    "start_time": "2022-12-23T19:19:48.647Z"
   },
   {
    "duration": 24,
    "start_time": "2022-12-23T19:19:48.702Z"
   },
   {
    "duration": 14,
    "start_time": "2022-12-23T19:19:48.728Z"
   },
   {
    "duration": 9,
    "start_time": "2022-12-23T19:19:48.743Z"
   },
   {
    "duration": 48,
    "start_time": "2022-12-23T19:19:48.776Z"
   },
   {
    "duration": 4,
    "start_time": "2022-12-23T19:19:48.826Z"
   },
   {
    "duration": 14,
    "start_time": "2022-12-23T19:19:48.831Z"
   },
   {
    "duration": 8,
    "start_time": "2022-12-23T19:19:48.846Z"
   },
   {
    "duration": 23,
    "start_time": "2022-12-23T19:19:48.857Z"
   },
   {
    "duration": 11,
    "start_time": "2022-12-23T19:19:48.881Z"
   },
   {
    "duration": 6,
    "start_time": "2022-12-23T19:19:48.894Z"
   },
   {
    "duration": 5,
    "start_time": "2022-12-23T19:19:48.902Z"
   },
   {
    "duration": 19,
    "start_time": "2022-12-23T19:19:48.908Z"
   },
   {
    "duration": 13,
    "start_time": "2022-12-23T19:19:48.929Z"
   },
   {
    "duration": 39,
    "start_time": "2022-12-23T19:19:48.944Z"
   },
   {
    "duration": 4,
    "start_time": "2022-12-23T19:19:48.985Z"
   },
   {
    "duration": 319,
    "start_time": "2022-12-23T19:19:48.991Z"
   },
   {
    "duration": 281,
    "start_time": "2022-12-23T19:19:49.312Z"
   },
   {
    "duration": 458,
    "start_time": "2022-12-23T19:19:49.595Z"
   },
   {
    "duration": 569,
    "start_time": "2022-12-23T19:19:50.055Z"
   },
   {
    "duration": 149,
    "start_time": "2022-12-23T19:19:50.626Z"
   },
   {
    "duration": 6,
    "start_time": "2022-12-23T19:19:50.777Z"
   },
   {
    "duration": 178,
    "start_time": "2022-12-23T19:19:50.784Z"
   },
   {
    "duration": 171,
    "start_time": "2022-12-23T19:19:50.964Z"
   },
   {
    "duration": 43,
    "start_time": "2022-12-23T19:19:51.136Z"
   },
   {
    "duration": 32,
    "start_time": "2022-12-23T19:19:51.181Z"
   },
   {
    "duration": 193,
    "start_time": "2022-12-23T19:19:51.216Z"
   },
   {
    "duration": 332,
    "start_time": "2022-12-23T19:19:51.411Z"
   },
   {
    "duration": 406,
    "start_time": "2022-12-23T19:19:51.744Z"
   },
   {
    "duration": 337,
    "start_time": "2022-12-23T19:20:05.939Z"
   },
   {
    "duration": 307,
    "start_time": "2022-12-23T19:20:17.609Z"
   },
   {
    "duration": 315,
    "start_time": "2022-12-23T19:20:38.568Z"
   },
   {
    "duration": 319,
    "start_time": "2022-12-23T19:21:11.422Z"
   },
   {
    "duration": 295,
    "start_time": "2022-12-23T19:40:26.921Z"
   },
   {
    "duration": 5,
    "start_time": "2022-12-23T19:41:14.466Z"
   },
   {
    "duration": 415,
    "start_time": "2022-12-23T19:41:38.216Z"
   },
   {
    "duration": 1164,
    "start_time": "2022-12-26T10:19:40.008Z"
   },
   {
    "duration": 97,
    "start_time": "2022-12-26T10:19:41.174Z"
   },
   {
    "duration": 21,
    "start_time": "2022-12-26T10:19:41.273Z"
   },
   {
    "duration": 35,
    "start_time": "2022-12-26T10:19:41.296Z"
   },
   {
    "duration": 8,
    "start_time": "2022-12-26T10:19:41.332Z"
   },
   {
    "duration": 49,
    "start_time": "2022-12-26T10:19:41.341Z"
   },
   {
    "duration": 2,
    "start_time": "2022-12-26T10:19:41.392Z"
   },
   {
    "duration": 9,
    "start_time": "2022-12-26T10:19:41.396Z"
   },
   {
    "duration": 7,
    "start_time": "2022-12-26T10:19:41.406Z"
   },
   {
    "duration": 4,
    "start_time": "2022-12-26T10:19:41.415Z"
   },
   {
    "duration": 9,
    "start_time": "2022-12-26T10:19:41.420Z"
   },
   {
    "duration": 4,
    "start_time": "2022-12-26T10:19:41.430Z"
   },
   {
    "duration": 5,
    "start_time": "2022-12-26T10:19:41.435Z"
   },
   {
    "duration": 19,
    "start_time": "2022-12-26T10:19:41.442Z"
   },
   {
    "duration": 36,
    "start_time": "2022-12-26T10:19:41.462Z"
   },
   {
    "duration": 14,
    "start_time": "2022-12-26T10:19:41.500Z"
   },
   {
    "duration": 4,
    "start_time": "2022-12-26T10:19:41.515Z"
   },
   {
    "duration": 320,
    "start_time": "2022-12-26T10:19:41.520Z"
   },
   {
    "duration": 275,
    "start_time": "2022-12-26T10:19:41.841Z"
   },
   {
    "duration": 444,
    "start_time": "2022-12-26T10:19:42.118Z"
   },
   {
    "duration": 533,
    "start_time": "2022-12-26T10:19:42.564Z"
   },
   {
    "duration": 141,
    "start_time": "2022-12-26T10:19:43.099Z"
   },
   {
    "duration": 6,
    "start_time": "2022-12-26T10:19:43.241Z"
   },
   {
    "duration": 158,
    "start_time": "2022-12-26T10:19:43.248Z"
   },
   {
    "duration": 155,
    "start_time": "2022-12-26T10:19:43.408Z"
   },
   {
    "duration": 45,
    "start_time": "2022-12-26T10:19:43.565Z"
   },
   {
    "duration": 33,
    "start_time": "2022-12-26T10:19:43.611Z"
   },
   {
    "duration": 185,
    "start_time": "2022-12-26T10:19:43.646Z"
   },
   {
    "duration": 319,
    "start_time": "2022-12-26T10:19:43.833Z"
   },
   {
    "duration": 383,
    "start_time": "2022-12-26T10:19:44.154Z"
   },
   {
    "duration": 435,
    "start_time": "2022-12-26T10:19:44.538Z"
   },
   {
    "duration": 108,
    "start_time": "2022-12-26T10:19:44.975Z"
   },
   {
    "duration": 14,
    "start_time": "2022-12-26T10:20:12.554Z"
   },
   {
    "duration": 1020,
    "start_time": "2022-12-26T10:20:47.552Z"
   },
   {
    "duration": 49,
    "start_time": "2022-12-26T10:20:48.574Z"
   },
   {
    "duration": 21,
    "start_time": "2022-12-26T10:20:48.625Z"
   },
   {
    "duration": 14,
    "start_time": "2022-12-26T10:20:48.647Z"
   },
   {
    "duration": 8,
    "start_time": "2022-12-26T10:20:48.662Z"
   },
   {
    "duration": 66,
    "start_time": "2022-12-26T10:20:48.671Z"
   },
   {
    "duration": 3,
    "start_time": "2022-12-26T10:20:48.738Z"
   },
   {
    "duration": 14,
    "start_time": "2022-12-26T10:20:48.742Z"
   },
   {
    "duration": 7,
    "start_time": "2022-12-26T10:20:48.757Z"
   },
   {
    "duration": 5,
    "start_time": "2022-12-26T10:20:48.765Z"
   },
   {
    "duration": 26,
    "start_time": "2022-12-26T10:20:48.771Z"
   },
   {
    "duration": 3,
    "start_time": "2022-12-26T10:20:48.798Z"
   },
   {
    "duration": 5,
    "start_time": "2022-12-26T10:20:48.803Z"
   },
   {
    "duration": 20,
    "start_time": "2022-12-26T10:20:48.811Z"
   },
   {
    "duration": 11,
    "start_time": "2022-12-26T10:20:48.833Z"
   },
   {
    "duration": 17,
    "start_time": "2022-12-26T10:20:48.845Z"
   },
   {
    "duration": 4,
    "start_time": "2022-12-26T10:20:48.863Z"
   },
   {
    "duration": 396,
    "start_time": "2022-12-26T10:20:48.868Z"
   },
   {
    "duration": 317,
    "start_time": "2022-12-26T10:20:49.266Z"
   },
   {
    "duration": 493,
    "start_time": "2022-12-26T10:20:49.585Z"
   },
   {
    "duration": 570,
    "start_time": "2022-12-26T10:20:50.081Z"
   },
   {
    "duration": 190,
    "start_time": "2022-12-26T10:20:50.652Z"
   },
   {
    "duration": 6,
    "start_time": "2022-12-26T10:20:50.844Z"
   },
   {
    "duration": 165,
    "start_time": "2022-12-26T10:20:50.851Z"
   },
   {
    "duration": 180,
    "start_time": "2022-12-26T10:20:51.017Z"
   },
   {
    "duration": 37,
    "start_time": "2022-12-26T10:20:51.199Z"
   },
   {
    "duration": 36,
    "start_time": "2022-12-26T10:20:51.237Z"
   },
   {
    "duration": 206,
    "start_time": "2022-12-26T10:20:51.275Z"
   },
   {
    "duration": 323,
    "start_time": "2022-12-26T10:20:51.482Z"
   },
   {
    "duration": 386,
    "start_time": "2022-12-26T10:20:51.806Z"
   },
   {
    "duration": 386,
    "start_time": "2022-12-26T10:20:52.197Z"
   },
   {
    "duration": 17,
    "start_time": "2022-12-26T10:20:52.585Z"
   },
   {
    "duration": 9,
    "start_time": "2022-12-26T10:22:57.648Z"
   },
   {
    "duration": 11,
    "start_time": "2022-12-26T10:32:58.566Z"
   },
   {
    "duration": 50,
    "start_time": "2022-12-26T10:34:47.597Z"
   },
   {
    "duration": 2,
    "start_time": "2022-12-26T10:38:23.780Z"
   },
   {
    "duration": 41,
    "start_time": "2022-12-26T10:45:22.416Z"
   },
   {
    "duration": 1230,
    "start_time": "2022-12-26T11:23:25.611Z"
   },
   {
    "duration": 173,
    "start_time": "2022-12-26T11:23:26.843Z"
   },
   {
    "duration": 23,
    "start_time": "2022-12-26T11:23:27.017Z"
   },
   {
    "duration": 13,
    "start_time": "2022-12-26T11:23:27.041Z"
   },
   {
    "duration": 9,
    "start_time": "2022-12-26T11:23:27.056Z"
   },
   {
    "duration": 76,
    "start_time": "2022-12-26T11:23:27.067Z"
   },
   {
    "duration": 4,
    "start_time": "2022-12-26T11:23:27.145Z"
   },
   {
    "duration": 13,
    "start_time": "2022-12-26T11:23:27.151Z"
   },
   {
    "duration": 9,
    "start_time": "2022-12-26T11:23:27.166Z"
   },
   {
    "duration": 4,
    "start_time": "2022-12-26T11:23:27.177Z"
   },
   {
    "duration": 9,
    "start_time": "2022-12-26T11:23:27.182Z"
   },
   {
    "duration": 3,
    "start_time": "2022-12-26T11:23:27.192Z"
   },
   {
    "duration": 31,
    "start_time": "2022-12-26T11:23:27.196Z"
   },
   {
    "duration": 19,
    "start_time": "2022-12-26T11:23:27.229Z"
   },
   {
    "duration": 12,
    "start_time": "2022-12-26T11:23:27.250Z"
   },
   {
    "duration": 25,
    "start_time": "2022-12-26T11:23:27.264Z"
   },
   {
    "duration": 5,
    "start_time": "2022-12-26T11:23:27.291Z"
   },
   {
    "duration": 344,
    "start_time": "2022-12-26T11:23:27.298Z"
   },
   {
    "duration": 284,
    "start_time": "2022-12-26T11:23:27.644Z"
   },
   {
    "duration": 463,
    "start_time": "2022-12-26T11:23:27.930Z"
   },
   {
    "duration": 551,
    "start_time": "2022-12-26T11:23:28.395Z"
   },
   {
    "duration": 147,
    "start_time": "2022-12-26T11:23:28.948Z"
   },
   {
    "duration": 5,
    "start_time": "2022-12-26T11:23:29.097Z"
   },
   {
    "duration": 180,
    "start_time": "2022-12-26T11:23:29.104Z"
   },
   {
    "duration": 163,
    "start_time": "2022-12-26T11:23:29.285Z"
   },
   {
    "duration": 44,
    "start_time": "2022-12-26T11:23:29.450Z"
   },
   {
    "duration": 53,
    "start_time": "2022-12-26T11:23:29.496Z"
   },
   {
    "duration": 192,
    "start_time": "2022-12-26T11:23:29.553Z"
   },
   {
    "duration": 323,
    "start_time": "2022-12-26T11:23:29.747Z"
   },
   {
    "duration": 404,
    "start_time": "2022-12-26T11:23:30.072Z"
   },
   {
    "duration": 362,
    "start_time": "2022-12-26T11:23:30.477Z"
   },
   {
    "duration": 10,
    "start_time": "2022-12-26T11:23:30.840Z"
   },
   {
    "duration": 11,
    "start_time": "2022-12-26T11:23:30.851Z"
   },
   {
    "duration": 421,
    "start_time": "2022-12-26T14:53:39.599Z"
   },
   {
    "duration": 39,
    "start_time": "2022-12-26T14:56:43.580Z"
   },
   {
    "duration": 48,
    "start_time": "2022-12-26T15:05:58.056Z"
   },
   {
    "duration": 141,
    "start_time": "2022-12-26T15:10:01.383Z"
   },
   {
    "duration": 159,
    "start_time": "2022-12-26T15:10:14.648Z"
   },
   {
    "duration": 409,
    "start_time": "2022-12-26T15:14:19.901Z"
   },
   {
    "duration": 274,
    "start_time": "2022-12-26T15:16:13.744Z"
   },
   {
    "duration": 385,
    "start_time": "2022-12-26T15:17:51.798Z"
   },
   {
    "duration": 264,
    "start_time": "2022-12-26T15:22:17.783Z"
   },
   {
    "duration": 197,
    "start_time": "2022-12-26T15:22:32.865Z"
   },
   {
    "duration": 256,
    "start_time": "2022-12-26T15:22:43.298Z"
   },
   {
    "duration": 245,
    "start_time": "2022-12-26T15:23:47.229Z"
   },
   {
    "duration": 156,
    "start_time": "2022-12-26T15:24:54.482Z"
   },
   {
    "duration": 140,
    "start_time": "2022-12-26T15:27:00.600Z"
   },
   {
    "duration": 220,
    "start_time": "2022-12-26T15:27:21.230Z"
   },
   {
    "duration": 100,
    "start_time": "2022-12-26T15:32:52.041Z"
   },
   {
    "duration": 52,
    "start_time": "2022-12-26T15:34:00.273Z"
   },
   {
    "duration": 49,
    "start_time": "2022-12-26T15:34:10.892Z"
   },
   {
    "duration": 98,
    "start_time": "2022-12-26T15:34:41.914Z"
   },
   {
    "duration": 97,
    "start_time": "2022-12-26T15:34:51.638Z"
   },
   {
    "duration": 101,
    "start_time": "2022-12-26T15:35:05.084Z"
   },
   {
    "duration": 112,
    "start_time": "2022-12-26T15:35:22.296Z"
   },
   {
    "duration": 106,
    "start_time": "2022-12-26T15:35:46.604Z"
   },
   {
    "duration": 104,
    "start_time": "2022-12-26T15:36:59.365Z"
   },
   {
    "duration": 103,
    "start_time": "2022-12-26T15:37:05.735Z"
   },
   {
    "duration": 3,
    "start_time": "2022-12-26T15:38:25.537Z"
   },
   {
    "duration": 5,
    "start_time": "2022-12-26T15:38:28.578Z"
   },
   {
    "duration": 6,
    "start_time": "2022-12-26T15:38:50.006Z"
   },
   {
    "duration": 50,
    "start_time": "2022-12-26T15:39:02.437Z"
   },
   {
    "duration": 24,
    "start_time": "2022-12-26T15:39:17.793Z"
   },
   {
    "duration": 70,
    "start_time": "2022-12-26T15:39:35.082Z"
   },
   {
    "duration": 17,
    "start_time": "2022-12-26T15:40:11.647Z"
   },
   {
    "duration": 327,
    "start_time": "2022-12-26T15:40:48.475Z"
   },
   {
    "duration": 369,
    "start_time": "2022-12-26T15:41:40.952Z"
   },
   {
    "duration": 281,
    "start_time": "2022-12-26T15:41:49.930Z"
   },
   {
    "duration": 140,
    "start_time": "2022-12-26T15:42:28.815Z"
   },
   {
    "duration": 60,
    "start_time": "2022-12-26T15:43:00.383Z"
   },
   {
    "duration": 258,
    "start_time": "2022-12-26T15:43:07.813Z"
   },
   {
    "duration": 270,
    "start_time": "2022-12-26T15:43:15.631Z"
   },
   {
    "duration": 81,
    "start_time": "2022-12-26T15:43:58.493Z"
   },
   {
    "duration": 48,
    "start_time": "2022-12-26T15:44:01.381Z"
   },
   {
    "duration": 81,
    "start_time": "2022-12-26T15:44:05.266Z"
   },
   {
    "duration": 187,
    "start_time": "2022-12-26T15:46:41.904Z"
   },
   {
    "duration": 355,
    "start_time": "2022-12-26T15:48:34.266Z"
   },
   {
    "duration": 699,
    "start_time": "2022-12-26T15:50:43.269Z"
   },
   {
    "duration": 761,
    "start_time": "2022-12-26T15:51:11.892Z"
   },
   {
    "duration": 877,
    "start_time": "2022-12-26T15:51:30.040Z"
   },
   {
    "duration": 722,
    "start_time": "2022-12-26T15:51:42.379Z"
   },
   {
    "duration": 907,
    "start_time": "2022-12-26T15:51:59.687Z"
   },
   {
    "duration": 630,
    "start_time": "2022-12-26T15:53:09.315Z"
   },
   {
    "duration": 48,
    "start_time": "2022-12-26T16:05:54.606Z"
   },
   {
    "duration": 14,
    "start_time": "2022-12-26T16:06:06.927Z"
   },
   {
    "duration": 96,
    "start_time": "2022-12-26T16:07:41.455Z"
   },
   {
    "duration": 100,
    "start_time": "2022-12-26T16:09:27.600Z"
   },
   {
    "duration": 116,
    "start_time": "2022-12-26T16:10:20.970Z"
   },
   {
    "duration": 236,
    "start_time": "2022-12-26T16:14:04.131Z"
   },
   {
    "duration": 490,
    "start_time": "2022-12-26T16:14:53.106Z"
   },
   {
    "duration": 18,
    "start_time": "2022-12-26T16:15:21.587Z"
   },
   {
    "duration": 443,
    "start_time": "2022-12-26T16:15:43.599Z"
   },
   {
    "duration": 245,
    "start_time": "2022-12-26T16:23:14.124Z"
   },
   {
    "duration": 358,
    "start_time": "2022-12-26T16:23:43.362Z"
   },
   {
    "duration": 382,
    "start_time": "2022-12-26T16:23:50.778Z"
   },
   {
    "duration": 45,
    "start_time": "2022-12-26T18:07:42.299Z"
   },
   {
    "duration": 61,
    "start_time": "2022-12-26T18:09:16.084Z"
   },
   {
    "duration": 20,
    "start_time": "2022-12-26T18:12:37.070Z"
   },
   {
    "duration": 49,
    "start_time": "2022-12-26T18:12:50.264Z"
   },
   {
    "duration": 9,
    "start_time": "2022-12-26T18:13:00.455Z"
   },
   {
    "duration": 26,
    "start_time": "2022-12-26T18:13:12.633Z"
   },
   {
    "duration": 10,
    "start_time": "2022-12-26T18:14:01.964Z"
   },
   {
    "duration": 50,
    "start_time": "2022-12-26T18:14:07.501Z"
   },
   {
    "duration": 23,
    "start_time": "2022-12-26T18:15:05.335Z"
   },
   {
    "duration": 29,
    "start_time": "2022-12-26T18:15:19.777Z"
   },
   {
    "duration": 395,
    "start_time": "2022-12-26T18:17:50.489Z"
   },
   {
    "duration": 347,
    "start_time": "2022-12-26T18:18:11.236Z"
   },
   {
    "duration": 37,
    "start_time": "2022-12-26T18:21:33.184Z"
   },
   {
    "duration": 181,
    "start_time": "2022-12-26T18:33:21.589Z"
   },
   {
    "duration": 18,
    "start_time": "2022-12-26T18:36:07.481Z"
   },
   {
    "duration": 203,
    "start_time": "2022-12-26T18:36:11.540Z"
   },
   {
    "duration": 517,
    "start_time": "2022-12-26T18:38:04.099Z"
   },
   {
    "duration": 383,
    "start_time": "2022-12-26T18:38:38.094Z"
   },
   {
    "duration": 432,
    "start_time": "2022-12-26T18:40:09.823Z"
   },
   {
    "duration": 378,
    "start_time": "2022-12-26T18:40:17.374Z"
   },
   {
    "duration": 541,
    "start_time": "2022-12-26T18:41:37.793Z"
   },
   {
    "duration": 424,
    "start_time": "2022-12-26T18:41:57.724Z"
   },
   {
    "duration": 723,
    "start_time": "2022-12-26T18:51:23.030Z"
   },
   {
    "duration": 622,
    "start_time": "2022-12-26T18:54:51.615Z"
   },
   {
    "duration": 380,
    "start_time": "2022-12-26T18:55:10.633Z"
   },
   {
    "duration": 13,
    "start_time": "2022-12-26T18:56:58.426Z"
   },
   {
    "duration": 96,
    "start_time": "2022-12-26T18:58:51.396Z"
   },
   {
    "duration": 18,
    "start_time": "2022-12-26T18:59:22.517Z"
   }
  ],
  "kernelspec": {
   "display_name": "Python 3 (ipykernel)",
   "language": "python",
   "name": "python3"
  },
  "language_info": {
   "codemirror_mode": {
    "name": "ipython",
    "version": 3
   },
   "file_extension": ".py",
   "mimetype": "text/x-python",
   "name": "python",
   "nbconvert_exporter": "python",
   "pygments_lexer": "ipython3",
   "version": "3.9.13"
  },
  "toc": {
   "base_numbering": 1,
   "nav_menu": {},
   "number_sections": true,
   "sideBar": true,
   "skip_h1_title": true,
   "title_cell": "Table of Contents",
   "title_sidebar": "Contents",
   "toc_cell": false,
   "toc_position": {},
   "toc_section_display": true,
   "toc_window_display": false
  }
 },
 "nbformat": 4,
 "nbformat_minor": 2
}
