{
 "cells": [
  {
   "cell_type": "markdown",
   "metadata": {},
   "source": [
    "# Исследование объявлений о продаже квартир\n",
    "\n",
    "В вашем распоряжении данные сервиса Яндекс.Недвижимость — архив объявлений о продаже квартир в Санкт-Петербурге и соседних населённых пунктов за несколько лет. Нужно научиться определять рыночную стоимость объектов недвижимости. Ваша задача — установить параметры. Это позволит построить автоматизированную систему: она отследит аномалии и мошенническую деятельность. \n",
    "\n",
    "По каждой квартире на продажу доступны два вида данных. Первые вписаны пользователем, вторые — получены автоматически на основе картографических данных. Например, расстояние до центра, аэропорта, ближайшего парка и водоёма. "
   ]
  },
  {
   "cell_type": "markdown",
   "metadata": {},
   "source": [
    "### Откройте файл с данными и изучите общую информацию. "
   ]
  },
  {
   "cell_type": "code",
   "execution_count": 1,
   "metadata": {},
   "outputs": [],
   "source": [
    "import pandas as pd\n",
    "import matplotlib.pyplot as plt\n",
    "import numpy as np\n",
    "\n",
    "try:\n",
    "    data = pd.read_csv('/datasets/real_estate_data.csv', sep='\\t')\n",
    "except:\n",
    "    data = pd.read_csv('https://code.s3.yandex.net/datasets/real_estate_data.csv', sep='\\t')"
   ]
  },
  {
   "cell_type": "markdown",
   "metadata": {},
   "source": [
    "**Вывод первых 20 строчек датафрейма `data` на экран.**"
   ]
  },
  {
   "cell_type": "code",
   "execution_count": 2,
   "metadata": {},
   "outputs": [
    {
     "data": {
      "text/html": [
       "<div>\n",
       "<style scoped>\n",
       "    .dataframe tbody tr th:only-of-type {\n",
       "        vertical-align: middle;\n",
       "    }\n",
       "\n",
       "    .dataframe tbody tr th {\n",
       "        vertical-align: top;\n",
       "    }\n",
       "\n",
       "    .dataframe thead th {\n",
       "        text-align: right;\n",
       "    }\n",
       "</style>\n",
       "<table border=\"1\" class=\"dataframe\">\n",
       "  <thead>\n",
       "    <tr style=\"text-align: right;\">\n",
       "      <th></th>\n",
       "      <th>total_images</th>\n",
       "      <th>last_price</th>\n",
       "      <th>total_area</th>\n",
       "      <th>first_day_exposition</th>\n",
       "      <th>rooms</th>\n",
       "      <th>ceiling_height</th>\n",
       "      <th>floors_total</th>\n",
       "      <th>living_area</th>\n",
       "      <th>floor</th>\n",
       "      <th>is_apartment</th>\n",
       "      <th>...</th>\n",
       "      <th>kitchen_area</th>\n",
       "      <th>balcony</th>\n",
       "      <th>locality_name</th>\n",
       "      <th>airports_nearest</th>\n",
       "      <th>cityCenters_nearest</th>\n",
       "      <th>parks_around3000</th>\n",
       "      <th>parks_nearest</th>\n",
       "      <th>ponds_around3000</th>\n",
       "      <th>ponds_nearest</th>\n",
       "      <th>days_exposition</th>\n",
       "    </tr>\n",
       "  </thead>\n",
       "  <tbody>\n",
       "    <tr>\n",
       "      <th>0</th>\n",
       "      <td>20</td>\n",
       "      <td>13000000.0</td>\n",
       "      <td>108.00</td>\n",
       "      <td>2019-03-07T00:00:00</td>\n",
       "      <td>3</td>\n",
       "      <td>2.70</td>\n",
       "      <td>16.0</td>\n",
       "      <td>51.00</td>\n",
       "      <td>8</td>\n",
       "      <td>NaN</td>\n",
       "      <td>...</td>\n",
       "      <td>25.00</td>\n",
       "      <td>NaN</td>\n",
       "      <td>Санкт-Петербург</td>\n",
       "      <td>18863.0</td>\n",
       "      <td>16028.0</td>\n",
       "      <td>1.0</td>\n",
       "      <td>482.0</td>\n",
       "      <td>2.0</td>\n",
       "      <td>755.0</td>\n",
       "      <td>NaN</td>\n",
       "    </tr>\n",
       "    <tr>\n",
       "      <th>1</th>\n",
       "      <td>7</td>\n",
       "      <td>3350000.0</td>\n",
       "      <td>40.40</td>\n",
       "      <td>2018-12-04T00:00:00</td>\n",
       "      <td>1</td>\n",
       "      <td>NaN</td>\n",
       "      <td>11.0</td>\n",
       "      <td>18.60</td>\n",
       "      <td>1</td>\n",
       "      <td>NaN</td>\n",
       "      <td>...</td>\n",
       "      <td>11.00</td>\n",
       "      <td>2.0</td>\n",
       "      <td>посёлок Шушары</td>\n",
       "      <td>12817.0</td>\n",
       "      <td>18603.0</td>\n",
       "      <td>0.0</td>\n",
       "      <td>NaN</td>\n",
       "      <td>0.0</td>\n",
       "      <td>NaN</td>\n",
       "      <td>81.0</td>\n",
       "    </tr>\n",
       "    <tr>\n",
       "      <th>2</th>\n",
       "      <td>10</td>\n",
       "      <td>5196000.0</td>\n",
       "      <td>56.00</td>\n",
       "      <td>2015-08-20T00:00:00</td>\n",
       "      <td>2</td>\n",
       "      <td>NaN</td>\n",
       "      <td>5.0</td>\n",
       "      <td>34.30</td>\n",
       "      <td>4</td>\n",
       "      <td>NaN</td>\n",
       "      <td>...</td>\n",
       "      <td>8.30</td>\n",
       "      <td>0.0</td>\n",
       "      <td>Санкт-Петербург</td>\n",
       "      <td>21741.0</td>\n",
       "      <td>13933.0</td>\n",
       "      <td>1.0</td>\n",
       "      <td>90.0</td>\n",
       "      <td>2.0</td>\n",
       "      <td>574.0</td>\n",
       "      <td>558.0</td>\n",
       "    </tr>\n",
       "    <tr>\n",
       "      <th>3</th>\n",
       "      <td>0</td>\n",
       "      <td>64900000.0</td>\n",
       "      <td>159.00</td>\n",
       "      <td>2015-07-24T00:00:00</td>\n",
       "      <td>3</td>\n",
       "      <td>NaN</td>\n",
       "      <td>14.0</td>\n",
       "      <td>NaN</td>\n",
       "      <td>9</td>\n",
       "      <td>NaN</td>\n",
       "      <td>...</td>\n",
       "      <td>NaN</td>\n",
       "      <td>0.0</td>\n",
       "      <td>Санкт-Петербург</td>\n",
       "      <td>28098.0</td>\n",
       "      <td>6800.0</td>\n",
       "      <td>2.0</td>\n",
       "      <td>84.0</td>\n",
       "      <td>3.0</td>\n",
       "      <td>234.0</td>\n",
       "      <td>424.0</td>\n",
       "    </tr>\n",
       "    <tr>\n",
       "      <th>4</th>\n",
       "      <td>2</td>\n",
       "      <td>10000000.0</td>\n",
       "      <td>100.00</td>\n",
       "      <td>2018-06-19T00:00:00</td>\n",
       "      <td>2</td>\n",
       "      <td>3.03</td>\n",
       "      <td>14.0</td>\n",
       "      <td>32.00</td>\n",
       "      <td>13</td>\n",
       "      <td>NaN</td>\n",
       "      <td>...</td>\n",
       "      <td>41.00</td>\n",
       "      <td>NaN</td>\n",
       "      <td>Санкт-Петербург</td>\n",
       "      <td>31856.0</td>\n",
       "      <td>8098.0</td>\n",
       "      <td>2.0</td>\n",
       "      <td>112.0</td>\n",
       "      <td>1.0</td>\n",
       "      <td>48.0</td>\n",
       "      <td>121.0</td>\n",
       "    </tr>\n",
       "    <tr>\n",
       "      <th>5</th>\n",
       "      <td>10</td>\n",
       "      <td>2890000.0</td>\n",
       "      <td>30.40</td>\n",
       "      <td>2018-09-10T00:00:00</td>\n",
       "      <td>1</td>\n",
       "      <td>NaN</td>\n",
       "      <td>12.0</td>\n",
       "      <td>14.40</td>\n",
       "      <td>5</td>\n",
       "      <td>NaN</td>\n",
       "      <td>...</td>\n",
       "      <td>9.10</td>\n",
       "      <td>NaN</td>\n",
       "      <td>городской посёлок Янино-1</td>\n",
       "      <td>NaN</td>\n",
       "      <td>NaN</td>\n",
       "      <td>NaN</td>\n",
       "      <td>NaN</td>\n",
       "      <td>NaN</td>\n",
       "      <td>NaN</td>\n",
       "      <td>55.0</td>\n",
       "    </tr>\n",
       "    <tr>\n",
       "      <th>6</th>\n",
       "      <td>6</td>\n",
       "      <td>3700000.0</td>\n",
       "      <td>37.30</td>\n",
       "      <td>2017-11-02T00:00:00</td>\n",
       "      <td>1</td>\n",
       "      <td>NaN</td>\n",
       "      <td>26.0</td>\n",
       "      <td>10.60</td>\n",
       "      <td>6</td>\n",
       "      <td>NaN</td>\n",
       "      <td>...</td>\n",
       "      <td>14.40</td>\n",
       "      <td>1.0</td>\n",
       "      <td>посёлок Парголово</td>\n",
       "      <td>52996.0</td>\n",
       "      <td>19143.0</td>\n",
       "      <td>0.0</td>\n",
       "      <td>NaN</td>\n",
       "      <td>0.0</td>\n",
       "      <td>NaN</td>\n",
       "      <td>155.0</td>\n",
       "    </tr>\n",
       "    <tr>\n",
       "      <th>7</th>\n",
       "      <td>5</td>\n",
       "      <td>7915000.0</td>\n",
       "      <td>71.60</td>\n",
       "      <td>2019-04-18T00:00:00</td>\n",
       "      <td>2</td>\n",
       "      <td>NaN</td>\n",
       "      <td>24.0</td>\n",
       "      <td>NaN</td>\n",
       "      <td>22</td>\n",
       "      <td>NaN</td>\n",
       "      <td>...</td>\n",
       "      <td>18.90</td>\n",
       "      <td>2.0</td>\n",
       "      <td>Санкт-Петербург</td>\n",
       "      <td>23982.0</td>\n",
       "      <td>11634.0</td>\n",
       "      <td>0.0</td>\n",
       "      <td>NaN</td>\n",
       "      <td>0.0</td>\n",
       "      <td>NaN</td>\n",
       "      <td>NaN</td>\n",
       "    </tr>\n",
       "    <tr>\n",
       "      <th>8</th>\n",
       "      <td>20</td>\n",
       "      <td>2900000.0</td>\n",
       "      <td>33.16</td>\n",
       "      <td>2018-05-23T00:00:00</td>\n",
       "      <td>1</td>\n",
       "      <td>NaN</td>\n",
       "      <td>27.0</td>\n",
       "      <td>15.43</td>\n",
       "      <td>26</td>\n",
       "      <td>NaN</td>\n",
       "      <td>...</td>\n",
       "      <td>8.81</td>\n",
       "      <td>NaN</td>\n",
       "      <td>посёлок Мурино</td>\n",
       "      <td>NaN</td>\n",
       "      <td>NaN</td>\n",
       "      <td>NaN</td>\n",
       "      <td>NaN</td>\n",
       "      <td>NaN</td>\n",
       "      <td>NaN</td>\n",
       "      <td>189.0</td>\n",
       "    </tr>\n",
       "    <tr>\n",
       "      <th>9</th>\n",
       "      <td>18</td>\n",
       "      <td>5400000.0</td>\n",
       "      <td>61.00</td>\n",
       "      <td>2017-02-26T00:00:00</td>\n",
       "      <td>3</td>\n",
       "      <td>2.50</td>\n",
       "      <td>9.0</td>\n",
       "      <td>43.60</td>\n",
       "      <td>7</td>\n",
       "      <td>NaN</td>\n",
       "      <td>...</td>\n",
       "      <td>6.50</td>\n",
       "      <td>2.0</td>\n",
       "      <td>Санкт-Петербург</td>\n",
       "      <td>50898.0</td>\n",
       "      <td>15008.0</td>\n",
       "      <td>0.0</td>\n",
       "      <td>NaN</td>\n",
       "      <td>0.0</td>\n",
       "      <td>NaN</td>\n",
       "      <td>289.0</td>\n",
       "    </tr>\n",
       "    <tr>\n",
       "      <th>10</th>\n",
       "      <td>5</td>\n",
       "      <td>5050000.0</td>\n",
       "      <td>39.60</td>\n",
       "      <td>2017-11-16T00:00:00</td>\n",
       "      <td>1</td>\n",
       "      <td>2.67</td>\n",
       "      <td>12.0</td>\n",
       "      <td>20.30</td>\n",
       "      <td>3</td>\n",
       "      <td>NaN</td>\n",
       "      <td>...</td>\n",
       "      <td>8.50</td>\n",
       "      <td>NaN</td>\n",
       "      <td>Санкт-Петербург</td>\n",
       "      <td>38357.0</td>\n",
       "      <td>13878.0</td>\n",
       "      <td>1.0</td>\n",
       "      <td>310.0</td>\n",
       "      <td>2.0</td>\n",
       "      <td>553.0</td>\n",
       "      <td>137.0</td>\n",
       "    </tr>\n",
       "    <tr>\n",
       "      <th>11</th>\n",
       "      <td>9</td>\n",
       "      <td>3300000.0</td>\n",
       "      <td>44.00</td>\n",
       "      <td>2018-08-27T00:00:00</td>\n",
       "      <td>2</td>\n",
       "      <td>NaN</td>\n",
       "      <td>5.0</td>\n",
       "      <td>31.00</td>\n",
       "      <td>4</td>\n",
       "      <td>False</td>\n",
       "      <td>...</td>\n",
       "      <td>6.00</td>\n",
       "      <td>1.0</td>\n",
       "      <td>Ломоносов</td>\n",
       "      <td>48252.0</td>\n",
       "      <td>51677.0</td>\n",
       "      <td>0.0</td>\n",
       "      <td>NaN</td>\n",
       "      <td>0.0</td>\n",
       "      <td>NaN</td>\n",
       "      <td>7.0</td>\n",
       "    </tr>\n",
       "    <tr>\n",
       "      <th>12</th>\n",
       "      <td>10</td>\n",
       "      <td>3890000.0</td>\n",
       "      <td>54.00</td>\n",
       "      <td>2016-06-30T00:00:00</td>\n",
       "      <td>2</td>\n",
       "      <td>NaN</td>\n",
       "      <td>5.0</td>\n",
       "      <td>30.00</td>\n",
       "      <td>5</td>\n",
       "      <td>NaN</td>\n",
       "      <td>...</td>\n",
       "      <td>9.00</td>\n",
       "      <td>0.0</td>\n",
       "      <td>Сертолово</td>\n",
       "      <td>NaN</td>\n",
       "      <td>NaN</td>\n",
       "      <td>NaN</td>\n",
       "      <td>NaN</td>\n",
       "      <td>NaN</td>\n",
       "      <td>NaN</td>\n",
       "      <td>90.0</td>\n",
       "    </tr>\n",
       "    <tr>\n",
       "      <th>13</th>\n",
       "      <td>20</td>\n",
       "      <td>3550000.0</td>\n",
       "      <td>42.80</td>\n",
       "      <td>2017-07-01T00:00:00</td>\n",
       "      <td>2</td>\n",
       "      <td>2.56</td>\n",
       "      <td>5.0</td>\n",
       "      <td>27.00</td>\n",
       "      <td>5</td>\n",
       "      <td>NaN</td>\n",
       "      <td>...</td>\n",
       "      <td>5.20</td>\n",
       "      <td>1.0</td>\n",
       "      <td>Петергоф</td>\n",
       "      <td>37868.0</td>\n",
       "      <td>33058.0</td>\n",
       "      <td>1.0</td>\n",
       "      <td>294.0</td>\n",
       "      <td>3.0</td>\n",
       "      <td>298.0</td>\n",
       "      <td>366.0</td>\n",
       "    </tr>\n",
       "    <tr>\n",
       "      <th>14</th>\n",
       "      <td>1</td>\n",
       "      <td>4400000.0</td>\n",
       "      <td>36.00</td>\n",
       "      <td>2016-06-23T00:00:00</td>\n",
       "      <td>1</td>\n",
       "      <td>NaN</td>\n",
       "      <td>6.0</td>\n",
       "      <td>17.00</td>\n",
       "      <td>1</td>\n",
       "      <td>NaN</td>\n",
       "      <td>...</td>\n",
       "      <td>8.00</td>\n",
       "      <td>0.0</td>\n",
       "      <td>Пушкин</td>\n",
       "      <td>20782.0</td>\n",
       "      <td>30759.0</td>\n",
       "      <td>0.0</td>\n",
       "      <td>NaN</td>\n",
       "      <td>1.0</td>\n",
       "      <td>96.0</td>\n",
       "      <td>203.0</td>\n",
       "    </tr>\n",
       "    <tr>\n",
       "      <th>15</th>\n",
       "      <td>16</td>\n",
       "      <td>4650000.0</td>\n",
       "      <td>39.00</td>\n",
       "      <td>2017-11-18T00:00:00</td>\n",
       "      <td>1</td>\n",
       "      <td>NaN</td>\n",
       "      <td>14.0</td>\n",
       "      <td>20.50</td>\n",
       "      <td>5</td>\n",
       "      <td>NaN</td>\n",
       "      <td>...</td>\n",
       "      <td>7.60</td>\n",
       "      <td>1.0</td>\n",
       "      <td>Санкт-Петербург</td>\n",
       "      <td>12900.0</td>\n",
       "      <td>14259.0</td>\n",
       "      <td>1.0</td>\n",
       "      <td>590.0</td>\n",
       "      <td>1.0</td>\n",
       "      <td>296.0</td>\n",
       "      <td>19.0</td>\n",
       "    </tr>\n",
       "    <tr>\n",
       "      <th>16</th>\n",
       "      <td>11</td>\n",
       "      <td>6700000.0</td>\n",
       "      <td>82.00</td>\n",
       "      <td>2017-11-23T00:00:00</td>\n",
       "      <td>3</td>\n",
       "      <td>3.05</td>\n",
       "      <td>5.0</td>\n",
       "      <td>55.60</td>\n",
       "      <td>1</td>\n",
       "      <td>NaN</td>\n",
       "      <td>...</td>\n",
       "      <td>9.00</td>\n",
       "      <td>NaN</td>\n",
       "      <td>Санкт-Петербург</td>\n",
       "      <td>22108.0</td>\n",
       "      <td>10698.0</td>\n",
       "      <td>3.0</td>\n",
       "      <td>420.0</td>\n",
       "      <td>0.0</td>\n",
       "      <td>NaN</td>\n",
       "      <td>397.0</td>\n",
       "    </tr>\n",
       "    <tr>\n",
       "      <th>17</th>\n",
       "      <td>6</td>\n",
       "      <td>4180000.0</td>\n",
       "      <td>36.00</td>\n",
       "      <td>2016-09-09T00:00:00</td>\n",
       "      <td>1</td>\n",
       "      <td>NaN</td>\n",
       "      <td>17.0</td>\n",
       "      <td>16.50</td>\n",
       "      <td>7</td>\n",
       "      <td>NaN</td>\n",
       "      <td>...</td>\n",
       "      <td>11.00</td>\n",
       "      <td>1.0</td>\n",
       "      <td>Санкт-Петербург</td>\n",
       "      <td>33564.0</td>\n",
       "      <td>14616.0</td>\n",
       "      <td>0.0</td>\n",
       "      <td>NaN</td>\n",
       "      <td>1.0</td>\n",
       "      <td>859.0</td>\n",
       "      <td>571.0</td>\n",
       "    </tr>\n",
       "    <tr>\n",
       "      <th>18</th>\n",
       "      <td>8</td>\n",
       "      <td>3250000.0</td>\n",
       "      <td>31.00</td>\n",
       "      <td>2017-01-27T00:00:00</td>\n",
       "      <td>1</td>\n",
       "      <td>2.50</td>\n",
       "      <td>5.0</td>\n",
       "      <td>19.40</td>\n",
       "      <td>2</td>\n",
       "      <td>NaN</td>\n",
       "      <td>...</td>\n",
       "      <td>5.60</td>\n",
       "      <td>1.0</td>\n",
       "      <td>Санкт-Петербург</td>\n",
       "      <td>44060.0</td>\n",
       "      <td>10842.0</td>\n",
       "      <td>1.0</td>\n",
       "      <td>759.0</td>\n",
       "      <td>0.0</td>\n",
       "      <td>NaN</td>\n",
       "      <td>168.0</td>\n",
       "    </tr>\n",
       "    <tr>\n",
       "      <th>19</th>\n",
       "      <td>16</td>\n",
       "      <td>14200000.0</td>\n",
       "      <td>121.00</td>\n",
       "      <td>2019-01-09T00:00:00</td>\n",
       "      <td>3</td>\n",
       "      <td>2.75</td>\n",
       "      <td>16.0</td>\n",
       "      <td>76.00</td>\n",
       "      <td>8</td>\n",
       "      <td>NaN</td>\n",
       "      <td>...</td>\n",
       "      <td>12.00</td>\n",
       "      <td>NaN</td>\n",
       "      <td>Санкт-Петербург</td>\n",
       "      <td>38900.0</td>\n",
       "      <td>12843.0</td>\n",
       "      <td>0.0</td>\n",
       "      <td>NaN</td>\n",
       "      <td>0.0</td>\n",
       "      <td>NaN</td>\n",
       "      <td>97.0</td>\n",
       "    </tr>\n",
       "  </tbody>\n",
       "</table>\n",
       "<p>20 rows × 22 columns</p>\n",
       "</div>"
      ],
      "text/plain": [
       "    total_images  last_price  total_area first_day_exposition  rooms  \\\n",
       "0             20  13000000.0      108.00  2019-03-07T00:00:00      3   \n",
       "1              7   3350000.0       40.40  2018-12-04T00:00:00      1   \n",
       "2             10   5196000.0       56.00  2015-08-20T00:00:00      2   \n",
       "3              0  64900000.0      159.00  2015-07-24T00:00:00      3   \n",
       "4              2  10000000.0      100.00  2018-06-19T00:00:00      2   \n",
       "5             10   2890000.0       30.40  2018-09-10T00:00:00      1   \n",
       "6              6   3700000.0       37.30  2017-11-02T00:00:00      1   \n",
       "7              5   7915000.0       71.60  2019-04-18T00:00:00      2   \n",
       "8             20   2900000.0       33.16  2018-05-23T00:00:00      1   \n",
       "9             18   5400000.0       61.00  2017-02-26T00:00:00      3   \n",
       "10             5   5050000.0       39.60  2017-11-16T00:00:00      1   \n",
       "11             9   3300000.0       44.00  2018-08-27T00:00:00      2   \n",
       "12            10   3890000.0       54.00  2016-06-30T00:00:00      2   \n",
       "13            20   3550000.0       42.80  2017-07-01T00:00:00      2   \n",
       "14             1   4400000.0       36.00  2016-06-23T00:00:00      1   \n",
       "15            16   4650000.0       39.00  2017-11-18T00:00:00      1   \n",
       "16            11   6700000.0       82.00  2017-11-23T00:00:00      3   \n",
       "17             6   4180000.0       36.00  2016-09-09T00:00:00      1   \n",
       "18             8   3250000.0       31.00  2017-01-27T00:00:00      1   \n",
       "19            16  14200000.0      121.00  2019-01-09T00:00:00      3   \n",
       "\n",
       "    ceiling_height  floors_total  living_area  floor is_apartment  ...  \\\n",
       "0             2.70          16.0        51.00      8          NaN  ...   \n",
       "1              NaN          11.0        18.60      1          NaN  ...   \n",
       "2              NaN           5.0        34.30      4          NaN  ...   \n",
       "3              NaN          14.0          NaN      9          NaN  ...   \n",
       "4             3.03          14.0        32.00     13          NaN  ...   \n",
       "5              NaN          12.0        14.40      5          NaN  ...   \n",
       "6              NaN          26.0        10.60      6          NaN  ...   \n",
       "7              NaN          24.0          NaN     22          NaN  ...   \n",
       "8              NaN          27.0        15.43     26          NaN  ...   \n",
       "9             2.50           9.0        43.60      7          NaN  ...   \n",
       "10            2.67          12.0        20.30      3          NaN  ...   \n",
       "11             NaN           5.0        31.00      4        False  ...   \n",
       "12             NaN           5.0        30.00      5          NaN  ...   \n",
       "13            2.56           5.0        27.00      5          NaN  ...   \n",
       "14             NaN           6.0        17.00      1          NaN  ...   \n",
       "15             NaN          14.0        20.50      5          NaN  ...   \n",
       "16            3.05           5.0        55.60      1          NaN  ...   \n",
       "17             NaN          17.0        16.50      7          NaN  ...   \n",
       "18            2.50           5.0        19.40      2          NaN  ...   \n",
       "19            2.75          16.0        76.00      8          NaN  ...   \n",
       "\n",
       "    kitchen_area  balcony              locality_name  airports_nearest  \\\n",
       "0          25.00      NaN            Санкт-Петербург           18863.0   \n",
       "1          11.00      2.0             посёлок Шушары           12817.0   \n",
       "2           8.30      0.0            Санкт-Петербург           21741.0   \n",
       "3            NaN      0.0            Санкт-Петербург           28098.0   \n",
       "4          41.00      NaN            Санкт-Петербург           31856.0   \n",
       "5           9.10      NaN  городской посёлок Янино-1               NaN   \n",
       "6          14.40      1.0          посёлок Парголово           52996.0   \n",
       "7          18.90      2.0            Санкт-Петербург           23982.0   \n",
       "8           8.81      NaN             посёлок Мурино               NaN   \n",
       "9           6.50      2.0            Санкт-Петербург           50898.0   \n",
       "10          8.50      NaN            Санкт-Петербург           38357.0   \n",
       "11          6.00      1.0                  Ломоносов           48252.0   \n",
       "12          9.00      0.0                  Сертолово               NaN   \n",
       "13          5.20      1.0                   Петергоф           37868.0   \n",
       "14          8.00      0.0                     Пушкин           20782.0   \n",
       "15          7.60      1.0            Санкт-Петербург           12900.0   \n",
       "16          9.00      NaN            Санкт-Петербург           22108.0   \n",
       "17         11.00      1.0            Санкт-Петербург           33564.0   \n",
       "18          5.60      1.0            Санкт-Петербург           44060.0   \n",
       "19         12.00      NaN            Санкт-Петербург           38900.0   \n",
       "\n",
       "   cityCenters_nearest  parks_around3000  parks_nearest  ponds_around3000  \\\n",
       "0              16028.0               1.0          482.0               2.0   \n",
       "1              18603.0               0.0            NaN               0.0   \n",
       "2              13933.0               1.0           90.0               2.0   \n",
       "3               6800.0               2.0           84.0               3.0   \n",
       "4               8098.0               2.0          112.0               1.0   \n",
       "5                  NaN               NaN            NaN               NaN   \n",
       "6              19143.0               0.0            NaN               0.0   \n",
       "7              11634.0               0.0            NaN               0.0   \n",
       "8                  NaN               NaN            NaN               NaN   \n",
       "9              15008.0               0.0            NaN               0.0   \n",
       "10             13878.0               1.0          310.0               2.0   \n",
       "11             51677.0               0.0            NaN               0.0   \n",
       "12                 NaN               NaN            NaN               NaN   \n",
       "13             33058.0               1.0          294.0               3.0   \n",
       "14             30759.0               0.0            NaN               1.0   \n",
       "15             14259.0               1.0          590.0               1.0   \n",
       "16             10698.0               3.0          420.0               0.0   \n",
       "17             14616.0               0.0            NaN               1.0   \n",
       "18             10842.0               1.0          759.0               0.0   \n",
       "19             12843.0               0.0            NaN               0.0   \n",
       "\n",
       "    ponds_nearest  days_exposition  \n",
       "0           755.0              NaN  \n",
       "1             NaN             81.0  \n",
       "2           574.0            558.0  \n",
       "3           234.0            424.0  \n",
       "4            48.0            121.0  \n",
       "5             NaN             55.0  \n",
       "6             NaN            155.0  \n",
       "7             NaN              NaN  \n",
       "8             NaN            189.0  \n",
       "9             NaN            289.0  \n",
       "10          553.0            137.0  \n",
       "11            NaN              7.0  \n",
       "12            NaN             90.0  \n",
       "13          298.0            366.0  \n",
       "14           96.0            203.0  \n",
       "15          296.0             19.0  \n",
       "16            NaN            397.0  \n",
       "17          859.0            571.0  \n",
       "18            NaN            168.0  \n",
       "19            NaN             97.0  \n",
       "\n",
       "[20 rows x 22 columns]"
      ]
     },
     "execution_count": 2,
     "metadata": {},
     "output_type": "execute_result"
    }
   ],
   "source": [
    "data.head(20)"
   ]
  },
  {
   "cell_type": "markdown",
   "metadata": {},
   "source": [
    "**Вывод основной информации о датафрейме с помощью метода `info()`.**"
   ]
  },
  {
   "cell_type": "code",
   "execution_count": 3,
   "metadata": {},
   "outputs": [
    {
     "name": "stdout",
     "output_type": "stream",
     "text": [
      "<class 'pandas.core.frame.DataFrame'>\n",
      "RangeIndex: 23699 entries, 0 to 23698\n",
      "Data columns (total 22 columns):\n",
      " #   Column                Non-Null Count  Dtype  \n",
      "---  ------                --------------  -----  \n",
      " 0   total_images          23699 non-null  int64  \n",
      " 1   last_price            23699 non-null  float64\n",
      " 2   total_area            23699 non-null  float64\n",
      " 3   first_day_exposition  23699 non-null  object \n",
      " 4   rooms                 23699 non-null  int64  \n",
      " 5   ceiling_height        14504 non-null  float64\n",
      " 6   floors_total          23613 non-null  float64\n",
      " 7   living_area           21796 non-null  float64\n",
      " 8   floor                 23699 non-null  int64  \n",
      " 9   is_apartment          2775 non-null   object \n",
      " 10  studio                23699 non-null  bool   \n",
      " 11  open_plan             23699 non-null  bool   \n",
      " 12  kitchen_area          21421 non-null  float64\n",
      " 13  balcony               12180 non-null  float64\n",
      " 14  locality_name         23650 non-null  object \n",
      " 15  airports_nearest      18157 non-null  float64\n",
      " 16  cityCenters_nearest   18180 non-null  float64\n",
      " 17  parks_around3000      18181 non-null  float64\n",
      " 18  parks_nearest         8079 non-null   float64\n",
      " 19  ponds_around3000      18181 non-null  float64\n",
      " 20  ponds_nearest         9110 non-null   float64\n",
      " 21  days_exposition       20518 non-null  float64\n",
      "dtypes: bool(2), float64(14), int64(3), object(3)\n",
      "memory usage: 3.7+ MB\n"
     ]
    }
   ],
   "source": [
    "data.info()"
   ]
  },
  {
   "cell_type": "markdown",
   "metadata": {},
   "source": [
    "**Строим общую гистограмму для всех числовых столбцов таблицы.**"
   ]
  },
  {
   "cell_type": "code",
   "execution_count": 4,
   "metadata": {},
   "outputs": [
    {
     "data": {
      "image/png": "[encoded data removed]",
      "text/plain": [
       "<Figure size 1080x1440 with 20 Axes>"
      ]
     },
     "metadata": {
      "needs_background": "light"
     },
     "output_type": "display_data"
    }
   ],
   "source": [
    "data.hist(figsize=(15, 20));"
   ]
  },
  {
   "cell_type": "markdown",
   "metadata": {},
   "source": [
    "### Предобработка данных"
   ]
  },
  {
   "cell_type": "markdown",
   "metadata": {},
   "source": [
    "#### Удаление пропусков\n",
    "**Выведим количество пропущенных значений для каждого столбца.**"
   ]
  },
  {
   "cell_type": "code",
   "execution_count": 5,
   "metadata": {},
   "outputs": [
    {
     "data": {
      "text/plain": [
       "total_images                0\n",
       "last_price                  0\n",
       "total_area                  0\n",
       "first_day_exposition        0\n",
       "rooms                       0\n",
       "ceiling_height           9195\n",
       "floors_total               86\n",
       "living_area              1903\n",
       "floor                       0\n",
       "is_apartment            20924\n",
       "studio                      0\n",
       "open_plan                   0\n",
       "kitchen_area             2278\n",
       "balcony                 11519\n",
       "locality_name              49\n",
       "airports_nearest         5542\n",
       "cityCenters_nearest      5519\n",
       "parks_around3000         5518\n",
       "parks_nearest           15620\n",
       "ponds_around3000         5518\n",
       "ponds_nearest           14589\n",
       "days_exposition          3181\n",
       "dtype: int64"
      ]
     },
     "execution_count": 5,
     "metadata": {},
     "output_type": "execute_result"
    }
   ],
   "source": [
    "data.isna().sum()"
   ]
  },
  {
   "cell_type": "code",
   "execution_count": 6,
   "metadata": {},
   "outputs": [
    {
     "data": {
      "text/html": [
       "<style  type=\"text/css\" >\n",
       "#T_8b131_row0_col0,#T_8b131_row1_col0,#T_8b131_row2_col0,#T_8b131_row3_col0,#T_8b131_row4_col0,#T_8b131_row6_col0,#T_8b131_row8_col0,#T_8b131_row10_col0,#T_8b131_row11_col0,#T_8b131_row14_col0{\n",
       "            background-color:  #3b4cc0;\n",
       "            color:  #f1f1f1;\n",
       "        }#T_8b131_row5_col0{\n",
       "            background-color:  #cdd9ec;\n",
       "            color:  #000000;\n",
       "        }#T_8b131_row7_col0{\n",
       "            background-color:  #5673e0;\n",
       "            color:  #000000;\n",
       "        }#T_8b131_row9_col0{\n",
       "            background-color:  #b40426;\n",
       "            color:  #f1f1f1;\n",
       "        }#T_8b131_row12_col0{\n",
       "            background-color:  #5e7de7;\n",
       "            color:  #000000;\n",
       "        }#T_8b131_row13_col0{\n",
       "            background-color:  #ead4c8;\n",
       "            color:  #000000;\n",
       "        }#T_8b131_row15_col0,#T_8b131_row16_col0,#T_8b131_row17_col0,#T_8b131_row19_col0{\n",
       "            background-color:  #90b2fe;\n",
       "            color:  #000000;\n",
       "        }#T_8b131_row18_col0{\n",
       "            background-color:  #f4987a;\n",
       "            color:  #000000;\n",
       "        }#T_8b131_row20_col0{\n",
       "            background-color:  #f7aa8c;\n",
       "            color:  #000000;\n",
       "        }#T_8b131_row21_col0{\n",
       "            background-color:  #688aef;\n",
       "            color:  #000000;\n",
       "        }</style><table id=\"T_8b131_\" ><thead>    <tr>        <th class=\"blank level0\" ></th>        <th class=\"col_heading level0 col0\" >0</th>    </tr></thead><tbody>\n",
       "                <tr>\n",
       "                        <th id=\"T_8b131_level0_row0\" class=\"row_heading level0 row0\" >total_images</th>\n",
       "                        <td id=\"T_8b131_row0_col0\" class=\"data row0 col0\" >0.000000</td>\n",
       "            </tr>\n",
       "            <tr>\n",
       "                        <th id=\"T_8b131_level0_row1\" class=\"row_heading level0 row1\" >last_price</th>\n",
       "                        <td id=\"T_8b131_row1_col0\" class=\"data row1 col0\" >0.000000</td>\n",
       "            </tr>\n",
       "            <tr>\n",
       "                        <th id=\"T_8b131_level0_row2\" class=\"row_heading level0 row2\" >total_area</th>\n",
       "                        <td id=\"T_8b131_row2_col0\" class=\"data row2 col0\" >0.000000</td>\n",
       "            </tr>\n",
       "            <tr>\n",
       "                        <th id=\"T_8b131_level0_row3\" class=\"row_heading level0 row3\" >first_day_exposition</th>\n",
       "                        <td id=\"T_8b131_row3_col0\" class=\"data row3 col0\" >0.000000</td>\n",
       "            </tr>\n",
       "            <tr>\n",
       "                        <th id=\"T_8b131_level0_row4\" class=\"row_heading level0 row4\" >rooms</th>\n",
       "                        <td id=\"T_8b131_row4_col0\" class=\"data row4 col0\" >0.000000</td>\n",
       "            </tr>\n",
       "            <tr>\n",
       "                        <th id=\"T_8b131_level0_row5\" class=\"row_heading level0 row5\" >ceiling_height</th>\n",
       "                        <td id=\"T_8b131_row5_col0\" class=\"data row5 col0\" >39.000000</td>\n",
       "            </tr>\n",
       "            <tr>\n",
       "                        <th id=\"T_8b131_level0_row6\" class=\"row_heading level0 row6\" >floors_total</th>\n",
       "                        <td id=\"T_8b131_row6_col0\" class=\"data row6 col0\" >0.000000</td>\n",
       "            </tr>\n",
       "            <tr>\n",
       "                        <th id=\"T_8b131_level0_row7\" class=\"row_heading level0 row7\" >living_area</th>\n",
       "                        <td id=\"T_8b131_row7_col0\" class=\"data row7 col0\" >8.000000</td>\n",
       "            </tr>\n",
       "            <tr>\n",
       "                        <th id=\"T_8b131_level0_row8\" class=\"row_heading level0 row8\" >floor</th>\n",
       "                        <td id=\"T_8b131_row8_col0\" class=\"data row8 col0\" >0.000000</td>\n",
       "            </tr>\n",
       "            <tr>\n",
       "                        <th id=\"T_8b131_level0_row9\" class=\"row_heading level0 row9\" >is_apartment</th>\n",
       "                        <td id=\"T_8b131_row9_col0\" class=\"data row9 col0\" >88.000000</td>\n",
       "            </tr>\n",
       "            <tr>\n",
       "                        <th id=\"T_8b131_level0_row10\" class=\"row_heading level0 row10\" >studio</th>\n",
       "                        <td id=\"T_8b131_row10_col0\" class=\"data row10 col0\" >0.000000</td>\n",
       "            </tr>\n",
       "            <tr>\n",
       "                        <th id=\"T_8b131_level0_row11\" class=\"row_heading level0 row11\" >open_plan</th>\n",
       "                        <td id=\"T_8b131_row11_col0\" class=\"data row11 col0\" >0.000000</td>\n",
       "            </tr>\n",
       "            <tr>\n",
       "                        <th id=\"T_8b131_level0_row12\" class=\"row_heading level0 row12\" >kitchen_area</th>\n",
       "                        <td id=\"T_8b131_row12_col0\" class=\"data row12 col0\" >10.000000</td>\n",
       "            </tr>\n",
       "            <tr>\n",
       "                        <th id=\"T_8b131_level0_row13\" class=\"row_heading level0 row13\" >balcony</th>\n",
       "                        <td id=\"T_8b131_row13_col0\" class=\"data row13 col0\" >49.000000</td>\n",
       "            </tr>\n",
       "            <tr>\n",
       "                        <th id=\"T_8b131_level0_row14\" class=\"row_heading level0 row14\" >locality_name</th>\n",
       "                        <td id=\"T_8b131_row14_col0\" class=\"data row14 col0\" >0.000000</td>\n",
       "            </tr>\n",
       "            <tr>\n",
       "                        <th id=\"T_8b131_level0_row15\" class=\"row_heading level0 row15\" >airports_nearest</th>\n",
       "                        <td id=\"T_8b131_row15_col0\" class=\"data row15 col0\" >23.000000</td>\n",
       "            </tr>\n",
       "            <tr>\n",
       "                        <th id=\"T_8b131_level0_row16\" class=\"row_heading level0 row16\" >cityCenters_nearest</th>\n",
       "                        <td id=\"T_8b131_row16_col0\" class=\"data row16 col0\" >23.000000</td>\n",
       "            </tr>\n",
       "            <tr>\n",
       "                        <th id=\"T_8b131_level0_row17\" class=\"row_heading level0 row17\" >parks_around3000</th>\n",
       "                        <td id=\"T_8b131_row17_col0\" class=\"data row17 col0\" >23.000000</td>\n",
       "            </tr>\n",
       "            <tr>\n",
       "                        <th id=\"T_8b131_level0_row18\" class=\"row_heading level0 row18\" >parks_nearest</th>\n",
       "                        <td id=\"T_8b131_row18_col0\" class=\"data row18 col0\" >66.000000</td>\n",
       "            </tr>\n",
       "            <tr>\n",
       "                        <th id=\"T_8b131_level0_row19\" class=\"row_heading level0 row19\" >ponds_around3000</th>\n",
       "                        <td id=\"T_8b131_row19_col0\" class=\"data row19 col0\" >23.000000</td>\n",
       "            </tr>\n",
       "            <tr>\n",
       "                        <th id=\"T_8b131_level0_row20\" class=\"row_heading level0 row20\" >ponds_nearest</th>\n",
       "                        <td id=\"T_8b131_row20_col0\" class=\"data row20 col0\" >62.000000</td>\n",
       "            </tr>\n",
       "            <tr>\n",
       "                        <th id=\"T_8b131_level0_row21\" class=\"row_heading level0 row21\" >days_exposition</th>\n",
       "                        <td id=\"T_8b131_row21_col0\" class=\"data row21 col0\" >13.000000</td>\n",
       "            </tr>\n",
       "    </tbody></table>"
      ],
      "text/plain": [
       "<pandas.io.formats.style.Styler at 0x7f5459b308e0>"
      ]
     },
     "execution_count": 6,
     "metadata": {},
     "output_type": "execute_result"
    }
   ],
   "source": [
    "pd.DataFrame(round(data.isna().mean()*100,)).style.background_gradient('coolwarm')"
   ]
  },
  {
   "cell_type": "markdown",
   "metadata": {},
   "source": [
    "**Пропуски наблюдаются в 14 столбцах:**\n",
    "- `ceiling_height` - высота потолков (м)\n",
    "- `floors_total` - всего этажей в доме\n",
    "- `living_area` - жилая площадь в квадратных метрах (м²)\n",
    "- `is_apartment` - апартаменты или нет\n",
    "- `kitchen_area` - площадь кухни в квадратных метрах (м²)\n",
    "- `balcony` - число балконов\n",
    "- `locality_name` - название населённого пункта\n",
    "- `airports_nearest` - расстояние до ближайшего аэропорта в метрах (м)\n",
    "- `cityCenters_nearest` -  расстояние до центра города (м)\n",
    "- `parks_around3000` - число парков в радиусе 3 км\n",
    "- `parks_nearest` - расстояние до ближайшего парка (м)\n",
    "- `ponds_around3000` - число водоёмов в радиусе 3 км\n",
    "- `ponds_nearest` -  расстояние до ближайшего водоёма (м)\n",
    "- `days_exposition` - сколько дней было размещено объявление (от публикации до снятия)"
   ]
  },
  {
   "cell_type": "markdown",
   "metadata": {},
   "source": [
    "**Оценим возможность заполнения пропусков:**\n",
    "- `ceiling_height`,`floors_total`, `living_area`, `kitchen_area` - не зная объекта заполнить невозможно"
   ]
  },
  {
   "cell_type": "markdown",
   "metadata": {},
   "source": [
    "- `is_apartment`- скорее всего, если продавец не заgолнил данную иформацию то объект не является апартаментами, поэтому можем заполнить пропущенные данные параметром `False`."
   ]
  },
  {
   "cell_type": "code",
   "execution_count": 7,
   "metadata": {},
   "outputs": [
    {
     "data": {
      "text/plain": [
       "0"
      ]
     },
     "execution_count": 7,
     "metadata": {},
     "output_type": "execute_result"
    }
   ],
   "source": [
    "data['is_apartment'] = data['is_apartment'].fillna('False')\n",
    "#проверим количество пропусков\n",
    "data['is_apartment'].isna().sum()"
   ]
  },
  {
   "cell_type": "markdown",
   "metadata": {},
   "source": [
    "- `floors_total` - заполним значением 0 там где неизвемтно количество этажей"
   ]
  },
  {
   "cell_type": "code",
   "execution_count": 8,
   "metadata": {},
   "outputs": [],
   "source": [
    "data['floors_total'] = data['floors_total'].fillna(0)"
   ]
  },
  {
   "cell_type": "markdown",
   "metadata": {},
   "source": [
    "- `balcony`- если продавец не указал количество балконов то они отсуствуют и можно указать 0"
   ]
  },
  {
   "cell_type": "code",
   "execution_count": 9,
   "metadata": {},
   "outputs": [
    {
     "data": {
      "text/plain": [
       "0"
      ]
     },
     "execution_count": 9,
     "metadata": {},
     "output_type": "execute_result"
    }
   ],
   "source": [
    "data['balcony'] = data['balcony'].fillna(0)\n",
    "#проверим количество пропусков\n",
    "data['balcony'].isna().sum()"
   ]
  },
  {
   "cell_type": "markdown",
   "metadata": {},
   "source": [
    "- `locality_name` - название можно заполнить на 'Неизвестно'"
   ]
  },
  {
   "cell_type": "code",
   "execution_count": 10,
   "metadata": {},
   "outputs": [
    {
     "data": {
      "text/plain": [
       "0"
      ]
     },
     "execution_count": 10,
     "metadata": {},
     "output_type": "execute_result"
    }
   ],
   "source": [
    "data['locality_name'] = data['locality_name'].fillna('Неизвестно')\n",
    "#проверим количество пропусков\n",
    "data['locality_name'].isna().sum()"
   ]
  },
  {
   "cell_type": "markdown",
   "metadata": {},
   "source": [
    "- `airports_nearest`, `cityCenters_nearest` - можно заполнить в некоторых случаях исходя из других объявлений, но сделаем это позже когда избавимся от неявных дубликатов в названиях населенных пунктов"
   ]
  },
  {
   "cell_type": "markdown",
   "metadata": {},
   "source": [
    "- `parks_around3000`,`ponds_around3000` - пропуски могут означать, что ни парком ни прудов на расстоянии в 3км нету, поэтому можем заполнить нулями\n"
   ]
  },
  {
   "cell_type": "code",
   "execution_count": 11,
   "metadata": {},
   "outputs": [],
   "source": [
    "data['parks_around3000'] = data['parks_around3000'].fillna(0)\n",
    "data['ponds_around3000'] = data['ponds_around3000'].fillna(0)"
   ]
  },
  {
   "cell_type": "markdown",
   "metadata": {},
   "source": [
    "- `parks_nearest`, `ponds_nearest`, `days_exposition`- логичную замену предложить невозможно\n"
   ]
  },
  {
   "cell_type": "markdown",
   "metadata": {},
   "source": [
    "<b>Причины пропусков</b>\n",
    "\n",
    "Причины пропусков в данном случае могуть быть связанны как с тем, что продавцы недвижимости не заполнили данные об объекте, так и с техническими ошибками при выгрузке данных. "
   ]
  },
  {
   "cell_type": "markdown",
   "metadata": {},
   "source": [
    "#### Изменение типов данных"
   ]
  },
  {
   "cell_type": "code",
   "execution_count": 12,
   "metadata": {},
   "outputs": [
    {
     "name": "stdout",
     "output_type": "stream",
     "text": [
      "<class 'pandas.core.frame.DataFrame'>\n",
      "RangeIndex: 23699 entries, 0 to 23698\n",
      "Data columns (total 22 columns):\n",
      " #   Column                Non-Null Count  Dtype  \n",
      "---  ------                --------------  -----  \n",
      " 0   total_images          23699 non-null  int64  \n",
      " 1   last_price            23699 non-null  float64\n",
      " 2   total_area            23699 non-null  float64\n",
      " 3   first_day_exposition  23699 non-null  object \n",
      " 4   rooms                 23699 non-null  int64  \n",
      " 5   ceiling_height        14504 non-null  float64\n",
      " 6   floors_total          23699 non-null  float64\n",
      " 7   living_area           21796 non-null  float64\n",
      " 8   floor                 23699 non-null  int64  \n",
      " 9   is_apartment          23699 non-null  object \n",
      " 10  studio                23699 non-null  bool   \n",
      " 11  open_plan             23699 non-null  bool   \n",
      " 12  kitchen_area          21421 non-null  float64\n",
      " 13  balcony               23699 non-null  float64\n",
      " 14  locality_name         23699 non-null  object \n",
      " 15  airports_nearest      18157 non-null  float64\n",
      " 16  cityCenters_nearest   18180 non-null  float64\n",
      " 17  parks_around3000      23699 non-null  float64\n",
      " 18  parks_nearest         8079 non-null   float64\n",
      " 19  ponds_around3000      23699 non-null  float64\n",
      " 20  ponds_nearest         9110 non-null   float64\n",
      " 21  days_exposition       20518 non-null  float64\n",
      "dtypes: bool(2), float64(14), int64(3), object(3)\n",
      "memory usage: 3.7+ MB\n"
     ]
    }
   ],
   "source": [
    "data.info()"
   ]
  },
  {
   "cell_type": "markdown",
   "metadata": {},
   "source": [
    "Изменим тип данных `first_day_exposition` на datetime"
   ]
  },
  {
   "cell_type": "code",
   "execution_count": 13,
   "metadata": {},
   "outputs": [],
   "source": [
    "data['first_day_exposition'] = pd.to_datetime(data['first_day_exposition'], format='%Y-%m-%dT%H:%M:%S')"
   ]
  },
  {
   "cell_type": "markdown",
   "metadata": {},
   "source": [
    "Изменим тип данных `is_apartment` на bool, так как это или апартаменты или нет"
   ]
  },
  {
   "cell_type": "code",
   "execution_count": 14,
   "metadata": {},
   "outputs": [],
   "source": [
    "data['is_apartment'] = data['is_apartment'] == True"
   ]
  },
  {
   "cell_type": "markdown",
   "metadata": {},
   "source": [
    "`floors_total`, `balcony`, `parks_around3000`, `ponds_around3000`, `days_exposition`, `floor` изменим на int"
   ]
  },
  {
   "cell_type": "code",
   "execution_count": 15,
   "metadata": {},
   "outputs": [],
   "source": [
    "data['floors_total'] = data['floors_total'].astype('Int64')\n",
    "data['balcony'] = data['balcony'].astype('Int64')\n",
    "data['parks_around3000'] = data['parks_around3000'].astype('Int64')\n",
    "data['ponds_around3000'] = data['ponds_around3000'].astype('Int64')\n",
    "data['floor'] = data['floor'].astype('Int64')\n",
    "data['days_exposition'] = data['days_exposition'].astype('Float64').astype('Int64')\n",
    "data['last_price'] = data['last_price'].astype('Int64')"
   ]
  },
  {
   "cell_type": "markdown",
   "metadata": {},
   "source": [
    "Выведем финальные типы:"
   ]
  },
  {
   "cell_type": "code",
   "execution_count": 16,
   "metadata": {},
   "outputs": [
    {
     "name": "stdout",
     "output_type": "stream",
     "text": [
      "<class 'pandas.core.frame.DataFrame'>\n",
      "RangeIndex: 23699 entries, 0 to 23698\n",
      "Data columns (total 22 columns):\n",
      " #   Column                Non-Null Count  Dtype         \n",
      "---  ------                --------------  -----         \n",
      " 0   total_images          23699 non-null  int64         \n",
      " 1   last_price            23699 non-null  Int64         \n",
      " 2   total_area            23699 non-null  float64       \n",
      " 3   first_day_exposition  23699 non-null  datetime64[ns]\n",
      " 4   rooms                 23699 non-null  int64         \n",
      " 5   ceiling_height        14504 non-null  float64       \n",
      " 6   floors_total          23699 non-null  Int64         \n",
      " 7   living_area           21796 non-null  float64       \n",
      " 8   floor                 23699 non-null  Int64         \n",
      " 9   is_apartment          23699 non-null  bool          \n",
      " 10  studio                23699 non-null  bool          \n",
      " 11  open_plan             23699 non-null  bool          \n",
      " 12  kitchen_area          21421 non-null  float64       \n",
      " 13  balcony               23699 non-null  Int64         \n",
      " 14  locality_name         23699 non-null  object        \n",
      " 15  airports_nearest      18157 non-null  float64       \n",
      " 16  cityCenters_nearest   18180 non-null  float64       \n",
      " 17  parks_around3000      23699 non-null  Int64         \n",
      " 18  parks_nearest         8079 non-null   float64       \n",
      " 19  ponds_around3000      23699 non-null  Int64         \n",
      " 20  ponds_nearest         9110 non-null   float64       \n",
      " 21  days_exposition       20518 non-null  Int64         \n",
      "dtypes: Int64(7), bool(3), datetime64[ns](1), float64(8), int64(2), object(1)\n",
      "memory usage: 3.7+ MB\n"
     ]
    }
   ],
   "source": [
    "data.info()"
   ]
  },
  {
   "cell_type": "markdown",
   "metadata": {},
   "source": [
    "#### Устраним неявные дубликаты встолбце locality_name"
   ]
  },
  {
   "cell_type": "code",
   "execution_count": 17,
   "metadata": {},
   "outputs": [
    {
     "data": {
      "text/plain": [
       "365"
      ]
     },
     "execution_count": 17,
     "metadata": {},
     "output_type": "execute_result"
    }
   ],
   "source": [
    "#Посчитаем количество уникальных значений 'locality_name'\n",
    "len(data['locality_name'].unique())    "
   ]
  },
  {
   "cell_type": "markdown",
   "metadata": {},
   "source": [
    "Заменим букву 'ё' на 'е', 'поселок городского типа' на 'поселок' и выведем количество уникальных значений после этого:"
   ]
  },
  {
   "cell_type": "code",
   "execution_count": 18,
   "metadata": {},
   "outputs": [
    {
     "data": {
      "text/plain": [
       "330"
      ]
     },
     "execution_count": 18,
     "metadata": {},
     "output_type": "execute_result"
    }
   ],
   "source": [
    "data['locality_name'] = data['locality_name'].replace('ё', 'е', regex=True)\n",
    "data['locality_name'] = data['locality_name'].replace('поселок городского типа', 'поселок', regex=True)\n",
    "len(data['locality_name'].unique())   "
   ]
  },
  {
   "cell_type": "markdown",
   "metadata": {},
   "source": [
    "Значений стало меньше на 35."
   ]
  },
  {
   "cell_type": "markdown",
   "metadata": {},
   "source": [
    "Также попробуем убрать слово посклок, так как в данных есть 'поселок Мурино' и 'Мурино', это явно одно и то же"
   ]
  },
  {
   "cell_type": "code",
   "execution_count": 19,
   "metadata": {},
   "outputs": [
    {
     "data": {
      "text/plain": [
       "329"
      ]
     },
     "execution_count": 19,
     "metadata": {},
     "output_type": "execute_result"
    }
   ],
   "source": [
    "data['locality_name'] = data['locality_name'].replace('поселок Мурино', 'Мурино', regex=True)\n",
    "len(data['locality_name'].unique())"
   ]
  },
  {
   "cell_type": "markdown",
   "metadata": {},
   "source": [
    "Значений стало меньше еще меньше на 1"
   ]
  },
  {
   "cell_type": "markdown",
   "metadata": {},
   "source": [
    "#### Устраним редкие и выбивающиеся значения"
   ]
  },
  {
   "cell_type": "code",
   "execution_count": 20,
   "metadata": {},
   "outputs": [
    {
     "data": {
      "text/plain": [
       "array([  1.  ,   1.2 ,   1.75,   2.  ,   2.2 ,   2.25,   2.3 ,   2.34,\n",
       "         2.4 ,   2.45,   2.46,   2.47,   2.48,   2.49,   2.5 ,   2.51,\n",
       "         2.52,   2.53,   2.54,   2.55,   2.56,   2.57,   2.58,   2.59,\n",
       "         2.6 ,   2.61,   2.62,   2.63,   2.64,   2.65,   2.66,   2.67,\n",
       "         2.68,   2.69,   2.7 ,   2.71,   2.72,   2.73,   2.74,   2.75,\n",
       "         2.76,   2.77,   2.78,   2.79,   2.8 ,   2.81,   2.82,   2.83,\n",
       "         2.84,   2.85,   2.86,   2.87,   2.88,   2.89,   2.9 ,   2.91,\n",
       "         2.92,   2.93,   2.94,   2.95,   2.96,   2.97,   2.98,   2.99,\n",
       "         3.  ,   3.01,   3.02,   3.03,   3.04,   3.05,   3.06,   3.07,\n",
       "         3.08,   3.09,   3.1 ,   3.11,   3.12,   3.13,   3.14,   3.15,\n",
       "         3.16,   3.17,   3.18,   3.2 ,   3.21,   3.22,   3.23,   3.24,\n",
       "         3.25,   3.26,   3.27,   3.28,   3.29,   3.3 ,   3.31,   3.32,\n",
       "         3.33,   3.34,   3.35,   3.36,   3.37,   3.38,   3.39,   3.4 ,\n",
       "         3.42,   3.43,   3.44,   3.45,   3.46,   3.47,   3.48,   3.49,\n",
       "         3.5 ,   3.51,   3.52,   3.53,   3.54,   3.55,   3.56,   3.57,\n",
       "         3.58,   3.59,   3.6 ,   3.62,   3.63,   3.65,   3.66,   3.67,\n",
       "         3.68,   3.69,   3.7 ,   3.75,   3.76,   3.78,   3.8 ,   3.82,\n",
       "         3.83,   3.84,   3.85,   3.86,   3.87,   3.88,   3.9 ,   3.93,\n",
       "         3.95,   3.98,   4.  ,   4.06,   4.1 ,   4.14,   4.15,   4.19,\n",
       "         4.2 ,   4.25,   4.3 ,   4.37,   4.4 ,   4.45,   4.5 ,   4.65,\n",
       "         4.7 ,   4.8 ,   4.9 ,   5.  ,   5.2 ,   5.3 ,   5.5 ,   5.6 ,\n",
       "         5.8 ,   6.  ,   8.  ,   8.3 ,  10.3 ,  14.  ,  20.  ,  22.6 ,\n",
       "        24.  ,  25.  ,  26.  ,  27.  ,  27.5 ,  32.  , 100.  ,    nan])"
      ]
     },
     "execution_count": 20,
     "metadata": {},
     "output_type": "execute_result"
    }
   ],
   "source": [
    "#Выведем количество уникальных значений 'ceiling_height'\n",
    "data['ceiling_height'].sort_values().unique()"
   ]
  },
  {
   "cell_type": "markdown",
   "metadata": {},
   "source": [
    "Явно странно выглядят квартиры с высотой потолков до 2-х метров и более 11-ти.\n",
    "Сделаем функцию которая делит на 10 высоту и применим ее к столбцу `ceiling_height`:"
   ]
  },
  {
   "cell_type": "code",
   "execution_count": 21,
   "metadata": {},
   "outputs": [
    {
     "data": {
      "text/plain": [
       "array([ 1.  ,  1.2 ,  1.4 ,  1.75,  2.  ,  2.2 ,  2.25,  2.26,  2.3 ,\n",
       "        2.34,  2.4 ,  2.45,  2.46,  2.47,  2.48,  2.49,  2.5 ,  2.51,\n",
       "        2.52,  2.53,  2.54,  2.55,  2.56,  2.57,  2.58,  2.59,  2.6 ,\n",
       "        2.61,  2.62,  2.63,  2.64,  2.65,  2.66,  2.67,  2.68,  2.69,\n",
       "        2.7 ,  2.71,  2.72,  2.73,  2.74,  2.75,  2.76,  2.77,  2.78,\n",
       "        2.79,  2.8 ,  2.81,  2.82,  2.83,  2.84,  2.85,  2.86,  2.87,\n",
       "        2.88,  2.89,  2.9 ,  2.91,  2.92,  2.93,  2.94,  2.95,  2.96,\n",
       "        2.97,  2.98,  2.99,  3.  ,  3.01,  3.02,  3.03,  3.04,  3.05,\n",
       "        3.06,  3.07,  3.08,  3.09,  3.1 ,  3.11,  3.12,  3.13,  3.14,\n",
       "        3.15,  3.16,  3.17,  3.18,  3.2 ,  3.21,  3.22,  3.23,  3.24,\n",
       "        3.25,  3.26,  3.27,  3.28,  3.29,  3.3 ,  3.31,  3.32,  3.33,\n",
       "        3.34,  3.35,  3.36,  3.37,  3.38,  3.39,  3.4 ,  3.42,  3.43,\n",
       "        3.44,  3.45,  3.46,  3.47,  3.48,  3.49,  3.5 ,  3.51,  3.52,\n",
       "        3.53,  3.54,  3.55,  3.56,  3.57,  3.58,  3.59,  3.6 ,  3.62,\n",
       "        3.63,  3.65,  3.66,  3.67,  3.68,  3.69,  3.7 ,  3.75,  3.76,\n",
       "        3.78,  3.8 ,  3.82,  3.83,  3.84,  3.85,  3.86,  3.87,  3.88,\n",
       "        3.9 ,  3.93,  3.95,  3.98,  4.  ,  4.06,  4.1 ,  4.14,  4.15,\n",
       "        4.19,  4.2 ,  4.25,  4.3 ,  4.37,  4.4 ,  4.45,  4.5 ,  4.65,\n",
       "        4.7 ,  4.8 ,  4.9 ,  5.  ,  5.2 ,  5.3 ,  5.5 ,  5.6 ,  5.8 ,\n",
       "        6.  ,  8.  ,  8.3 , 10.  , 10.3 ,   nan])"
      ]
     },
     "execution_count": 21,
     "metadata": {},
     "output_type": "execute_result"
    }
   ],
   "source": [
    "def ceiling_height_normalize(row):\n",
    "    try:\n",
    "        if row > 11:\n",
    "            return row/10\n",
    "        else:\n",
    "            return row\n",
    "    except:\n",
    "        pass\n",
    "    \n",
    "data['ceiling_height'] =  data['ceiling_height'].apply(ceiling_height_normalize)\n",
    "data['ceiling_height'].sort_values().unique()"
   ]
  },
  {
   "cell_type": "markdown",
   "metadata": {},
   "source": [
    "Уберем квартиты с высотой потолков менее 2х метров:"
   ]
  },
  {
   "cell_type": "code",
   "execution_count": 22,
   "metadata": {},
   "outputs": [],
   "source": [
    "data = data[data['ceiling_height'] > 2]"
   ]
  },
  {
   "cell_type": "markdown",
   "metadata": {},
   "source": [
    "Посмотрим другие значения столбцов, выбиваются ли они из нормальных значений:"
   ]
  },
  {
   "cell_type": "code",
   "execution_count": 23,
   "metadata": {},
   "outputs": [
    {
     "data": {
      "text/plain": [
       "array([  2. ,   3. ,   5.4, ..., 409. , 409.7,   nan])"
      ]
     },
     "execution_count": 23,
     "metadata": {},
     "output_type": "execute_result"
    }
   ],
   "source": [
    "data['living_area'].sort_values().unique()"
   ]
  },
  {
   "cell_type": "code",
   "execution_count": 63,
   "metadata": {},
   "outputs": [
    {
     "data": {
      "image/png": "[encoded data removed]",
      "text/plain": [
       "<Figure size 432x288 with 1 Axes>"
      ]
     },
     "metadata": {
      "needs_background": "light"
     },
     "output_type": "display_data"
    }
   ],
   "source": [
    "plt.boxplot(data['last_price'])\n",
    "plt.ylim(0, 13000000);"
   ]
  },
  {
   "cell_type": "code",
   "execution_count": 24,
   "metadata": {},
   "outputs": [
    {
     "data": {
      "text/html": [
       "<div>\n",
       "<style scoped>\n",
       "    .dataframe tbody tr th:only-of-type {\n",
       "        vertical-align: middle;\n",
       "    }\n",
       "\n",
       "    .dataframe tbody tr th {\n",
       "        vertical-align: top;\n",
       "    }\n",
       "\n",
       "    .dataframe thead th {\n",
       "        text-align: right;\n",
       "    }\n",
       "</style>\n",
       "<table border=\"1\" class=\"dataframe\">\n",
       "  <thead>\n",
       "    <tr style=\"text-align: right;\">\n",
       "      <th></th>\n",
       "      <th>total_images</th>\n",
       "      <th>last_price</th>\n",
       "      <th>total_area</th>\n",
       "      <th>rooms</th>\n",
       "      <th>ceiling_height</th>\n",
       "      <th>floors_total</th>\n",
       "      <th>living_area</th>\n",
       "      <th>floor</th>\n",
       "      <th>kitchen_area</th>\n",
       "      <th>balcony</th>\n",
       "      <th>airports_nearest</th>\n",
       "      <th>cityCenters_nearest</th>\n",
       "      <th>parks_around3000</th>\n",
       "      <th>parks_nearest</th>\n",
       "      <th>ponds_around3000</th>\n",
       "      <th>ponds_nearest</th>\n",
       "      <th>days_exposition</th>\n",
       "    </tr>\n",
       "  </thead>\n",
       "  <tbody>\n",
       "    <tr>\n",
       "      <th>count</th>\n",
       "      <td>14488.000000</td>\n",
       "      <td>1.448800e+04</td>\n",
       "      <td>14488.000000</td>\n",
       "      <td>14488.000000</td>\n",
       "      <td>14488.000000</td>\n",
       "      <td>14488.000000</td>\n",
       "      <td>13693.000000</td>\n",
       "      <td>14488.000000</td>\n",
       "      <td>13550.000000</td>\n",
       "      <td>14488.000000</td>\n",
       "      <td>11533.000000</td>\n",
       "      <td>11553.000000</td>\n",
       "      <td>14488.000000</td>\n",
       "      <td>5290.000000</td>\n",
       "      <td>14488.000000</td>\n",
       "      <td>5728.00000</td>\n",
       "      <td>12039.000000</td>\n",
       "    </tr>\n",
       "    <tr>\n",
       "      <th>mean</th>\n",
       "      <td>10.323371</td>\n",
       "      <td>6.839073e+06</td>\n",
       "      <td>61.904168</td>\n",
       "      <td>2.137700</td>\n",
       "      <td>2.729727</td>\n",
       "      <td>10.165516</td>\n",
       "      <td>35.685732</td>\n",
       "      <td>5.624517</td>\n",
       "      <td>10.570333</td>\n",
       "      <td>0.680011</td>\n",
       "      <td>28821.232290</td>\n",
       "      <td>14064.528348</td>\n",
       "      <td>0.509318</td>\n",
       "      <td>476.676749</td>\n",
       "      <td>0.618098</td>\n",
       "      <td>518.48743</td>\n",
       "      <td>190.492566</td>\n",
       "    </tr>\n",
       "    <tr>\n",
       "      <th>std</th>\n",
       "      <td>5.632323</td>\n",
       "      <td>1.018667e+07</td>\n",
       "      <td>37.001551</td>\n",
       "      <td>1.099216</td>\n",
       "      <td>0.304588</td>\n",
       "      <td>6.202142</td>\n",
       "      <td>22.858341</td>\n",
       "      <td>4.619276</td>\n",
       "      <td>6.055387</td>\n",
       "      <td>1.016076</td>\n",
       "      <td>12627.137072</td>\n",
       "      <td>8759.761196</td>\n",
       "      <td>0.776668</td>\n",
       "      <td>319.967196</td>\n",
       "      <td>0.904875</td>\n",
       "      <td>280.06770</td>\n",
       "      <td>228.773142</td>\n",
       "    </tr>\n",
       "    <tr>\n",
       "      <th>min</th>\n",
       "      <td>0.000000</td>\n",
       "      <td>1.219000e+04</td>\n",
       "      <td>12.000000</td>\n",
       "      <td>0.000000</td>\n",
       "      <td>2.200000</td>\n",
       "      <td>0.000000</td>\n",
       "      <td>2.000000</td>\n",
       "      <td>1.000000</td>\n",
       "      <td>1.300000</td>\n",
       "      <td>0.000000</td>\n",
       "      <td>0.000000</td>\n",
       "      <td>181.000000</td>\n",
       "      <td>0.000000</td>\n",
       "      <td>3.000000</td>\n",
       "      <td>0.000000</td>\n",
       "      <td>16.00000</td>\n",
       "      <td>1.000000</td>\n",
       "    </tr>\n",
       "    <tr>\n",
       "      <th>25%</th>\n",
       "      <td>6.000000</td>\n",
       "      <td>3.573750e+06</td>\n",
       "      <td>41.000000</td>\n",
       "      <td>1.000000</td>\n",
       "      <td>2.520000</td>\n",
       "      <td>5.000000</td>\n",
       "      <td>19.200000</td>\n",
       "      <td>2.000000</td>\n",
       "      <td>7.000000</td>\n",
       "      <td>0.000000</td>\n",
       "      <td>18552.000000</td>\n",
       "      <td>9038.000000</td>\n",
       "      <td>0.000000</td>\n",
       "      <td>285.000000</td>\n",
       "      <td>0.000000</td>\n",
       "      <td>287.00000</td>\n",
       "      <td>45.000000</td>\n",
       "    </tr>\n",
       "    <tr>\n",
       "      <th>50%</th>\n",
       "      <td>10.000000</td>\n",
       "      <td>4.850000e+06</td>\n",
       "      <td>53.400000</td>\n",
       "      <td>2.000000</td>\n",
       "      <td>2.650000</td>\n",
       "      <td>9.000000</td>\n",
       "      <td>30.800000</td>\n",
       "      <td>4.000000</td>\n",
       "      <td>9.000000</td>\n",
       "      <td>0.000000</td>\n",
       "      <td>26752.000000</td>\n",
       "      <td>12949.000000</td>\n",
       "      <td>0.000000</td>\n",
       "      <td>448.500000</td>\n",
       "      <td>0.000000</td>\n",
       "      <td>504.00000</td>\n",
       "      <td>103.000000</td>\n",
       "    </tr>\n",
       "    <tr>\n",
       "      <th>75%</th>\n",
       "      <td>15.000000</td>\n",
       "      <td>7.002000e+06</td>\n",
       "      <td>71.377500</td>\n",
       "      <td>3.000000</td>\n",
       "      <td>2.800000</td>\n",
       "      <td>14.000000</td>\n",
       "      <td>43.300000</td>\n",
       "      <td>7.000000</td>\n",
       "      <td>12.000000</td>\n",
       "      <td>1.000000</td>\n",
       "      <td>37083.000000</td>\n",
       "      <td>16033.000000</td>\n",
       "      <td>1.000000</td>\n",
       "      <td>602.000000</td>\n",
       "      <td>1.000000</td>\n",
       "      <td>733.00000</td>\n",
       "      <td>248.000000</td>\n",
       "    </tr>\n",
       "    <tr>\n",
       "      <th>max</th>\n",
       "      <td>50.000000</td>\n",
       "      <td>4.200000e+08</td>\n",
       "      <td>900.000000</td>\n",
       "      <td>16.000000</td>\n",
       "      <td>10.300000</td>\n",
       "      <td>60.000000</td>\n",
       "      <td>409.700000</td>\n",
       "      <td>30.000000</td>\n",
       "      <td>112.000000</td>\n",
       "      <td>5.000000</td>\n",
       "      <td>84869.000000</td>\n",
       "      <td>65968.000000</td>\n",
       "      <td>3.000000</td>\n",
       "      <td>3190.000000</td>\n",
       "      <td>3.000000</td>\n",
       "      <td>1344.00000</td>\n",
       "      <td>1580.000000</td>\n",
       "    </tr>\n",
       "  </tbody>\n",
       "</table>\n",
       "</div>"
      ],
      "text/plain": [
       "       total_images    last_price    total_area         rooms  ceiling_height  \\\n",
       "count  14488.000000  1.448800e+04  14488.000000  14488.000000    14488.000000   \n",
       "mean      10.323371  6.839073e+06     61.904168      2.137700        2.729727   \n",
       "std        5.632323  1.018667e+07     37.001551      1.099216        0.304588   \n",
       "min        0.000000  1.219000e+04     12.000000      0.000000        2.200000   \n",
       "25%        6.000000  3.573750e+06     41.000000      1.000000        2.520000   \n",
       "50%       10.000000  4.850000e+06     53.400000      2.000000        2.650000   \n",
       "75%       15.000000  7.002000e+06     71.377500      3.000000        2.800000   \n",
       "max       50.000000  4.200000e+08    900.000000     16.000000       10.300000   \n",
       "\n",
       "       floors_total   living_area         floor  kitchen_area       balcony  \\\n",
       "count  14488.000000  13693.000000  14488.000000  13550.000000  14488.000000   \n",
       "mean      10.165516     35.685732      5.624517     10.570333      0.680011   \n",
       "std        6.202142     22.858341      4.619276      6.055387      1.016076   \n",
       "min        0.000000      2.000000      1.000000      1.300000      0.000000   \n",
       "25%        5.000000     19.200000      2.000000      7.000000      0.000000   \n",
       "50%        9.000000     30.800000      4.000000      9.000000      0.000000   \n",
       "75%       14.000000     43.300000      7.000000     12.000000      1.000000   \n",
       "max       60.000000    409.700000     30.000000    112.000000      5.000000   \n",
       "\n",
       "       airports_nearest  cityCenters_nearest  parks_around3000  parks_nearest  \\\n",
       "count      11533.000000         11553.000000      14488.000000    5290.000000   \n",
       "mean       28821.232290         14064.528348          0.509318     476.676749   \n",
       "std        12627.137072          8759.761196          0.776668     319.967196   \n",
       "min            0.000000           181.000000          0.000000       3.000000   \n",
       "25%        18552.000000          9038.000000          0.000000     285.000000   \n",
       "50%        26752.000000         12949.000000          0.000000     448.500000   \n",
       "75%        37083.000000         16033.000000          1.000000     602.000000   \n",
       "max        84869.000000         65968.000000          3.000000    3190.000000   \n",
       "\n",
       "       ponds_around3000  ponds_nearest  days_exposition  \n",
       "count      14488.000000     5728.00000     12039.000000  \n",
       "mean           0.618098      518.48743       190.492566  \n",
       "std            0.904875      280.06770       228.773142  \n",
       "min            0.000000       16.00000         1.000000  \n",
       "25%            0.000000      287.00000        45.000000  \n",
       "50%            0.000000      504.00000       103.000000  \n",
       "75%            1.000000      733.00000       248.000000  \n",
       "max            3.000000     1344.00000      1580.000000  "
      ]
     },
     "execution_count": 24,
     "metadata": {},
     "output_type": "execute_result"
    }
   ],
   "source": [
    "data.describe()"
   ]
  },
  {
   "cell_type": "markdown",
   "metadata": {},
   "source": [
    "Жилая площадь вполне может быть 409 м².\n",
    "\n",
    "Перебрав все значения датасета явных выбивающихся значений в данных я не обнаружил"
   ]
  },
  {
   "cell_type": "code",
   "execution_count": 25,
   "metadata": {},
   "outputs": [
    {
     "data": {
      "text/plain": [
       "0"
      ]
     },
     "execution_count": 25,
     "metadata": {},
     "output_type": "execute_result"
    }
   ],
   "source": [
    "#Проверка на явные дубликаты\n",
    "data.duplicated().sum()"
   ]
  },
  {
   "cell_type": "markdown",
   "metadata": {},
   "source": [
    "Явные дубликаты в данных отсуствуют."
   ]
  },
  {
   "cell_type": "markdown",
   "metadata": {},
   "source": [
    "**Выводы**\n",
    "\n",
    "Предобработка обнаружила проблемы в данных:\n",
    "\n",
    "- пропущенные значения,\n",
    "- не верные типы данных в дата сете,\n",
    "- неявные дубликаты,\n",
    "- не реалистичные значения даных\n",
    "\n",
    "Пропуски значений заполнены, где это возможно или поставлены заглушки, типы данных приведены в норму, удалены неявные дубликаты, строки с нереалистичными значениями удалены."
   ]
  },
  {
   "cell_type": "markdown",
   "metadata": {},
   "source": [
    "### Посчитайте и добавьте в таблицу новые столбцы"
   ]
  },
  {
   "cell_type": "markdown",
   "metadata": {},
   "source": [
    "Добавим новые столбцы в таблицу:\n",
    "\n",
    "`price_for_m2` - цена одного квадратного метра\n",
    "\n",
    "`day_of_publish` - день недели публикации объявления (0 — понедельник, 1 — вторник и так далее)\n",
    "\n",
    "`month_of_publish` - месяц публикации объявления\n",
    "\n",
    "`year_of_publish`- год публикации объявления\n",
    "\n",
    "`type_of_floor` - тип этажа квартиры (значения — «первый», «последний», «другой»)\n",
    "\n",
    "`cityCenters_nearest_km` - расстояние до центра города в километрах"
   ]
  },
  {
   "cell_type": "code",
   "execution_count": 26,
   "metadata": {
    "scrolled": true
   },
   "outputs": [
    {
     "data": {
      "text/html": [
       "<div>\n",
       "<style scoped>\n",
       "    .dataframe tbody tr th:only-of-type {\n",
       "        vertical-align: middle;\n",
       "    }\n",
       "\n",
       "    .dataframe tbody tr th {\n",
       "        vertical-align: top;\n",
       "    }\n",
       "\n",
       "    .dataframe thead th {\n",
       "        text-align: right;\n",
       "    }\n",
       "</style>\n",
       "<table border=\"1\" class=\"dataframe\">\n",
       "  <thead>\n",
       "    <tr style=\"text-align: right;\">\n",
       "      <th></th>\n",
       "      <th>total_images</th>\n",
       "      <th>last_price</th>\n",
       "      <th>total_area</th>\n",
       "      <th>first_day_exposition</th>\n",
       "      <th>rooms</th>\n",
       "      <th>ceiling_height</th>\n",
       "      <th>floors_total</th>\n",
       "      <th>living_area</th>\n",
       "      <th>floor</th>\n",
       "      <th>is_apartment</th>\n",
       "      <th>...</th>\n",
       "      <th>parks_around3000</th>\n",
       "      <th>parks_nearest</th>\n",
       "      <th>ponds_around3000</th>\n",
       "      <th>ponds_nearest</th>\n",
       "      <th>days_exposition</th>\n",
       "      <th>price_for_m2</th>\n",
       "      <th>day_of_publish</th>\n",
       "      <th>month_of_publish</th>\n",
       "      <th>year_of_publish</th>\n",
       "      <th>cityCenters_nearest_km</th>\n",
       "    </tr>\n",
       "  </thead>\n",
       "  <tbody>\n",
       "    <tr>\n",
       "      <th>17650</th>\n",
       "      <td>8</td>\n",
       "      <td>5100000</td>\n",
       "      <td>54.80</td>\n",
       "      <td>2017-12-01</td>\n",
       "      <td>2</td>\n",
       "      <td>3.00</td>\n",
       "      <td>5</td>\n",
       "      <td>34.20</td>\n",
       "      <td>5</td>\n",
       "      <td>False</td>\n",
       "      <td>...</td>\n",
       "      <td>3</td>\n",
       "      <td>380.0</td>\n",
       "      <td>0</td>\n",
       "      <td>NaN</td>\n",
       "      <td>11</td>\n",
       "      <td>93066.0</td>\n",
       "      <td>4</td>\n",
       "      <td>2017-12-01</td>\n",
       "      <td>2017</td>\n",
       "      <td>11.0</td>\n",
       "    </tr>\n",
       "    <tr>\n",
       "      <th>23298</th>\n",
       "      <td>6</td>\n",
       "      <td>3550000</td>\n",
       "      <td>57.30</td>\n",
       "      <td>2017-11-10</td>\n",
       "      <td>2</td>\n",
       "      <td>2.60</td>\n",
       "      <td>9</td>\n",
       "      <td>29.70</td>\n",
       "      <td>8</td>\n",
       "      <td>False</td>\n",
       "      <td>...</td>\n",
       "      <td>0</td>\n",
       "      <td>NaN</td>\n",
       "      <td>0</td>\n",
       "      <td>NaN</td>\n",
       "      <td>445</td>\n",
       "      <td>61955.0</td>\n",
       "      <td>4</td>\n",
       "      <td>2017-11-01</td>\n",
       "      <td>2017</td>\n",
       "      <td>NaN</td>\n",
       "    </tr>\n",
       "    <tr>\n",
       "      <th>11703</th>\n",
       "      <td>1</td>\n",
       "      <td>8555400</td>\n",
       "      <td>97.00</td>\n",
       "      <td>2017-04-18</td>\n",
       "      <td>3</td>\n",
       "      <td>2.85</td>\n",
       "      <td>20</td>\n",
       "      <td>60.30</td>\n",
       "      <td>2</td>\n",
       "      <td>False</td>\n",
       "      <td>...</td>\n",
       "      <td>1</td>\n",
       "      <td>679.0</td>\n",
       "      <td>3</td>\n",
       "      <td>361.0</td>\n",
       "      <td>594</td>\n",
       "      <td>88200.0</td>\n",
       "      <td>1</td>\n",
       "      <td>2017-04-01</td>\n",
       "      <td>2017</td>\n",
       "      <td>17.0</td>\n",
       "    </tr>\n",
       "    <tr>\n",
       "      <th>2629</th>\n",
       "      <td>20</td>\n",
       "      <td>3150021</td>\n",
       "      <td>36.61</td>\n",
       "      <td>2018-02-20</td>\n",
       "      <td>1</td>\n",
       "      <td>2.55</td>\n",
       "      <td>27</td>\n",
       "      <td>17.71</td>\n",
       "      <td>27</td>\n",
       "      <td>False</td>\n",
       "      <td>...</td>\n",
       "      <td>0</td>\n",
       "      <td>NaN</td>\n",
       "      <td>0</td>\n",
       "      <td>NaN</td>\n",
       "      <td>176</td>\n",
       "      <td>86043.0</td>\n",
       "      <td>1</td>\n",
       "      <td>2018-02-01</td>\n",
       "      <td>2018</td>\n",
       "      <td>NaN</td>\n",
       "    </tr>\n",
       "    <tr>\n",
       "      <th>1992</th>\n",
       "      <td>5</td>\n",
       "      <td>4000000</td>\n",
       "      <td>37.40</td>\n",
       "      <td>2018-02-11</td>\n",
       "      <td>1</td>\n",
       "      <td>2.53</td>\n",
       "      <td>16</td>\n",
       "      <td>36.40</td>\n",
       "      <td>10</td>\n",
       "      <td>False</td>\n",
       "      <td>...</td>\n",
       "      <td>0</td>\n",
       "      <td>NaN</td>\n",
       "      <td>1</td>\n",
       "      <td>1052.0</td>\n",
       "      <td>74</td>\n",
       "      <td>106952.0</td>\n",
       "      <td>6</td>\n",
       "      <td>2018-02-01</td>\n",
       "      <td>2018</td>\n",
       "      <td>22.0</td>\n",
       "    </tr>\n",
       "  </tbody>\n",
       "</table>\n",
       "<p>5 rows × 27 columns</p>\n",
       "</div>"
      ],
      "text/plain": [
       "       total_images  last_price  total_area first_day_exposition  rooms  \\\n",
       "17650             8     5100000       54.80           2017-12-01      2   \n",
       "23298             6     3550000       57.30           2017-11-10      2   \n",
       "11703             1     8555400       97.00           2017-04-18      3   \n",
       "2629             20     3150021       36.61           2018-02-20      1   \n",
       "1992              5     4000000       37.40           2018-02-11      1   \n",
       "\n",
       "       ceiling_height  floors_total  living_area  floor  is_apartment  ...  \\\n",
       "17650            3.00             5        34.20      5         False  ...   \n",
       "23298            2.60             9        29.70      8         False  ...   \n",
       "11703            2.85            20        60.30      2         False  ...   \n",
       "2629             2.55            27        17.71     27         False  ...   \n",
       "1992             2.53            16        36.40     10         False  ...   \n",
       "\n",
       "       parks_around3000  parks_nearest  ponds_around3000  ponds_nearest  \\\n",
       "17650                 3          380.0                 0            NaN   \n",
       "23298                 0            NaN                 0            NaN   \n",
       "11703                 1          679.0                 3          361.0   \n",
       "2629                  0            NaN                 0            NaN   \n",
       "1992                  0            NaN                 1         1052.0   \n",
       "\n",
       "      days_exposition  price_for_m2  day_of_publish  month_of_publish  \\\n",
       "17650              11       93066.0               4        2017-12-01   \n",
       "23298             445       61955.0               4        2017-11-01   \n",
       "11703             594       88200.0               1        2017-04-01   \n",
       "2629              176       86043.0               1        2018-02-01   \n",
       "1992               74      106952.0               6        2018-02-01   \n",
       "\n",
       "       year_of_publish  cityCenters_nearest_km  \n",
       "17650             2017                    11.0  \n",
       "23298             2017                     NaN  \n",
       "11703             2017                    17.0  \n",
       "2629              2018                     NaN  \n",
       "1992              2018                    22.0  \n",
       "\n",
       "[5 rows x 27 columns]"
      ]
     },
     "execution_count": 26,
     "metadata": {},
     "output_type": "execute_result"
    }
   ],
   "source": [
    "data['price_for_m2'] = data['last_price']/data['total_area']\n",
    "data['price_for_m2'] = data['price_for_m2'].astype(float).round()\n",
    "data['day_of_publish'] = data['first_day_exposition'].dt.dayofweek\n",
    "#data['month_of_publish'] = data['first_day_exposition'].dt.month\n",
    "data['month_of_publish']= data['first_day_exposition'].astype('datetime64[M]')\n",
    "data['year_of_publish'] = data['first_day_exposition'].dt.year\n",
    "data['cityCenters_nearest_km'] = round(data['cityCenters_nearest']/1000)\n",
    "data.sample(5)"
   ]
  },
  {
   "cell_type": "code",
   "execution_count": 69,
   "metadata": {},
   "outputs": [
    {
     "data": {
      "text/plain": [
       "0        120370\n",
       "4        100000\n",
       "9         88525\n",
       "10       127525\n",
       "13        82944\n",
       "          ...  \n",
       "23691    129904\n",
       "23693     73718\n",
       "23694     72491\n",
       "23697    149511\n",
       "23698     41796\n",
       "Name: price_for_m2, Length: 14488, dtype: Int64"
      ]
     },
     "execution_count": 69,
     "metadata": {},
     "output_type": "execute_result"
    }
   ],
   "source": [
    "data['price_for_m2'] = data['price_for_m2'].astype('Int64')\n",
    "data['price_for_m2']"
   ]
  },
  {
   "cell_type": "markdown",
   "metadata": {},
   "source": [
    "Создадим и применим функцию для опредиление типа этажа:"
   ]
  },
  {
   "cell_type": "code",
   "execution_count": 27,
   "metadata": {},
   "outputs": [],
   "source": [
    "\n",
    "def type_of_floor_func(floor):\n",
    "    if floor == 1:\n",
    "        return 'первый'\n",
    "    else:\n",
    "        return 'другой'\n",
    "    \n",
    "\n",
    "data['type_of_floor'] = data['floor'].apply(type_of_floor_func)\n",
    "#последний этаж опредилим через loc\n",
    "data.loc[(data.floor == data.floors_total), 'type_of_floor'] = 'последний'    "
   ]
  },
  {
   "cell_type": "markdown",
   "metadata": {},
   "source": [
    "### Проведите исследовательский анализ данных"
   ]
  },
  {
   "cell_type": "markdown",
   "metadata": {},
   "source": [
    "#### Проведем анализ по следующим параметрам:\n",
    "    \n",
    "- общая площадь;\n",
    "- жилая площадь;\n",
    "- площадь кухни;\n",
    "- цена объекта;\n",
    "- количество комнат;\n",
    "- высота потолков;\n",
    "- этаж квартиры;\n",
    "- тип этажа квартиры («первый», «последний», «другой»);\n",
    "- общее количество этажей в доме;\n",
    "- расстояние до центра города в метрах;\n",
    "- расстояние до ближайшего аэропорта;\n",
    "- расстояние до ближайшего парка;\n",
    "- день и месяц публикации объявления."
   ]
  },
  {
   "cell_type": "markdown",
   "metadata": {},
   "source": [
    "**Общая площадь:**"
   ]
  },
  {
   "cell_type": "code",
   "execution_count": 28,
   "metadata": {},
   "outputs": [
    {
     "data": {
      "image/png": "[encoded data removed]",
      "text/plain": [
       "<Figure size 432x288 with 1 Axes>"
      ]
     },
     "metadata": {
      "needs_background": "light"
     },
     "output_type": "display_data"
    }
   ],
   "source": [
    "data['total_area'].hist(bins=100,range = (0,400));"
   ]
  },
  {
   "cell_type": "markdown",
   "metadata": {},
   "source": [
    "Основная масса продаваемых объектов прощадью около 50 метров"
   ]
  },
  {
   "cell_type": "markdown",
   "metadata": {},
   "source": [
    "**Жилая площадь:**"
   ]
  },
  {
   "cell_type": "code",
   "execution_count": 29,
   "metadata": {},
   "outputs": [
    {
     "data": {
      "image/png": "[encoded data removed]",
      "text/plain": [
       "<Figure size 432x288 with 1 Axes>"
      ]
     },
     "metadata": {
      "needs_background": "light"
     },
     "output_type": "display_data"
    }
   ],
   "source": [
    "data['living_area'].hist(bins=100);"
   ]
  },
  {
   "cell_type": "markdown",
   "metadata": {},
   "source": [
    "Основная масса объектов с жилой площадью до 25-30 метров"
   ]
  },
  {
   "cell_type": "markdown",
   "metadata": {},
   "source": [
    "**Площадь кухни:**"
   ]
  },
  {
   "cell_type": "code",
   "execution_count": 30,
   "metadata": {},
   "outputs": [
    {
     "data": {
      "image/png": "[encoded data removed]",
      "text/plain": [
       "<Figure size 432x288 with 1 Axes>"
      ]
     },
     "metadata": {
      "needs_background": "light"
     },
     "output_type": "display_data"
    }
   ],
   "source": [
    "data['kitchen_area'].hist(bins=100);"
   ]
  },
  {
   "cell_type": "markdown",
   "metadata": {},
   "source": [
    "Большинство объектов с плошадью кухни до 10 метров"
   ]
  },
  {
   "cell_type": "markdown",
   "metadata": {},
   "source": [
    "**Цена объекта:**"
   ]
  },
  {
   "cell_type": "code",
   "execution_count": 31,
   "metadata": {},
   "outputs": [
    {
     "data": {
      "image/png": "[encoded data removed]",
      "text/plain": [
       "<Figure size 432x288 with 1 Axes>"
      ]
     },
     "metadata": {
      "needs_background": "light"
     },
     "output_type": "display_data"
    }
   ],
   "source": [
    "data['last_price'].hist(bins=100, range = (0,15000000));"
   ]
  },
  {
   "cell_type": "markdown",
   "metadata": {},
   "source": [
    "Большинство объектов в диапазоне 3-5 миллионов рублей"
   ]
  },
  {
   "cell_type": "markdown",
   "metadata": {},
   "source": [
    "**Количество комнат:**"
   ]
  },
  {
   "cell_type": "code",
   "execution_count": 32,
   "metadata": {},
   "outputs": [
    {
     "data": {
      "image/png": "[encoded data removed]",
      "text/plain": [
       "<Figure size 432x288 with 1 Axes>"
      ]
     },
     "metadata": {
      "needs_background": "light"
     },
     "output_type": "display_data"
    }
   ],
   "source": [
    "data['rooms'].hist(bins=100);"
   ]
  },
  {
   "cell_type": "markdown",
   "metadata": {},
   "source": [
    "Больше всего 2х комнатных объектов и 1 комнатных."
   ]
  },
  {
   "cell_type": "markdown",
   "metadata": {},
   "source": [
    "**Высота потолков:**"
   ]
  },
  {
   "cell_type": "code",
   "execution_count": 33,
   "metadata": {},
   "outputs": [
    {
     "data": {
      "image/png": "[encoded data removed]",
      "text/plain": [
       "<Figure size 432x288 with 1 Axes>"
      ]
     },
     "metadata": {
      "needs_background": "light"
     },
     "output_type": "display_data"
    }
   ],
   "source": [
    "data['ceiling_height'].hist(bins=100);"
   ]
  },
  {
   "cell_type": "markdown",
   "metadata": {},
   "source": [
    "Основная масса объектов с высотой потолков 2.5-2.7 метра"
   ]
  },
  {
   "cell_type": "markdown",
   "metadata": {},
   "source": [
    "**Этаж квартиры:**"
   ]
  },
  {
   "cell_type": "code",
   "execution_count": 34,
   "metadata": {},
   "outputs": [
    {
     "data": {
      "image/png": "[encoded data removed]",
      "text/plain": [
       "<Figure size 432x288 with 1 Axes>"
      ]
     },
     "metadata": {
      "needs_background": "light"
     },
     "output_type": "display_data"
    }
   ],
   "source": [
    "data['floor'].hist(bins=100);"
   ]
  },
  {
   "cell_type": "markdown",
   "metadata": {},
   "source": [
    "Большинство объектов расположенны на 3-5 этажах"
   ]
  },
  {
   "cell_type": "markdown",
   "metadata": {},
   "source": [
    "**Тип этажа квартиры:**"
   ]
  },
  {
   "cell_type": "code",
   "execution_count": 35,
   "metadata": {},
   "outputs": [
    {
     "data": {
      "image/png": "[encoded data removed]",
      "text/plain": [
       "<Figure size 432x288 with 1 Axes>"
      ]
     },
     "metadata": {
      "needs_background": "light"
     },
     "output_type": "display_data"
    }
   ],
   "source": [
    "data['type_of_floor'].hist(bins=100);"
   ]
  },
  {
   "cell_type": "markdown",
   "metadata": {},
   "source": [
    "Большинство объектов расположенны на средних этажах"
   ]
  },
  {
   "cell_type": "markdown",
   "metadata": {},
   "source": [
    "**Общее количество этажей в доме:**"
   ]
  },
  {
   "cell_type": "code",
   "execution_count": 36,
   "metadata": {},
   "outputs": [
    {
     "data": {
      "image/png": "[encoded data removed]",
      "text/plain": [
       "<Figure size 432x288 with 1 Axes>"
      ]
     },
     "metadata": {
      "needs_background": "light"
     },
     "output_type": "display_data"
    }
   ],
   "source": [
    "data['floors_total'].hist(bins=100);"
   ]
  },
  {
   "cell_type": "markdown",
   "metadata": {},
   "source": [
    "Большинство объектов расположенны в 5-ти и 9-ти этажных домах"
   ]
  },
  {
   "cell_type": "markdown",
   "metadata": {},
   "source": [
    "**Расстояние до центра города в метрах:**"
   ]
  },
  {
   "cell_type": "code",
   "execution_count": 37,
   "metadata": {},
   "outputs": [
    {
     "data": {
      "image/png": "[encoded data removed]",
      "text/plain": [
       "<Figure size 432x288 with 1 Axes>"
      ]
     },
     "metadata": {
      "needs_background": "light"
     },
     "output_type": "display_data"
    }
   ],
   "source": [
    "data['cityCenters_nearest'].hist(bins=100);"
   ]
  },
  {
   "cell_type": "markdown",
   "metadata": {},
   "source": [
    "Большинство объектор расположенны на расстоянии 12-17 километров от центра"
   ]
  },
  {
   "cell_type": "markdown",
   "metadata": {},
   "source": [
    "**Расстояние до ближайшего аэропорта:**"
   ]
  },
  {
   "cell_type": "code",
   "execution_count": 38,
   "metadata": {},
   "outputs": [
    {
     "data": {
      "image/png": "[encoded data removed]",
      "text/plain": [
       "<Figure size 432x288 with 1 Axes>"
      ]
     },
     "metadata": {
      "needs_background": "light"
     },
     "output_type": "display_data"
    }
   ],
   "source": [
    "data['airports_nearest'].hist(bins=100);"
   ]
  },
  {
   "cell_type": "markdown",
   "metadata": {},
   "source": [
    "Основная масса объектов расположенна на удалении около 15-ти и 25-ти километров от аэропорта"
   ]
  },
  {
   "cell_type": "markdown",
   "metadata": {},
   "source": [
    "**Расстояние до ближайшего парка:**"
   ]
  },
  {
   "cell_type": "code",
   "execution_count": 39,
   "metadata": {},
   "outputs": [
    {
     "data": {
      "image/png": "[encoded data removed]",
      "text/plain": [
       "<Figure size 432x288 with 1 Axes>"
      ]
     },
     "metadata": {
      "needs_background": "light"
     },
     "output_type": "display_data"
    }
   ],
   "source": [
    "data['parks_nearest'].hist(bins=100);"
   ]
  },
  {
   "cell_type": "markdown",
   "metadata": {},
   "source": [
    "Большинство объектов расположенны в 400-600 метрах от ближайшего парка"
   ]
  },
  {
   "cell_type": "markdown",
   "metadata": {},
   "source": [
    "**День и месяц публикации объявления:**"
   ]
  },
  {
   "cell_type": "code",
   "execution_count": 40,
   "metadata": {},
   "outputs": [
    {
     "data": {
      "image/png": "[encoded data removed]",
      "text/plain": [
       "<Figure size 432x288 with 1 Axes>"
      ]
     },
     "metadata": {
      "needs_background": "light"
     },
     "output_type": "display_data"
    }
   ],
   "source": [
    "data['day_of_publish'].hist(bins=100);"
   ]
  },
  {
   "cell_type": "markdown",
   "metadata": {},
   "source": [
    "Большинство объявлений дают в будние дни, на выходных наблюдается спад"
   ]
  },
  {
   "cell_type": "code",
   "execution_count": 41,
   "metadata": {},
   "outputs": [
    {
     "data": {
      "image/png": "[encoded data removed]",
      "text/plain": [
       "<Figure size 432x288 with 1 Axes>"
      ]
     },
     "metadata": {
      "needs_background": "light"
     },
     "output_type": "display_data"
    }
   ],
   "source": [
    "data['month_of_publish'].hist(bins=100);"
   ]
  },
  {
   "cell_type": "markdown",
   "metadata": {},
   "source": [
    "Большинство объявлений опубликованно в феврале, марте, апреле и в ноябре"
   ]
  },
  {
   "cell_type": "markdown",
   "metadata": {},
   "source": [
    "#### Изучим как быстро продавались квартиры"
   ]
  },
  {
   "cell_type": "code",
   "execution_count": 42,
   "metadata": {
    "scrolled": true
   },
   "outputs": [
    {
     "data": {
      "image/png": "[encoded data removed]",
      "text/plain": [
       "<Figure size 432x288 with 1 Axes>"
      ]
     },
     "metadata": {
      "needs_background": "light"
     },
     "output_type": "display_data"
    }
   ],
   "source": [
    "data['days_exposition'].hist(bins=100, range=(0,200));"
   ]
  },
  {
   "cell_type": "code",
   "execution_count": 43,
   "metadata": {},
   "outputs": [
    {
     "data": {
      "text/plain": [
       "190.49256582772657"
      ]
     },
     "execution_count": 43,
     "metadata": {},
     "output_type": "execute_result"
    }
   ],
   "source": [
    "data['days_exposition'].mean()"
   ]
  },
  {
   "cell_type": "code",
   "execution_count": 44,
   "metadata": {},
   "outputs": [
    {
     "data": {
      "text/plain": [
       "103.0"
      ]
     },
     "execution_count": 44,
     "metadata": {},
     "output_type": "execute_result"
    }
   ],
   "source": [
    "data['days_exposition'].median()"
   ]
  },
  {
   "cell_type": "markdown",
   "metadata": {},
   "source": [
    "Основная масса квартир продается за 40-60 дней. Как я считаю то что до медианы - это быстрые продажи, т. е. менее 103 дней. Все что уходит в далее Q3 и далее - долгими. Необычно долгими будут продажи кторые уходт за Q3*1.5 и будут равны более 372 дней."
   ]
  },
  {
   "cell_type": "code",
   "execution_count": 45,
   "metadata": {},
   "outputs": [
    {
     "data": {
      "text/plain": [
       "count    12039.000000\n",
       "mean       190.492566\n",
       "std        228.773142\n",
       "min          1.000000\n",
       "25%         45.000000\n",
       "50%        103.000000\n",
       "75%        248.000000\n",
       "max       1580.000000\n",
       "Name: days_exposition, dtype: float64"
      ]
     },
     "execution_count": 45,
     "metadata": {},
     "output_type": "execute_result"
    }
   ],
   "source": [
    "data['days_exposition'].describe()"
   ]
  },
  {
   "cell_type": "markdown",
   "metadata": {},
   "source": [
    "#### Факторы больше всего влияющие на общую (полную) стоимость объекта"
   ]
  },
  {
   "cell_type": "markdown",
   "metadata": {},
   "source": [
    "**Зависимость цены от общей площади:**"
   ]
  },
  {
   "cell_type": "code",
   "execution_count": 46,
   "metadata": {},
   "outputs": [
    {
     "name": "stdout",
     "output_type": "stream",
     "text": [
      "0.7129487886590012\n"
     ]
    },
    {
     "data": {
      "image/png": "[encoded data removed]",
      "text/plain": [
       "<Figure size 432x288 with 1 Axes>"
      ]
     },
     "metadata": {
      "needs_background": "light"
     },
     "output_type": "display_data"
    }
   ],
   "source": [
    "data.plot(x='total_area', y='last_price', kind='scatter');\n",
    "#выведем дополнительно коэффициент корреляции Пирсона\n",
    "print(data['total_area'].corr(data['last_price'].astype('float64')))"
   ]
  },
  {
   "cell_type": "markdown",
   "metadata": {},
   "source": [
    "На графике видна высокая положительная кореляция, цена сильно зависит от площади объектаи"
   ]
  },
  {
   "cell_type": "code",
   "execution_count": 73,
   "metadata": {},
   "outputs": [],
   "source": [
    "data['last_price'] = data['last_price'].astype('int')"
   ]
  },
  {
   "cell_type": "code",
   "execution_count": 74,
   "metadata": {},
   "outputs": [
    {
     "name": "stdout",
     "output_type": "stream",
     "text": [
      "<class 'pandas.core.frame.DataFrame'>\n",
      "Int64Index: 14488 entries, 0 to 23698\n",
      "Data columns (total 28 columns):\n",
      " #   Column                  Non-Null Count  Dtype         \n",
      "---  ------                  --------------  -----         \n",
      " 0   total_images            14488 non-null  int64         \n",
      " 1   last_price              14488 non-null  int64         \n",
      " 2   total_area              14488 non-null  float64       \n",
      " 3   first_day_exposition    14488 non-null  datetime64[ns]\n",
      " 4   rooms                   14488 non-null  int64         \n",
      " 5   ceiling_height          14488 non-null  float64       \n",
      " 6   floors_total            14488 non-null  Int64         \n",
      " 7   living_area             13693 non-null  float64       \n",
      " 8   floor                   14488 non-null  Int64         \n",
      " 9   is_apartment            14488 non-null  bool          \n",
      " 10  studio                  14488 non-null  bool          \n",
      " 11  open_plan               14488 non-null  bool          \n",
      " 12  kitchen_area            13550 non-null  float64       \n",
      " 13  balcony                 14488 non-null  Int64         \n",
      " 14  locality_name           14488 non-null  object        \n",
      " 15  airports_nearest        11533 non-null  float64       \n",
      " 16  cityCenters_nearest     11553 non-null  float64       \n",
      " 17  parks_around3000        14488 non-null  Int64         \n",
      " 18  parks_nearest           5290 non-null   float64       \n",
      " 19  ponds_around3000        14488 non-null  Int64         \n",
      " 20  ponds_nearest           5728 non-null   float64       \n",
      " 21  days_exposition         12039 non-null  Int64         \n",
      " 22  price_for_m2            14488 non-null  Int64         \n",
      " 23  day_of_publish          14488 non-null  int64         \n",
      " 24  month_of_publish        14488 non-null  datetime64[ns]\n",
      " 25  year_of_publish         14488 non-null  int64         \n",
      " 26  cityCenters_nearest_km  11553 non-null  float64       \n",
      " 27  type_of_floor           14488 non-null  object        \n",
      "dtypes: Int64(7), bool(3), datetime64[ns](2), float64(9), int64(5), object(2)\n",
      "memory usage: 3.0+ MB\n"
     ]
    }
   ],
   "source": [
    "data.info()"
   ]
  },
  {
   "cell_type": "code",
   "execution_count": 75,
   "metadata": {},
   "outputs": [
    {
     "data": {
      "text/plain": [
       "0.7129487886590012"
      ]
     },
     "execution_count": 75,
     "metadata": {},
     "output_type": "execute_result"
    }
   ],
   "source": [
    "data['total_area'].corr(data['last_price'])"
   ]
  },
  {
   "cell_type": "markdown",
   "metadata": {},
   "source": [
    "**Зависимость цены от жилой площади:**"
   ]
  },
  {
   "cell_type": "code",
   "execution_count": 47,
   "metadata": {},
   "outputs": [
    {
     "name": "stdout",
     "output_type": "stream",
     "text": [
      "0.6153947322135802\n"
     ]
    },
    {
     "data": {
      "image/png": "[encoded data removed]",
      "text/plain": [
       "<Figure size 432x288 with 1 Axes>"
      ]
     },
     "metadata": {
      "needs_background": "light"
     },
     "output_type": "display_data"
    }
   ],
   "source": [
    "data.plot(x='living_area', y='last_price', kind='scatter');\n",
    "#выведем дополнительно коэффициент корреляции Пирсона\n",
    "print(data['living_area'].corr(data['last_price'].astype('float64')))"
   ]
  },
  {
   "cell_type": "markdown",
   "metadata": {},
   "source": [
    "На графике также видна высокая положительная кореляция, цена зависит от жилой площади объекта но менее сильно чем от общей площади"
   ]
  },
  {
   "cell_type": "markdown",
   "metadata": {},
   "source": [
    "**Зависимость цены от площади кухни:***"
   ]
  },
  {
   "cell_type": "code",
   "execution_count": 48,
   "metadata": {},
   "outputs": [
    {
     "name": "stdout",
     "output_type": "stream",
     "text": [
      "0.5359192942873572\n"
     ]
    },
    {
     "data": {
      "image/png": "[encoded data removed]",
      "text/plain": [
       "<Figure size 432x288 with 1 Axes>"
      ]
     },
     "metadata": {
      "needs_background": "light"
     },
     "output_type": "display_data"
    }
   ],
   "source": [
    "data.plot(x='kitchen_area', y='last_price', kind='scatter')\n",
    "#выведем дополнительно коэффициент корреляции Пирсона\n",
    "print(data['kitchen_area'].corr(data['last_price'].astype('float64')))"
   ]
  },
  {
   "cell_type": "markdown",
   "metadata": {},
   "source": [
    "На графике также видна еще высокая положительная кореляция, но цена зависит меньше чем от общей площади и жилой площади объекта "
   ]
  },
  {
   "cell_type": "markdown",
   "metadata": {},
   "source": [
    "***Зависимость цены от количества комнат***"
   ]
  },
  {
   "cell_type": "code",
   "execution_count": 49,
   "metadata": {},
   "outputs": [
    {
     "name": "stdout",
     "output_type": "stream",
     "text": [
      "0.4014785442639324\n"
     ]
    },
    {
     "data": {
      "image/png": "[encoded data removed]",
      "text/plain": [
       "<Figure size 432x288 with 1 Axes>"
      ]
     },
     "metadata": {
      "needs_background": "light"
     },
     "output_type": "display_data"
    }
   ],
   "source": [
    "data.plot(x='rooms', y='last_price', kind='scatter')\n",
    "#выведем дополнительно коэффициент корреляции Пирсона\n",
    "print(data['rooms'].corr(data['last_price'].astype('float64')))"
   ]
  },
  {
   "cell_type": "markdown",
   "metadata": {},
   "source": [
    "Зависимость еще меньше чем у предыдущих параметрах, но она все таки есть"
   ]
  },
  {
   "cell_type": "markdown",
   "metadata": {},
   "source": [
    "***Зависимость цены от этажа, на котором расположена квартира:***"
   ]
  },
  {
   "cell_type": "code",
   "execution_count": 50,
   "metadata": {},
   "outputs": [
    {
     "data": {
      "image/png": "[encoded data removed]",
      "text/plain": [
       "<Figure size 432x288 with 1 Axes>"
      ]
     },
     "metadata": {
      "needs_background": "light"
     },
     "output_type": "display_data"
    }
   ],
   "source": [
    "data.plot(x='type_of_floor', y='last_price', kind='scatter');"
   ]
  },
  {
   "cell_type": "markdown",
   "metadata": {},
   "source": [
    "По графику можно заметить что квартиры на первом этаже дешевле квартир на других этажах включая последний."
   ]
  },
  {
   "cell_type": "markdown",
   "metadata": {},
   "source": [
    "***Зависимость цены от даты размещения (день недели, месяц, год):***"
   ]
  },
  {
   "cell_type": "markdown",
   "metadata": {},
   "source": [
    "День недели:"
   ]
  },
  {
   "cell_type": "code",
   "execution_count": 51,
   "metadata": {},
   "outputs": [
    {
     "data": {
      "image/png": "[encoded data removed]",
      "text/plain": [
       "<Figure size 432x288 with 1 Axes>"
      ]
     },
     "metadata": {
      "needs_background": "light"
     },
     "output_type": "display_data"
    }
   ],
   "source": [
    "data.plot(x='day_of_publish', y='last_price', kind='scatter');"
   ]
  },
  {
   "cell_type": "code",
   "execution_count": 52,
   "metadata": {},
   "outputs": [
    {
     "data": {
      "image/png": "[encoded data removed]",
      "text/plain": [
       "<Figure size 432x288 with 1 Axes>"
      ]
     },
     "metadata": {
      "needs_background": "light"
     },
     "output_type": "display_data"
    }
   ],
   "source": [
    "data.groupby('day_of_publish')['last_price'].mean().plot();"
   ]
  },
  {
   "cell_type": "markdown",
   "metadata": {},
   "source": [
    "Месяц:"
   ]
  },
  {
   "cell_type": "code",
   "execution_count": 53,
   "metadata": {},
   "outputs": [
    {
     "data": {
      "image/png": "[encoded data removed]",
      "text/plain": [
       "<Figure size 432x288 with 1 Axes>"
      ]
     },
     "metadata": {
      "needs_background": "light"
     },
     "output_type": "display_data"
    }
   ],
   "source": [
    "data.plot(x='month_of_publish', y='last_price', kind='scatter');"
   ]
  },
  {
   "cell_type": "code",
   "execution_count": 54,
   "metadata": {},
   "outputs": [
    {
     "data": {
      "image/png": "[encoded data removed]",
      "text/plain": [
       "<Figure size 432x288 with 1 Axes>"
      ]
     },
     "metadata": {
      "needs_background": "light"
     },
     "output_type": "display_data"
    }
   ],
   "source": [
    "data.groupby('month_of_publish')['last_price'].mean().plot();"
   ]
  },
  {
   "cell_type": "markdown",
   "metadata": {},
   "source": [
    "Год:"
   ]
  },
  {
   "cell_type": "code",
   "execution_count": 55,
   "metadata": {},
   "outputs": [
    {
     "data": {
      "image/png": "[encoded data removed]",
      "text/plain": [
       "<Figure size 432x288 with 1 Axes>"
      ]
     },
     "metadata": {
      "needs_background": "light"
     },
     "output_type": "display_data"
    }
   ],
   "source": [
    "data.plot(x='year_of_publish', y='last_price', kind='scatter');"
   ]
  },
  {
   "cell_type": "code",
   "execution_count": 56,
   "metadata": {},
   "outputs": [
    {
     "data": {
      "image/png": "[encoded data removed]",
      "text/plain": [
       "<Figure size 432x288 with 1 Axes>"
      ]
     },
     "metadata": {
      "needs_background": "light"
     },
     "output_type": "display_data"
    }
   ],
   "source": [
    "data.groupby('year_of_publish')['last_price'].mean().plot();"
   ]
  },
  {
   "cell_type": "markdown",
   "metadata": {},
   "source": [
    "Зависимости от даты подачи объявления особой нет."
   ]
  },
  {
   "cell_type": "markdown",
   "metadata": {},
   "source": [
    "#### Посчитаем среднюю цену одного квадратного метра в 10 населённых пунктах с наибольшим числом объявлений"
   ]
  },
  {
   "cell_type": "code",
   "execution_count": 57,
   "metadata": {},
   "outputs": [
    {
     "data": {
      "text/plain": [
       "locality_name\n",
       "Санкт-Петербург      10098\n",
       "Всеволожск             271\n",
       "Пушкин                 234\n",
       "Мурино                 228\n",
       "поселок Шушары         217\n",
       "Колпино                203\n",
       "Гатчина                149\n",
       "Петергоф               145\n",
       "поселок Парголово      137\n",
       "Сестрорецк             129\n",
       "Name: locality_name, dtype: int64"
      ]
     },
     "execution_count": 57,
     "metadata": {},
     "output_type": "execute_result"
    }
   ],
   "source": [
    "#опредилим 10 населённых пунктов с наибольшим числом объявлений\n",
    "data.groupby('locality_name')['locality_name'].count().sort_values(ascending=False).head(10)"
   ]
  },
  {
   "cell_type": "code",
   "execution_count": 58,
   "metadata": {},
   "outputs": [
    {
     "data": {
      "text/html": [
       "<div>\n",
       "<style scoped>\n",
       "    .dataframe tbody tr th:only-of-type {\n",
       "        vertical-align: middle;\n",
       "    }\n",
       "\n",
       "    .dataframe tbody tr th {\n",
       "        vertical-align: top;\n",
       "    }\n",
       "\n",
       "    .dataframe thead th {\n",
       "        text-align: right;\n",
       "    }\n",
       "</style>\n",
       "<table border=\"1\" class=\"dataframe\">\n",
       "  <thead>\n",
       "    <tr style=\"text-align: right;\">\n",
       "      <th></th>\n",
       "      <th>price_for_m2</th>\n",
       "    </tr>\n",
       "    <tr>\n",
       "      <th>locality_name</th>\n",
       "      <th></th>\n",
       "    </tr>\n",
       "  </thead>\n",
       "  <tbody>\n",
       "    <tr>\n",
       "      <th>Санкт-Петербург</th>\n",
       "      <td>115730.980986</td>\n",
       "    </tr>\n",
       "    <tr>\n",
       "      <th>Пушкин</th>\n",
       "      <td>103920.474359</td>\n",
       "    </tr>\n",
       "    <tr>\n",
       "      <th>Сестрорецк</th>\n",
       "      <td>102267.325581</td>\n",
       "    </tr>\n",
       "    <tr>\n",
       "      <th>поселок Парголово</th>\n",
       "      <td>90901.321168</td>\n",
       "    </tr>\n",
       "    <tr>\n",
       "      <th>Мурино</th>\n",
       "      <td>87816.903509</td>\n",
       "    </tr>\n",
       "    <tr>\n",
       "      <th>Петергоф</th>\n",
       "      <td>85554.131034</td>\n",
       "    </tr>\n",
       "    <tr>\n",
       "      <th>поселок Шушары</th>\n",
       "      <td>79538.612903</td>\n",
       "    </tr>\n",
       "    <tr>\n",
       "      <th>Колпино</th>\n",
       "      <td>75938.527094</td>\n",
       "    </tr>\n",
       "    <tr>\n",
       "      <th>Гатчина</th>\n",
       "      <td>69992.644295</td>\n",
       "    </tr>\n",
       "    <tr>\n",
       "      <th>Всеволожск</th>\n",
       "      <td>67434.612546</td>\n",
       "    </tr>\n",
       "  </tbody>\n",
       "</table>\n",
       "</div>"
      ],
      "text/plain": [
       "                    price_for_m2\n",
       "locality_name                   \n",
       "Санкт-Петербург    115730.980986\n",
       "Пушкин             103920.474359\n",
       "Сестрорецк         102267.325581\n",
       "поселок Парголово   90901.321168\n",
       "Мурино              87816.903509\n",
       "Петергоф            85554.131034\n",
       "поселок Шушары      79538.612903\n",
       "Колпино             75938.527094\n",
       "Гатчина             69992.644295\n",
       "Всеволожск          67434.612546"
      ]
     },
     "execution_count": 58,
     "metadata": {},
     "output_type": "execute_result"
    }
   ],
   "source": [
    "#возмем срез по ним\n",
    "top_10 = data.query('locality_name == [\"Санкт-Петербург\", \"Всеволожск\", \"Пушкин\", \"поселок Шушары\", \"Мурино\", \"поселок Шушары\", \"Колпино\", \"Гатчина\", \"Петергоф\", \"поселок Парголово\", \"Сестрорецк\"]')\n",
    "#соберем сводную таблицу\n",
    "top_10.pivot_table(index='locality_name', values='price_for_m2').sort_values(by='price_for_m2', ascending=False)"
   ]
  },
  {
   "cell_type": "code",
   "execution_count": 59,
   "metadata": {},
   "outputs": [
    {
     "data": {
      "text/html": [
       "<div>\n",
       "<style scoped>\n",
       "    .dataframe tbody tr th:only-of-type {\n",
       "        vertical-align: middle;\n",
       "    }\n",
       "\n",
       "    .dataframe tbody tr th {\n",
       "        vertical-align: top;\n",
       "    }\n",
       "\n",
       "    .dataframe thead th {\n",
       "        text-align: right;\n",
       "    }\n",
       "</style>\n",
       "<table border=\"1\" class=\"dataframe\">\n",
       "  <thead>\n",
       "    <tr style=\"text-align: right;\">\n",
       "      <th></th>\n",
       "      <th>last_price</th>\n",
       "      <th>price_for_m2</th>\n",
       "    </tr>\n",
       "    <tr>\n",
       "      <th>locality_name</th>\n",
       "      <th></th>\n",
       "      <th></th>\n",
       "    </tr>\n",
       "  </thead>\n",
       "  <tbody>\n",
       "    <tr>\n",
       "      <th>Санкт-Петербург</th>\n",
       "      <td>10098</td>\n",
       "      <td>115730.980986</td>\n",
       "    </tr>\n",
       "    <tr>\n",
       "      <th>Всеволожск</th>\n",
       "      <td>271</td>\n",
       "      <td>67434.612546</td>\n",
       "    </tr>\n",
       "    <tr>\n",
       "      <th>Пушкин</th>\n",
       "      <td>234</td>\n",
       "      <td>103920.474359</td>\n",
       "    </tr>\n",
       "    <tr>\n",
       "      <th>Мурино</th>\n",
       "      <td>228</td>\n",
       "      <td>87816.903509</td>\n",
       "    </tr>\n",
       "    <tr>\n",
       "      <th>поселок Шушары</th>\n",
       "      <td>217</td>\n",
       "      <td>79538.612903</td>\n",
       "    </tr>\n",
       "    <tr>\n",
       "      <th>Колпино</th>\n",
       "      <td>203</td>\n",
       "      <td>75938.527094</td>\n",
       "    </tr>\n",
       "    <tr>\n",
       "      <th>Гатчина</th>\n",
       "      <td>149</td>\n",
       "      <td>69992.644295</td>\n",
       "    </tr>\n",
       "    <tr>\n",
       "      <th>Петергоф</th>\n",
       "      <td>145</td>\n",
       "      <td>85554.131034</td>\n",
       "    </tr>\n",
       "    <tr>\n",
       "      <th>поселок Парголово</th>\n",
       "      <td>137</td>\n",
       "      <td>90901.321168</td>\n",
       "    </tr>\n",
       "    <tr>\n",
       "      <th>Сестрорецк</th>\n",
       "      <td>129</td>\n",
       "      <td>102267.325581</td>\n",
       "    </tr>\n",
       "  </tbody>\n",
       "</table>\n",
       "</div>"
      ],
      "text/plain": [
       "                   last_price   price_for_m2\n",
       "locality_name                               \n",
       "Санкт-Петербург         10098  115730.980986\n",
       "Всеволожск                271   67434.612546\n",
       "Пушкин                    234  103920.474359\n",
       "Мурино                    228   87816.903509\n",
       "поселок Шушары            217   79538.612903\n",
       "Колпино                   203   75938.527094\n",
       "Гатчина                   149   69992.644295\n",
       "Петергоф                  145   85554.131034\n",
       "поселок Парголово         137   90901.321168\n",
       "Сестрорецк                129  102267.325581"
      ]
     },
     "execution_count": 59,
     "metadata": {},
     "output_type": "execute_result"
    }
   ],
   "source": [
    "data.groupby('locality_name').agg({'last_price':'count', 'price_for_m2':'mean'}).sort_values(by='last_price', ascending=False).head(10)"
   ]
  },
  {
   "cell_type": "markdown",
   "metadata": {},
   "source": [
    "#### Вычисляем среднюю цену каждого километра до центра в Санкт-Петербурге."
   ]
  },
  {
   "cell_type": "code",
   "execution_count": 60,
   "metadata": {},
   "outputs": [
    {
     "data": {
      "text/html": [
       "<div>\n",
       "<style scoped>\n",
       "    .dataframe tbody tr th:only-of-type {\n",
       "        vertical-align: middle;\n",
       "    }\n",
       "\n",
       "    .dataframe tbody tr th {\n",
       "        vertical-align: top;\n",
       "    }\n",
       "\n",
       "    .dataframe thead th {\n",
       "        text-align: right;\n",
       "    }\n",
       "</style>\n",
       "<table border=\"1\" class=\"dataframe\">\n",
       "  <thead>\n",
       "    <tr style=\"text-align: right;\">\n",
       "      <th></th>\n",
       "      <th>price_for_m2</th>\n",
       "    </tr>\n",
       "    <tr>\n",
       "      <th>cityCenters_nearest_km</th>\n",
       "      <th></th>\n",
       "    </tr>\n",
       "  </thead>\n",
       "  <tbody>\n",
       "    <tr>\n",
       "      <th>29.0</th>\n",
       "      <td>71899.000000</td>\n",
       "    </tr>\n",
       "    <tr>\n",
       "      <th>28.0</th>\n",
       "      <td>68468.000000</td>\n",
       "    </tr>\n",
       "    <tr>\n",
       "      <th>27.0</th>\n",
       "      <td>193919.000000</td>\n",
       "    </tr>\n",
       "    <tr>\n",
       "      <th>26.0</th>\n",
       "      <td>85062.000000</td>\n",
       "    </tr>\n",
       "    <tr>\n",
       "      <th>25.0</th>\n",
       "      <td>87803.500000</td>\n",
       "    </tr>\n",
       "    <tr>\n",
       "      <th>24.0</th>\n",
       "      <td>90830.800000</td>\n",
       "    </tr>\n",
       "    <tr>\n",
       "      <th>23.0</th>\n",
       "      <td>95806.406780</td>\n",
       "    </tr>\n",
       "    <tr>\n",
       "      <th>22.0</th>\n",
       "      <td>91597.144231</td>\n",
       "    </tr>\n",
       "    <tr>\n",
       "      <th>21.0</th>\n",
       "      <td>97993.844156</td>\n",
       "    </tr>\n",
       "    <tr>\n",
       "      <th>20.0</th>\n",
       "      <td>102955.360000</td>\n",
       "    </tr>\n",
       "    <tr>\n",
       "      <th>19.0</th>\n",
       "      <td>96668.247423</td>\n",
       "    </tr>\n",
       "    <tr>\n",
       "      <th>18.0</th>\n",
       "      <td>95225.381944</td>\n",
       "    </tr>\n",
       "    <tr>\n",
       "      <th>17.0</th>\n",
       "      <td>97574.116576</td>\n",
       "    </tr>\n",
       "    <tr>\n",
       "      <th>16.0</th>\n",
       "      <td>101058.407407</td>\n",
       "    </tr>\n",
       "    <tr>\n",
       "      <th>15.0</th>\n",
       "      <td>105131.545894</td>\n",
       "    </tr>\n",
       "    <tr>\n",
       "      <th>14.0</th>\n",
       "      <td>104264.517119</td>\n",
       "    </tr>\n",
       "    <tr>\n",
       "      <th>13.0</th>\n",
       "      <td>108353.873673</td>\n",
       "    </tr>\n",
       "    <tr>\n",
       "      <th>12.0</th>\n",
       "      <td>108561.504826</td>\n",
       "    </tr>\n",
       "    <tr>\n",
       "      <th>11.0</th>\n",
       "      <td>108776.655451</td>\n",
       "    </tr>\n",
       "    <tr>\n",
       "      <th>10.0</th>\n",
       "      <td>115528.127310</td>\n",
       "    </tr>\n",
       "    <tr>\n",
       "      <th>9.0</th>\n",
       "      <td>116696.856777</td>\n",
       "    </tr>\n",
       "    <tr>\n",
       "      <th>8.0</th>\n",
       "      <td>128196.087500</td>\n",
       "    </tr>\n",
       "    <tr>\n",
       "      <th>7.0</th>\n",
       "      <td>156947.650376</td>\n",
       "    </tr>\n",
       "    <tr>\n",
       "      <th>6.0</th>\n",
       "      <td>149351.330667</td>\n",
       "    </tr>\n",
       "    <tr>\n",
       "      <th>5.0</th>\n",
       "      <td>139883.320138</td>\n",
       "    </tr>\n",
       "    <tr>\n",
       "      <th>4.0</th>\n",
       "      <td>132179.505519</td>\n",
       "    </tr>\n",
       "    <tr>\n",
       "      <th>3.0</th>\n",
       "      <td>119409.589958</td>\n",
       "    </tr>\n",
       "    <tr>\n",
       "      <th>2.0</th>\n",
       "      <td>161431.867580</td>\n",
       "    </tr>\n",
       "    <tr>\n",
       "      <th>1.0</th>\n",
       "      <td>184316.059259</td>\n",
       "    </tr>\n",
       "    <tr>\n",
       "      <th>0.0</th>\n",
       "      <td>192787.111111</td>\n",
       "    </tr>\n",
       "  </tbody>\n",
       "</table>\n",
       "</div>"
      ],
      "text/plain": [
       "                         price_for_m2\n",
       "cityCenters_nearest_km               \n",
       "29.0                     71899.000000\n",
       "28.0                     68468.000000\n",
       "27.0                    193919.000000\n",
       "26.0                     85062.000000\n",
       "25.0                     87803.500000\n",
       "24.0                     90830.800000\n",
       "23.0                     95806.406780\n",
       "22.0                     91597.144231\n",
       "21.0                     97993.844156\n",
       "20.0                    102955.360000\n",
       "19.0                     96668.247423\n",
       "18.0                     95225.381944\n",
       "17.0                     97574.116576\n",
       "16.0                    101058.407407\n",
       "15.0                    105131.545894\n",
       "14.0                    104264.517119\n",
       "13.0                    108353.873673\n",
       "12.0                    108561.504826\n",
       "11.0                    108776.655451\n",
       "10.0                    115528.127310\n",
       "9.0                     116696.856777\n",
       "8.0                     128196.087500\n",
       "7.0                     156947.650376\n",
       "6.0                     149351.330667\n",
       "5.0                     139883.320138\n",
       "4.0                     132179.505519\n",
       "3.0                     119409.589958\n",
       "2.0                     161431.867580\n",
       "1.0                     184316.059259\n",
       "0.0                     192787.111111"
      ]
     },
     "execution_count": 60,
     "metadata": {},
     "output_type": "execute_result"
    }
   ],
   "source": [
    "spb = data.query('locality_name == \"Санкт-Петербург\"')\n",
    "spb.pivot_table(index='cityCenters_nearest_km', values='price_for_m2').sort_values(by='cityCenters_nearest_km', ascending=False)"
   ]
  },
  {
   "cell_type": "markdown",
   "metadata": {},
   "source": [
    "Можно увидеть что чем ближе к центру, тем выше цена квадратного метра. Есть несколько выбивающихся значений, связанных с очень большими и дорогими квартирами."
   ]
  },
  {
   "cell_type": "markdown",
   "metadata": {},
   "source": [
    "Строим линейную и столбчатую диаграммы:"
   ]
  },
  {
   "cell_type": "code",
   "execution_count": 61,
   "metadata": {
    "scrolled": false
   },
   "outputs": [
    {
     "data": {
      "image/png": "[encoded data removed]",
      "text/plain": [
       "<Figure size 432x288 with 1 Axes>"
      ]
     },
     "metadata": {
      "needs_background": "light"
     },
     "output_type": "display_data"
    },
    {
     "data": {
      "image/png": "[encoded data removed]",
      "text/plain": [
       "<Figure size 432x288 with 1 Axes>"
      ]
     },
     "metadata": {
      "needs_background": "light"
     },
     "output_type": "display_data"
    }
   ],
   "source": [
    "spb.pivot_table(index='cityCenters_nearest_km', values='price_for_m2').plot(ylabel='price for m2', xlabel='km to center');\n",
    "spb.pivot_table(index='cityCenters_nearest_km', values='price_for_m2').plot(kind='bar',ylabel='price for m2', xlabel='km to center');"
   ]
  },
  {
   "cell_type": "markdown",
   "metadata": {},
   "source": [
    "### Общий вывод"
   ]
  },
  {
   "cell_type": "markdown",
   "metadata": {},
   "source": [
    "1. Основная масса продаваемых квартир 1-2-3 комнатных, с площадью около 50 метров, жилой площадью 25-30 метров, размером кухни до 10 метров, стоимостью 3-5 миллионов рублей, с высотой потолков 2.5-2.7 метра.\n",
    "2. Основная масса квартир продается за 40-60 дней. Продажи до 52 дней можно считать быстрыми, а продажи более 155 дней можно считать долгими. В среднем квартира продается 103 дня.\n",
    "3. Цена в большей мере зависит от общей и жилой площади, в меньшей от размера кухни и этажа на котором расположенна, хотя квартиры на первом этаже дешевле остальных. От даты размещения объявления цена не зависит.\n",
    "4. Наибольшее число объявлений дают в Санкт-Петербурге, в топ-10 так же входят Всеволожск, Пушкин, Мурино, поселок Шушары, Колпино, Гатчина, Петергоф, поселок Парголово, Сестрорецк. Их них самая высокая стоимость квадратного метра в Санкт-Петербурге и равна 115730 рублей, самая низкая в Всеволожске и раввна 67434 рублей.\n",
    "5. Можно отметить что, чем ближе расстояние до центра Санкт-Петербурга, тем выше стоимость квадратного метра."
   ]
  }
 ],
 "metadata": {
  "ExecuteTimeLog": [
   {
    "duration": 550,
    "start_time": "2022-11-24T12:00:02.948Z"
   },
   {
    "duration": 17,
    "start_time": "2022-11-24T12:02:27.973Z"
   },
   {
    "duration": 101,
    "start_time": "2022-11-24T12:05:03.614Z"
   },
   {
    "duration": 39,
    "start_time": "2022-11-24T12:05:05.955Z"
   },
   {
    "duration": 44,
    "start_time": "2022-11-24T12:06:41.901Z"
   },
   {
    "duration": 15,
    "start_time": "2022-11-24T12:08:38.493Z"
   },
   {
    "duration": 2552,
    "start_time": "2022-11-24T12:15:18.566Z"
   },
   {
    "duration": 10,
    "start_time": "2022-11-24T12:33:05.155Z"
   },
   {
    "duration": 63,
    "start_time": "2022-11-24T12:42:08.411Z"
   },
   {
    "duration": 69,
    "start_time": "2022-11-24T12:43:02.188Z"
   },
   {
    "duration": 4,
    "start_time": "2022-11-24T13:28:10.315Z"
   },
   {
    "duration": 16,
    "start_time": "2022-11-24T13:28:25.584Z"
   },
   {
    "duration": 41,
    "start_time": "2022-11-24T13:29:01.879Z"
   },
   {
    "duration": 38,
    "start_time": "2022-11-24T13:29:21.247Z"
   },
   {
    "duration": 52,
    "start_time": "2022-11-24T13:30:05.825Z"
   },
   {
    "duration": 37,
    "start_time": "2022-11-24T13:30:12.855Z"
   },
   {
    "duration": 38,
    "start_time": "2022-11-24T13:30:18.624Z"
   },
   {
    "duration": 488,
    "start_time": "2022-11-24T13:30:34.461Z"
   },
   {
    "duration": 45,
    "start_time": "2022-11-24T13:30:34.951Z"
   },
   {
    "duration": 15,
    "start_time": "2022-11-24T13:30:34.998Z"
   },
   {
    "duration": 2195,
    "start_time": "2022-11-24T13:30:35.015Z"
   },
   {
    "duration": 9,
    "start_time": "2022-11-24T13:30:37.212Z"
   },
   {
    "duration": 46,
    "start_time": "2022-11-24T13:30:37.223Z"
   },
   {
    "duration": 37,
    "start_time": "2022-11-24T13:33:49.676Z"
   },
   {
    "duration": 40,
    "start_time": "2022-11-24T13:34:17.669Z"
   },
   {
    "duration": 40,
    "start_time": "2022-11-24T13:35:35.370Z"
   },
   {
    "duration": 39,
    "start_time": "2022-11-24T13:35:49.611Z"
   },
   {
    "duration": 35,
    "start_time": "2022-11-24T13:35:54.594Z"
   },
   {
    "duration": 36,
    "start_time": "2022-11-24T13:36:10.843Z"
   },
   {
    "duration": 41,
    "start_time": "2022-11-24T13:36:27.878Z"
   },
   {
    "duration": 38,
    "start_time": "2022-11-24T13:36:36.436Z"
   },
   {
    "duration": 40,
    "start_time": "2022-11-24T13:36:42.084Z"
   },
   {
    "duration": 40,
    "start_time": "2022-11-24T13:36:47.040Z"
   },
   {
    "duration": 40,
    "start_time": "2022-11-24T13:36:52.217Z"
   },
   {
    "duration": 40,
    "start_time": "2022-11-24T13:37:19.950Z"
   },
   {
    "duration": 73,
    "start_time": "2022-11-24T13:39:24.160Z"
   },
   {
    "duration": 43,
    "start_time": "2022-11-24T13:39:40.902Z"
   },
   {
    "duration": 31,
    "start_time": "2022-11-24T13:39:56.741Z"
   },
   {
    "duration": 30,
    "start_time": "2022-11-24T13:40:13.730Z"
   },
   {
    "duration": 31,
    "start_time": "2022-11-24T13:40:20.333Z"
   },
   {
    "duration": 526,
    "start_time": "2022-11-24T13:40:29.612Z"
   },
   {
    "duration": 42,
    "start_time": "2022-11-24T13:40:30.140Z"
   },
   {
    "duration": 13,
    "start_time": "2022-11-24T13:40:30.184Z"
   },
   {
    "duration": 2423,
    "start_time": "2022-11-24T13:40:30.199Z"
   },
   {
    "duration": 10,
    "start_time": "2022-11-24T13:40:32.624Z"
   },
   {
    "duration": 32,
    "start_time": "2022-11-24T13:40:32.636Z"
   },
   {
    "duration": 11,
    "start_time": "2022-11-24T13:41:12.385Z"
   },
   {
    "duration": 32,
    "start_time": "2022-11-24T13:41:40.391Z"
   },
   {
    "duration": 441,
    "start_time": "2022-11-24T13:42:03.191Z"
   },
   {
    "duration": 46,
    "start_time": "2022-11-24T13:42:03.634Z"
   },
   {
    "duration": 16,
    "start_time": "2022-11-24T13:42:03.682Z"
   },
   {
    "duration": 2241,
    "start_time": "2022-11-24T13:42:03.701Z"
   },
   {
    "duration": 15,
    "start_time": "2022-11-24T13:42:05.945Z"
   },
   {
    "duration": 35,
    "start_time": "2022-11-24T13:42:05.961Z"
   },
   {
    "duration": 501,
    "start_time": "2022-11-24T13:42:53.837Z"
   },
   {
    "duration": 40,
    "start_time": "2022-11-24T13:42:54.340Z"
   },
   {
    "duration": 13,
    "start_time": "2022-11-24T13:42:54.381Z"
   },
   {
    "duration": 2102,
    "start_time": "2022-11-24T13:42:54.396Z"
   },
   {
    "duration": 9,
    "start_time": "2022-11-24T13:42:56.499Z"
   },
   {
    "duration": 32,
    "start_time": "2022-11-24T13:42:56.510Z"
   },
   {
    "duration": 5,
    "start_time": "2022-11-24T13:44:31.932Z"
   },
   {
    "duration": 5,
    "start_time": "2022-11-24T13:46:03.467Z"
   },
   {
    "duration": 5,
    "start_time": "2022-11-24T13:46:08.422Z"
   },
   {
    "duration": 6,
    "start_time": "2022-11-24T13:53:09.949Z"
   },
   {
    "duration": 28,
    "start_time": "2022-11-24T13:53:25.579Z"
   },
   {
    "duration": 25,
    "start_time": "2022-11-24T13:53:41.262Z"
   },
   {
    "duration": 25,
    "start_time": "2022-11-24T13:57:42.159Z"
   },
   {
    "duration": 499,
    "start_time": "2022-11-24T13:57:53.847Z"
   },
   {
    "duration": 44,
    "start_time": "2022-11-24T13:57:54.348Z"
   },
   {
    "duration": 16,
    "start_time": "2022-11-24T13:57:54.393Z"
   },
   {
    "duration": 2160,
    "start_time": "2022-11-24T13:57:54.410Z"
   },
   {
    "duration": 9,
    "start_time": "2022-11-24T13:57:56.572Z"
   },
   {
    "duration": 25,
    "start_time": "2022-11-24T13:57:56.583Z"
   },
   {
    "duration": 452,
    "start_time": "2022-11-24T13:58:26.297Z"
   },
   {
    "duration": 42,
    "start_time": "2022-11-24T13:58:26.750Z"
   },
   {
    "duration": 14,
    "start_time": "2022-11-24T13:58:26.794Z"
   },
   {
    "duration": 2292,
    "start_time": "2022-11-24T13:58:26.810Z"
   },
   {
    "duration": 9,
    "start_time": "2022-11-24T13:58:29.105Z"
   },
   {
    "duration": 28,
    "start_time": "2022-11-24T13:58:29.116Z"
   },
   {
    "duration": 505,
    "start_time": "2022-11-24T13:58:53.359Z"
   },
   {
    "duration": 47,
    "start_time": "2022-11-24T13:58:53.867Z"
   },
   {
    "duration": 28,
    "start_time": "2022-11-24T13:58:53.915Z"
   },
   {
    "duration": 2165,
    "start_time": "2022-11-24T13:58:53.945Z"
   },
   {
    "duration": 9,
    "start_time": "2022-11-24T13:58:56.112Z"
   },
   {
    "duration": 26,
    "start_time": "2022-11-24T13:58:56.122Z"
   },
   {
    "duration": 9,
    "start_time": "2022-11-24T13:59:45.465Z"
   },
   {
    "duration": 18,
    "start_time": "2022-11-24T14:00:28.595Z"
   },
   {
    "duration": 12,
    "start_time": "2022-11-24T14:00:31.716Z"
   },
   {
    "duration": 16,
    "start_time": "2022-11-24T14:00:51.767Z"
   },
   {
    "duration": 8,
    "start_time": "2022-11-24T14:05:30.960Z"
   },
   {
    "duration": 4,
    "start_time": "2022-11-24T14:06:53.924Z"
   },
   {
    "duration": 5,
    "start_time": "2022-11-24T14:07:08.526Z"
   },
   {
    "duration": 8,
    "start_time": "2022-11-24T14:26:20.631Z"
   },
   {
    "duration": 16,
    "start_time": "2022-11-24T14:51:50.317Z"
   },
   {
    "duration": 16,
    "start_time": "2022-11-24T14:52:24.718Z"
   },
   {
    "duration": 16,
    "start_time": "2022-11-24T14:54:33.047Z"
   },
   {
    "duration": 16,
    "start_time": "2022-11-24T14:55:00.393Z"
   },
   {
    "duration": 4,
    "start_time": "2022-11-24T15:45:23.749Z"
   },
   {
    "duration": 10,
    "start_time": "2022-11-24T15:45:42.233Z"
   },
   {
    "duration": 11,
    "start_time": "2022-11-24T15:49:34.077Z"
   },
   {
    "duration": 484,
    "start_time": "2022-11-24T15:49:53.155Z"
   },
   {
    "duration": 45,
    "start_time": "2022-11-24T15:49:53.641Z"
   },
   {
    "duration": 15,
    "start_time": "2022-11-24T15:49:53.688Z"
   },
   {
    "duration": 2209,
    "start_time": "2022-11-24T15:49:53.705Z"
   },
   {
    "duration": 9,
    "start_time": "2022-11-24T15:49:55.916Z"
   },
   {
    "duration": 7,
    "start_time": "2022-11-24T15:49:55.927Z"
   },
   {
    "duration": 15,
    "start_time": "2022-11-24T15:49:55.935Z"
   },
   {
    "duration": 7,
    "start_time": "2022-11-24T15:49:55.952Z"
   },
   {
    "duration": 18,
    "start_time": "2022-11-24T15:49:55.962Z"
   },
   {
    "duration": 28,
    "start_time": "2022-11-24T15:53:14.068Z"
   },
   {
    "duration": 4,
    "start_time": "2022-11-24T16:01:40.524Z"
   },
   {
    "duration": 5,
    "start_time": "2022-11-24T16:02:56.102Z"
   },
   {
    "duration": 5,
    "start_time": "2022-11-24T16:03:00.357Z"
   },
   {
    "duration": 73,
    "start_time": "2022-11-24T16:12:34.161Z"
   },
   {
    "duration": 16,
    "start_time": "2022-11-24T16:30:48.522Z"
   },
   {
    "duration": 90,
    "start_time": "2022-11-24T16:32:23.226Z"
   },
   {
    "duration": 712,
    "start_time": "2022-11-24T16:36:12.083Z"
   },
   {
    "duration": 607,
    "start_time": "2022-11-24T16:36:47.105Z"
   },
   {
    "duration": 10,
    "start_time": "2022-11-24T16:41:10.646Z"
   },
   {
    "duration": 8,
    "start_time": "2022-11-24T16:42:15.609Z"
   },
   {
    "duration": 22,
    "start_time": "2022-11-24T16:42:25.140Z"
   },
   {
    "duration": 10,
    "start_time": "2022-11-24T16:44:58.069Z"
   },
   {
    "duration": 11,
    "start_time": "2022-11-24T16:45:08.136Z"
   },
   {
    "duration": 11,
    "start_time": "2022-11-24T16:45:14.798Z"
   },
   {
    "duration": 16,
    "start_time": "2022-11-24T16:47:15.080Z"
   },
   {
    "duration": 81,
    "start_time": "2022-11-24T16:50:49.909Z"
   },
   {
    "duration": 4,
    "start_time": "2022-11-24T16:53:37.424Z"
   },
   {
    "duration": 27,
    "start_time": "2022-11-24T16:53:53.749Z"
   },
   {
    "duration": 27,
    "start_time": "2022-11-24T16:53:59.157Z"
   },
   {
    "duration": 33,
    "start_time": "2022-11-24T16:54:16.060Z"
   },
   {
    "duration": 4,
    "start_time": "2022-11-24T16:59:26.453Z"
   },
   {
    "duration": 450,
    "start_time": "2022-11-24T16:59:54.276Z"
   },
   {
    "duration": 40,
    "start_time": "2022-11-24T16:59:54.728Z"
   },
   {
    "duration": 14,
    "start_time": "2022-11-24T16:59:54.770Z"
   },
   {
    "duration": 2124,
    "start_time": "2022-11-24T16:59:54.786Z"
   },
   {
    "duration": 10,
    "start_time": "2022-11-24T16:59:56.911Z"
   },
   {
    "duration": 8,
    "start_time": "2022-11-24T16:59:56.922Z"
   },
   {
    "duration": 6,
    "start_time": "2022-11-24T16:59:56.932Z"
   },
   {
    "duration": 6,
    "start_time": "2022-11-24T16:59:56.940Z"
   },
   {
    "duration": 7,
    "start_time": "2022-11-24T16:59:56.947Z"
   },
   {
    "duration": 5,
    "start_time": "2022-11-24T16:59:56.956Z"
   },
   {
    "duration": 15,
    "start_time": "2022-11-24T16:59:56.962Z"
   },
   {
    "duration": 7,
    "start_time": "2022-11-24T16:59:56.978Z"
   },
   {
    "duration": 7,
    "start_time": "2022-11-24T16:59:56.986Z"
   },
   {
    "duration": 455,
    "start_time": "2022-11-24T17:01:01.075Z"
   },
   {
    "duration": 46,
    "start_time": "2022-11-24T17:01:01.532Z"
   },
   {
    "duration": 15,
    "start_time": "2022-11-24T17:01:01.579Z"
   },
   {
    "duration": 2082,
    "start_time": "2022-11-24T17:01:01.596Z"
   },
   {
    "duration": 10,
    "start_time": "2022-11-24T17:01:03.680Z"
   },
   {
    "duration": 7,
    "start_time": "2022-11-24T17:01:03.692Z"
   },
   {
    "duration": 6,
    "start_time": "2022-11-24T17:01:03.700Z"
   },
   {
    "duration": 7,
    "start_time": "2022-11-24T17:01:03.708Z"
   },
   {
    "duration": 21,
    "start_time": "2022-11-24T17:01:03.716Z"
   },
   {
    "duration": 4,
    "start_time": "2022-11-24T17:01:03.740Z"
   },
   {
    "duration": 19,
    "start_time": "2022-11-24T17:01:03.746Z"
   },
   {
    "duration": 8,
    "start_time": "2022-11-24T17:01:03.767Z"
   },
   {
    "duration": 7,
    "start_time": "2022-11-24T17:01:03.776Z"
   },
   {
    "duration": 5,
    "start_time": "2022-11-24T17:14:41.265Z"
   },
   {
    "duration": 7,
    "start_time": "2022-11-24T17:15:27.687Z"
   },
   {
    "duration": 22,
    "start_time": "2022-11-24T17:33:38.824Z"
   },
   {
    "duration": 39,
    "start_time": "2022-11-24T18:04:44.959Z"
   },
   {
    "duration": 39,
    "start_time": "2022-11-24T18:05:09.091Z"
   },
   {
    "duration": 42,
    "start_time": "2022-11-24T18:05:32.787Z"
   },
   {
    "duration": 25,
    "start_time": "2022-11-24T18:05:47.519Z"
   },
   {
    "duration": 21,
    "start_time": "2022-11-24T18:05:53.524Z"
   },
   {
    "duration": 111,
    "start_time": "2022-11-24T18:14:08.811Z"
   },
   {
    "duration": 21,
    "start_time": "2022-11-24T18:14:14.759Z"
   },
   {
    "duration": 27,
    "start_time": "2022-11-24T18:14:18.983Z"
   },
   {
    "duration": 21,
    "start_time": "2022-11-24T18:14:30.660Z"
   },
   {
    "duration": 21,
    "start_time": "2022-11-24T18:15:35.054Z"
   },
   {
    "duration": 15,
    "start_time": "2022-11-24T18:57:48.720Z"
   },
   {
    "duration": 43,
    "start_time": "2022-11-24T18:58:00.580Z"
   },
   {
    "duration": 15,
    "start_time": "2022-11-24T19:38:52.825Z"
   },
   {
    "duration": 22,
    "start_time": "2022-11-24T19:45:23.030Z"
   },
   {
    "duration": 21,
    "start_time": "2022-11-24T19:45:27.925Z"
   },
   {
    "duration": 4,
    "start_time": "2022-11-24T19:46:34.897Z"
   },
   {
    "duration": 19,
    "start_time": "2022-11-24T19:46:39.826Z"
   },
   {
    "duration": 18148,
    "start_time": "2022-11-24T19:49:30.271Z"
   },
   {
    "duration": 535,
    "start_time": "2022-11-25T09:22:46.612Z"
   },
   {
    "duration": 49,
    "start_time": "2022-11-25T09:22:47.149Z"
   },
   {
    "duration": 16,
    "start_time": "2022-11-25T09:22:47.199Z"
   },
   {
    "duration": 2529,
    "start_time": "2022-11-25T09:22:47.218Z"
   },
   {
    "duration": 10,
    "start_time": "2022-11-25T09:22:49.749Z"
   },
   {
    "duration": 9,
    "start_time": "2022-11-25T09:22:49.760Z"
   },
   {
    "duration": 14,
    "start_time": "2022-11-25T09:22:49.770Z"
   },
   {
    "duration": 10,
    "start_time": "2022-11-25T09:22:49.785Z"
   },
   {
    "duration": 12,
    "start_time": "2022-11-25T09:22:49.797Z"
   },
   {
    "duration": 5,
    "start_time": "2022-11-25T09:22:49.812Z"
   },
   {
    "duration": 38,
    "start_time": "2022-11-25T09:22:49.819Z"
   },
   {
    "duration": 11,
    "start_time": "2022-11-25T09:22:49.859Z"
   },
   {
    "duration": 37,
    "start_time": "2022-11-25T09:22:49.872Z"
   },
   {
    "duration": 2869,
    "start_time": "2022-11-25T09:22:49.911Z"
   },
   {
    "duration": 4725,
    "start_time": "2022-11-25T09:27:06.836Z"
   },
   {
    "duration": 5,
    "start_time": "2022-11-25T09:34:43.513Z"
   },
   {
    "duration": 24,
    "start_time": "2022-11-25T09:34:57.846Z"
   },
   {
    "duration": 484,
    "start_time": "2022-11-25T09:35:27.525Z"
   },
   {
    "duration": 62,
    "start_time": "2022-11-25T09:35:28.011Z"
   },
   {
    "duration": 15,
    "start_time": "2022-11-25T09:35:28.075Z"
   },
   {
    "duration": 2327,
    "start_time": "2022-11-25T09:35:28.092Z"
   },
   {
    "duration": 9,
    "start_time": "2022-11-25T09:35:30.421Z"
   },
   {
    "duration": 24,
    "start_time": "2022-11-25T09:35:30.431Z"
   },
   {
    "duration": 44,
    "start_time": "2022-11-25T09:35:30.460Z"
   },
   {
    "duration": 45,
    "start_time": "2022-11-25T09:35:30.506Z"
   },
   {
    "duration": 43,
    "start_time": "2022-11-25T09:35:30.553Z"
   },
   {
    "duration": 24,
    "start_time": "2022-11-25T09:35:30.599Z"
   },
   {
    "duration": 56,
    "start_time": "2022-11-25T09:35:30.625Z"
   },
   {
    "duration": 17,
    "start_time": "2022-11-25T09:35:30.683Z"
   },
   {
    "duration": 44,
    "start_time": "2022-11-25T09:35:30.702Z"
   },
   {
    "duration": 39,
    "start_time": "2022-11-25T09:35:30.748Z"
   },
   {
    "duration": 36,
    "start_time": "2022-11-25T09:36:37.114Z"
   },
   {
    "duration": 48,
    "start_time": "2022-11-25T09:37:40.666Z"
   },
   {
    "duration": 25,
    "start_time": "2022-11-25T09:46:32.832Z"
   },
   {
    "duration": 18,
    "start_time": "2022-11-25T09:48:21.664Z"
   },
   {
    "duration": 42,
    "start_time": "2022-11-25T09:52:45.403Z"
   },
   {
    "duration": 36,
    "start_time": "2022-11-25T09:53:18.381Z"
   },
   {
    "duration": 108,
    "start_time": "2022-11-25T09:56:18.102Z"
   },
   {
    "duration": 37,
    "start_time": "2022-11-25T09:57:29.320Z"
   },
   {
    "duration": 15,
    "start_time": "2022-11-25T09:57:36.601Z"
   },
   {
    "duration": 17,
    "start_time": "2022-11-25T09:57:44.337Z"
   },
   {
    "duration": 493,
    "start_time": "2022-11-25T09:58:02.936Z"
   },
   {
    "duration": 41,
    "start_time": "2022-11-25T09:58:03.431Z"
   },
   {
    "duration": 14,
    "start_time": "2022-11-25T09:58:03.474Z"
   },
   {
    "duration": 2105,
    "start_time": "2022-11-25T09:58:03.490Z"
   },
   {
    "duration": 9,
    "start_time": "2022-11-25T09:58:05.597Z"
   },
   {
    "duration": 10,
    "start_time": "2022-11-25T09:58:05.607Z"
   },
   {
    "duration": 7,
    "start_time": "2022-11-25T09:58:05.618Z"
   },
   {
    "duration": 13,
    "start_time": "2022-11-25T09:58:05.626Z"
   },
   {
    "duration": 20,
    "start_time": "2022-11-25T09:58:05.640Z"
   },
   {
    "duration": 10,
    "start_time": "2022-11-25T09:58:05.663Z"
   },
   {
    "duration": 22,
    "start_time": "2022-11-25T09:58:05.675Z"
   },
   {
    "duration": 16,
    "start_time": "2022-11-25T09:58:05.699Z"
   },
   {
    "duration": 40,
    "start_time": "2022-11-25T09:58:05.717Z"
   },
   {
    "duration": 15,
    "start_time": "2022-11-25T09:58:05.759Z"
   },
   {
    "duration": 15,
    "start_time": "2022-11-25T09:59:37.493Z"
   },
   {
    "duration": 15,
    "start_time": "2022-11-25T09:59:58.789Z"
   },
   {
    "duration": 62,
    "start_time": "2022-11-25T10:03:56.675Z"
   },
   {
    "duration": 36,
    "start_time": "2022-11-25T10:04:12.046Z"
   },
   {
    "duration": 474,
    "start_time": "2022-11-25T10:04:22.971Z"
   },
   {
    "duration": 49,
    "start_time": "2022-11-25T10:04:23.447Z"
   },
   {
    "duration": 15,
    "start_time": "2022-11-25T10:04:23.497Z"
   },
   {
    "duration": 2178,
    "start_time": "2022-11-25T10:04:23.514Z"
   },
   {
    "duration": 9,
    "start_time": "2022-11-25T10:04:25.693Z"
   },
   {
    "duration": 13,
    "start_time": "2022-11-25T10:04:25.704Z"
   },
   {
    "duration": 5,
    "start_time": "2022-11-25T10:04:25.719Z"
   },
   {
    "duration": 9,
    "start_time": "2022-11-25T10:04:25.725Z"
   },
   {
    "duration": 12,
    "start_time": "2022-11-25T10:04:25.736Z"
   },
   {
    "duration": 5,
    "start_time": "2022-11-25T10:04:25.751Z"
   },
   {
    "duration": 16,
    "start_time": "2022-11-25T10:04:25.757Z"
   },
   {
    "duration": 8,
    "start_time": "2022-11-25T10:04:25.774Z"
   },
   {
    "duration": 30,
    "start_time": "2022-11-25T10:04:25.784Z"
   },
   {
    "duration": 38,
    "start_time": "2022-11-25T10:04:25.816Z"
   },
   {
    "duration": 52,
    "start_time": "2022-11-25T10:04:25.856Z"
   },
   {
    "duration": 68,
    "start_time": "2022-11-25T10:04:41.904Z"
   },
   {
    "duration": 2,
    "start_time": "2022-11-25T10:24:14.819Z"
   },
   {
    "duration": 2,
    "start_time": "2022-11-25T10:24:18.992Z"
   },
   {
    "duration": 11,
    "start_time": "2022-11-25T10:27:26.518Z"
   },
   {
    "duration": 10,
    "start_time": "2022-11-25T10:31:01.114Z"
   },
   {
    "duration": 73,
    "start_time": "2022-11-25T11:02:42.761Z"
   },
   {
    "duration": 72,
    "start_time": "2022-11-25T11:06:55.117Z"
   },
   {
    "duration": 77,
    "start_time": "2022-11-25T11:07:53.489Z"
   },
   {
    "duration": 3,
    "start_time": "2022-11-25T11:08:05.815Z"
   },
   {
    "duration": 12,
    "start_time": "2022-11-25T11:08:08.310Z"
   },
   {
    "duration": 16,
    "start_time": "2022-11-25T11:08:19.657Z"
   },
   {
    "duration": 28,
    "start_time": "2022-11-25T11:08:32.555Z"
   },
   {
    "duration": 21,
    "start_time": "2022-11-25T11:09:08.331Z"
   },
   {
    "duration": 470,
    "start_time": "2022-11-25T11:09:36.092Z"
   },
   {
    "duration": 53,
    "start_time": "2022-11-25T11:09:36.564Z"
   },
   {
    "duration": 33,
    "start_time": "2022-11-25T11:09:36.619Z"
   },
   {
    "duration": 2180,
    "start_time": "2022-11-25T11:09:36.655Z"
   },
   {
    "duration": 9,
    "start_time": "2022-11-25T11:09:38.836Z"
   },
   {
    "duration": 34,
    "start_time": "2022-11-25T11:09:38.847Z"
   },
   {
    "duration": 25,
    "start_time": "2022-11-25T11:09:38.882Z"
   },
   {
    "duration": 25,
    "start_time": "2022-11-25T11:09:38.909Z"
   },
   {
    "duration": 36,
    "start_time": "2022-11-25T11:09:38.936Z"
   },
   {
    "duration": 33,
    "start_time": "2022-11-25T11:09:38.974Z"
   },
   {
    "duration": 50,
    "start_time": "2022-11-25T11:09:39.009Z"
   },
   {
    "duration": 22,
    "start_time": "2022-11-25T11:09:39.061Z"
   },
   {
    "duration": 49,
    "start_time": "2022-11-25T11:09:39.086Z"
   },
   {
    "duration": 17,
    "start_time": "2022-11-25T11:09:39.137Z"
   },
   {
    "duration": 128,
    "start_time": "2022-11-25T11:09:39.155Z"
   },
   {
    "duration": 8,
    "start_time": "2022-11-25T11:09:39.285Z"
   },
   {
    "duration": 47,
    "start_time": "2022-11-25T11:09:39.294Z"
   },
   {
    "duration": 12,
    "start_time": "2022-11-25T11:10:22.419Z"
   },
   {
    "duration": 21,
    "start_time": "2022-11-25T11:10:27.728Z"
   },
   {
    "duration": 19,
    "start_time": "2022-11-25T11:10:40.326Z"
   },
   {
    "duration": 19,
    "start_time": "2022-11-25T11:11:04.466Z"
   },
   {
    "duration": 20,
    "start_time": "2022-11-25T11:11:06.562Z"
   },
   {
    "duration": 19,
    "start_time": "2022-11-25T11:11:22.658Z"
   },
   {
    "duration": 28,
    "start_time": "2022-11-25T11:11:52.507Z"
   },
   {
    "duration": 29,
    "start_time": "2022-11-25T11:12:10.278Z"
   },
   {
    "duration": 6,
    "start_time": "2022-11-25T11:12:18.025Z"
   },
   {
    "duration": 472,
    "start_time": "2022-11-25T11:12:26.076Z"
   },
   {
    "duration": 47,
    "start_time": "2022-11-25T11:12:26.550Z"
   },
   {
    "duration": 16,
    "start_time": "2022-11-25T11:12:26.599Z"
   },
   {
    "duration": 2285,
    "start_time": "2022-11-25T11:12:26.618Z"
   },
   {
    "duration": 12,
    "start_time": "2022-11-25T11:12:28.905Z"
   },
   {
    "duration": 39,
    "start_time": "2022-11-25T11:12:28.919Z"
   },
   {
    "duration": 46,
    "start_time": "2022-11-25T11:12:28.960Z"
   },
   {
    "duration": 30,
    "start_time": "2022-11-25T11:12:29.008Z"
   },
   {
    "duration": 28,
    "start_time": "2022-11-25T11:12:29.040Z"
   },
   {
    "duration": 14,
    "start_time": "2022-11-25T11:12:29.071Z"
   },
   {
    "duration": 43,
    "start_time": "2022-11-25T11:12:29.087Z"
   },
   {
    "duration": 26,
    "start_time": "2022-11-25T11:12:29.132Z"
   },
   {
    "duration": 67,
    "start_time": "2022-11-25T11:12:29.160Z"
   },
   {
    "duration": 25,
    "start_time": "2022-11-25T11:12:29.229Z"
   },
   {
    "duration": 60,
    "start_time": "2022-11-25T11:12:29.256Z"
   },
   {
    "duration": 8,
    "start_time": "2022-11-25T11:12:29.318Z"
   },
   {
    "duration": 26,
    "start_time": "2022-11-25T11:12:29.327Z"
   },
   {
    "duration": 5,
    "start_time": "2022-11-25T11:14:37.560Z"
   },
   {
    "duration": 11,
    "start_time": "2022-11-25T11:14:42.155Z"
   },
   {
    "duration": 13,
    "start_time": "2022-11-25T11:16:18.841Z"
   },
   {
    "duration": 495,
    "start_time": "2022-11-25T11:16:29.972Z"
   },
   {
    "duration": 48,
    "start_time": "2022-11-25T11:16:30.469Z"
   },
   {
    "duration": 16,
    "start_time": "2022-11-25T11:16:30.518Z"
   },
   {
    "duration": 2311,
    "start_time": "2022-11-25T11:16:30.536Z"
   },
   {
    "duration": 9,
    "start_time": "2022-11-25T11:16:32.849Z"
   },
   {
    "duration": 36,
    "start_time": "2022-11-25T11:16:32.859Z"
   },
   {
    "duration": 42,
    "start_time": "2022-11-25T11:16:32.897Z"
   },
   {
    "duration": 41,
    "start_time": "2022-11-25T11:16:32.941Z"
   },
   {
    "duration": 21,
    "start_time": "2022-11-25T11:16:32.984Z"
   },
   {
    "duration": 30,
    "start_time": "2022-11-25T11:16:33.007Z"
   },
   {
    "duration": 27,
    "start_time": "2022-11-25T11:16:33.039Z"
   },
   {
    "duration": 33,
    "start_time": "2022-11-25T11:16:33.068Z"
   },
   {
    "duration": 54,
    "start_time": "2022-11-25T11:16:33.103Z"
   },
   {
    "duration": 36,
    "start_time": "2022-11-25T11:16:33.158Z"
   },
   {
    "duration": 60,
    "start_time": "2022-11-25T11:16:33.196Z"
   },
   {
    "duration": 7,
    "start_time": "2022-11-25T11:16:33.257Z"
   },
   {
    "duration": 43,
    "start_time": "2022-11-25T11:16:33.266Z"
   },
   {
    "duration": 18,
    "start_time": "2022-11-25T11:18:32.614Z"
   },
   {
    "duration": 12,
    "start_time": "2022-11-25T11:18:45.109Z"
   },
   {
    "duration": 503,
    "start_time": "2022-11-25T11:19:01.469Z"
   },
   {
    "duration": 44,
    "start_time": "2022-11-25T11:19:01.974Z"
   },
   {
    "duration": 34,
    "start_time": "2022-11-25T11:19:02.020Z"
   },
   {
    "duration": 2299,
    "start_time": "2022-11-25T11:19:02.056Z"
   },
   {
    "duration": 12,
    "start_time": "2022-11-25T11:19:04.357Z"
   },
   {
    "duration": 25,
    "start_time": "2022-11-25T11:19:04.371Z"
   },
   {
    "duration": 31,
    "start_time": "2022-11-25T11:19:04.398Z"
   },
   {
    "duration": 58,
    "start_time": "2022-11-25T11:19:04.431Z"
   },
   {
    "duration": 42,
    "start_time": "2022-11-25T11:19:04.491Z"
   },
   {
    "duration": 35,
    "start_time": "2022-11-25T11:19:04.536Z"
   },
   {
    "duration": 57,
    "start_time": "2022-11-25T11:19:04.573Z"
   },
   {
    "duration": 53,
    "start_time": "2022-11-25T11:19:04.632Z"
   },
   {
    "duration": 68,
    "start_time": "2022-11-25T11:19:04.687Z"
   },
   {
    "duration": 59,
    "start_time": "2022-11-25T11:19:04.757Z"
   },
   {
    "duration": 85,
    "start_time": "2022-11-25T11:19:04.818Z"
   },
   {
    "duration": 12,
    "start_time": "2022-11-25T11:19:04.905Z"
   },
   {
    "duration": 51,
    "start_time": "2022-11-25T11:19:04.924Z"
   },
   {
    "duration": 497,
    "start_time": "2022-11-25T11:20:05.829Z"
   },
   {
    "duration": 42,
    "start_time": "2022-11-25T11:20:06.328Z"
   },
   {
    "duration": 13,
    "start_time": "2022-11-25T11:20:06.372Z"
   },
   {
    "duration": 2255,
    "start_time": "2022-11-25T11:20:06.388Z"
   },
   {
    "duration": 12,
    "start_time": "2022-11-25T11:20:08.645Z"
   },
   {
    "duration": 7,
    "start_time": "2022-11-25T11:20:08.659Z"
   },
   {
    "duration": 7,
    "start_time": "2022-11-25T11:20:08.667Z"
   },
   {
    "duration": 10,
    "start_time": "2022-11-25T11:20:08.675Z"
   },
   {
    "duration": 11,
    "start_time": "2022-11-25T11:20:08.687Z"
   },
   {
    "duration": 5,
    "start_time": "2022-11-25T11:20:08.701Z"
   },
   {
    "duration": 21,
    "start_time": "2022-11-25T11:20:08.708Z"
   },
   {
    "duration": 24,
    "start_time": "2022-11-25T11:20:08.730Z"
   },
   {
    "duration": 29,
    "start_time": "2022-11-25T11:20:08.755Z"
   },
   {
    "duration": 16,
    "start_time": "2022-11-25T11:20:08.786Z"
   },
   {
    "duration": 116,
    "start_time": "2022-11-25T11:20:08.803Z"
   },
   {
    "duration": 10,
    "start_time": "2022-11-25T11:20:08.921Z"
   },
   {
    "duration": 33,
    "start_time": "2022-11-25T11:20:08.933Z"
   },
   {
    "duration": 473,
    "start_time": "2022-11-25T11:22:45.591Z"
   },
   {
    "duration": 42,
    "start_time": "2022-11-25T11:22:46.066Z"
   },
   {
    "duration": 15,
    "start_time": "2022-11-25T11:22:46.110Z"
   },
   {
    "duration": 2212,
    "start_time": "2022-11-25T11:22:46.127Z"
   },
   {
    "duration": 9,
    "start_time": "2022-11-25T11:22:48.341Z"
   },
   {
    "duration": 16,
    "start_time": "2022-11-25T11:22:48.351Z"
   },
   {
    "duration": 24,
    "start_time": "2022-11-25T11:22:48.368Z"
   },
   {
    "duration": 35,
    "start_time": "2022-11-25T11:22:48.393Z"
   },
   {
    "duration": 36,
    "start_time": "2022-11-25T11:22:48.430Z"
   },
   {
    "duration": 36,
    "start_time": "2022-11-25T11:22:48.468Z"
   },
   {
    "duration": 40,
    "start_time": "2022-11-25T11:22:48.506Z"
   },
   {
    "duration": 13,
    "start_time": "2022-11-25T11:22:48.548Z"
   },
   {
    "duration": 48,
    "start_time": "2022-11-25T11:22:48.563Z"
   },
   {
    "duration": 40,
    "start_time": "2022-11-25T11:22:48.612Z"
   },
   {
    "duration": 66,
    "start_time": "2022-11-25T11:22:48.654Z"
   },
   {
    "duration": 8,
    "start_time": "2022-11-25T11:22:48.722Z"
   },
   {
    "duration": 88,
    "start_time": "2022-11-25T11:22:48.731Z"
   },
   {
    "duration": 475,
    "start_time": "2022-11-25T11:23:19.753Z"
   },
   {
    "duration": 39,
    "start_time": "2022-11-25T11:23:20.230Z"
   },
   {
    "duration": 22,
    "start_time": "2022-11-25T11:23:20.270Z"
   },
   {
    "duration": 2021,
    "start_time": "2022-11-25T11:23:20.294Z"
   },
   {
    "duration": 10,
    "start_time": "2022-11-25T11:23:22.317Z"
   },
   {
    "duration": 29,
    "start_time": "2022-11-25T11:23:22.329Z"
   },
   {
    "duration": 19,
    "start_time": "2022-11-25T11:23:22.360Z"
   },
   {
    "duration": 51,
    "start_time": "2022-11-25T11:23:22.381Z"
   },
   {
    "duration": 21,
    "start_time": "2022-11-25T11:23:22.434Z"
   },
   {
    "duration": 43,
    "start_time": "2022-11-25T11:23:22.458Z"
   },
   {
    "duration": 29,
    "start_time": "2022-11-25T11:23:22.502Z"
   },
   {
    "duration": 26,
    "start_time": "2022-11-25T11:23:22.533Z"
   },
   {
    "duration": 49,
    "start_time": "2022-11-25T11:23:22.562Z"
   },
   {
    "duration": 25,
    "start_time": "2022-11-25T11:23:22.613Z"
   },
   {
    "duration": 77,
    "start_time": "2022-11-25T11:23:22.639Z"
   },
   {
    "duration": 7,
    "start_time": "2022-11-25T11:23:22.717Z"
   },
   {
    "duration": 70,
    "start_time": "2022-11-25T11:23:22.725Z"
   },
   {
    "duration": 436,
    "start_time": "2022-11-25T11:25:32.010Z"
   },
   {
    "duration": 55,
    "start_time": "2022-11-25T11:25:32.448Z"
   },
   {
    "duration": 17,
    "start_time": "2022-11-25T11:25:32.504Z"
   },
   {
    "duration": 2159,
    "start_time": "2022-11-25T11:25:32.524Z"
   },
   {
    "duration": 10,
    "start_time": "2022-11-25T11:25:34.685Z"
   },
   {
    "duration": 8,
    "start_time": "2022-11-25T11:25:34.697Z"
   },
   {
    "duration": 7,
    "start_time": "2022-11-25T11:25:34.706Z"
   },
   {
    "duration": 9,
    "start_time": "2022-11-25T11:25:34.715Z"
   },
   {
    "duration": 6,
    "start_time": "2022-11-25T11:25:34.726Z"
   },
   {
    "duration": 5,
    "start_time": "2022-11-25T11:25:34.734Z"
   },
   {
    "duration": 16,
    "start_time": "2022-11-25T11:25:34.740Z"
   },
   {
    "duration": 8,
    "start_time": "2022-11-25T11:25:34.758Z"
   },
   {
    "duration": 28,
    "start_time": "2022-11-25T11:25:34.768Z"
   },
   {
    "duration": 16,
    "start_time": "2022-11-25T11:25:34.798Z"
   },
   {
    "duration": 82,
    "start_time": "2022-11-25T11:25:34.815Z"
   },
   {
    "duration": 7,
    "start_time": "2022-11-25T11:25:34.899Z"
   },
   {
    "duration": 12,
    "start_time": "2022-11-25T11:25:34.908Z"
   },
   {
    "duration": 15,
    "start_time": "2022-11-25T11:26:18.293Z"
   },
   {
    "duration": 76,
    "start_time": "2022-11-25T11:31:26.696Z"
   },
   {
    "duration": 8,
    "start_time": "2022-11-25T11:32:05.515Z"
   },
   {
    "duration": 9,
    "start_time": "2022-11-25T11:32:25.498Z"
   },
   {
    "duration": 284,
    "start_time": "2022-11-25T11:35:04.771Z"
   },
   {
    "duration": 1713,
    "start_time": "2022-11-25T11:36:12.021Z"
   },
   {
    "duration": 7,
    "start_time": "2022-11-25T11:36:17.603Z"
   },
   {
    "duration": 5,
    "start_time": "2022-11-25T11:36:34.536Z"
   },
   {
    "duration": 9,
    "start_time": "2022-11-25T11:36:52.195Z"
   },
   {
    "duration": 8,
    "start_time": "2022-11-25T11:37:16.942Z"
   },
   {
    "duration": 9,
    "start_time": "2022-11-25T11:39:43.006Z"
   },
   {
    "duration": 10,
    "start_time": "2022-11-25T11:40:02.189Z"
   },
   {
    "duration": 18,
    "start_time": "2022-11-25T11:40:26.784Z"
   },
   {
    "duration": 7,
    "start_time": "2022-11-25T11:40:59.416Z"
   },
   {
    "duration": 6,
    "start_time": "2022-11-25T11:41:26.071Z"
   },
   {
    "duration": 13,
    "start_time": "2022-11-25T11:41:41.789Z"
   },
   {
    "duration": 6,
    "start_time": "2022-11-25T11:45:30.434Z"
   },
   {
    "duration": 88,
    "start_time": "2022-11-25T11:46:15.185Z"
   },
   {
    "duration": 8,
    "start_time": "2022-11-25T11:48:39.102Z"
   },
   {
    "duration": 6,
    "start_time": "2022-11-25T11:48:45.995Z"
   },
   {
    "duration": 34,
    "start_time": "2022-11-25T11:51:30.242Z"
   },
   {
    "duration": 12,
    "start_time": "2022-11-25T11:51:56.744Z"
   },
   {
    "duration": 15,
    "start_time": "2022-11-25T11:53:02.958Z"
   },
   {
    "duration": 8,
    "start_time": "2022-11-25T11:54:07.548Z"
   },
   {
    "duration": 13,
    "start_time": "2022-11-25T11:54:11.845Z"
   },
   {
    "duration": 452,
    "start_time": "2022-11-25T11:55:14.887Z"
   },
   {
    "duration": 41,
    "start_time": "2022-11-25T11:55:15.341Z"
   },
   {
    "duration": 14,
    "start_time": "2022-11-25T11:55:15.384Z"
   },
   {
    "duration": 2075,
    "start_time": "2022-11-25T11:55:15.400Z"
   },
   {
    "duration": 9,
    "start_time": "2022-11-25T11:55:17.477Z"
   },
   {
    "duration": 8,
    "start_time": "2022-11-25T11:55:17.487Z"
   },
   {
    "duration": 5,
    "start_time": "2022-11-25T11:55:17.496Z"
   },
   {
    "duration": 8,
    "start_time": "2022-11-25T11:55:17.503Z"
   },
   {
    "duration": 15,
    "start_time": "2022-11-25T11:55:17.512Z"
   },
   {
    "duration": 8,
    "start_time": "2022-11-25T11:55:17.529Z"
   },
   {
    "duration": 18,
    "start_time": "2022-11-25T11:55:17.539Z"
   },
   {
    "duration": 7,
    "start_time": "2022-11-25T11:55:17.559Z"
   },
   {
    "duration": 7,
    "start_time": "2022-11-25T11:55:17.567Z"
   },
   {
    "duration": 18,
    "start_time": "2022-11-25T11:55:17.576Z"
   },
   {
    "duration": 13,
    "start_time": "2022-11-25T11:55:17.595Z"
   },
   {
    "duration": 15,
    "start_time": "2022-11-25T11:55:17.609Z"
   },
   {
    "duration": 76,
    "start_time": "2022-11-25T11:55:17.625Z"
   },
   {
    "duration": 6,
    "start_time": "2022-11-25T11:55:17.703Z"
   },
   {
    "duration": 18,
    "start_time": "2022-11-25T11:55:17.711Z"
   },
   {
    "duration": 22,
    "start_time": "2022-11-25T11:55:17.731Z"
   },
   {
    "duration": 7,
    "start_time": "2022-11-25T11:56:19.201Z"
   },
   {
    "duration": 5,
    "start_time": "2022-11-25T13:57:38.598Z"
   },
   {
    "duration": 6,
    "start_time": "2022-11-25T14:38:18.299Z"
   },
   {
    "duration": 26,
    "start_time": "2022-11-25T14:38:35.252Z"
   },
   {
    "duration": 29,
    "start_time": "2022-11-25T14:40:58.148Z"
   },
   {
    "duration": 72,
    "start_time": "2022-11-25T14:49:17.882Z"
   },
   {
    "duration": 10,
    "start_time": "2022-11-25T14:51:53.719Z"
   },
   {
    "duration": 9,
    "start_time": "2022-11-25T14:52:16.420Z"
   },
   {
    "duration": 30,
    "start_time": "2022-11-25T14:53:34.021Z"
   },
   {
    "duration": 14,
    "start_time": "2022-11-25T14:58:56.689Z"
   },
   {
    "duration": 115,
    "start_time": "2022-11-25T14:59:10.118Z"
   },
   {
    "duration": 114,
    "start_time": "2022-11-25T14:59:37.603Z"
   },
   {
    "duration": 120,
    "start_time": "2022-11-25T14:59:49.338Z"
   },
   {
    "duration": 112,
    "start_time": "2022-11-25T15:01:20.300Z"
   },
   {
    "duration": 34,
    "start_time": "2022-11-25T15:01:32.223Z"
   },
   {
    "duration": 34,
    "start_time": "2022-11-25T15:02:37.344Z"
   },
   {
    "duration": 35,
    "start_time": "2022-11-25T15:02:51.817Z"
   },
   {
    "duration": 13,
    "start_time": "2022-11-25T15:04:00.284Z"
   },
   {
    "duration": 25,
    "start_time": "2022-11-25T15:04:22.157Z"
   },
   {
    "duration": 13,
    "start_time": "2022-11-25T15:04:52.769Z"
   },
   {
    "duration": 14,
    "start_time": "2022-11-25T15:05:01.174Z"
   },
   {
    "duration": 14,
    "start_time": "2022-11-25T15:05:05.272Z"
   },
   {
    "duration": 3,
    "start_time": "2022-11-25T15:13:43.324Z"
   },
   {
    "duration": 74,
    "start_time": "2022-11-25T15:14:48.735Z"
   },
   {
    "duration": 19,
    "start_time": "2022-11-25T15:15:28.138Z"
   },
   {
    "duration": 17,
    "start_time": "2022-11-25T15:15:54.002Z"
   },
   {
    "duration": 15,
    "start_time": "2022-11-25T15:31:15.428Z"
   },
   {
    "duration": 323,
    "start_time": "2022-11-25T15:42:02.428Z"
   },
   {
    "duration": 13,
    "start_time": "2022-11-25T15:49:26.855Z"
   },
   {
    "duration": 12,
    "start_time": "2022-11-25T15:49:44.236Z"
   },
   {
    "duration": 1302,
    "start_time": "2022-11-25T15:55:22.920Z"
   },
   {
    "duration": 491,
    "start_time": "2022-11-25T15:56:42.730Z"
   },
   {
    "duration": 41,
    "start_time": "2022-11-25T15:56:43.223Z"
   },
   {
    "duration": 14,
    "start_time": "2022-11-25T15:56:43.266Z"
   },
   {
    "duration": 2349,
    "start_time": "2022-11-25T15:56:43.282Z"
   },
   {
    "duration": 10,
    "start_time": "2022-11-25T15:56:45.632Z"
   },
   {
    "duration": 9,
    "start_time": "2022-11-25T15:56:45.644Z"
   },
   {
    "duration": 4,
    "start_time": "2022-11-25T15:56:45.655Z"
   },
   {
    "duration": 11,
    "start_time": "2022-11-25T15:56:45.661Z"
   },
   {
    "duration": 7,
    "start_time": "2022-11-25T15:56:45.674Z"
   },
   {
    "duration": 4,
    "start_time": "2022-11-25T15:56:45.684Z"
   },
   {
    "duration": 21,
    "start_time": "2022-11-25T15:56:45.690Z"
   },
   {
    "duration": 10,
    "start_time": "2022-11-25T15:56:45.713Z"
   },
   {
    "duration": 6,
    "start_time": "2022-11-25T15:56:45.751Z"
   },
   {
    "duration": 20,
    "start_time": "2022-11-25T15:56:45.759Z"
   },
   {
    "duration": 14,
    "start_time": "2022-11-25T15:56:45.781Z"
   },
   {
    "duration": 5,
    "start_time": "2022-11-25T15:56:45.796Z"
   },
   {
    "duration": 80,
    "start_time": "2022-11-25T15:56:45.803Z"
   },
   {
    "duration": 8,
    "start_time": "2022-11-25T15:56:45.885Z"
   },
   {
    "duration": 15,
    "start_time": "2022-11-25T15:56:45.894Z"
   },
   {
    "duration": 7,
    "start_time": "2022-11-25T15:56:45.911Z"
   },
   {
    "duration": 44,
    "start_time": "2022-11-25T15:56:45.920Z"
   },
   {
    "duration": 1219,
    "start_time": "2022-11-25T15:56:45.966Z"
   },
   {
    "duration": 8,
    "start_time": "2022-11-25T15:57:16.570Z"
   },
   {
    "duration": 28,
    "start_time": "2022-11-25T15:57:34.845Z"
   },
   {
    "duration": 13,
    "start_time": "2022-11-25T16:01:28.487Z"
   },
   {
    "duration": 12,
    "start_time": "2022-11-25T16:02:10.150Z"
   },
   {
    "duration": 11,
    "start_time": "2022-11-25T16:03:20.676Z"
   },
   {
    "duration": 11,
    "start_time": "2022-11-25T16:04:40.944Z"
   },
   {
    "duration": 10,
    "start_time": "2022-11-25T16:04:52.871Z"
   },
   {
    "duration": 9,
    "start_time": "2022-11-25T16:05:07.169Z"
   },
   {
    "duration": 74,
    "start_time": "2022-11-25T16:05:43.174Z"
   },
   {
    "duration": 72,
    "start_time": "2022-11-25T16:05:57.931Z"
   },
   {
    "duration": 42,
    "start_time": "2022-11-25T16:06:37.450Z"
   },
   {
    "duration": 30,
    "start_time": "2022-11-25T16:07:25.949Z"
   },
   {
    "duration": 33,
    "start_time": "2022-11-25T16:08:01.325Z"
   },
   {
    "duration": 30,
    "start_time": "2022-11-25T16:08:56.548Z"
   },
   {
    "duration": 37,
    "start_time": "2022-11-25T16:10:52.099Z"
   },
   {
    "duration": 574,
    "start_time": "2022-11-25T16:12:54.234Z"
   },
   {
    "duration": 60,
    "start_time": "2022-11-25T16:12:54.810Z"
   },
   {
    "duration": 15,
    "start_time": "2022-11-25T16:12:54.872Z"
   },
   {
    "duration": 2181,
    "start_time": "2022-11-25T16:12:54.890Z"
   },
   {
    "duration": 10,
    "start_time": "2022-11-25T16:12:57.072Z"
   },
   {
    "duration": 16,
    "start_time": "2022-11-25T16:12:57.083Z"
   },
   {
    "duration": 26,
    "start_time": "2022-11-25T16:12:57.101Z"
   },
   {
    "duration": 14,
    "start_time": "2022-11-25T16:12:57.128Z"
   },
   {
    "duration": 23,
    "start_time": "2022-11-25T16:12:57.144Z"
   },
   {
    "duration": 18,
    "start_time": "2022-11-25T16:12:57.169Z"
   },
   {
    "duration": 29,
    "start_time": "2022-11-25T16:12:57.189Z"
   },
   {
    "duration": 18,
    "start_time": "2022-11-25T16:12:57.220Z"
   },
   {
    "duration": 12,
    "start_time": "2022-11-25T16:12:57.240Z"
   },
   {
    "duration": 35,
    "start_time": "2022-11-25T16:12:57.254Z"
   },
   {
    "duration": 18,
    "start_time": "2022-11-25T16:12:57.291Z"
   },
   {
    "duration": 6,
    "start_time": "2022-11-25T16:12:57.311Z"
   },
   {
    "duration": 57,
    "start_time": "2022-11-25T16:12:57.319Z"
   },
   {
    "duration": 7,
    "start_time": "2022-11-25T16:12:57.377Z"
   },
   {
    "duration": 14,
    "start_time": "2022-11-25T16:12:57.386Z"
   },
   {
    "duration": 7,
    "start_time": "2022-11-25T16:12:57.402Z"
   },
   {
    "duration": 16,
    "start_time": "2022-11-25T16:12:57.410Z"
   },
   {
    "duration": 52,
    "start_time": "2022-11-25T16:12:57.428Z"
   },
   {
    "duration": 35,
    "start_time": "2022-11-25T16:13:09.395Z"
   },
   {
    "duration": 39,
    "start_time": "2022-11-25T16:13:55.274Z"
   },
   {
    "duration": 505,
    "start_time": "2022-11-25T16:15:12.436Z"
   },
   {
    "duration": 48,
    "start_time": "2022-11-25T16:15:12.943Z"
   },
   {
    "duration": 13,
    "start_time": "2022-11-25T16:15:12.993Z"
   },
   {
    "duration": 2219,
    "start_time": "2022-11-25T16:15:13.008Z"
   },
   {
    "duration": 10,
    "start_time": "2022-11-25T16:15:15.230Z"
   },
   {
    "duration": 21,
    "start_time": "2022-11-25T16:15:15.242Z"
   },
   {
    "duration": 46,
    "start_time": "2022-11-25T16:15:15.265Z"
   },
   {
    "duration": 44,
    "start_time": "2022-11-25T16:15:15.313Z"
   },
   {
    "duration": 25,
    "start_time": "2022-11-25T16:15:15.359Z"
   },
   {
    "duration": 25,
    "start_time": "2022-11-25T16:15:15.386Z"
   },
   {
    "duration": 34,
    "start_time": "2022-11-25T16:15:15.413Z"
   },
   {
    "duration": 32,
    "start_time": "2022-11-25T16:15:15.449Z"
   },
   {
    "duration": 32,
    "start_time": "2022-11-25T16:15:15.482Z"
   },
   {
    "duration": 31,
    "start_time": "2022-11-25T16:15:15.516Z"
   },
   {
    "duration": 39,
    "start_time": "2022-11-25T16:15:15.548Z"
   },
   {
    "duration": 24,
    "start_time": "2022-11-25T16:15:15.588Z"
   },
   {
    "duration": 80,
    "start_time": "2022-11-25T16:15:15.614Z"
   },
   {
    "duration": 9,
    "start_time": "2022-11-25T16:15:15.697Z"
   },
   {
    "duration": 29,
    "start_time": "2022-11-25T16:15:15.708Z"
   },
   {
    "duration": 39,
    "start_time": "2022-11-25T16:15:15.738Z"
   },
   {
    "duration": 32,
    "start_time": "2022-11-25T16:15:15.779Z"
   },
   {
    "duration": 71,
    "start_time": "2022-11-25T16:15:15.812Z"
   },
   {
    "duration": 74,
    "start_time": "2022-11-25T16:15:47.200Z"
   },
   {
    "duration": 40,
    "start_time": "2022-11-25T16:16:31.277Z"
   },
   {
    "duration": 455,
    "start_time": "2022-11-25T16:16:57.576Z"
   },
   {
    "duration": 44,
    "start_time": "2022-11-25T16:16:58.034Z"
   },
   {
    "duration": 13,
    "start_time": "2022-11-25T16:16:58.080Z"
   },
   {
    "duration": 2132,
    "start_time": "2022-11-25T16:16:58.095Z"
   },
   {
    "duration": 10,
    "start_time": "2022-11-25T16:17:00.228Z"
   },
   {
    "duration": 22,
    "start_time": "2022-11-25T16:17:00.239Z"
   },
   {
    "duration": 48,
    "start_time": "2022-11-25T16:17:00.263Z"
   },
   {
    "duration": 37,
    "start_time": "2022-11-25T16:17:00.312Z"
   },
   {
    "duration": 45,
    "start_time": "2022-11-25T16:17:00.351Z"
   },
   {
    "duration": 47,
    "start_time": "2022-11-25T16:17:00.398Z"
   },
   {
    "duration": 39,
    "start_time": "2022-11-25T16:17:00.446Z"
   },
   {
    "duration": 8,
    "start_time": "2022-11-25T16:17:00.486Z"
   },
   {
    "duration": 26,
    "start_time": "2022-11-25T16:17:00.495Z"
   },
   {
    "duration": 54,
    "start_time": "2022-11-25T16:17:00.523Z"
   },
   {
    "duration": 25,
    "start_time": "2022-11-25T16:17:00.579Z"
   },
   {
    "duration": 63,
    "start_time": "2022-11-25T16:17:00.605Z"
   },
   {
    "duration": 85,
    "start_time": "2022-11-25T16:17:00.670Z"
   },
   {
    "duration": 8,
    "start_time": "2022-11-25T16:17:00.757Z"
   },
   {
    "duration": 84,
    "start_time": "2022-11-25T16:17:00.767Z"
   },
   {
    "duration": 45,
    "start_time": "2022-11-25T16:17:00.853Z"
   },
   {
    "duration": 57,
    "start_time": "2022-11-25T16:17:00.900Z"
   },
   {
    "duration": 58,
    "start_time": "2022-11-25T16:17:00.959Z"
   },
   {
    "duration": 45,
    "start_time": "2022-11-25T16:17:28.074Z"
   },
   {
    "duration": 39,
    "start_time": "2022-11-25T16:17:58.293Z"
   },
   {
    "duration": 493,
    "start_time": "2022-11-25T16:18:13.074Z"
   },
   {
    "duration": 47,
    "start_time": "2022-11-25T16:18:13.569Z"
   },
   {
    "duration": 14,
    "start_time": "2022-11-25T16:18:13.618Z"
   },
   {
    "duration": 2313,
    "start_time": "2022-11-25T16:18:13.634Z"
   },
   {
    "duration": 10,
    "start_time": "2022-11-25T16:18:15.948Z"
   },
   {
    "duration": 11,
    "start_time": "2022-11-25T16:18:15.959Z"
   },
   {
    "duration": 7,
    "start_time": "2022-11-25T16:18:15.971Z"
   },
   {
    "duration": 7,
    "start_time": "2022-11-25T16:18:15.981Z"
   },
   {
    "duration": 8,
    "start_time": "2022-11-25T16:18:15.990Z"
   },
   {
    "duration": 4,
    "start_time": "2022-11-25T16:18:16.001Z"
   },
   {
    "duration": 46,
    "start_time": "2022-11-25T16:18:16.006Z"
   },
   {
    "duration": 12,
    "start_time": "2022-11-25T16:18:16.054Z"
   },
   {
    "duration": 13,
    "start_time": "2022-11-25T16:18:16.068Z"
   },
   {
    "duration": 17,
    "start_time": "2022-11-25T16:18:16.083Z"
   },
   {
    "duration": 12,
    "start_time": "2022-11-25T16:18:16.102Z"
   },
   {
    "duration": 5,
    "start_time": "2022-11-25T16:18:16.116Z"
   },
   {
    "duration": 88,
    "start_time": "2022-11-25T16:18:16.123Z"
   },
   {
    "duration": 7,
    "start_time": "2022-11-25T16:18:16.213Z"
   },
   {
    "duration": 14,
    "start_time": "2022-11-25T16:18:16.221Z"
   },
   {
    "duration": 8,
    "start_time": "2022-11-25T16:18:16.252Z"
   },
   {
    "duration": 21,
    "start_time": "2022-11-25T16:18:16.262Z"
   },
   {
    "duration": 40,
    "start_time": "2022-11-25T16:18:16.285Z"
   },
   {
    "duration": 479,
    "start_time": "2022-11-25T16:19:13.779Z"
   },
   {
    "duration": 52,
    "start_time": "2022-11-25T16:19:14.261Z"
   },
   {
    "duration": 15,
    "start_time": "2022-11-25T16:19:14.314Z"
   },
   {
    "duration": 2320,
    "start_time": "2022-11-25T16:19:14.331Z"
   },
   {
    "duration": 8,
    "start_time": "2022-11-25T16:19:16.653Z"
   },
   {
    "duration": 22,
    "start_time": "2022-11-25T16:19:16.663Z"
   },
   {
    "duration": 67,
    "start_time": "2022-11-25T16:19:16.687Z"
   },
   {
    "duration": 42,
    "start_time": "2022-11-25T16:19:16.755Z"
   },
   {
    "duration": 28,
    "start_time": "2022-11-25T16:19:16.799Z"
   },
   {
    "duration": 40,
    "start_time": "2022-11-25T16:19:16.830Z"
   },
   {
    "duration": 33,
    "start_time": "2022-11-25T16:19:16.872Z"
   },
   {
    "duration": 32,
    "start_time": "2022-11-25T16:19:16.907Z"
   },
   {
    "duration": 69,
    "start_time": "2022-11-25T16:19:16.940Z"
   },
   {
    "duration": 42,
    "start_time": "2022-11-25T16:19:17.011Z"
   },
   {
    "duration": 44,
    "start_time": "2022-11-25T16:19:17.055Z"
   },
   {
    "duration": 21,
    "start_time": "2022-11-25T16:19:17.100Z"
   },
   {
    "duration": 85,
    "start_time": "2022-11-25T16:19:17.123Z"
   },
   {
    "duration": 8,
    "start_time": "2022-11-25T16:19:17.210Z"
   },
   {
    "duration": 32,
    "start_time": "2022-11-25T16:19:17.220Z"
   },
   {
    "duration": 31,
    "start_time": "2022-11-25T16:19:17.254Z"
   },
   {
    "duration": 57,
    "start_time": "2022-11-25T16:19:17.286Z"
   },
   {
    "duration": 62,
    "start_time": "2022-11-25T16:19:17.345Z"
   },
   {
    "duration": 501,
    "start_time": "2022-11-25T16:20:18.331Z"
   },
   {
    "duration": 46,
    "start_time": "2022-11-25T16:20:18.834Z"
   },
   {
    "duration": 16,
    "start_time": "2022-11-25T16:20:18.882Z"
   },
   {
    "duration": 2155,
    "start_time": "2022-11-25T16:20:18.900Z"
   },
   {
    "duration": 10,
    "start_time": "2022-11-25T16:20:21.057Z"
   },
   {
    "duration": 8,
    "start_time": "2022-11-25T16:20:21.068Z"
   },
   {
    "duration": 10,
    "start_time": "2022-11-25T16:20:21.078Z"
   },
   {
    "duration": 17,
    "start_time": "2022-11-25T16:20:21.090Z"
   },
   {
    "duration": 13,
    "start_time": "2022-11-25T16:20:21.109Z"
   },
   {
    "duration": 25,
    "start_time": "2022-11-25T16:20:21.123Z"
   },
   {
    "duration": 33,
    "start_time": "2022-11-25T16:20:21.149Z"
   },
   {
    "duration": 11,
    "start_time": "2022-11-25T16:20:21.184Z"
   },
   {
    "duration": 21,
    "start_time": "2022-11-25T16:20:21.197Z"
   },
   {
    "duration": 34,
    "start_time": "2022-11-25T16:20:21.220Z"
   },
   {
    "duration": 22,
    "start_time": "2022-11-25T16:20:21.256Z"
   },
   {
    "duration": 5,
    "start_time": "2022-11-25T16:20:21.280Z"
   },
   {
    "duration": 67,
    "start_time": "2022-11-25T16:20:21.287Z"
   },
   {
    "duration": 7,
    "start_time": "2022-11-25T16:20:21.355Z"
   },
   {
    "duration": 26,
    "start_time": "2022-11-25T16:20:21.363Z"
   },
   {
    "duration": 21,
    "start_time": "2022-11-25T16:20:21.391Z"
   },
   {
    "duration": 27,
    "start_time": "2022-11-25T16:20:21.414Z"
   },
   {
    "duration": 59,
    "start_time": "2022-11-25T16:20:21.443Z"
   },
   {
    "duration": 74,
    "start_time": "2022-11-25T16:27:16.369Z"
   },
   {
    "duration": 12,
    "start_time": "2022-11-25T16:27:23.150Z"
   },
   {
    "duration": 12,
    "start_time": "2022-11-25T16:27:32.330Z"
   },
   {
    "duration": 7,
    "start_time": "2022-11-25T16:27:37.334Z"
   },
   {
    "duration": 451,
    "start_time": "2022-11-25T16:31:32.914Z"
   },
   {
    "duration": 44,
    "start_time": "2022-11-25T16:31:33.367Z"
   },
   {
    "duration": 15,
    "start_time": "2022-11-25T16:31:33.412Z"
   },
   {
    "duration": 2102,
    "start_time": "2022-11-25T16:31:33.429Z"
   },
   {
    "duration": 9,
    "start_time": "2022-11-25T16:31:35.532Z"
   },
   {
    "duration": 11,
    "start_time": "2022-11-25T16:31:35.543Z"
   },
   {
    "duration": 5,
    "start_time": "2022-11-25T16:31:35.555Z"
   },
   {
    "duration": 8,
    "start_time": "2022-11-25T16:31:35.561Z"
   },
   {
    "duration": 7,
    "start_time": "2022-11-25T16:31:35.570Z"
   },
   {
    "duration": 7,
    "start_time": "2022-11-25T16:31:35.579Z"
   },
   {
    "duration": 15,
    "start_time": "2022-11-25T16:31:35.587Z"
   },
   {
    "duration": 7,
    "start_time": "2022-11-25T16:31:35.604Z"
   },
   {
    "duration": 6,
    "start_time": "2022-11-25T16:31:35.612Z"
   },
   {
    "duration": 45,
    "start_time": "2022-11-25T16:31:35.620Z"
   },
   {
    "duration": 22,
    "start_time": "2022-11-25T16:31:35.666Z"
   },
   {
    "duration": 5,
    "start_time": "2022-11-25T16:31:35.690Z"
   },
   {
    "duration": 60,
    "start_time": "2022-11-25T16:31:35.696Z"
   },
   {
    "duration": 7,
    "start_time": "2022-11-25T16:31:35.758Z"
   },
   {
    "duration": 13,
    "start_time": "2022-11-25T16:31:35.767Z"
   },
   {
    "duration": 7,
    "start_time": "2022-11-25T16:31:35.781Z"
   },
   {
    "duration": 9,
    "start_time": "2022-11-25T16:31:35.789Z"
   },
   {
    "duration": 13,
    "start_time": "2022-11-25T16:31:35.799Z"
   },
   {
    "duration": 7,
    "start_time": "2022-11-25T16:31:35.814Z"
   },
   {
    "duration": 16,
    "start_time": "2022-11-25T16:35:23.627Z"
   },
   {
    "duration": 20,
    "start_time": "2022-11-25T16:35:31.971Z"
   },
   {
    "duration": 38,
    "start_time": "2022-11-25T16:36:14.048Z"
   },
   {
    "duration": 46,
    "start_time": "2022-11-25T16:36:19.479Z"
   },
   {
    "duration": 479,
    "start_time": "2022-11-25T16:36:52.669Z"
   },
   {
    "duration": 42,
    "start_time": "2022-11-25T16:36:53.150Z"
   },
   {
    "duration": 15,
    "start_time": "2022-11-25T16:36:53.193Z"
   },
   {
    "duration": 2129,
    "start_time": "2022-11-25T16:36:53.210Z"
   },
   {
    "duration": 9,
    "start_time": "2022-11-25T16:36:55.340Z"
   },
   {
    "duration": 7,
    "start_time": "2022-11-25T16:36:55.351Z"
   },
   {
    "duration": 5,
    "start_time": "2022-11-25T16:36:55.359Z"
   },
   {
    "duration": 7,
    "start_time": "2022-11-25T16:36:55.366Z"
   },
   {
    "duration": 7,
    "start_time": "2022-11-25T16:36:55.375Z"
   },
   {
    "duration": 5,
    "start_time": "2022-11-25T16:36:55.385Z"
   },
   {
    "duration": 15,
    "start_time": "2022-11-25T16:36:55.391Z"
   },
   {
    "duration": 8,
    "start_time": "2022-11-25T16:36:55.408Z"
   },
   {
    "duration": 33,
    "start_time": "2022-11-25T16:36:55.419Z"
   },
   {
    "duration": 17,
    "start_time": "2022-11-25T16:36:55.454Z"
   },
   {
    "duration": 12,
    "start_time": "2022-11-25T16:36:55.473Z"
   },
   {
    "duration": 5,
    "start_time": "2022-11-25T16:36:55.487Z"
   },
   {
    "duration": 72,
    "start_time": "2022-11-25T16:36:55.493Z"
   },
   {
    "duration": 56,
    "start_time": "2022-11-25T16:36:55.566Z"
   },
   {
    "duration": 7,
    "start_time": "2022-11-25T16:36:55.624Z"
   },
   {
    "duration": 33,
    "start_time": "2022-11-25T16:36:55.632Z"
   },
   {
    "duration": 7,
    "start_time": "2022-11-25T16:36:55.666Z"
   },
   {
    "duration": 6,
    "start_time": "2022-11-25T16:36:55.675Z"
   },
   {
    "duration": 12,
    "start_time": "2022-11-25T16:36:55.682Z"
   },
   {
    "duration": 9,
    "start_time": "2022-11-25T16:36:55.695Z"
   },
   {
    "duration": 22,
    "start_time": "2022-11-25T16:37:11.752Z"
   },
   {
    "duration": 21,
    "start_time": "2022-11-25T16:37:17.618Z"
   },
   {
    "duration": 21,
    "start_time": "2022-11-25T16:37:20.392Z"
   },
   {
    "duration": 20,
    "start_time": "2022-11-25T16:37:22.981Z"
   },
   {
    "duration": 20,
    "start_time": "2022-11-25T16:37:25.942Z"
   },
   {
    "duration": 22,
    "start_time": "2022-11-25T16:37:28.028Z"
   },
   {
    "duration": 22,
    "start_time": "2022-11-25T16:37:30.216Z"
   },
   {
    "duration": 21,
    "start_time": "2022-11-25T16:37:32.194Z"
   },
   {
    "duration": 21,
    "start_time": "2022-11-25T16:37:34.704Z"
   },
   {
    "duration": 20,
    "start_time": "2022-11-25T16:37:36.770Z"
   },
   {
    "duration": 20,
    "start_time": "2022-11-25T16:37:39.123Z"
   },
   {
    "duration": 21,
    "start_time": "2022-11-25T16:37:43.671Z"
   },
   {
    "duration": 19,
    "start_time": "2022-11-25T16:38:05.791Z"
   },
   {
    "duration": 474,
    "start_time": "2022-11-25T16:41:14.854Z"
   },
   {
    "duration": 42,
    "start_time": "2022-11-25T16:41:15.330Z"
   },
   {
    "duration": 16,
    "start_time": "2022-11-25T16:41:15.374Z"
   },
   {
    "duration": 2087,
    "start_time": "2022-11-25T16:41:15.392Z"
   },
   {
    "duration": 10,
    "start_time": "2022-11-25T16:41:17.481Z"
   },
   {
    "duration": 10,
    "start_time": "2022-11-25T16:41:17.493Z"
   },
   {
    "duration": 16,
    "start_time": "2022-11-25T16:41:17.504Z"
   },
   {
    "duration": 26,
    "start_time": "2022-11-25T16:41:17.522Z"
   },
   {
    "duration": 8,
    "start_time": "2022-11-25T16:41:17.550Z"
   },
   {
    "duration": 13,
    "start_time": "2022-11-25T16:41:17.561Z"
   },
   {
    "duration": 34,
    "start_time": "2022-11-25T16:41:17.575Z"
   },
   {
    "duration": 21,
    "start_time": "2022-11-25T16:41:17.611Z"
   },
   {
    "duration": 35,
    "start_time": "2022-11-25T16:41:17.633Z"
   },
   {
    "duration": 26,
    "start_time": "2022-11-25T16:41:17.670Z"
   },
   {
    "duration": 31,
    "start_time": "2022-11-25T16:41:17.697Z"
   },
   {
    "duration": 6,
    "start_time": "2022-11-25T16:41:17.729Z"
   },
   {
    "duration": 74,
    "start_time": "2022-11-25T16:41:17.736Z"
   },
   {
    "duration": 28,
    "start_time": "2022-11-25T16:41:17.812Z"
   },
   {
    "duration": 39,
    "start_time": "2022-11-25T16:41:17.842Z"
   },
   {
    "duration": 36,
    "start_time": "2022-11-25T16:41:17.883Z"
   },
   {
    "duration": 16,
    "start_time": "2022-11-25T16:41:17.920Z"
   },
   {
    "duration": 21,
    "start_time": "2022-11-25T16:41:17.938Z"
   },
   {
    "duration": 39,
    "start_time": "2022-11-25T16:41:17.960Z"
   },
   {
    "duration": 24,
    "start_time": "2022-11-25T16:41:18.001Z"
   },
   {
    "duration": 407,
    "start_time": "2022-11-25T16:41:18.026Z"
   },
   {
    "duration": 16,
    "start_time": "2022-11-25T16:45:30.573Z"
   },
   {
    "duration": 541,
    "start_time": "2022-11-25T16:46:18.946Z"
   },
   {
    "duration": 50,
    "start_time": "2022-11-25T16:46:19.489Z"
   },
   {
    "duration": 25,
    "start_time": "2022-11-25T16:46:19.541Z"
   },
   {
    "duration": 2152,
    "start_time": "2022-11-25T16:46:19.567Z"
   },
   {
    "duration": 9,
    "start_time": "2022-11-25T16:46:21.721Z"
   },
   {
    "duration": 8,
    "start_time": "2022-11-25T16:46:21.731Z"
   },
   {
    "duration": 5,
    "start_time": "2022-11-25T16:46:21.741Z"
   },
   {
    "duration": 7,
    "start_time": "2022-11-25T16:46:21.748Z"
   },
   {
    "duration": 9,
    "start_time": "2022-11-25T16:46:21.756Z"
   },
   {
    "duration": 7,
    "start_time": "2022-11-25T16:46:21.767Z"
   },
   {
    "duration": 17,
    "start_time": "2022-11-25T16:46:21.775Z"
   },
   {
    "duration": 8,
    "start_time": "2022-11-25T16:46:21.794Z"
   },
   {
    "duration": 7,
    "start_time": "2022-11-25T16:46:21.804Z"
   },
   {
    "duration": 38,
    "start_time": "2022-11-25T16:46:21.814Z"
   },
   {
    "duration": 13,
    "start_time": "2022-11-25T16:46:21.854Z"
   },
   {
    "duration": 5,
    "start_time": "2022-11-25T16:46:21.869Z"
   },
   {
    "duration": 47,
    "start_time": "2022-11-25T16:46:21.876Z"
   },
   {
    "duration": 51,
    "start_time": "2022-11-25T16:46:21.925Z"
   },
   {
    "duration": 8,
    "start_time": "2022-11-25T16:46:21.977Z"
   },
   {
    "duration": 18,
    "start_time": "2022-11-25T16:46:21.988Z"
   },
   {
    "duration": 3,
    "start_time": "2022-11-25T16:46:22.008Z"
   },
   {
    "duration": 11,
    "start_time": "2022-11-25T16:46:22.012Z"
   },
   {
    "duration": 42,
    "start_time": "2022-11-25T16:46:22.024Z"
   },
   {
    "duration": 8,
    "start_time": "2022-11-25T16:46:22.068Z"
   },
   {
    "duration": 18,
    "start_time": "2022-11-25T16:46:22.077Z"
   },
   {
    "duration": 506,
    "start_time": "2022-11-25T16:49:00.844Z"
   },
   {
    "duration": 42,
    "start_time": "2022-11-25T16:49:01.352Z"
   },
   {
    "duration": 17,
    "start_time": "2022-11-25T16:49:01.396Z"
   },
   {
    "duration": 2324,
    "start_time": "2022-11-25T16:49:01.415Z"
   },
   {
    "duration": 10,
    "start_time": "2022-11-25T16:49:03.741Z"
   },
   {
    "duration": 10,
    "start_time": "2022-11-25T16:49:03.752Z"
   },
   {
    "duration": 12,
    "start_time": "2022-11-25T16:49:03.764Z"
   },
   {
    "duration": 18,
    "start_time": "2022-11-25T16:49:03.778Z"
   },
   {
    "duration": 20,
    "start_time": "2022-11-25T16:49:03.798Z"
   },
   {
    "duration": 6,
    "start_time": "2022-11-25T16:49:03.821Z"
   },
   {
    "duration": 17,
    "start_time": "2022-11-25T16:49:03.829Z"
   },
   {
    "duration": 8,
    "start_time": "2022-11-25T16:49:03.852Z"
   },
   {
    "duration": 12,
    "start_time": "2022-11-25T16:49:03.862Z"
   },
   {
    "duration": 26,
    "start_time": "2022-11-25T16:49:03.876Z"
   },
   {
    "duration": 23,
    "start_time": "2022-11-25T16:49:03.903Z"
   },
   {
    "duration": 6,
    "start_time": "2022-11-25T16:49:03.927Z"
   },
   {
    "duration": 53,
    "start_time": "2022-11-25T16:49:03.935Z"
   },
   {
    "duration": 29,
    "start_time": "2022-11-25T16:49:03.990Z"
   },
   {
    "duration": 12,
    "start_time": "2022-11-25T16:49:04.020Z"
   },
   {
    "duration": 31,
    "start_time": "2022-11-25T16:49:04.033Z"
   },
   {
    "duration": 7,
    "start_time": "2022-11-25T16:49:04.066Z"
   },
   {
    "duration": 8,
    "start_time": "2022-11-25T16:49:04.075Z"
   },
   {
    "duration": 13,
    "start_time": "2022-11-25T16:49:04.084Z"
   },
   {
    "duration": 8,
    "start_time": "2022-11-25T16:49:04.098Z"
   },
   {
    "duration": 50,
    "start_time": "2022-11-25T16:49:04.107Z"
   },
   {
    "duration": 485,
    "start_time": "2022-11-25T16:53:00.486Z"
   },
   {
    "duration": 48,
    "start_time": "2022-11-25T16:53:00.973Z"
   },
   {
    "duration": 14,
    "start_time": "2022-11-25T16:53:01.023Z"
   },
   {
    "duration": 2271,
    "start_time": "2022-11-25T16:53:01.052Z"
   },
   {
    "duration": 9,
    "start_time": "2022-11-25T16:53:03.325Z"
   },
   {
    "duration": 7,
    "start_time": "2022-11-25T16:53:03.336Z"
   },
   {
    "duration": 6,
    "start_time": "2022-11-25T16:53:03.345Z"
   },
   {
    "duration": 6,
    "start_time": "2022-11-25T16:53:03.353Z"
   },
   {
    "duration": 9,
    "start_time": "2022-11-25T16:53:03.361Z"
   },
   {
    "duration": 5,
    "start_time": "2022-11-25T16:53:03.372Z"
   },
   {
    "duration": 19,
    "start_time": "2022-11-25T16:53:03.379Z"
   },
   {
    "duration": 7,
    "start_time": "2022-11-25T16:53:03.399Z"
   },
   {
    "duration": 6,
    "start_time": "2022-11-25T16:53:03.408Z"
   },
   {
    "duration": 43,
    "start_time": "2022-11-25T16:53:03.416Z"
   },
   {
    "duration": 14,
    "start_time": "2022-11-25T16:53:03.461Z"
   },
   {
    "duration": 5,
    "start_time": "2022-11-25T16:53:03.477Z"
   },
   {
    "duration": 51,
    "start_time": "2022-11-25T16:53:03.483Z"
   },
   {
    "duration": 43,
    "start_time": "2022-11-25T16:53:03.536Z"
   },
   {
    "duration": 9,
    "start_time": "2022-11-25T16:53:03.581Z"
   },
   {
    "duration": 20,
    "start_time": "2022-11-25T16:53:03.592Z"
   },
   {
    "duration": 38,
    "start_time": "2022-11-25T16:53:03.614Z"
   },
   {
    "duration": 8,
    "start_time": "2022-11-25T16:53:03.654Z"
   },
   {
    "duration": 21,
    "start_time": "2022-11-25T16:53:03.664Z"
   },
   {
    "duration": 11,
    "start_time": "2022-11-25T16:53:03.687Z"
   },
   {
    "duration": 22,
    "start_time": "2022-11-25T16:53:03.700Z"
   },
   {
    "duration": 69,
    "start_time": "2022-11-25T16:57:54.134Z"
   },
   {
    "duration": 128,
    "start_time": "2022-11-25T17:01:14.746Z"
   },
   {
    "duration": 230,
    "start_time": "2022-11-25T17:01:53.505Z"
   },
   {
    "duration": 168,
    "start_time": "2022-11-25T17:02:05.548Z"
   },
   {
    "duration": 164,
    "start_time": "2022-11-25T17:02:12.544Z"
   },
   {
    "duration": 162,
    "start_time": "2022-11-25T17:02:18.631Z"
   },
   {
    "duration": 290,
    "start_time": "2022-11-25T17:05:36.207Z"
   },
   {
    "duration": 238,
    "start_time": "2022-11-25T17:07:41.138Z"
   },
   {
    "duration": 74,
    "start_time": "2022-11-25T17:13:08.446Z"
   },
   {
    "duration": 212,
    "start_time": "2022-11-25T17:13:41.440Z"
   },
   {
    "duration": 220,
    "start_time": "2022-11-25T17:17:43.470Z"
   },
   {
    "duration": 161,
    "start_time": "2022-11-25T17:18:03.272Z"
   },
   {
    "duration": 245,
    "start_time": "2022-11-25T17:18:47.433Z"
   },
   {
    "duration": 391,
    "start_time": "2022-11-25T17:21:23.331Z"
   },
   {
    "duration": 220,
    "start_time": "2022-11-25T17:22:03.925Z"
   },
   {
    "duration": 1439,
    "start_time": "2022-11-25T17:30:22.811Z"
   },
   {
    "duration": 238,
    "start_time": "2022-11-25T17:30:54.891Z"
   },
   {
    "duration": 211,
    "start_time": "2022-11-25T17:36:06.527Z"
   },
   {
    "duration": 225,
    "start_time": "2022-11-25T17:36:15.775Z"
   },
   {
    "duration": 374,
    "start_time": "2022-11-25T17:36:20.053Z"
   },
   {
    "duration": 234,
    "start_time": "2022-11-25T17:36:31.353Z"
   },
   {
    "duration": 221,
    "start_time": "2022-11-25T17:36:41.728Z"
   },
   {
    "duration": 251,
    "start_time": "2022-11-25T17:36:56.093Z"
   },
   {
    "duration": 282,
    "start_time": "2022-11-25T17:37:34.354Z"
   },
   {
    "duration": 236,
    "start_time": "2022-11-25T17:37:45.162Z"
   },
   {
    "duration": 241,
    "start_time": "2022-11-25T17:37:49.650Z"
   },
   {
    "duration": 69,
    "start_time": "2022-11-25T17:39:59.565Z"
   },
   {
    "duration": 229,
    "start_time": "2022-11-25T17:40:18.173Z"
   },
   {
    "duration": 421,
    "start_time": "2022-11-25T17:43:52.028Z"
   },
   {
    "duration": 220,
    "start_time": "2022-11-25T17:44:58.591Z"
   },
   {
    "duration": 69,
    "start_time": "2022-11-25T17:45:36.137Z"
   },
   {
    "duration": 240,
    "start_time": "2022-11-25T17:46:42.903Z"
   },
   {
    "duration": 239,
    "start_time": "2022-11-25T17:48:48.586Z"
   },
   {
    "duration": 26,
    "start_time": "2022-11-25T17:52:33.838Z"
   },
   {
    "duration": 191,
    "start_time": "2022-11-25T17:52:51.615Z"
   },
   {
    "duration": 70,
    "start_time": "2022-11-25T17:54:37.472Z"
   },
   {
    "duration": 232,
    "start_time": "2022-11-25T17:55:15.920Z"
   },
   {
    "duration": 77,
    "start_time": "2022-11-25T17:56:44.463Z"
   },
   {
    "duration": 67,
    "start_time": "2022-11-25T17:57:43.789Z"
   },
   {
    "duration": 237,
    "start_time": "2022-11-25T17:58:49.711Z"
   },
   {
    "duration": 71,
    "start_time": "2022-11-25T18:00:27.766Z"
   },
   {
    "duration": 115,
    "start_time": "2022-11-25T18:01:17.103Z"
   },
   {
    "duration": 222,
    "start_time": "2022-11-25T18:02:12.865Z"
   },
   {
    "duration": 95,
    "start_time": "2022-11-25T18:04:46.053Z"
   },
   {
    "duration": 1216,
    "start_time": "2022-11-25T18:05:17.360Z"
   },
   {
    "duration": 218,
    "start_time": "2022-11-25T18:05:23.679Z"
   },
   {
    "duration": 216,
    "start_time": "2022-11-25T18:08:10.125Z"
   },
   {
    "duration": 71,
    "start_time": "2022-11-25T18:09:44.668Z"
   },
   {
    "duration": 470,
    "start_time": "2022-11-25T18:10:34.473Z"
   },
   {
    "duration": 69,
    "start_time": "2022-11-25T18:12:09.179Z"
   },
   {
    "duration": 280,
    "start_time": "2022-11-25T18:15:34.736Z"
   },
   {
    "duration": 73,
    "start_time": "2022-11-25T18:18:29.633Z"
   },
   {
    "duration": 225,
    "start_time": "2022-11-25T18:18:43.519Z"
   },
   {
    "duration": 228,
    "start_time": "2022-11-25T18:18:50.553Z"
   },
   {
    "duration": 239,
    "start_time": "2022-11-25T18:18:58.498Z"
   },
   {
    "duration": 211,
    "start_time": "2022-11-25T18:19:08.626Z"
   },
   {
    "duration": 226,
    "start_time": "2022-11-25T18:20:47.703Z"
   },
   {
    "duration": 245,
    "start_time": "2022-11-25T18:21:01.729Z"
   },
   {
    "duration": 222,
    "start_time": "2022-11-25T18:21:15.742Z"
   },
   {
    "duration": 237,
    "start_time": "2022-11-25T18:21:20.295Z"
   },
   {
    "duration": 239,
    "start_time": "2022-11-25T18:21:26.363Z"
   },
   {
    "duration": 258,
    "start_time": "2022-11-25T18:21:31.802Z"
   },
   {
    "duration": 5,
    "start_time": "2022-11-25T18:22:17.895Z"
   },
   {
    "duration": 485,
    "start_time": "2022-11-25T18:22:37.646Z"
   },
   {
    "duration": 5,
    "start_time": "2022-11-25T18:23:11.736Z"
   },
   {
    "duration": 5,
    "start_time": "2022-11-25T18:23:24.388Z"
   },
   {
    "duration": 5,
    "start_time": "2022-11-25T18:24:10.473Z"
   },
   {
    "duration": 234,
    "start_time": "2022-11-25T18:24:51.533Z"
   },
   {
    "duration": 169,
    "start_time": "2022-11-25T18:46:47.399Z"
   },
   {
    "duration": 144,
    "start_time": "2022-11-25T18:49:40.730Z"
   },
   {
    "duration": 5,
    "start_time": "2022-11-25T18:51:58.322Z"
   },
   {
    "duration": 141,
    "start_time": "2022-11-25T18:58:17.046Z"
   },
   {
    "duration": 74,
    "start_time": "2022-11-25T19:01:33.998Z"
   },
   {
    "duration": 146,
    "start_time": "2022-11-25T19:02:15.538Z"
   },
   {
    "duration": 90,
    "start_time": "2022-11-25T19:04:47.132Z"
   },
   {
    "duration": 140,
    "start_time": "2022-11-25T19:07:40.016Z"
   },
   {
    "duration": 150,
    "start_time": "2022-11-25T19:11:22.895Z"
   },
   {
    "duration": 1391,
    "start_time": "2022-11-25T19:13:19.750Z"
   },
   {
    "duration": 1256,
    "start_time": "2022-11-25T19:13:31.115Z"
   },
   {
    "duration": 8,
    "start_time": "2022-11-25T19:14:23.399Z"
   },
   {
    "duration": 14,
    "start_time": "2022-11-25T19:14:31.715Z"
   },
   {
    "duration": 14,
    "start_time": "2022-11-25T19:14:55.830Z"
   },
   {
    "duration": 1220,
    "start_time": "2022-11-25T19:16:18.439Z"
   },
   {
    "duration": 1319,
    "start_time": "2022-11-25T19:16:44.055Z"
   },
   {
    "duration": 496,
    "start_time": "2022-11-25T19:17:34.199Z"
   },
   {
    "duration": 56,
    "start_time": "2022-11-25T19:17:34.697Z"
   },
   {
    "duration": 15,
    "start_time": "2022-11-25T19:17:34.755Z"
   },
   {
    "duration": 2095,
    "start_time": "2022-11-25T19:17:34.772Z"
   },
   {
    "duration": 10,
    "start_time": "2022-11-25T19:17:36.869Z"
   },
   {
    "duration": 9,
    "start_time": "2022-11-25T19:17:36.881Z"
   },
   {
    "duration": 5,
    "start_time": "2022-11-25T19:17:36.891Z"
   },
   {
    "duration": 8,
    "start_time": "2022-11-25T19:17:36.897Z"
   },
   {
    "duration": 8,
    "start_time": "2022-11-25T19:17:36.907Z"
   },
   {
    "duration": 4,
    "start_time": "2022-11-25T19:17:36.917Z"
   },
   {
    "duration": 30,
    "start_time": "2022-11-25T19:17:36.923Z"
   },
   {
    "duration": 8,
    "start_time": "2022-11-25T19:17:36.955Z"
   },
   {
    "duration": 7,
    "start_time": "2022-11-25T19:17:36.965Z"
   },
   {
    "duration": 15,
    "start_time": "2022-11-25T19:17:36.974Z"
   },
   {
    "duration": 13,
    "start_time": "2022-11-25T19:17:36.990Z"
   },
   {
    "duration": 5,
    "start_time": "2022-11-25T19:17:37.004Z"
   },
   {
    "duration": 79,
    "start_time": "2022-11-25T19:17:37.010Z"
   },
   {
    "duration": 2,
    "start_time": "2022-11-25T19:17:37.091Z"
   },
   {
    "duration": 12,
    "start_time": "2022-11-25T19:17:37.095Z"
   },
   {
    "duration": 16,
    "start_time": "2022-11-25T19:17:37.108Z"
   },
   {
    "duration": 31,
    "start_time": "2022-11-25T19:17:37.126Z"
   },
   {
    "duration": 8,
    "start_time": "2022-11-25T19:17:37.160Z"
   },
   {
    "duration": 29,
    "start_time": "2022-11-25T19:17:37.170Z"
   },
   {
    "duration": 24,
    "start_time": "2022-11-25T19:17:37.201Z"
   },
   {
    "duration": 241,
    "start_time": "2022-11-25T19:17:37.227Z"
   },
   {
    "duration": 231,
    "start_time": "2022-11-25T19:17:37.469Z"
   },
   {
    "duration": 222,
    "start_time": "2022-11-25T19:17:37.701Z"
   },
   {
    "duration": 321,
    "start_time": "2022-11-25T19:17:37.926Z"
   },
   {
    "duration": 237,
    "start_time": "2022-11-25T19:17:38.252Z"
   },
   {
    "duration": 235,
    "start_time": "2022-11-25T19:17:38.491Z"
   },
   {
    "duration": 240,
    "start_time": "2022-11-25T19:17:38.728Z"
   },
   {
    "duration": 214,
    "start_time": "2022-11-25T19:17:38.969Z"
   },
   {
    "duration": 352,
    "start_time": "2022-11-25T19:17:39.185Z"
   },
   {
    "duration": 233,
    "start_time": "2022-11-25T19:17:39.539Z"
   },
   {
    "duration": 226,
    "start_time": "2022-11-25T19:17:39.773Z"
   },
   {
    "duration": 241,
    "start_time": "2022-11-25T19:17:40.001Z"
   },
   {
    "duration": 229,
    "start_time": "2022-11-25T19:17:40.244Z"
   },
   {
    "duration": 242,
    "start_time": "2022-11-25T19:17:40.474Z"
   },
   {
    "duration": 358,
    "start_time": "2022-11-25T19:17:40.718Z"
   },
   {
    "duration": 4,
    "start_time": "2022-11-25T19:17:41.077Z"
   },
   {
    "duration": 10,
    "start_time": "2022-11-25T19:17:41.083Z"
   },
   {
    "duration": 163,
    "start_time": "2022-11-25T19:17:41.094Z"
   },
   {
    "duration": 154,
    "start_time": "2022-11-25T19:17:41.259Z"
   },
   {
    "duration": 150,
    "start_time": "2022-11-25T19:17:41.414Z"
   },
   {
    "duration": 226,
    "start_time": "2022-11-25T19:17:41.566Z"
   },
   {
    "duration": 150,
    "start_time": "2022-11-25T19:18:00.389Z"
   },
   {
    "duration": 427,
    "start_time": "2022-11-25T19:26:45.051Z"
   },
   {
    "duration": 136,
    "start_time": "2022-11-25T19:27:30.580Z"
   },
   {
    "duration": 69,
    "start_time": "2022-11-25T19:32:16.554Z"
   },
   {
    "duration": 71,
    "start_time": "2022-11-25T19:34:09.642Z"
   },
   {
    "duration": 146,
    "start_time": "2022-11-25T19:34:56.982Z"
   },
   {
    "duration": 73,
    "start_time": "2022-11-25T19:35:44.864Z"
   },
   {
    "duration": 68,
    "start_time": "2022-11-25T19:36:14.890Z"
   },
   {
    "duration": 174,
    "start_time": "2022-11-25T19:36:41.832Z"
   },
   {
    "duration": 71,
    "start_time": "2022-11-25T19:37:21.309Z"
   },
   {
    "duration": 142,
    "start_time": "2022-11-25T19:37:48.712Z"
   },
   {
    "duration": 88,
    "start_time": "2022-11-25T19:40:04.712Z"
   },
   {
    "duration": 17,
    "start_time": "2022-11-25T19:50:24.128Z"
   },
   {
    "duration": 11,
    "start_time": "2022-11-25T19:54:51.756Z"
   },
   {
    "duration": 9,
    "start_time": "2022-11-25T19:58:19.035Z"
   },
   {
    "duration": 479,
    "start_time": "2022-11-25T20:06:13.895Z"
   },
   {
    "duration": 43,
    "start_time": "2022-11-25T20:06:14.376Z"
   },
   {
    "duration": 15,
    "start_time": "2022-11-25T20:06:14.420Z"
   },
   {
    "duration": 2301,
    "start_time": "2022-11-25T20:06:14.454Z"
   },
   {
    "duration": 9,
    "start_time": "2022-11-25T20:06:16.757Z"
   },
   {
    "duration": 36,
    "start_time": "2022-11-25T20:06:16.767Z"
   },
   {
    "duration": 24,
    "start_time": "2022-11-25T20:06:16.805Z"
   },
   {
    "duration": 33,
    "start_time": "2022-11-25T20:06:16.831Z"
   },
   {
    "duration": 24,
    "start_time": "2022-11-25T20:06:16.866Z"
   },
   {
    "duration": 28,
    "start_time": "2022-11-25T20:06:16.893Z"
   },
   {
    "duration": 49,
    "start_time": "2022-11-25T20:06:16.922Z"
   },
   {
    "duration": 20,
    "start_time": "2022-11-25T20:06:16.973Z"
   },
   {
    "duration": 25,
    "start_time": "2022-11-25T20:06:16.995Z"
   },
   {
    "duration": 47,
    "start_time": "2022-11-25T20:06:17.022Z"
   },
   {
    "duration": 39,
    "start_time": "2022-11-25T20:06:17.070Z"
   },
   {
    "duration": 17,
    "start_time": "2022-11-25T20:06:17.111Z"
   },
   {
    "duration": 66,
    "start_time": "2022-11-25T20:06:17.130Z"
   },
   {
    "duration": 40,
    "start_time": "2022-11-25T20:06:17.198Z"
   },
   {
    "duration": 8,
    "start_time": "2022-11-25T20:06:17.240Z"
   },
   {
    "duration": 17,
    "start_time": "2022-11-25T20:06:17.249Z"
   },
   {
    "duration": 7,
    "start_time": "2022-11-25T20:06:17.268Z"
   },
   {
    "duration": 8,
    "start_time": "2022-11-25T20:06:17.277Z"
   },
   {
    "duration": 12,
    "start_time": "2022-11-25T20:06:17.287Z"
   },
   {
    "duration": 7,
    "start_time": "2022-11-25T20:06:17.301Z"
   },
   {
    "duration": 254,
    "start_time": "2022-11-25T20:06:17.309Z"
   },
   {
    "duration": 244,
    "start_time": "2022-11-25T20:06:17.564Z"
   },
   {
    "duration": 232,
    "start_time": "2022-11-25T20:06:17.810Z"
   },
   {
    "duration": 322,
    "start_time": "2022-11-25T20:06:18.052Z"
   },
   {
    "duration": 250,
    "start_time": "2022-11-25T20:06:18.376Z"
   },
   {
    "duration": 258,
    "start_time": "2022-11-25T20:06:18.627Z"
   },
   {
    "duration": 265,
    "start_time": "2022-11-25T20:06:18.887Z"
   },
   {
    "duration": 254,
    "start_time": "2022-11-25T20:06:19.154Z"
   },
   {
    "duration": 366,
    "start_time": "2022-11-25T20:06:19.411Z"
   },
   {
    "duration": 251,
    "start_time": "2022-11-25T20:06:19.779Z"
   },
   {
    "duration": 237,
    "start_time": "2022-11-25T20:06:20.032Z"
   },
   {
    "duration": 242,
    "start_time": "2022-11-25T20:06:20.270Z"
   },
   {
    "duration": 238,
    "start_time": "2022-11-25T20:06:20.514Z"
   },
   {
    "duration": 241,
    "start_time": "2022-11-25T20:06:20.754Z"
   },
   {
    "duration": 358,
    "start_time": "2022-11-25T20:06:20.997Z"
   },
   {
    "duration": 5,
    "start_time": "2022-11-25T20:06:21.357Z"
   },
   {
    "duration": 43,
    "start_time": "2022-11-25T20:06:21.364Z"
   },
   {
    "duration": 159,
    "start_time": "2022-11-25T20:06:21.409Z"
   },
   {
    "duration": 164,
    "start_time": "2022-11-25T20:06:21.570Z"
   },
   {
    "duration": 167,
    "start_time": "2022-11-25T20:06:21.736Z"
   },
   {
    "duration": 175,
    "start_time": "2022-11-25T20:06:21.905Z"
   },
   {
    "duration": 148,
    "start_time": "2022-11-25T20:06:22.082Z"
   },
   {
    "duration": 162,
    "start_time": "2022-11-25T20:06:22.232Z"
   },
   {
    "duration": 197,
    "start_time": "2022-11-25T20:06:22.396Z"
   },
   {
    "duration": 158,
    "start_time": "2022-11-25T20:06:22.596Z"
   },
   {
    "duration": 9,
    "start_time": "2022-11-25T20:06:22.756Z"
   },
   {
    "duration": 9,
    "start_time": "2022-11-25T20:06:22.768Z"
   },
   {
    "duration": 97,
    "start_time": "2022-11-25T20:08:31.911Z"
   },
   {
    "duration": 10,
    "start_time": "2022-11-25T20:09:01.555Z"
   },
   {
    "duration": 52,
    "start_time": "2022-11-25T20:09:14.857Z"
   },
   {
    "duration": 18,
    "start_time": "2022-11-25T20:09:46.406Z"
   },
   {
    "duration": 14,
    "start_time": "2022-11-25T20:10:00.839Z"
   },
   {
    "duration": 18,
    "start_time": "2022-11-25T20:13:20.787Z"
   },
   {
    "duration": 20,
    "start_time": "2022-11-25T20:13:45.772Z"
   },
   {
    "duration": 19,
    "start_time": "2022-11-25T20:14:09.687Z"
   },
   {
    "duration": 19,
    "start_time": "2022-11-25T20:14:26.483Z"
   },
   {
    "duration": 18,
    "start_time": "2022-11-25T20:15:04.774Z"
   },
   {
    "duration": 19,
    "start_time": "2022-11-25T20:15:12.164Z"
   },
   {
    "duration": 8,
    "start_time": "2022-11-25T20:17:56.585Z"
   },
   {
    "duration": 38,
    "start_time": "2022-11-25T20:18:10.527Z"
   },
   {
    "duration": 18,
    "start_time": "2022-11-25T20:21:51.726Z"
   },
   {
    "duration": 492,
    "start_time": "2022-11-25T21:23:36.898Z"
   },
   {
    "duration": 41,
    "start_time": "2022-11-25T21:23:37.393Z"
   },
   {
    "duration": 14,
    "start_time": "2022-11-25T21:23:37.436Z"
   },
   {
    "duration": 1958,
    "start_time": "2022-11-25T21:23:37.451Z"
   },
   {
    "duration": 16,
    "start_time": "2022-11-25T21:23:39.411Z"
   },
   {
    "duration": 7,
    "start_time": "2022-11-25T21:23:39.428Z"
   },
   {
    "duration": 18,
    "start_time": "2022-11-25T21:23:39.436Z"
   },
   {
    "duration": 10,
    "start_time": "2022-11-25T21:23:39.456Z"
   },
   {
    "duration": 15,
    "start_time": "2022-11-25T21:23:39.468Z"
   },
   {
    "duration": 6,
    "start_time": "2022-11-25T21:23:39.485Z"
   },
   {
    "duration": 34,
    "start_time": "2022-11-25T21:23:39.492Z"
   },
   {
    "duration": 7,
    "start_time": "2022-11-25T21:23:39.528Z"
   },
   {
    "duration": 12,
    "start_time": "2022-11-25T21:23:39.536Z"
   },
   {
    "duration": 19,
    "start_time": "2022-11-25T21:23:39.551Z"
   },
   {
    "duration": 18,
    "start_time": "2022-11-25T21:23:39.571Z"
   },
   {
    "duration": 9,
    "start_time": "2022-11-25T21:23:39.590Z"
   },
   {
    "duration": 61,
    "start_time": "2022-11-25T21:23:39.600Z"
   },
   {
    "duration": 24,
    "start_time": "2022-11-25T21:23:39.662Z"
   },
   {
    "duration": 15,
    "start_time": "2022-11-25T21:23:39.688Z"
   },
   {
    "duration": 18,
    "start_time": "2022-11-25T21:23:39.705Z"
   },
   {
    "duration": 7,
    "start_time": "2022-11-25T21:23:39.724Z"
   },
   {
    "duration": 6,
    "start_time": "2022-11-25T21:23:39.732Z"
   },
   {
    "duration": 15,
    "start_time": "2022-11-25T21:23:39.740Z"
   },
   {
    "duration": 6,
    "start_time": "2022-11-25T21:23:39.756Z"
   },
   {
    "duration": 225,
    "start_time": "2022-11-25T21:23:39.764Z"
   },
   {
    "duration": 233,
    "start_time": "2022-11-25T21:23:39.991Z"
   },
   {
    "duration": 246,
    "start_time": "2022-11-25T21:23:40.226Z"
   },
   {
    "duration": 307,
    "start_time": "2022-11-25T21:23:40.473Z"
   },
   {
    "duration": 244,
    "start_time": "2022-11-25T21:23:40.782Z"
   },
   {
    "duration": 252,
    "start_time": "2022-11-25T21:23:41.028Z"
   },
   {
    "duration": 246,
    "start_time": "2022-11-25T21:23:41.282Z"
   },
   {
    "duration": 225,
    "start_time": "2022-11-25T21:23:41.530Z"
   },
   {
    "duration": 329,
    "start_time": "2022-11-25T21:23:41.756Z"
   },
   {
    "duration": 243,
    "start_time": "2022-11-25T21:23:42.086Z"
   },
   {
    "duration": 231,
    "start_time": "2022-11-25T21:23:42.331Z"
   },
   {
    "duration": 229,
    "start_time": "2022-11-25T21:23:42.564Z"
   },
   {
    "duration": 228,
    "start_time": "2022-11-25T21:23:42.795Z"
   },
   {
    "duration": 250,
    "start_time": "2022-11-25T21:23:43.024Z"
   },
   {
    "duration": 365,
    "start_time": "2022-11-25T21:23:43.276Z"
   },
   {
    "duration": 6,
    "start_time": "2022-11-25T21:23:43.643Z"
   },
   {
    "duration": 7,
    "start_time": "2022-11-25T21:23:43.654Z"
   },
   {
    "duration": 153,
    "start_time": "2022-11-25T21:23:43.662Z"
   },
   {
    "duration": 158,
    "start_time": "2022-11-25T21:23:43.816Z"
   },
   {
    "duration": 154,
    "start_time": "2022-11-25T21:23:43.976Z"
   },
   {
    "duration": 150,
    "start_time": "2022-11-25T21:23:44.132Z"
   },
   {
    "duration": 138,
    "start_time": "2022-11-25T21:23:44.284Z"
   },
   {
    "duration": 148,
    "start_time": "2022-11-25T21:23:44.424Z"
   },
   {
    "duration": 154,
    "start_time": "2022-11-25T21:23:44.574Z"
   },
   {
    "duration": 146,
    "start_time": "2022-11-25T21:23:44.730Z"
   },
   {
    "duration": 7,
    "start_time": "2022-11-25T21:23:44.877Z"
   },
   {
    "duration": 35,
    "start_time": "2022-11-25T21:23:44.886Z"
   },
   {
    "duration": 18,
    "start_time": "2022-11-25T21:23:44.922Z"
   },
   {
    "duration": 150,
    "start_time": "2022-11-25T21:27:40.424Z"
   },
   {
    "duration": 45,
    "start_time": "2022-11-28T09:52:55.882Z"
   },
   {
    "duration": 1276,
    "start_time": "2022-11-28T09:53:07.584Z"
   },
   {
    "duration": 50,
    "start_time": "2022-11-28T09:53:08.862Z"
   },
   {
    "duration": 16,
    "start_time": "2022-11-28T09:53:08.913Z"
   },
   {
    "duration": 3205,
    "start_time": "2022-11-28T09:53:08.931Z"
   },
   {
    "duration": 9,
    "start_time": "2022-11-28T09:53:12.138Z"
   },
   {
    "duration": 63,
    "start_time": "2022-11-28T09:53:12.149Z"
   },
   {
    "duration": 5,
    "start_time": "2022-11-28T09:53:12.214Z"
   },
   {
    "duration": 25,
    "start_time": "2022-11-28T09:53:12.221Z"
   },
   {
    "duration": 11,
    "start_time": "2022-11-28T09:53:12.248Z"
   },
   {
    "duration": 49,
    "start_time": "2022-11-28T09:53:12.263Z"
   },
   {
    "duration": 22,
    "start_time": "2022-11-28T09:53:12.316Z"
   },
   {
    "duration": 8,
    "start_time": "2022-11-28T09:53:12.340Z"
   },
   {
    "duration": 15,
    "start_time": "2022-11-28T09:53:12.350Z"
   },
   {
    "duration": 14,
    "start_time": "2022-11-28T09:53:12.413Z"
   },
   {
    "duration": 22,
    "start_time": "2022-11-28T09:53:12.429Z"
   },
   {
    "duration": 66,
    "start_time": "2022-11-28T09:53:12.453Z"
   },
   {
    "duration": 111,
    "start_time": "2022-11-28T09:53:12.520Z"
   },
   {
    "duration": 29,
    "start_time": "2022-11-28T09:53:12.633Z"
   },
   {
    "duration": 36,
    "start_time": "2022-11-28T09:53:12.663Z"
   },
   {
    "duration": 31,
    "start_time": "2022-11-28T09:53:12.700Z"
   },
   {
    "duration": 16,
    "start_time": "2022-11-28T09:53:12.733Z"
   },
   {
    "duration": 30,
    "start_time": "2022-11-28T09:53:12.751Z"
   },
   {
    "duration": 28,
    "start_time": "2022-11-28T09:53:12.783Z"
   },
   {
    "duration": 11,
    "start_time": "2022-11-28T09:53:12.813Z"
   },
   {
    "duration": 255,
    "start_time": "2022-11-28T09:53:12.826Z"
   },
   {
    "duration": 307,
    "start_time": "2022-11-28T09:53:13.083Z"
   },
   {
    "duration": 370,
    "start_time": "2022-11-28T09:53:13.392Z"
   },
   {
    "duration": 259,
    "start_time": "2022-11-28T09:53:13.766Z"
   },
   {
    "duration": 288,
    "start_time": "2022-11-28T09:53:14.027Z"
   },
   {
    "duration": 282,
    "start_time": "2022-11-28T09:53:14.317Z"
   },
   {
    "duration": 286,
    "start_time": "2022-11-28T09:53:14.601Z"
   },
   {
    "duration": 251,
    "start_time": "2022-11-28T09:53:14.889Z"
   },
   {
    "duration": 362,
    "start_time": "2022-11-28T09:53:15.142Z"
   },
   {
    "duration": 282,
    "start_time": "2022-11-28T09:53:15.506Z"
   },
   {
    "duration": 283,
    "start_time": "2022-11-28T09:53:15.790Z"
   },
   {
    "duration": 303,
    "start_time": "2022-11-28T09:53:16.075Z"
   },
   {
    "duration": 315,
    "start_time": "2022-11-28T09:53:16.382Z"
   },
   {
    "duration": 378,
    "start_time": "2022-11-28T09:53:16.699Z"
   },
   {
    "duration": 287,
    "start_time": "2022-11-28T09:53:17.079Z"
   },
   {
    "duration": 6,
    "start_time": "2022-11-28T09:53:17.367Z"
   },
   {
    "duration": 11,
    "start_time": "2022-11-28T09:53:17.375Z"
   },
   {
    "duration": 183,
    "start_time": "2022-11-28T09:53:17.387Z"
   },
   {
    "duration": 186,
    "start_time": "2022-11-28T09:53:17.572Z"
   },
   {
    "duration": 168,
    "start_time": "2022-11-28T09:53:17.760Z"
   },
   {
    "duration": 184,
    "start_time": "2022-11-28T09:53:17.930Z"
   },
   {
    "duration": 174,
    "start_time": "2022-11-28T09:53:18.115Z"
   },
   {
    "duration": 174,
    "start_time": "2022-11-28T09:53:18.291Z"
   },
   {
    "duration": 199,
    "start_time": "2022-11-28T09:53:18.467Z"
   },
   {
    "duration": 173,
    "start_time": "2022-11-28T09:53:18.668Z"
   },
   {
    "duration": 11,
    "start_time": "2022-11-28T09:53:18.843Z"
   },
   {
    "duration": 31,
    "start_time": "2022-11-28T09:53:18.856Z"
   },
   {
    "duration": 43,
    "start_time": "2022-11-28T09:53:18.889Z"
   },
   {
    "duration": 56,
    "start_time": "2022-11-28T10:31:46.618Z"
   },
   {
    "duration": 52,
    "start_time": "2022-11-28T10:36:08.820Z"
   },
   {
    "duration": 78,
    "start_time": "2022-11-28T10:36:30.756Z"
   },
   {
    "duration": 57,
    "start_time": "2022-11-28T10:36:41.769Z"
   },
   {
    "duration": 48,
    "start_time": "2022-11-28T10:37:31.200Z"
   },
   {
    "duration": 59,
    "start_time": "2022-11-28T10:40:46.516Z"
   },
   {
    "duration": 8,
    "start_time": "2022-11-28T10:41:21.300Z"
   },
   {
    "duration": 8,
    "start_time": "2022-11-28T10:41:24.127Z"
   },
   {
    "duration": 15,
    "start_time": "2022-11-28T10:41:26.428Z"
   },
   {
    "duration": 806,
    "start_time": "2022-11-28T10:53:39.623Z"
   },
   {
    "duration": 45,
    "start_time": "2022-11-28T10:53:40.431Z"
   },
   {
    "duration": 15,
    "start_time": "2022-11-28T10:53:40.478Z"
   },
   {
    "duration": 2107,
    "start_time": "2022-11-28T10:53:40.513Z"
   },
   {
    "duration": 11,
    "start_time": "2022-11-28T10:53:42.621Z"
   },
   {
    "duration": 57,
    "start_time": "2022-11-28T10:53:42.634Z"
   },
   {
    "duration": 20,
    "start_time": "2022-11-28T10:53:42.693Z"
   },
   {
    "duration": 9,
    "start_time": "2022-11-28T10:53:42.715Z"
   },
   {
    "duration": 16,
    "start_time": "2022-11-28T10:53:42.726Z"
   },
   {
    "duration": 17,
    "start_time": "2022-11-28T10:53:42.744Z"
   },
   {
    "duration": 13,
    "start_time": "2022-11-28T10:53:42.763Z"
   },
   {
    "duration": 33,
    "start_time": "2022-11-28T10:53:42.778Z"
   },
   {
    "duration": 8,
    "start_time": "2022-11-28T10:53:42.813Z"
   },
   {
    "duration": 24,
    "start_time": "2022-11-28T10:53:42.823Z"
   },
   {
    "duration": 43,
    "start_time": "2022-11-28T10:53:42.849Z"
   },
   {
    "duration": 14,
    "start_time": "2022-11-28T10:53:42.894Z"
   },
   {
    "duration": 11,
    "start_time": "2022-11-28T10:53:42.909Z"
   },
   {
    "duration": 55,
    "start_time": "2022-11-28T10:53:42.922Z"
   },
   {
    "duration": 39,
    "start_time": "2022-11-28T10:53:42.979Z"
   },
   {
    "duration": 11,
    "start_time": "2022-11-28T10:53:43.020Z"
   },
   {
    "duration": 16,
    "start_time": "2022-11-28T10:53:43.032Z"
   },
   {
    "duration": 22,
    "start_time": "2022-11-28T10:53:43.050Z"
   },
   {
    "duration": 14,
    "start_time": "2022-11-28T10:53:43.074Z"
   },
   {
    "duration": 95,
    "start_time": "2022-11-28T10:53:43.090Z"
   },
   {
    "duration": 0,
    "start_time": "2022-11-28T10:53:43.188Z"
   },
   {
    "duration": 0,
    "start_time": "2022-11-28T10:53:43.190Z"
   },
   {
    "duration": 0,
    "start_time": "2022-11-28T10:53:43.191Z"
   },
   {
    "duration": 0,
    "start_time": "2022-11-28T10:53:43.192Z"
   },
   {
    "duration": 0,
    "start_time": "2022-11-28T10:53:43.193Z"
   },
   {
    "duration": 0,
    "start_time": "2022-11-28T10:53:43.194Z"
   },
   {
    "duration": 1,
    "start_time": "2022-11-28T10:53:43.212Z"
   },
   {
    "duration": 0,
    "start_time": "2022-11-28T10:53:43.214Z"
   },
   {
    "duration": 0,
    "start_time": "2022-11-28T10:53:43.215Z"
   },
   {
    "duration": 0,
    "start_time": "2022-11-28T10:53:43.216Z"
   },
   {
    "duration": 0,
    "start_time": "2022-11-28T10:53:43.218Z"
   },
   {
    "duration": 0,
    "start_time": "2022-11-28T10:53:43.219Z"
   },
   {
    "duration": 0,
    "start_time": "2022-11-28T10:53:43.221Z"
   },
   {
    "duration": 0,
    "start_time": "2022-11-28T10:53:43.222Z"
   },
   {
    "duration": 0,
    "start_time": "2022-11-28T10:53:43.223Z"
   },
   {
    "duration": 0,
    "start_time": "2022-11-28T10:53:43.224Z"
   },
   {
    "duration": 0,
    "start_time": "2022-11-28T10:53:43.224Z"
   },
   {
    "duration": 0,
    "start_time": "2022-11-28T10:53:43.226Z"
   },
   {
    "duration": 0,
    "start_time": "2022-11-28T10:53:43.227Z"
   },
   {
    "duration": 0,
    "start_time": "2022-11-28T10:53:43.228Z"
   },
   {
    "duration": 0,
    "start_time": "2022-11-28T10:53:43.229Z"
   },
   {
    "duration": 0,
    "start_time": "2022-11-28T10:53:43.230Z"
   },
   {
    "duration": 0,
    "start_time": "2022-11-28T10:53:43.231Z"
   },
   {
    "duration": 0,
    "start_time": "2022-11-28T10:53:43.232Z"
   },
   {
    "duration": 0,
    "start_time": "2022-11-28T10:53:43.233Z"
   },
   {
    "duration": 0,
    "start_time": "2022-11-28T10:53:43.235Z"
   },
   {
    "duration": 0,
    "start_time": "2022-11-28T10:53:43.236Z"
   },
   {
    "duration": 0,
    "start_time": "2022-11-28T10:53:43.237Z"
   },
   {
    "duration": 0,
    "start_time": "2022-11-28T10:53:43.238Z"
   },
   {
    "duration": 499,
    "start_time": "2022-11-28T10:58:43.345Z"
   },
   {
    "duration": 9,
    "start_time": "2022-11-28T10:59:11.068Z"
   },
   {
    "duration": 607,
    "start_time": "2022-11-28T10:59:19.481Z"
   },
   {
    "duration": 487,
    "start_time": "2022-11-28T10:59:30.300Z"
   },
   {
    "duration": 107,
    "start_time": "2022-11-28T11:12:19.241Z"
   },
   {
    "duration": 26,
    "start_time": "2022-11-28T11:21:43.162Z"
   },
   {
    "duration": 17,
    "start_time": "2022-11-28T11:23:38.949Z"
   },
   {
    "duration": 16,
    "start_time": "2022-11-28T11:25:03.208Z"
   },
   {
    "duration": 17,
    "start_time": "2022-11-28T11:25:09.384Z"
   },
   {
    "duration": 723,
    "start_time": "2022-11-28T11:32:32.945Z"
   },
   {
    "duration": 55,
    "start_time": "2022-11-28T11:32:33.670Z"
   },
   {
    "duration": 17,
    "start_time": "2022-11-28T11:32:33.727Z"
   },
   {
    "duration": 2182,
    "start_time": "2022-11-28T11:32:33.746Z"
   },
   {
    "duration": 10,
    "start_time": "2022-11-28T11:32:35.931Z"
   },
   {
    "duration": 56,
    "start_time": "2022-11-28T11:32:35.943Z"
   },
   {
    "duration": 13,
    "start_time": "2022-11-28T11:32:36.001Z"
   },
   {
    "duration": 5,
    "start_time": "2022-11-28T11:32:36.017Z"
   },
   {
    "duration": 9,
    "start_time": "2022-11-28T11:32:36.024Z"
   },
   {
    "duration": 8,
    "start_time": "2022-11-28T11:32:36.038Z"
   },
   {
    "duration": 5,
    "start_time": "2022-11-28T11:32:36.048Z"
   },
   {
    "duration": 18,
    "start_time": "2022-11-28T11:32:36.055Z"
   },
   {
    "duration": 9,
    "start_time": "2022-11-28T11:32:36.111Z"
   },
   {
    "duration": 9,
    "start_time": "2022-11-28T11:32:36.122Z"
   },
   {
    "duration": 18,
    "start_time": "2022-11-28T11:32:36.132Z"
   },
   {
    "duration": 13,
    "start_time": "2022-11-28T11:32:36.151Z"
   },
   {
    "duration": 10,
    "start_time": "2022-11-28T11:32:36.168Z"
   },
   {
    "duration": 83,
    "start_time": "2022-11-28T11:32:36.180Z"
   },
   {
    "duration": 48,
    "start_time": "2022-11-28T11:32:36.265Z"
   },
   {
    "duration": 8,
    "start_time": "2022-11-28T11:32:36.314Z"
   },
   {
    "duration": 23,
    "start_time": "2022-11-28T11:32:36.324Z"
   },
   {
    "duration": 10,
    "start_time": "2022-11-28T11:32:36.349Z"
   },
   {
    "duration": 54,
    "start_time": "2022-11-28T11:32:36.362Z"
   },
   {
    "duration": 154,
    "start_time": "2022-11-28T11:32:36.419Z"
   },
   {
    "duration": 22,
    "start_time": "2022-11-28T11:32:36.576Z"
   },
   {
    "duration": 102,
    "start_time": "2022-11-28T11:32:36.611Z"
   },
   {
    "duration": 0,
    "start_time": "2022-11-28T11:32:36.716Z"
   },
   {
    "duration": 0,
    "start_time": "2022-11-28T11:32:36.718Z"
   },
   {
    "duration": 0,
    "start_time": "2022-11-28T11:32:36.719Z"
   },
   {
    "duration": 0,
    "start_time": "2022-11-28T11:32:36.720Z"
   },
   {
    "duration": 0,
    "start_time": "2022-11-28T11:32:36.721Z"
   },
   {
    "duration": 0,
    "start_time": "2022-11-28T11:32:36.722Z"
   },
   {
    "duration": 0,
    "start_time": "2022-11-28T11:32:36.723Z"
   },
   {
    "duration": 0,
    "start_time": "2022-11-28T11:32:36.724Z"
   },
   {
    "duration": 0,
    "start_time": "2022-11-28T11:32:36.725Z"
   },
   {
    "duration": 0,
    "start_time": "2022-11-28T11:32:36.726Z"
   },
   {
    "duration": 0,
    "start_time": "2022-11-28T11:32:36.727Z"
   },
   {
    "duration": 0,
    "start_time": "2022-11-28T11:32:36.728Z"
   },
   {
    "duration": 0,
    "start_time": "2022-11-28T11:32:36.729Z"
   },
   {
    "duration": 0,
    "start_time": "2022-11-28T11:32:36.730Z"
   },
   {
    "duration": 1,
    "start_time": "2022-11-28T11:32:36.731Z"
   },
   {
    "duration": 0,
    "start_time": "2022-11-28T11:32:36.733Z"
   },
   {
    "duration": 0,
    "start_time": "2022-11-28T11:32:36.734Z"
   },
   {
    "duration": 0,
    "start_time": "2022-11-28T11:32:36.735Z"
   },
   {
    "duration": 0,
    "start_time": "2022-11-28T11:32:36.736Z"
   },
   {
    "duration": 0,
    "start_time": "2022-11-28T11:32:36.737Z"
   },
   {
    "duration": 0,
    "start_time": "2022-11-28T11:32:36.738Z"
   },
   {
    "duration": 0,
    "start_time": "2022-11-28T11:32:36.739Z"
   },
   {
    "duration": 0,
    "start_time": "2022-11-28T11:32:36.740Z"
   },
   {
    "duration": 0,
    "start_time": "2022-11-28T11:32:36.741Z"
   },
   {
    "duration": 0,
    "start_time": "2022-11-28T11:32:36.742Z"
   },
   {
    "duration": 0,
    "start_time": "2022-11-28T11:32:36.743Z"
   },
   {
    "duration": 0,
    "start_time": "2022-11-28T11:32:36.744Z"
   },
   {
    "duration": 0,
    "start_time": "2022-11-28T11:32:36.745Z"
   },
   {
    "duration": 0,
    "start_time": "2022-11-28T11:32:36.745Z"
   },
   {
    "duration": 11,
    "start_time": "2022-11-28T11:33:48.006Z"
   },
   {
    "duration": 13,
    "start_time": "2022-11-28T11:34:13.209Z"
   },
   {
    "duration": 11,
    "start_time": "2022-11-28T11:34:55.579Z"
   },
   {
    "duration": 26,
    "start_time": "2022-11-28T11:35:11.682Z"
   },
   {
    "duration": 32,
    "start_time": "2022-11-28T11:35:33.831Z"
   },
   {
    "duration": 80,
    "start_time": "2022-11-28T11:36:05.194Z"
   },
   {
    "duration": 36,
    "start_time": "2022-11-28T11:36:23.729Z"
   },
   {
    "duration": 55,
    "start_time": "2022-11-28T11:36:41.782Z"
   },
   {
    "duration": 35,
    "start_time": "2022-11-28T11:36:46.717Z"
   },
   {
    "duration": 36,
    "start_time": "2022-11-28T11:36:57.377Z"
   },
   {
    "duration": 16,
    "start_time": "2022-11-28T11:38:19.716Z"
   },
   {
    "duration": 36,
    "start_time": "2022-11-28T11:38:48.052Z"
   },
   {
    "duration": 766,
    "start_time": "2022-11-28T11:40:32.316Z"
   },
   {
    "duration": 48,
    "start_time": "2022-11-28T11:40:33.086Z"
   },
   {
    "duration": 17,
    "start_time": "2022-11-28T11:40:33.137Z"
   },
   {
    "duration": 2195,
    "start_time": "2022-11-28T11:40:33.157Z"
   },
   {
    "duration": 9,
    "start_time": "2022-11-28T11:40:35.354Z"
   },
   {
    "duration": 57,
    "start_time": "2022-11-28T11:40:35.365Z"
   },
   {
    "duration": 9,
    "start_time": "2022-11-28T11:40:35.423Z"
   },
   {
    "duration": 26,
    "start_time": "2022-11-28T11:40:35.434Z"
   },
   {
    "duration": 10,
    "start_time": "2022-11-28T11:40:35.462Z"
   },
   {
    "duration": 11,
    "start_time": "2022-11-28T11:40:35.475Z"
   },
   {
    "duration": 5,
    "start_time": "2022-11-28T11:40:35.488Z"
   },
   {
    "duration": 24,
    "start_time": "2022-11-28T11:40:35.495Z"
   },
   {
    "duration": 9,
    "start_time": "2022-11-28T11:40:35.521Z"
   },
   {
    "duration": 11,
    "start_time": "2022-11-28T11:40:35.533Z"
   },
   {
    "duration": 29,
    "start_time": "2022-11-28T11:40:35.546Z"
   },
   {
    "duration": 36,
    "start_time": "2022-11-28T11:40:35.578Z"
   },
   {
    "duration": 7,
    "start_time": "2022-11-28T11:40:35.616Z"
   },
   {
    "duration": 54,
    "start_time": "2022-11-28T11:40:35.625Z"
   },
   {
    "duration": 50,
    "start_time": "2022-11-28T11:40:35.681Z"
   },
   {
    "duration": 7,
    "start_time": "2022-11-28T11:40:35.733Z"
   },
   {
    "duration": 29,
    "start_time": "2022-11-28T11:40:35.742Z"
   },
   {
    "duration": 17,
    "start_time": "2022-11-28T11:40:35.773Z"
   },
   {
    "duration": 13,
    "start_time": "2022-11-28T11:40:35.792Z"
   },
   {
    "duration": 110,
    "start_time": "2022-11-28T11:40:35.807Z"
   },
   {
    "duration": 21,
    "start_time": "2022-11-28T11:40:35.919Z"
   },
   {
    "duration": 40,
    "start_time": "2022-11-28T11:40:35.941Z"
   },
   {
    "duration": 35,
    "start_time": "2022-11-28T11:40:35.983Z"
   },
   {
    "duration": 284,
    "start_time": "2022-11-28T11:40:36.021Z"
   },
   {
    "duration": 392,
    "start_time": "2022-11-28T11:40:36.307Z"
   },
   {
    "duration": 340,
    "start_time": "2022-11-28T11:40:36.701Z"
   },
   {
    "duration": 273,
    "start_time": "2022-11-28T11:40:37.043Z"
   },
   {
    "duration": 266,
    "start_time": "2022-11-28T11:40:37.318Z"
   },
   {
    "duration": 268,
    "start_time": "2022-11-28T11:40:37.586Z"
   },
   {
    "duration": 278,
    "start_time": "2022-11-28T11:40:37.857Z"
   },
   {
    "duration": 261,
    "start_time": "2022-11-28T11:40:38.136Z"
   },
   {
    "duration": 353,
    "start_time": "2022-11-28T11:40:38.399Z"
   },
   {
    "duration": 271,
    "start_time": "2022-11-28T11:40:38.754Z"
   },
   {
    "duration": 291,
    "start_time": "2022-11-28T11:40:39.027Z"
   },
   {
    "duration": 306,
    "start_time": "2022-11-28T11:40:39.321Z"
   },
   {
    "duration": 257,
    "start_time": "2022-11-28T11:40:39.629Z"
   },
   {
    "duration": 382,
    "start_time": "2022-11-28T11:40:39.889Z"
   },
   {
    "duration": 262,
    "start_time": "2022-11-28T11:40:40.273Z"
   },
   {
    "duration": 5,
    "start_time": "2022-11-28T11:40:40.537Z"
   },
   {
    "duration": 10,
    "start_time": "2022-11-28T11:40:40.544Z"
   },
   {
    "duration": 386,
    "start_time": "2022-11-28T11:40:40.556Z"
   },
   {
    "duration": 0,
    "start_time": "2022-11-28T11:40:40.944Z"
   },
   {
    "duration": 0,
    "start_time": "2022-11-28T11:40:40.945Z"
   },
   {
    "duration": 0,
    "start_time": "2022-11-28T11:40:40.946Z"
   },
   {
    "duration": 0,
    "start_time": "2022-11-28T11:40:40.948Z"
   },
   {
    "duration": 0,
    "start_time": "2022-11-28T11:40:40.949Z"
   },
   {
    "duration": 0,
    "start_time": "2022-11-28T11:40:40.950Z"
   },
   {
    "duration": 0,
    "start_time": "2022-11-28T11:40:40.952Z"
   },
   {
    "duration": 0,
    "start_time": "2022-11-28T11:40:40.953Z"
   },
   {
    "duration": 0,
    "start_time": "2022-11-28T11:40:40.954Z"
   },
   {
    "duration": 0,
    "start_time": "2022-11-28T11:40:40.956Z"
   },
   {
    "duration": 135,
    "start_time": "2022-11-28T11:41:25.784Z"
   },
   {
    "duration": 36,
    "start_time": "2022-11-28T11:41:53.533Z"
   },
   {
    "duration": 13,
    "start_time": "2022-11-28T11:42:19.367Z"
   },
   {
    "duration": 12,
    "start_time": "2022-11-28T11:42:25.832Z"
   },
   {
    "duration": 47,
    "start_time": "2022-11-28T11:43:41.357Z"
   },
   {
    "duration": 13,
    "start_time": "2022-11-28T11:50:22.507Z"
   },
   {
    "duration": 38,
    "start_time": "2022-11-28T11:50:33.401Z"
   },
   {
    "duration": 49,
    "start_time": "2022-11-28T11:50:56.698Z"
   },
   {
    "duration": 18,
    "start_time": "2022-11-28T11:52:21.208Z"
   },
   {
    "duration": 41,
    "start_time": "2022-11-28T11:52:42.207Z"
   },
   {
    "duration": 41,
    "start_time": "2022-11-28T11:52:56.850Z"
   },
   {
    "duration": 39,
    "start_time": "2022-11-28T11:53:37.053Z"
   },
   {
    "duration": 17,
    "start_time": "2022-11-28T12:02:55.468Z"
   },
   {
    "duration": 15,
    "start_time": "2022-11-28T12:03:04.156Z"
   },
   {
    "duration": 100,
    "start_time": "2022-11-28T12:03:51.096Z"
   },
   {
    "duration": 59,
    "start_time": "2022-11-28T12:03:56.377Z"
   },
   {
    "duration": 13,
    "start_time": "2022-11-28T12:04:10.782Z"
   },
   {
    "duration": 43,
    "start_time": "2022-11-28T12:07:47.789Z"
   },
   {
    "duration": 334,
    "start_time": "2022-11-28T12:08:54.739Z"
   },
   {
    "duration": 285,
    "start_time": "2022-11-28T12:11:58.750Z"
   },
   {
    "duration": 277,
    "start_time": "2022-11-28T12:12:08.360Z"
   },
   {
    "duration": 277,
    "start_time": "2022-11-28T12:12:15.429Z"
   },
   {
    "duration": 430,
    "start_time": "2022-11-28T12:12:31.930Z"
   },
   {
    "duration": 266,
    "start_time": "2022-11-28T12:12:43.493Z"
   },
   {
    "duration": 265,
    "start_time": "2022-11-28T12:14:35.196Z"
   },
   {
    "duration": 827,
    "start_time": "2022-11-28T12:16:04.975Z"
   },
   {
    "duration": 51,
    "start_time": "2022-11-28T12:16:05.804Z"
   },
   {
    "duration": 16,
    "start_time": "2022-11-28T12:16:05.856Z"
   },
   {
    "duration": 2558,
    "start_time": "2022-11-28T12:16:05.874Z"
   },
   {
    "duration": 10,
    "start_time": "2022-11-28T12:16:08.434Z"
   },
   {
    "duration": 65,
    "start_time": "2022-11-28T12:16:08.446Z"
   },
   {
    "duration": 12,
    "start_time": "2022-11-28T12:16:08.515Z"
   },
   {
    "duration": 11,
    "start_time": "2022-11-28T12:16:08.530Z"
   },
   {
    "duration": 11,
    "start_time": "2022-11-28T12:16:08.543Z"
   },
   {
    "duration": 9,
    "start_time": "2022-11-28T12:16:08.556Z"
   },
   {
    "duration": 7,
    "start_time": "2022-11-28T12:16:08.567Z"
   },
   {
    "duration": 37,
    "start_time": "2022-11-28T12:16:08.576Z"
   },
   {
    "duration": 15,
    "start_time": "2022-11-28T12:16:08.617Z"
   },
   {
    "duration": 5,
    "start_time": "2022-11-28T12:16:08.637Z"
   },
   {
    "duration": 18,
    "start_time": "2022-11-28T12:16:08.645Z"
   },
   {
    "duration": 18,
    "start_time": "2022-11-28T12:16:08.666Z"
   },
   {
    "duration": 13,
    "start_time": "2022-11-28T12:16:08.718Z"
   },
   {
    "duration": 55,
    "start_time": "2022-11-28T12:16:08.732Z"
   },
   {
    "duration": 47,
    "start_time": "2022-11-28T12:16:08.789Z"
   },
   {
    "duration": 8,
    "start_time": "2022-11-28T12:16:08.838Z"
   },
   {
    "duration": 16,
    "start_time": "2022-11-28T12:16:08.848Z"
   },
   {
    "duration": 8,
    "start_time": "2022-11-28T12:16:08.866Z"
   },
   {
    "duration": 43,
    "start_time": "2022-11-28T12:16:08.875Z"
   },
   {
    "duration": 118,
    "start_time": "2022-11-28T12:16:08.919Z"
   },
   {
    "duration": 34,
    "start_time": "2022-11-28T12:16:09.038Z"
   },
   {
    "duration": 63,
    "start_time": "2022-11-28T12:16:09.074Z"
   },
   {
    "duration": 10,
    "start_time": "2022-11-28T12:16:09.139Z"
   },
   {
    "duration": 345,
    "start_time": "2022-11-28T12:16:09.151Z"
   },
   {
    "duration": 303,
    "start_time": "2022-11-28T12:16:09.498Z"
   },
   {
    "duration": 404,
    "start_time": "2022-11-28T12:16:09.804Z"
   },
   {
    "duration": 292,
    "start_time": "2022-11-28T12:16:10.212Z"
   },
   {
    "duration": 288,
    "start_time": "2022-11-28T12:16:10.507Z"
   },
   {
    "duration": 287,
    "start_time": "2022-11-28T12:16:10.797Z"
   },
   {
    "duration": 327,
    "start_time": "2022-11-28T12:16:11.085Z"
   },
   {
    "duration": 244,
    "start_time": "2022-11-28T12:16:11.418Z"
   },
   {
    "duration": 379,
    "start_time": "2022-11-28T12:16:11.665Z"
   },
   {
    "duration": 292,
    "start_time": "2022-11-28T12:16:12.046Z"
   },
   {
    "duration": 268,
    "start_time": "2022-11-28T12:16:12.340Z"
   },
   {
    "duration": 268,
    "start_time": "2022-11-28T12:16:12.609Z"
   },
   {
    "duration": 273,
    "start_time": "2022-11-28T12:16:12.879Z"
   },
   {
    "duration": 525,
    "start_time": "2022-11-28T12:16:13.157Z"
   },
   {
    "duration": 280,
    "start_time": "2022-11-28T12:16:13.684Z"
   },
   {
    "duration": 5,
    "start_time": "2022-11-28T12:16:13.966Z"
   },
   {
    "duration": 6,
    "start_time": "2022-11-28T12:16:13.973Z"
   },
   {
    "duration": 464,
    "start_time": "2022-11-28T12:16:13.981Z"
   },
   {
    "duration": 0,
    "start_time": "2022-11-28T12:16:14.447Z"
   },
   {
    "duration": 0,
    "start_time": "2022-11-28T12:16:14.448Z"
   },
   {
    "duration": 0,
    "start_time": "2022-11-28T12:16:14.450Z"
   },
   {
    "duration": 0,
    "start_time": "2022-11-28T12:16:14.451Z"
   },
   {
    "duration": 0,
    "start_time": "2022-11-28T12:16:14.452Z"
   },
   {
    "duration": 0,
    "start_time": "2022-11-28T12:16:14.454Z"
   },
   {
    "duration": 0,
    "start_time": "2022-11-28T12:16:14.456Z"
   },
   {
    "duration": 0,
    "start_time": "2022-11-28T12:16:14.459Z"
   },
   {
    "duration": 0,
    "start_time": "2022-11-28T12:16:14.461Z"
   },
   {
    "duration": 0,
    "start_time": "2022-11-28T12:16:14.463Z"
   },
   {
    "duration": 369,
    "start_time": "2022-11-28T12:18:00.735Z"
   },
   {
    "duration": 17,
    "start_time": "2022-11-28T12:25:49.908Z"
   },
   {
    "duration": 14,
    "start_time": "2022-11-28T12:26:03.554Z"
   },
   {
    "duration": 15,
    "start_time": "2022-11-28T12:26:20.316Z"
   },
   {
    "duration": 18,
    "start_time": "2022-11-28T12:27:54.859Z"
   },
   {
    "duration": 9,
    "start_time": "2022-11-28T12:29:26.990Z"
   },
   {
    "duration": 37,
    "start_time": "2022-11-28T12:29:45.224Z"
   },
   {
    "duration": 36,
    "start_time": "2022-11-28T12:30:19.529Z"
   },
   {
    "duration": 35,
    "start_time": "2022-11-28T12:30:47.158Z"
   },
   {
    "duration": 8,
    "start_time": "2022-11-28T12:30:51.363Z"
   },
   {
    "duration": 39,
    "start_time": "2022-11-28T12:31:20.668Z"
   },
   {
    "duration": 63,
    "start_time": "2022-11-28T12:31:41.203Z"
   },
   {
    "duration": 42,
    "start_time": "2022-11-28T12:31:53.085Z"
   },
   {
    "duration": 813,
    "start_time": "2022-11-28T12:32:30.296Z"
   },
   {
    "duration": 44,
    "start_time": "2022-11-28T12:32:31.111Z"
   },
   {
    "duration": 16,
    "start_time": "2022-11-28T12:32:31.156Z"
   },
   {
    "duration": 2138,
    "start_time": "2022-11-28T12:32:31.174Z"
   },
   {
    "duration": 10,
    "start_time": "2022-11-28T12:32:33.315Z"
   },
   {
    "duration": 89,
    "start_time": "2022-11-28T12:32:33.326Z"
   },
   {
    "duration": 11,
    "start_time": "2022-11-28T12:32:33.418Z"
   },
   {
    "duration": 6,
    "start_time": "2022-11-28T12:32:33.431Z"
   },
   {
    "duration": 10,
    "start_time": "2022-11-28T12:32:33.439Z"
   },
   {
    "duration": 12,
    "start_time": "2022-11-28T12:32:33.451Z"
   },
   {
    "duration": 6,
    "start_time": "2022-11-28T12:32:33.465Z"
   },
   {
    "duration": 54,
    "start_time": "2022-11-28T12:32:33.473Z"
   },
   {
    "duration": 11,
    "start_time": "2022-11-28T12:32:33.528Z"
   },
   {
    "duration": 6,
    "start_time": "2022-11-28T12:32:33.545Z"
   },
   {
    "duration": 58,
    "start_time": "2022-11-28T12:32:33.554Z"
   },
   {
    "duration": 28,
    "start_time": "2022-11-28T12:32:33.615Z"
   },
   {
    "duration": 10,
    "start_time": "2022-11-28T12:32:33.647Z"
   },
   {
    "duration": 83,
    "start_time": "2022-11-28T12:32:33.660Z"
   },
   {
    "duration": 48,
    "start_time": "2022-11-28T12:32:33.745Z"
   },
   {
    "duration": 22,
    "start_time": "2022-11-28T12:32:33.796Z"
   },
   {
    "duration": 19,
    "start_time": "2022-11-28T12:32:33.820Z"
   },
   {
    "duration": 8,
    "start_time": "2022-11-28T12:32:33.841Z"
   },
   {
    "duration": 8,
    "start_time": "2022-11-28T12:32:33.851Z"
   },
   {
    "duration": 142,
    "start_time": "2022-11-28T12:32:33.860Z"
   },
   {
    "duration": 19,
    "start_time": "2022-11-28T12:32:34.012Z"
   },
   {
    "duration": 41,
    "start_time": "2022-11-28T12:32:34.032Z"
   },
   {
    "duration": 38,
    "start_time": "2022-11-28T12:32:34.075Z"
   },
   {
    "duration": 291,
    "start_time": "2022-11-28T12:32:34.116Z"
   },
   {
    "duration": 265,
    "start_time": "2022-11-28T12:32:34.409Z"
   },
   {
    "duration": 386,
    "start_time": "2022-11-28T12:32:34.676Z"
   },
   {
    "duration": 275,
    "start_time": "2022-11-28T12:32:35.064Z"
   },
   {
    "duration": 263,
    "start_time": "2022-11-28T12:32:35.341Z"
   },
   {
    "duration": 270,
    "start_time": "2022-11-28T12:32:35.606Z"
   },
   {
    "duration": 274,
    "start_time": "2022-11-28T12:32:35.878Z"
   },
   {
    "duration": 242,
    "start_time": "2022-11-28T12:32:36.154Z"
   },
   {
    "duration": 440,
    "start_time": "2022-11-28T12:32:36.398Z"
   },
   {
    "duration": 256,
    "start_time": "2022-11-28T12:32:36.840Z"
   },
   {
    "duration": 262,
    "start_time": "2022-11-28T12:32:37.099Z"
   },
   {
    "duration": 262,
    "start_time": "2022-11-28T12:32:37.363Z"
   },
   {
    "duration": 241,
    "start_time": "2022-11-28T12:32:37.627Z"
   },
   {
    "duration": 535,
    "start_time": "2022-11-28T12:32:37.873Z"
   },
   {
    "duration": 250,
    "start_time": "2022-11-28T12:32:38.410Z"
   },
   {
    "duration": 4,
    "start_time": "2022-11-28T12:32:38.662Z"
   },
   {
    "duration": 6,
    "start_time": "2022-11-28T12:32:38.668Z"
   },
   {
    "duration": 420,
    "start_time": "2022-11-28T12:32:38.676Z"
   },
   {
    "duration": 0,
    "start_time": "2022-11-28T12:32:39.098Z"
   },
   {
    "duration": 0,
    "start_time": "2022-11-28T12:32:39.100Z"
   },
   {
    "duration": 0,
    "start_time": "2022-11-28T12:32:39.101Z"
   },
   {
    "duration": 0,
    "start_time": "2022-11-28T12:32:39.102Z"
   },
   {
    "duration": 0,
    "start_time": "2022-11-28T12:32:39.103Z"
   },
   {
    "duration": 0,
    "start_time": "2022-11-28T12:32:39.104Z"
   },
   {
    "duration": 0,
    "start_time": "2022-11-28T12:32:39.111Z"
   },
   {
    "duration": 0,
    "start_time": "2022-11-28T12:32:39.113Z"
   },
   {
    "duration": 0,
    "start_time": "2022-11-28T12:32:39.114Z"
   },
   {
    "duration": 0,
    "start_time": "2022-11-28T12:32:39.115Z"
   },
   {
    "duration": 348,
    "start_time": "2022-11-28T12:33:58.465Z"
   },
   {
    "duration": 322,
    "start_time": "2022-11-28T12:35:16.461Z"
   },
   {
    "duration": 157,
    "start_time": "2022-11-28T12:35:41.356Z"
   },
   {
    "duration": 158,
    "start_time": "2022-11-28T12:35:52.990Z"
   },
   {
    "duration": 359,
    "start_time": "2022-11-28T12:35:58.488Z"
   },
   {
    "duration": 58,
    "start_time": "2022-11-28T12:36:28.759Z"
   },
   {
    "duration": 174,
    "start_time": "2022-11-28T12:36:44.989Z"
   },
   {
    "duration": 382,
    "start_time": "2022-11-28T12:36:55.320Z"
   },
   {
    "duration": 45,
    "start_time": "2022-11-28T12:37:20.463Z"
   },
   {
    "duration": 184,
    "start_time": "2022-11-28T12:37:36.178Z"
   },
   {
    "duration": 63,
    "start_time": "2022-11-28T12:38:35.004Z"
   },
   {
    "duration": 370,
    "start_time": "2022-11-28T12:38:41.671Z"
   },
   {
    "duration": 166,
    "start_time": "2022-11-28T12:40:11.747Z"
   },
   {
    "duration": 158,
    "start_time": "2022-11-28T12:40:56.234Z"
   },
   {
    "duration": 162,
    "start_time": "2022-11-28T12:41:11.378Z"
   },
   {
    "duration": 887,
    "start_time": "2022-11-28T12:41:56.032Z"
   },
   {
    "duration": 41,
    "start_time": "2022-11-28T12:41:56.922Z"
   },
   {
    "duration": 15,
    "start_time": "2022-11-28T12:41:56.965Z"
   },
   {
    "duration": 2157,
    "start_time": "2022-11-28T12:41:56.982Z"
   },
   {
    "duration": 11,
    "start_time": "2022-11-28T12:41:59.141Z"
   },
   {
    "duration": 77,
    "start_time": "2022-11-28T12:41:59.153Z"
   },
   {
    "duration": 9,
    "start_time": "2022-11-28T12:41:59.231Z"
   },
   {
    "duration": 22,
    "start_time": "2022-11-28T12:41:59.241Z"
   },
   {
    "duration": 16,
    "start_time": "2022-11-28T12:41:59.265Z"
   },
   {
    "duration": 35,
    "start_time": "2022-11-28T12:41:59.285Z"
   },
   {
    "duration": 25,
    "start_time": "2022-11-28T12:41:59.322Z"
   },
   {
    "duration": 31,
    "start_time": "2022-11-28T12:41:59.349Z"
   },
   {
    "duration": 9,
    "start_time": "2022-11-28T12:41:59.382Z"
   },
   {
    "duration": 42,
    "start_time": "2022-11-28T12:41:59.393Z"
   },
   {
    "duration": 40,
    "start_time": "2022-11-28T12:41:59.437Z"
   },
   {
    "duration": 25,
    "start_time": "2022-11-28T12:41:59.479Z"
   },
   {
    "duration": 6,
    "start_time": "2022-11-28T12:41:59.506Z"
   },
   {
    "duration": 82,
    "start_time": "2022-11-28T12:41:59.513Z"
   },
   {
    "duration": 30,
    "start_time": "2022-11-28T12:41:59.597Z"
   },
   {
    "duration": 24,
    "start_time": "2022-11-28T12:41:59.628Z"
   },
   {
    "duration": 37,
    "start_time": "2022-11-28T12:41:59.654Z"
   },
   {
    "duration": 19,
    "start_time": "2022-11-28T12:41:59.692Z"
   },
   {
    "duration": 18,
    "start_time": "2022-11-28T12:41:59.713Z"
   },
   {
    "duration": 126,
    "start_time": "2022-11-28T12:41:59.733Z"
   },
   {
    "duration": 18,
    "start_time": "2022-11-28T12:41:59.861Z"
   },
   {
    "duration": 64,
    "start_time": "2022-11-28T12:41:59.881Z"
   },
   {
    "duration": 9,
    "start_time": "2022-11-28T12:41:59.947Z"
   },
   {
    "duration": 301,
    "start_time": "2022-11-28T12:41:59.960Z"
   },
   {
    "duration": 267,
    "start_time": "2022-11-28T12:42:00.262Z"
   },
   {
    "duration": 398,
    "start_time": "2022-11-28T12:42:00.531Z"
   },
   {
    "duration": 283,
    "start_time": "2022-11-28T12:42:00.932Z"
   },
   {
    "duration": 273,
    "start_time": "2022-11-28T12:42:01.218Z"
   },
   {
    "duration": 288,
    "start_time": "2022-11-28T12:42:01.493Z"
   },
   {
    "duration": 301,
    "start_time": "2022-11-28T12:42:01.783Z"
   },
   {
    "duration": 277,
    "start_time": "2022-11-28T12:42:02.086Z"
   },
   {
    "duration": 362,
    "start_time": "2022-11-28T12:42:02.365Z"
   },
   {
    "duration": 265,
    "start_time": "2022-11-28T12:42:02.729Z"
   },
   {
    "duration": 247,
    "start_time": "2022-11-28T12:42:02.996Z"
   },
   {
    "duration": 275,
    "start_time": "2022-11-28T12:42:03.245Z"
   },
   {
    "duration": 261,
    "start_time": "2022-11-28T12:42:03.522Z"
   },
   {
    "duration": 514,
    "start_time": "2022-11-28T12:42:03.785Z"
   },
   {
    "duration": 275,
    "start_time": "2022-11-28T12:42:04.300Z"
   },
   {
    "duration": 7,
    "start_time": "2022-11-28T12:42:04.577Z"
   },
   {
    "duration": 14,
    "start_time": "2022-11-28T12:42:04.586Z"
   },
   {
    "duration": 168,
    "start_time": "2022-11-28T12:42:04.612Z"
   },
   {
    "duration": 527,
    "start_time": "2022-11-28T12:42:04.782Z"
   },
   {
    "duration": 0,
    "start_time": "2022-11-28T12:42:05.314Z"
   },
   {
    "duration": 0,
    "start_time": "2022-11-28T12:42:05.317Z"
   },
   {
    "duration": 0,
    "start_time": "2022-11-28T12:42:05.319Z"
   },
   {
    "duration": 1,
    "start_time": "2022-11-28T12:42:05.321Z"
   },
   {
    "duration": 0,
    "start_time": "2022-11-28T12:42:05.324Z"
   },
   {
    "duration": 0,
    "start_time": "2022-11-28T12:42:05.326Z"
   },
   {
    "duration": 0,
    "start_time": "2022-11-28T12:42:05.329Z"
   },
   {
    "duration": 0,
    "start_time": "2022-11-28T12:42:05.331Z"
   },
   {
    "duration": 1,
    "start_time": "2022-11-28T12:42:05.333Z"
   },
   {
    "duration": 172,
    "start_time": "2022-11-28T12:45:20.836Z"
   },
   {
    "duration": 247,
    "start_time": "2022-11-28T12:45:36.172Z"
   },
   {
    "duration": 193,
    "start_time": "2022-11-28T12:45:46.020Z"
   },
   {
    "duration": 145,
    "start_time": "2022-11-28T12:45:53.407Z"
   },
   {
    "duration": 141,
    "start_time": "2022-11-28T12:45:58.956Z"
   },
   {
    "duration": 718,
    "start_time": "2022-11-28T12:46:32.573Z"
   },
   {
    "duration": 48,
    "start_time": "2022-11-28T12:46:33.294Z"
   },
   {
    "duration": 15,
    "start_time": "2022-11-28T12:46:33.344Z"
   },
   {
    "duration": 2218,
    "start_time": "2022-11-28T12:46:33.361Z"
   },
   {
    "duration": 11,
    "start_time": "2022-11-28T12:46:35.582Z"
   },
   {
    "duration": 75,
    "start_time": "2022-11-28T12:46:35.596Z"
   },
   {
    "duration": 9,
    "start_time": "2022-11-28T12:46:35.673Z"
   },
   {
    "duration": 35,
    "start_time": "2022-11-28T12:46:35.684Z"
   },
   {
    "duration": 32,
    "start_time": "2022-11-28T12:46:35.721Z"
   },
   {
    "duration": 44,
    "start_time": "2022-11-28T12:46:35.755Z"
   },
   {
    "duration": 16,
    "start_time": "2022-11-28T12:46:35.802Z"
   },
   {
    "duration": 62,
    "start_time": "2022-11-28T12:46:35.820Z"
   },
   {
    "duration": 23,
    "start_time": "2022-11-28T12:46:35.884Z"
   },
   {
    "duration": 52,
    "start_time": "2022-11-28T12:46:35.911Z"
   },
   {
    "duration": 48,
    "start_time": "2022-11-28T12:46:35.965Z"
   },
   {
    "duration": 53,
    "start_time": "2022-11-28T12:46:36.015Z"
   },
   {
    "duration": 31,
    "start_time": "2022-11-28T12:46:36.070Z"
   },
   {
    "duration": 99,
    "start_time": "2022-11-28T12:46:36.102Z"
   },
   {
    "duration": 42,
    "start_time": "2022-11-28T12:46:36.203Z"
   },
   {
    "duration": 27,
    "start_time": "2022-11-28T12:46:36.247Z"
   },
   {
    "duration": 18,
    "start_time": "2022-11-28T12:46:36.276Z"
   },
   {
    "duration": 35,
    "start_time": "2022-11-28T12:46:36.296Z"
   },
   {
    "duration": 29,
    "start_time": "2022-11-28T12:46:36.334Z"
   },
   {
    "duration": 177,
    "start_time": "2022-11-28T12:46:36.366Z"
   },
   {
    "duration": 28,
    "start_time": "2022-11-28T12:46:36.546Z"
   },
   {
    "duration": 88,
    "start_time": "2022-11-28T12:46:36.576Z"
   },
   {
    "duration": 14,
    "start_time": "2022-11-28T12:46:36.667Z"
   },
   {
    "duration": 314,
    "start_time": "2022-11-28T12:46:36.684Z"
   },
   {
    "duration": 283,
    "start_time": "2022-11-28T12:46:37.000Z"
   },
   {
    "duration": 398,
    "start_time": "2022-11-28T12:46:37.285Z"
   },
   {
    "duration": 272,
    "start_time": "2022-11-28T12:46:37.684Z"
   },
   {
    "duration": 303,
    "start_time": "2022-11-28T12:46:37.959Z"
   },
   {
    "duration": 277,
    "start_time": "2022-11-28T12:46:38.264Z"
   },
   {
    "duration": 265,
    "start_time": "2022-11-28T12:46:38.543Z"
   },
   {
    "duration": 228,
    "start_time": "2022-11-28T12:46:38.812Z"
   },
   {
    "duration": 372,
    "start_time": "2022-11-28T12:46:39.042Z"
   },
   {
    "duration": 269,
    "start_time": "2022-11-28T12:46:39.416Z"
   },
   {
    "duration": 250,
    "start_time": "2022-11-28T12:46:39.687Z"
   },
   {
    "duration": 259,
    "start_time": "2022-11-28T12:46:39.939Z"
   },
   {
    "duration": 254,
    "start_time": "2022-11-28T12:46:40.200Z"
   },
   {
    "duration": 512,
    "start_time": "2022-11-28T12:46:40.458Z"
   },
   {
    "duration": 250,
    "start_time": "2022-11-28T12:46:40.972Z"
   },
   {
    "duration": 5,
    "start_time": "2022-11-28T12:46:41.224Z"
   },
   {
    "duration": 17,
    "start_time": "2022-11-28T12:46:41.230Z"
   },
   {
    "duration": 169,
    "start_time": "2022-11-28T12:46:41.248Z"
   },
   {
    "duration": 189,
    "start_time": "2022-11-28T12:46:41.419Z"
   },
   {
    "duration": 165,
    "start_time": "2022-11-28T12:46:41.612Z"
   },
   {
    "duration": 182,
    "start_time": "2022-11-28T12:46:41.779Z"
   },
   {
    "duration": 153,
    "start_time": "2022-11-28T12:46:41.963Z"
   },
   {
    "duration": 184,
    "start_time": "2022-11-28T12:46:42.118Z"
   },
   {
    "duration": 245,
    "start_time": "2022-11-28T12:46:42.305Z"
   },
   {
    "duration": 251,
    "start_time": "2022-11-28T12:46:42.552Z"
   },
   {
    "duration": 14,
    "start_time": "2022-11-28T12:46:42.805Z"
   },
   {
    "duration": 37,
    "start_time": "2022-11-28T12:46:42.821Z"
   },
   {
    "duration": 21,
    "start_time": "2022-11-28T12:46:42.860Z"
   },
   {
    "duration": 168,
    "start_time": "2022-11-28T12:47:05.494Z"
   },
   {
    "duration": 231,
    "start_time": "2022-11-28T12:47:09.100Z"
   },
   {
    "duration": 154,
    "start_time": "2022-11-28T12:47:12.846Z"
   },
   {
    "duration": 6,
    "start_time": "2022-11-28T12:54:18.981Z"
   },
   {
    "duration": 173,
    "start_time": "2022-11-28T12:59:06.882Z"
   },
   {
    "duration": 170,
    "start_time": "2022-11-28T12:59:21.088Z"
   },
   {
    "duration": 153,
    "start_time": "2022-11-28T13:01:08.974Z"
   },
   {
    "duration": 10,
    "start_time": "2022-11-28T13:01:39.096Z"
   },
   {
    "duration": 8,
    "start_time": "2022-11-28T13:02:46.003Z"
   },
   {
    "duration": 5,
    "start_time": "2022-11-28T13:03:07.314Z"
   },
   {
    "duration": 8,
    "start_time": "2022-11-28T13:03:30.568Z"
   },
   {
    "duration": 8,
    "start_time": "2022-11-28T13:04:44.513Z"
   },
   {
    "duration": 137,
    "start_time": "2022-11-28T13:07:03.962Z"
   },
   {
    "duration": 156,
    "start_time": "2022-11-28T13:07:22.372Z"
   },
   {
    "duration": 151,
    "start_time": "2022-11-28T13:07:34.792Z"
   },
   {
    "duration": 131,
    "start_time": "2022-11-28T13:08:22.869Z"
   },
   {
    "duration": 730,
    "start_time": "2022-11-28T13:11:31.466Z"
   },
   {
    "duration": 43,
    "start_time": "2022-11-28T13:11:32.198Z"
   },
   {
    "duration": 16,
    "start_time": "2022-11-28T13:11:32.243Z"
   },
   {
    "duration": 2117,
    "start_time": "2022-11-28T13:11:32.262Z"
   },
   {
    "duration": 10,
    "start_time": "2022-11-28T13:11:34.381Z"
   },
   {
    "duration": 64,
    "start_time": "2022-11-28T13:11:34.392Z"
   },
   {
    "duration": 7,
    "start_time": "2022-11-28T13:11:34.458Z"
   },
   {
    "duration": 10,
    "start_time": "2022-11-28T13:11:34.467Z"
   },
   {
    "duration": 8,
    "start_time": "2022-11-28T13:11:34.478Z"
   },
   {
    "duration": 24,
    "start_time": "2022-11-28T13:11:34.488Z"
   },
   {
    "duration": 5,
    "start_time": "2022-11-28T13:11:34.514Z"
   },
   {
    "duration": 21,
    "start_time": "2022-11-28T13:11:34.520Z"
   },
   {
    "duration": 9,
    "start_time": "2022-11-28T13:11:34.542Z"
   },
   {
    "duration": 13,
    "start_time": "2022-11-28T13:11:34.552Z"
   },
   {
    "duration": 19,
    "start_time": "2022-11-28T13:11:34.567Z"
   },
   {
    "duration": 34,
    "start_time": "2022-11-28T13:11:34.588Z"
   },
   {
    "duration": 7,
    "start_time": "2022-11-28T13:11:34.624Z"
   },
   {
    "duration": 51,
    "start_time": "2022-11-28T13:11:34.633Z"
   },
   {
    "duration": 46,
    "start_time": "2022-11-28T13:11:34.686Z"
   },
   {
    "duration": 8,
    "start_time": "2022-11-28T13:11:34.734Z"
   },
   {
    "duration": 16,
    "start_time": "2022-11-28T13:11:34.743Z"
   },
   {
    "duration": 7,
    "start_time": "2022-11-28T13:11:34.760Z"
   },
   {
    "duration": 7,
    "start_time": "2022-11-28T13:11:34.769Z"
   },
   {
    "duration": 141,
    "start_time": "2022-11-28T13:11:34.777Z"
   },
   {
    "duration": 21,
    "start_time": "2022-11-28T13:11:34.920Z"
   },
   {
    "duration": 39,
    "start_time": "2022-11-28T13:11:34.943Z"
   },
   {
    "duration": 31,
    "start_time": "2022-11-28T13:11:34.983Z"
   },
   {
    "duration": 277,
    "start_time": "2022-11-28T13:11:35.018Z"
   },
   {
    "duration": 265,
    "start_time": "2022-11-28T13:11:35.297Z"
   },
   {
    "duration": 366,
    "start_time": "2022-11-28T13:11:35.564Z"
   },
   {
    "duration": 280,
    "start_time": "2022-11-28T13:11:35.932Z"
   },
   {
    "duration": 264,
    "start_time": "2022-11-28T13:11:36.214Z"
   },
   {
    "duration": 311,
    "start_time": "2022-11-28T13:11:36.480Z"
   },
   {
    "duration": 300,
    "start_time": "2022-11-28T13:11:36.793Z"
   },
   {
    "duration": 232,
    "start_time": "2022-11-28T13:11:37.095Z"
   },
   {
    "duration": 368,
    "start_time": "2022-11-28T13:11:37.329Z"
   },
   {
    "duration": 259,
    "start_time": "2022-11-28T13:11:37.699Z"
   },
   {
    "duration": 253,
    "start_time": "2022-11-28T13:11:37.960Z"
   },
   {
    "duration": 252,
    "start_time": "2022-11-28T13:11:38.216Z"
   },
   {
    "duration": 251,
    "start_time": "2022-11-28T13:11:38.470Z"
   },
   {
    "duration": 491,
    "start_time": "2022-11-28T13:11:38.723Z"
   },
   {
    "duration": 276,
    "start_time": "2022-11-28T13:11:39.215Z"
   },
   {
    "duration": 4,
    "start_time": "2022-11-28T13:11:39.493Z"
   },
   {
    "duration": 14,
    "start_time": "2022-11-28T13:11:39.499Z"
   },
   {
    "duration": 172,
    "start_time": "2022-11-28T13:11:39.515Z"
   },
   {
    "duration": 181,
    "start_time": "2022-11-28T13:11:39.689Z"
   },
   {
    "duration": 166,
    "start_time": "2022-11-28T13:11:39.872Z"
   },
   {
    "duration": 189,
    "start_time": "2022-11-28T13:11:40.040Z"
   },
   {
    "duration": 154,
    "start_time": "2022-11-28T13:11:40.231Z"
   },
   {
    "duration": 170,
    "start_time": "2022-11-28T13:11:40.387Z"
   },
   {
    "duration": 237,
    "start_time": "2022-11-28T13:11:40.559Z"
   },
   {
    "duration": 260,
    "start_time": "2022-11-28T13:11:40.798Z"
   },
   {
    "duration": 141,
    "start_time": "2022-11-28T13:11:41.061Z"
   },
   {
    "duration": 16,
    "start_time": "2022-11-28T13:11:41.204Z"
   },
   {
    "duration": 23,
    "start_time": "2022-11-28T13:11:41.222Z"
   },
   {
    "duration": 22,
    "start_time": "2022-11-28T13:11:41.248Z"
   },
   {
    "duration": 214,
    "start_time": "2022-11-28T13:13:40.958Z"
   },
   {
    "duration": 157,
    "start_time": "2022-11-28T13:13:55.634Z"
   },
   {
    "duration": 155,
    "start_time": "2022-11-28T13:14:25.299Z"
   },
   {
    "duration": 102,
    "start_time": "2022-11-28T13:14:54.977Z"
   },
   {
    "duration": 42,
    "start_time": "2022-11-28T13:14:59.197Z"
   },
   {
    "duration": 136,
    "start_time": "2022-11-28T13:15:05.468Z"
   },
   {
    "duration": 50,
    "start_time": "2022-11-28T13:16:34.390Z"
   },
   {
    "duration": 83,
    "start_time": "2022-11-28T13:19:09.025Z"
   },
   {
    "duration": 15,
    "start_time": "2022-11-28T13:21:00.216Z"
   },
   {
    "duration": 13,
    "start_time": "2022-11-28T13:21:40.945Z"
   },
   {
    "duration": 14,
    "start_time": "2022-11-28T13:21:53.844Z"
   },
   {
    "duration": 15,
    "start_time": "2022-11-28T13:22:26.934Z"
   },
   {
    "duration": 13,
    "start_time": "2022-11-28T13:22:47.889Z"
   },
   {
    "duration": 13,
    "start_time": "2022-11-28T13:23:30.521Z"
   },
   {
    "duration": 11,
    "start_time": "2022-11-28T13:23:52.756Z"
   },
   {
    "duration": 14,
    "start_time": "2022-11-28T13:25:38.762Z"
   },
   {
    "duration": 15,
    "start_time": "2022-11-28T13:26:02.711Z"
   },
   {
    "duration": 28,
    "start_time": "2022-11-28T13:26:23.348Z"
   },
   {
    "duration": 21,
    "start_time": "2022-11-28T13:26:34.229Z"
   },
   {
    "duration": 16,
    "start_time": "2022-11-28T13:27:23.411Z"
   },
   {
    "duration": 13,
    "start_time": "2022-11-28T13:28:25.466Z"
   },
   {
    "duration": 50,
    "start_time": "2022-11-28T13:29:01.007Z"
   },
   {
    "duration": 56,
    "start_time": "2022-11-28T13:29:13.094Z"
   },
   {
    "duration": 18,
    "start_time": "2022-11-28T13:29:18.567Z"
   },
   {
    "duration": 17,
    "start_time": "2022-11-28T13:30:08.863Z"
   },
   {
    "duration": 15,
    "start_time": "2022-11-28T13:30:31.903Z"
   },
   {
    "duration": 16,
    "start_time": "2022-11-28T13:30:36.947Z"
   },
   {
    "duration": 22,
    "start_time": "2022-11-28T13:31:39.343Z"
   },
   {
    "duration": 22,
    "start_time": "2022-11-28T13:37:16.119Z"
   },
   {
    "duration": 17,
    "start_time": "2022-11-28T13:38:57.315Z"
   },
   {
    "duration": 19,
    "start_time": "2022-11-28T13:39:10.211Z"
   },
   {
    "duration": 19,
    "start_time": "2022-11-28T13:42:46.642Z"
   },
   {
    "duration": 15,
    "start_time": "2022-11-28T13:43:09.799Z"
   },
   {
    "duration": 16,
    "start_time": "2022-11-28T13:43:28.186Z"
   },
   {
    "duration": 51,
    "start_time": "2022-11-28T13:46:30.317Z"
   },
   {
    "duration": 54,
    "start_time": "2022-11-28T13:46:35.799Z"
   },
   {
    "duration": 13,
    "start_time": "2022-11-28T13:46:40.197Z"
   },
   {
    "duration": 178,
    "start_time": "2022-11-28T13:48:24.122Z"
   },
   {
    "duration": 169,
    "start_time": "2022-11-28T13:49:24.217Z"
   },
   {
    "duration": 196,
    "start_time": "2022-11-28T13:50:24.130Z"
   },
   {
    "duration": 531,
    "start_time": "2022-11-28T13:51:38.999Z"
   },
   {
    "duration": 24,
    "start_time": "2022-11-28T13:53:37.592Z"
   },
   {
    "duration": 586,
    "start_time": "2022-11-28T13:53:42.619Z"
   },
   {
    "duration": 45,
    "start_time": "2022-11-28T13:55:30.715Z"
   },
   {
    "duration": 5,
    "start_time": "2022-11-28T13:55:52.036Z"
   },
   {
    "duration": 600,
    "start_time": "2022-11-28T13:56:02.285Z"
   },
   {
    "duration": 23,
    "start_time": "2022-11-28T13:57:36.835Z"
   },
   {
    "duration": 9,
    "start_time": "2022-11-28T13:58:16.326Z"
   },
   {
    "duration": 16,
    "start_time": "2022-11-28T13:58:22.056Z"
   },
   {
    "duration": 63,
    "start_time": "2022-11-28T14:08:18.939Z"
   },
   {
    "duration": 82,
    "start_time": "2022-11-28T14:15:52.723Z"
   },
   {
    "duration": 53,
    "start_time": "2022-11-28T14:17:53.783Z"
   },
   {
    "duration": 799,
    "start_time": "2022-11-28T14:18:27.533Z"
   },
   {
    "duration": 45,
    "start_time": "2022-11-28T14:18:28.334Z"
   },
   {
    "duration": 35,
    "start_time": "2022-11-28T14:18:28.380Z"
   },
   {
    "duration": 2210,
    "start_time": "2022-11-28T14:18:28.417Z"
   },
   {
    "duration": 10,
    "start_time": "2022-11-28T14:18:30.629Z"
   },
   {
    "duration": 91,
    "start_time": "2022-11-28T14:18:30.641Z"
   },
   {
    "duration": 11,
    "start_time": "2022-11-28T14:18:30.734Z"
   },
   {
    "duration": 22,
    "start_time": "2022-11-28T14:18:30.747Z"
   },
   {
    "duration": 51,
    "start_time": "2022-11-28T14:18:30.772Z"
   },
   {
    "duration": 25,
    "start_time": "2022-11-28T14:18:30.826Z"
   },
   {
    "duration": 22,
    "start_time": "2022-11-28T14:18:30.854Z"
   },
   {
    "duration": 42,
    "start_time": "2022-11-28T14:18:30.878Z"
   },
   {
    "duration": 12,
    "start_time": "2022-11-28T14:18:30.922Z"
   },
   {
    "duration": 28,
    "start_time": "2022-11-28T14:18:30.935Z"
   },
   {
    "duration": 29,
    "start_time": "2022-11-28T14:18:30.964Z"
   },
   {
    "duration": 26,
    "start_time": "2022-11-28T14:18:30.995Z"
   },
   {
    "duration": 20,
    "start_time": "2022-11-28T14:18:31.024Z"
   },
   {
    "duration": 92,
    "start_time": "2022-11-28T14:18:31.046Z"
   },
   {
    "duration": 30,
    "start_time": "2022-11-28T14:18:31.139Z"
   },
   {
    "duration": 21,
    "start_time": "2022-11-28T14:18:31.171Z"
   },
   {
    "duration": 29,
    "start_time": "2022-11-28T14:18:31.194Z"
   },
   {
    "duration": 26,
    "start_time": "2022-11-28T14:18:31.225Z"
   },
   {
    "duration": 20,
    "start_time": "2022-11-28T14:18:31.253Z"
   },
   {
    "duration": 122,
    "start_time": "2022-11-28T14:18:31.275Z"
   },
   {
    "duration": 28,
    "start_time": "2022-11-28T14:18:31.399Z"
   },
   {
    "duration": 42,
    "start_time": "2022-11-28T14:18:31.429Z"
   },
   {
    "duration": 8,
    "start_time": "2022-11-28T14:18:31.473Z"
   },
   {
    "duration": 358,
    "start_time": "2022-11-28T14:18:31.487Z"
   },
   {
    "duration": 273,
    "start_time": "2022-11-28T14:18:31.847Z"
   },
   {
    "duration": 393,
    "start_time": "2022-11-28T14:18:32.122Z"
   },
   {
    "duration": 294,
    "start_time": "2022-11-28T14:18:32.517Z"
   },
   {
    "duration": 267,
    "start_time": "2022-11-28T14:18:32.813Z"
   },
   {
    "duration": 278,
    "start_time": "2022-11-28T14:18:33.082Z"
   },
   {
    "duration": 280,
    "start_time": "2022-11-28T14:18:33.362Z"
   },
   {
    "duration": 254,
    "start_time": "2022-11-28T14:18:33.645Z"
   },
   {
    "duration": 377,
    "start_time": "2022-11-28T14:18:33.901Z"
   },
   {
    "duration": 289,
    "start_time": "2022-11-28T14:18:34.280Z"
   },
   {
    "duration": 280,
    "start_time": "2022-11-28T14:18:34.571Z"
   },
   {
    "duration": 293,
    "start_time": "2022-11-28T14:18:34.853Z"
   },
   {
    "duration": 277,
    "start_time": "2022-11-28T14:18:35.148Z"
   },
   {
    "duration": 536,
    "start_time": "2022-11-28T14:18:35.428Z"
   },
   {
    "duration": 284,
    "start_time": "2022-11-28T14:18:35.966Z"
   },
   {
    "duration": 5,
    "start_time": "2022-11-28T14:18:36.252Z"
   },
   {
    "duration": 17,
    "start_time": "2022-11-28T14:18:36.259Z"
   },
   {
    "duration": 27,
    "start_time": "2022-11-28T14:18:36.277Z"
   },
   {
    "duration": 239,
    "start_time": "2022-11-28T14:18:36.306Z"
   },
   {
    "duration": 260,
    "start_time": "2022-11-28T14:18:36.547Z"
   },
   {
    "duration": 199,
    "start_time": "2022-11-28T14:18:36.813Z"
   },
   {
    "duration": 195,
    "start_time": "2022-11-28T14:18:37.015Z"
   },
   {
    "duration": 156,
    "start_time": "2022-11-28T14:18:37.216Z"
   },
   {
    "duration": 180,
    "start_time": "2022-11-28T14:18:37.374Z"
   },
   {
    "duration": 167,
    "start_time": "2022-11-28T14:18:37.556Z"
   },
   {
    "duration": 348,
    "start_time": "2022-11-28T14:18:37.725Z"
   },
   {
    "duration": 195,
    "start_time": "2022-11-28T14:18:38.075Z"
   },
   {
    "duration": 177,
    "start_time": "2022-11-28T14:18:38.272Z"
   },
   {
    "duration": 151,
    "start_time": "2022-11-28T14:18:38.451Z"
   },
   {
    "duration": 12,
    "start_time": "2022-11-28T14:18:38.611Z"
   },
   {
    "duration": 34,
    "start_time": "2022-11-28T14:18:38.625Z"
   },
   {
    "duration": 19,
    "start_time": "2022-11-28T14:18:38.661Z"
   },
   {
    "duration": 53,
    "start_time": "2022-11-28T14:18:38.682Z"
   },
   {
    "duration": 552,
    "start_time": "2022-11-28T14:18:38.737Z"
   },
   {
    "duration": 29,
    "start_time": "2022-11-28T14:21:50.190Z"
   },
   {
    "duration": 710,
    "start_time": "2022-11-28T20:39:06.710Z"
   },
   {
    "duration": 37,
    "start_time": "2022-11-28T20:39:07.422Z"
   },
   {
    "duration": 24,
    "start_time": "2022-11-28T20:39:07.461Z"
   },
   {
    "duration": 1721,
    "start_time": "2022-11-28T20:39:07.488Z"
   },
   {
    "duration": 9,
    "start_time": "2022-11-28T20:39:09.211Z"
   },
   {
    "duration": 47,
    "start_time": "2022-11-28T20:39:09.221Z"
   },
   {
    "duration": 6,
    "start_time": "2022-11-28T20:39:09.270Z"
   },
   {
    "duration": 6,
    "start_time": "2022-11-28T20:39:09.278Z"
   },
   {
    "duration": 8,
    "start_time": "2022-11-28T20:39:09.285Z"
   },
   {
    "duration": 6,
    "start_time": "2022-11-28T20:39:09.295Z"
   },
   {
    "duration": 5,
    "start_time": "2022-11-28T20:39:09.302Z"
   },
   {
    "duration": 16,
    "start_time": "2022-11-28T20:39:09.308Z"
   },
   {
    "duration": 7,
    "start_time": "2022-11-28T20:39:09.325Z"
   },
   {
    "duration": 7,
    "start_time": "2022-11-28T20:39:09.333Z"
   },
   {
    "duration": 37,
    "start_time": "2022-11-28T20:39:09.341Z"
   },
   {
    "duration": 12,
    "start_time": "2022-11-28T20:39:09.379Z"
   },
   {
    "duration": 5,
    "start_time": "2022-11-28T20:39:09.392Z"
   },
   {
    "duration": 43,
    "start_time": "2022-11-28T20:39:09.399Z"
   },
   {
    "duration": 41,
    "start_time": "2022-11-28T20:39:09.444Z"
   },
   {
    "duration": 7,
    "start_time": "2022-11-28T20:39:09.486Z"
   },
   {
    "duration": 12,
    "start_time": "2022-11-28T20:39:09.494Z"
   },
   {
    "duration": 5,
    "start_time": "2022-11-28T20:39:09.508Z"
   },
   {
    "duration": 6,
    "start_time": "2022-11-28T20:39:09.515Z"
   },
   {
    "duration": 114,
    "start_time": "2022-11-28T20:39:09.522Z"
   },
   {
    "duration": 19,
    "start_time": "2022-11-28T20:39:09.638Z"
   },
   {
    "duration": 48,
    "start_time": "2022-11-28T20:39:09.659Z"
   },
   {
    "duration": 7,
    "start_time": "2022-11-28T20:39:09.708Z"
   },
   {
    "duration": 248,
    "start_time": "2022-11-28T20:39:09.718Z"
   },
   {
    "duration": 232,
    "start_time": "2022-11-28T20:39:09.968Z"
   },
   {
    "duration": 295,
    "start_time": "2022-11-28T20:39:10.201Z"
   },
   {
    "duration": 264,
    "start_time": "2022-11-28T20:39:10.498Z"
   },
   {
    "duration": 224,
    "start_time": "2022-11-28T20:39:10.763Z"
   },
   {
    "duration": 228,
    "start_time": "2022-11-28T20:39:10.988Z"
   },
   {
    "duration": 220,
    "start_time": "2022-11-28T20:39:11.218Z"
   },
   {
    "duration": 197,
    "start_time": "2022-11-28T20:39:11.440Z"
   },
   {
    "duration": 318,
    "start_time": "2022-11-28T20:39:11.638Z"
   },
   {
    "duration": 221,
    "start_time": "2022-11-28T20:39:11.957Z"
   },
   {
    "duration": 204,
    "start_time": "2022-11-28T20:39:12.179Z"
   },
   {
    "duration": 210,
    "start_time": "2022-11-28T20:39:12.384Z"
   },
   {
    "duration": 215,
    "start_time": "2022-11-28T20:39:12.596Z"
   },
   {
    "duration": 450,
    "start_time": "2022-11-28T20:39:12.812Z"
   },
   {
    "duration": 209,
    "start_time": "2022-11-28T20:39:13.264Z"
   },
   {
    "duration": 5,
    "start_time": "2022-11-28T20:39:13.477Z"
   },
   {
    "duration": 6,
    "start_time": "2022-11-28T20:39:13.483Z"
   },
   {
    "duration": 13,
    "start_time": "2022-11-28T20:39:13.490Z"
   },
   {
    "duration": 156,
    "start_time": "2022-11-28T20:39:13.505Z"
   },
   {
    "duration": 153,
    "start_time": "2022-11-28T20:39:13.662Z"
   },
   {
    "duration": 147,
    "start_time": "2022-11-28T20:39:13.816Z"
   },
   {
    "duration": 205,
    "start_time": "2022-11-28T20:39:13.965Z"
   },
   {
    "duration": 130,
    "start_time": "2022-11-28T20:39:14.172Z"
   },
   {
    "duration": 140,
    "start_time": "2022-11-28T20:39:14.304Z"
   },
   {
    "duration": 124,
    "start_time": "2022-11-28T20:39:14.445Z"
   },
   {
    "duration": 278,
    "start_time": "2022-11-28T20:39:14.577Z"
   },
   {
    "duration": 135,
    "start_time": "2022-11-28T20:39:14.857Z"
   },
   {
    "duration": 149,
    "start_time": "2022-11-28T20:39:14.993Z"
   },
   {
    "duration": 114,
    "start_time": "2022-11-28T20:39:15.143Z"
   },
   {
    "duration": 7,
    "start_time": "2022-11-28T20:39:15.258Z"
   },
   {
    "duration": 28,
    "start_time": "2022-11-28T20:39:15.267Z"
   },
   {
    "duration": 11,
    "start_time": "2022-11-28T20:39:15.296Z"
   },
   {
    "duration": 19,
    "start_time": "2022-11-28T20:39:15.308Z"
   },
   {
    "duration": 422,
    "start_time": "2022-11-28T20:39:15.329Z"
   },
   {
    "duration": 108,
    "start_time": "2022-11-28T20:42:24.115Z"
   },
   {
    "duration": 86,
    "start_time": "2022-11-28T20:42:32.153Z"
   },
   {
    "duration": 5,
    "start_time": "2022-11-28T20:45:19.353Z"
   },
   {
    "duration": 7,
    "start_time": "2022-11-28T20:45:29.059Z"
   },
   {
    "duration": 66,
    "start_time": "2022-11-28T20:45:43.098Z"
   },
   {
    "duration": 9,
    "start_time": "2022-11-28T20:45:47.036Z"
   },
   {
    "duration": 4,
    "start_time": "2022-11-28T20:45:49.741Z"
   },
   {
    "duration": 8,
    "start_time": "2022-11-28T20:45:51.916Z"
   },
   {
    "duration": 96,
    "start_time": "2022-11-28T20:47:41.500Z"
   },
   {
    "duration": 251,
    "start_time": "2022-11-28T20:47:45.167Z"
   },
   {
    "duration": 13,
    "start_time": "2022-11-28T20:47:57.275Z"
   },
   {
    "duration": 3,
    "start_time": "2022-11-28T20:48:13.499Z"
   },
   {
    "duration": 13,
    "start_time": "2022-11-28T20:48:15.309Z"
   },
   {
    "duration": 5,
    "start_time": "2022-11-28T20:48:16.689Z"
   }
  ],
  "kernelspec": {
   "display_name": "Python 3 (ipykernel)",
   "language": "python",
   "name": "python3"
  },
  "language_info": {
   "codemirror_mode": {
    "name": "ipython",
    "version": 3
   },
   "file_extension": ".py",
   "mimetype": "text/x-python",
   "name": "python",
   "nbconvert_exporter": "python",
   "pygments_lexer": "ipython3",
   "version": "3.9.13"
  },
  "toc": {
   "base_numbering": 1,
   "nav_menu": {},
   "number_sections": true,
   "sideBar": true,
   "skip_h1_title": true,
   "title_cell": "Table of Contents",
   "title_sidebar": "Contents",
   "toc_cell": false,
   "toc_position": {
    "height": "calc(100% - 180px)",
    "left": "10px",
    "top": "150px",
    "width": "286.075px"
   },
   "toc_section_display": true,
   "toc_window_display": true
  }
 },
 "nbformat": 4,
 "nbformat_minor": 2
}
